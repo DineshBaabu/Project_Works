{
 "cells": [
  {
   "cell_type": "code",
   "execution_count": null,
   "id": "0a45752e",
   "metadata": {
    "id": "0a45752e"
   },
   "outputs": [],
   "source": [
    "pip install imblearn"
   ]
  },
  {
   "cell_type": "code",
   "execution_count": 3,
   "id": "5b4f87e2",
   "metadata": {},
   "outputs": [
    {
     "name": "stdout",
     "output_type": "stream",
     "text": [
      "Requirement already satisfied: scikit-learn in /usr/local/lib/python3.11/site-packages (1.3.1)\n",
      "Collecting scikit-learn\n",
      "  Obtaining dependency information for scikit-learn from https://files.pythonhosted.org/packages/08/5d/e5acecd6e99a6b656e42e7a7b18284e2f9c9f512e8ed6979e1e75d25f05f/scikit_learn-1.3.2-cp311-cp311-macosx_10_9_x86_64.whl.metadata\n",
      "  Downloading scikit_learn-1.3.2-cp311-cp311-macosx_10_9_x86_64.whl.metadata (11 kB)\n",
      "Requirement already satisfied: numpy<2.0,>=1.17.3 in /usr/local/lib/python3.11/site-packages (from scikit-learn) (1.25.2)\n",
      "Requirement already satisfied: scipy>=1.5.0 in /usr/local/lib/python3.11/site-packages (from scikit-learn) (1.11.2)\n",
      "Requirement already satisfied: joblib>=1.1.1 in /usr/local/lib/python3.11/site-packages (from scikit-learn) (1.3.2)\n",
      "Requirement already satisfied: threadpoolctl>=2.0.0 in /usr/local/lib/python3.11/site-packages (from scikit-learn) (3.2.0)\n",
      "Downloading scikit_learn-1.3.2-cp311-cp311-macosx_10_9_x86_64.whl (10.1 MB)\n",
      "\u001b[2K   \u001b[90m━━━━━━━━━━━━━━━━━━━━━━━━━━━━━━━━━━━━━━━━\u001b[0m \u001b[32m10.1/10.1 MB\u001b[0m \u001b[31m709.7 kB/s\u001b[0m eta \u001b[36m0:00:00\u001b[0m00:01\u001b[0m0:01\u001b[0m\n",
      "\u001b[?25hInstalling collected packages: scikit-learn\n",
      "  Attempting uninstall: scikit-learn\n",
      "    Found existing installation: scikit-learn 1.3.1\n",
      "    Uninstalling scikit-learn-1.3.1:\n",
      "      Successfully uninstalled scikit-learn-1.3.1\n",
      "Successfully installed scikit-learn-1.3.2\n",
      "\n",
      "\u001b[1m[\u001b[0m\u001b[34;49mnotice\u001b[0m\u001b[1;39;49m]\u001b[0m\u001b[39;49m A new release of pip is available: \u001b[0m\u001b[31;49m23.2.1\u001b[0m\u001b[39;49m -> \u001b[0m\u001b[32;49m23.3.1\u001b[0m\n",
      "\u001b[1m[\u001b[0m\u001b[34;49mnotice\u001b[0m\u001b[1;39;49m]\u001b[0m\u001b[39;49m To update, run: \u001b[0m\u001b[32;49mpython3.11 -m pip install --upgrade pip\u001b[0m\n",
      "Note: you may need to restart the kernel to use updated packages.\n"
     ]
    }
   ],
   "source": [
    "pip install -U scikit-learn"
   ]
  },
  {
   "cell_type": "code",
   "execution_count": 6,
   "id": "ccf6c1b8",
   "metadata": {
    "id": "ccf6c1b8"
   },
   "outputs": [],
   "source": [
    "import re\n",
    "import os\n",
    "import math\n",
    "import pickle\n",
    "import sklearn\n",
    "import warnings\n",
    "import numpy as np\n",
    "import pandas as pd\n",
    "import seaborn as sns\n",
    "import matplotlib.pyplot as plt\n",
    "import matplotlib.patches as mpatches\n",
    "\n",
    "from datetime import date\n",
    "from tqdm.notebook import tqdm\n",
    "from scipy.sparse import hstack, vstack\n",
    "from scipy.stats import randint as sp_randint, uniform as sp_uniform\n",
    "from sklearn.manifold import TSNE\n",
    "from sklearn.pipeline import Pipeline as sklearnPipeline\n",
    "from sklearn.preprocessing import StandardScaler\n",
    "from sklearn.base import BaseEstimator, TransformerMixin\n",
    "from sklearn.model_selection import train_test_split, RandomizedSearchCV\n",
    "from sklearn.linear_model import LogisticRegression\n",
    "from sklearn.tree import DecisionTreeClassifier\n",
    "from sklearn.ensemble import RandomForestClassifier\n",
    "from sklearn.feature_extraction.text import CountVectorizer\n",
    "from sklearn.calibration import CalibratedClassifierCV\n",
    "from sklearn.metrics import log_loss, confusion_matrix, f1_score, roc_curve, auc, balanced_accuracy_score, matthews_corrcoef\n",
    "from imblearn.over_sampling import SMOTE\n",
    "from imblearn.under_sampling import RandomUnderSampler"
   ]
  },
  {
   "cell_type": "markdown",
   "id": "7bc82011",
   "metadata": {
    "id": "7bc82011"
   },
   "source": [
    "----"
   ]
  },
  {
   "cell_type": "code",
   "execution_count": 16,
   "id": "2bd7491d",
   "metadata": {
    "id": "2bd7491d"
   },
   "outputs": [],
   "source": [
    "# Import the final dataset generated after all the Data Preprocessing.\n",
    "data = pd.read_csv('Data/finalData.csv')"
   ]
  },
  {
   "cell_type": "code",
   "execution_count": 17,
   "id": "685cdb11",
   "metadata": {
    "id": "685cdb11"
   },
   "outputs": [],
   "source": [
    "# Split the Dataset into set of features and Class Label\n",
    "dataY = data['PotentialFraud'] # Class Label\n",
    "dataX = data.drop(columns='PotentialFraud') # Features"
   ]
  },
  {
   "cell_type": "code",
   "execution_count": 18,
   "id": "378e0b62",
   "metadata": {
    "id": "378e0b62"
   },
   "outputs": [],
   "source": [
    "# Split the dataset into Train and Test in the ratio of 80:20\n",
    "xTrain, xTest, yTrain, yTest = train_test_split(dataX, dataY, test_size=0.2, stratify=dataY)"
   ]
  },
  {
   "cell_type": "code",
   "execution_count": 19,
   "id": "a752a155",
   "metadata": {
    "colab": {
     "base_uri": "https://localhost:8080/"
    },
    "id": "a752a155",
    "outputId": "6ded5b38-f3e9-4dbe-85af-54f05c7aa2a1"
   },
   "outputs": [
    {
     "name": "stdout",
     "output_type": "stream",
     "text": [
      "Shape of the Train Dataset (Features):  (446568, 48)\n",
      "Shape of the Train Dataset (Class Label) (446568,)\n",
      "Shape of the Test Dataset (Features):  (111643, 48)\n",
      "Shape of the Test Dataset (Class Label) (111643,)\n"
     ]
    }
   ],
   "source": [
    "print('Shape of the Train Dataset (Features): ', xTrain.shape)\n",
    "print('Shape of the Train Dataset (Class Label)', yTrain.shape)\n",
    "print('Shape of the Test Dataset (Features): ', xTest.shape)\n",
    "print('Shape of the Test Dataset (Class Label)', yTest.shape)"
   ]
  },
  {
   "cell_type": "markdown",
   "id": "19e31622",
   "metadata": {
    "id": "19e31622"
   },
   "source": [
    "----"
   ]
  },
  {
   "cell_type": "code",
   "execution_count": 20,
   "id": "QCFZ5KWkJUOI",
   "metadata": {
    "colab": {
     "base_uri": "https://localhost:8080/"
    },
    "id": "QCFZ5KWkJUOI",
    "outputId": "cc76c79d-111d-4227-b8ab-586cc7f2b27c"
   },
   "outputs": [
    {
     "name": "stdout",
     "output_type": "stream",
     "text": [
      "CPU times: user 358 ms, sys: 182 ms, total: 539 ms\n",
      "Wall time: 641 ms\n"
     ]
    }
   ],
   "source": [
    "%%time\n",
    "# Create an object of 'RandomUnderSampler'\n",
    "rndmUndrSampler = RandomUnderSampler(sampling_strategy=1)\n",
    "\n",
    "# Create Random Undersampled Dataset by calling the 'fit_resample' method\n",
    "xTrainRndmUS, yTrainRndmUS = rndmUndrSampler.fit_resample(xTrain, yTrain)"
   ]
  },
  {
   "cell_type": "code",
   "execution_count": 21,
   "id": "Cn_Oi2q5JYdo",
   "metadata": {
    "colab": {
     "base_uri": "https://localhost:8080/"
    },
    "id": "Cn_Oi2q5JYdo",
    "outputId": "e0eca32b-49ed-484b-f747-b2e740a2d09d"
   },
   "outputs": [
    {
     "name": "stdout",
     "output_type": "stream",
     "text": [
      "Shape of the Train Dataset (Features) after Random Undersampling:  (340472, 48)\n",
      "Shape of the Train Dataset (Class Label) Random Undersampling (340472,)\n"
     ]
    }
   ],
   "source": [
    "print('Shape of the Train Dataset (Features) after Random Undersampling: ', xTrainRndmUS.shape)\n",
    "print('Shape of the Train Dataset (Class Label) Random Undersampling', yTrainRndmUS.shape)"
   ]
  },
  {
   "cell_type": "code",
   "execution_count": 22,
   "id": "q_pW37FhJado",
   "metadata": {
    "colab": {
     "base_uri": "https://localhost:8080/"
    },
    "id": "q_pW37FhJado",
    "outputId": "8e64d8b7-df74-4fcb-ec6d-d7ac15dca30a"
   },
   "outputs": [
    {
     "name": "stdout",
     "output_type": "stream",
     "text": [
      "After Random Undersampling, count of unique labels:\n"
     ]
    },
    {
     "data": {
      "text/plain": [
       "PotentialFraud\n",
       "0    170236\n",
       "1    170236\n",
       "Name: count, dtype: int64"
      ]
     },
     "execution_count": 22,
     "metadata": {},
     "output_type": "execute_result"
    }
   ],
   "source": [
    "print('After Random Undersampling, count of unique labels:')\n",
    "yTrainRndmUS.value_counts()"
   ]
  },
  {
   "cell_type": "code",
   "execution_count": 23,
   "id": "9A-E7zeuD1yA",
   "metadata": {
    "colab": {
     "base_uri": "https://localhost:8080/"
    },
    "id": "9A-E7zeuD1yA",
    "outputId": "aff555f0-0782-44bf-bc56-3a61d8b75e11"
   },
   "outputs": [
    {
     "name": "stdout",
     "output_type": "stream",
     "text": [
      "CPU times: user 4min 1s, sys: 2.12 s, total: 4min 3s\n",
      "Wall time: 1min 9s\n"
     ]
    }
   ],
   "source": [
    "%%time\n",
    "if os.path.isfile('Data/xTrainSMOTE.csv') and os.path.isfile('Data/yTrainSMOTE.csv'):\n",
    "\n",
    "    xTrainSMOTE = pd.read_csv('Data/xTrainSMOTE.csv')\n",
    "    yTrainSMOTE = pd.read_csv('Data/yTrainSMOTE.csv')\n",
    "\n",
    "else:\n",
    "\n",
    "    # Create an SMOTE object\n",
    "    smote = SMOTE(sampling_strategy=1)\n",
    "    \n",
    "    # Create Oversampled Dataset by calling the 'fit_resample' method\n",
    "    xTrainSMOTE, yTrainSMOTE = smote.fit_resample(xTrain, yTrain)\n",
    "\n",
    "    ## Save the Dataset\n",
    "    xTrainSMOTE.to_csv('Data/xTrainSMOTE.csv', index=False)\n",
    "    yTrainSMOTE.to_csv('Data/yTrainSMOTE.csv', index=False)"
   ]
  },
  {
   "cell_type": "code",
   "execution_count": 24,
   "id": "877ff14c",
   "metadata": {
    "colab": {
     "base_uri": "https://localhost:8080/"
    },
    "id": "877ff14c",
    "outputId": "218875e7-2d06-4365-a059-ac6c2d91a3ab"
   },
   "outputs": [
    {
     "name": "stdout",
     "output_type": "stream",
     "text": [
      "Shape of the Train Dataset (Features) after SMOTE Oversampling:  (552664, 48)\n",
      "Shape of the Train Dataset (Class Label) SMOTE Oversampling (552664,)\n"
     ]
    }
   ],
   "source": [
    "print('Shape of the Train Dataset (Features) after SMOTE Oversampling: ', xTrainSMOTE.shape)\n",
    "print('Shape of the Train Dataset (Class Label) SMOTE Oversampling', yTrainSMOTE.shape)"
   ]
  },
  {
   "cell_type": "code",
   "execution_count": 26,
   "id": "c3652f8d",
   "metadata": {},
   "outputs": [],
   "source": [
    "yTrainSMOTE = yTrainSMOTE.squeeze() # Convert the DataFrame to Series for Class Label"
   ]
  },
  {
   "cell_type": "code",
   "execution_count": 27,
   "id": "x4FE-eZjIvnR",
   "metadata": {
    "colab": {
     "base_uri": "https://localhost:8080/"
    },
    "id": "x4FE-eZjIvnR",
    "outputId": "35b22d96-8abb-468d-bf35-6bd17d9affd7"
   },
   "outputs": [
    {
     "name": "stdout",
     "output_type": "stream",
     "text": [
      "After SMOTE Oversampling, count of unique labels:\n"
     ]
    },
    {
     "data": {
      "text/plain": [
       "PotentialFraud\n",
       "0    276332\n",
       "1    276332\n",
       "Name: count, dtype: int64"
      ]
     },
     "execution_count": 27,
     "metadata": {},
     "output_type": "execute_result"
    }
   ],
   "source": [
    "print('After SMOTE Oversampling, count of unique labels:')\n",
    "yTrainSMOTE.value_counts()"
   ]
  },
  {
   "cell_type": "markdown",
   "id": "VC6_rMH4JQrM",
   "metadata": {
    "id": "VC6_rMH4JQrM"
   },
   "source": [
    "----"
   ]
  },
  {
   "cell_type": "code",
   "execution_count": 31,
   "id": "190a3944",
   "metadata": {
    "colab": {
     "base_uri": "https://localhost:8080/"
    },
    "id": "190a3944",
    "outputId": "798f8a5d-38c6-4e24-e3cc-f141914ab2ac"
   },
   "outputs": [
    {
     "name": "stdout",
     "output_type": "stream",
     "text": [
      "Shape of the Train Data before doing response encoding of 'State' and 'Country' Features: (446568, 48)\n",
      "Shape of the Test Data before doing response encoding of 'State' and 'Country' Features: (111643, 48)\n",
      "Shape of the Train Data after doing response encoding of 'State' and 'Country' Features: (446568, 50)\n",
      "Shape of the Test Data after doing response encoding of 'State' and 'Country' Features: (111643, 50)\n"
     ]
    }
   ],
   "source": [
    "print('Shape of the Train Data before doing response encoding of \\'State\\' and \\'Country\\' Features:',  xTrain.shape)\n",
    "print('Shape of the Test Data before doing response encoding of \\'State\\' and \\'Country\\' Features:',  xTest.shape)\n",
    "print('Shape of the Train Data after doing response encoding of \\'State\\' and \\'Country\\' Features:',  xTrainRE.shape)\n",
    "print('Shape of the Test Data after doing response encoding of \\'State\\' and \\'Country\\' Features:',  xTestRE.shape)"
   ]
  },
  {
   "cell_type": "markdown",
   "id": "4e3fd107",
   "metadata": {
    "id": "4e3fd107"
   },
   "source": [
    "* We can see that 2 extra features are available after doing response encoding and not 4. This is because the original State and Country features were removed and 4 new features were added. Hence, the total change is 4 - 2 = 2."
   ]
  },
  {
   "cell_type": "code",
   "execution_count": 32,
   "id": "fa9d3737",
   "metadata": {
    "colab": {
     "base_uri": "https://localhost:8080/",
     "height": 270
    },
    "id": "fa9d3737",
    "outputId": "36c9fe40-7ab4-45e2-84e0-9141b5d36bb1"
   },
   "outputs": [
    {
     "data": {
      "text/html": [
       "<div>\n",
       "<style scoped>\n",
       "    .dataframe tbody tr th:only-of-type {\n",
       "        vertical-align: middle;\n",
       "    }\n",
       "\n",
       "    .dataframe tbody tr th {\n",
       "        vertical-align: top;\n",
       "    }\n",
       "\n",
       "    .dataframe thead th {\n",
       "        text-align: right;\n",
       "    }\n",
       "</style>\n",
       "<table border=\"1\" class=\"dataframe\">\n",
       "  <thead>\n",
       "    <tr style=\"text-align: right;\">\n",
       "      <th></th>\n",
       "      <th>ClmAdmitDiagnosisCode</th>\n",
       "      <th>ClmDiagnosisCode_1</th>\n",
       "      <th>ClmDiagnosisCode_2</th>\n",
       "      <th>ClmDiagnosisCode_9</th>\n",
       "      <th>ClmDiagnosisCode_10</th>\n",
       "      <th>ClmProcedureCode_2</th>\n",
       "      <th>Gender</th>\n",
       "      <th>Race</th>\n",
       "      <th>RenalDiseaseIndicator</th>\n",
       "      <th>ChronicCond_Alzheimer</th>\n",
       "      <th>ChronicCond_Heartfailure</th>\n",
       "      <th>ChronicCond_KidneyDisease</th>\n",
       "      <th>ChronicCond_Cancer</th>\n",
       "      <th>ChronicCond_ObstrPulmonary</th>\n",
       "      <th>ChronicCond_Depression</th>\n",
       "      <th>ChronicCond_Diabetes</th>\n",
       "      <th>ChronicCond_IschemicHeart</th>\n",
       "      <th>ChronicCond_Osteoporasis</th>\n",
       "      <th>ChronicCond_rheumatoidarthritis</th>\n",
       "      <th>ChronicCond_stroke</th>\n",
       "      <th>ClaimSettlementDelay</th>\n",
       "      <th>TreatmentDuration</th>\n",
       "      <th>Age</th>\n",
       "      <th>IsDead</th>\n",
       "      <th>TotalClaimAmount</th>\n",
       "      <th>IPTotalAmount</th>\n",
       "      <th>OPTotalAmount</th>\n",
       "      <th>UniquePhysCount</th>\n",
       "      <th>PhysRoleCount</th>\n",
       "      <th>IsSamePhysMultiRole1</th>\n",
       "      <th>IsSamePhysMultiRole2</th>\n",
       "      <th>PHY412132</th>\n",
       "      <th>PHY337425</th>\n",
       "      <th>PHY330576</th>\n",
       "      <th>ClmDiagCode_4019</th>\n",
       "      <th>ClmDiagCode_2724</th>\n",
       "      <th>ClmDiagCode_42731</th>\n",
       "      <th>ClmDiagCode_25000</th>\n",
       "      <th>ClmDiagCode_2449</th>\n",
       "      <th>ClmDiagCode_53081</th>\n",
       "      <th>ClmDiagCode_4280</th>\n",
       "      <th>ClmProcCode_9904.0</th>\n",
       "      <th>ClmProcCode_8154.0</th>\n",
       "      <th>ClmProcCode_66.0</th>\n",
       "      <th>ClmProcCode_3893.0</th>\n",
       "      <th>ClmProcCode_3995.0</th>\n",
       "      <th>State_0</th>\n",
       "      <th>State_1</th>\n",
       "      <th>Country_0</th>\n",
       "      <th>Country_1</th>\n",
       "    </tr>\n",
       "  </thead>\n",
       "  <tbody>\n",
       "    <tr>\n",
       "      <th>0</th>\n",
       "      <td>0</td>\n",
       "      <td>1</td>\n",
       "      <td>0</td>\n",
       "      <td>0</td>\n",
       "      <td>0</td>\n",
       "      <td>0</td>\n",
       "      <td>0</td>\n",
       "      <td>1</td>\n",
       "      <td>0</td>\n",
       "      <td>1</td>\n",
       "      <td>0</td>\n",
       "      <td>0</td>\n",
       "      <td>0</td>\n",
       "      <td>0</td>\n",
       "      <td>1</td>\n",
       "      <td>1</td>\n",
       "      <td>1</td>\n",
       "      <td>0</td>\n",
       "      <td>0</td>\n",
       "      <td>0</td>\n",
       "      <td>0</td>\n",
       "      <td>0</td>\n",
       "      <td>81</td>\n",
       "      <td>0</td>\n",
       "      <td>0.0</td>\n",
       "      <td>6268</td>\n",
       "      <td>2210</td>\n",
       "      <td>1</td>\n",
       "      <td>1</td>\n",
       "      <td>0</td>\n",
       "      <td>0</td>\n",
       "      <td>0</td>\n",
       "      <td>0</td>\n",
       "      <td>0</td>\n",
       "      <td>0</td>\n",
       "      <td>0</td>\n",
       "      <td>0</td>\n",
       "      <td>0</td>\n",
       "      <td>0</td>\n",
       "      <td>0</td>\n",
       "      <td>0</td>\n",
       "      <td>0</td>\n",
       "      <td>0</td>\n",
       "      <td>0</td>\n",
       "      <td>0</td>\n",
       "      <td>0</td>\n",
       "      <td>0.702086</td>\n",
       "      <td>0.297914</td>\n",
       "      <td>0.745150</td>\n",
       "      <td>0.254850</td>\n",
       "    </tr>\n",
       "    <tr>\n",
       "      <th>1</th>\n",
       "      <td>0</td>\n",
       "      <td>1</td>\n",
       "      <td>1</td>\n",
       "      <td>0</td>\n",
       "      <td>0</td>\n",
       "      <td>0</td>\n",
       "      <td>1</td>\n",
       "      <td>1</td>\n",
       "      <td>0</td>\n",
       "      <td>0</td>\n",
       "      <td>0</td>\n",
       "      <td>0</td>\n",
       "      <td>0</td>\n",
       "      <td>0</td>\n",
       "      <td>0</td>\n",
       "      <td>0</td>\n",
       "      <td>0</td>\n",
       "      <td>0</td>\n",
       "      <td>0</td>\n",
       "      <td>0</td>\n",
       "      <td>0</td>\n",
       "      <td>0</td>\n",
       "      <td>90</td>\n",
       "      <td>0</td>\n",
       "      <td>100.0</td>\n",
       "      <td>3068</td>\n",
       "      <td>7870</td>\n",
       "      <td>1</td>\n",
       "      <td>2</td>\n",
       "      <td>1</td>\n",
       "      <td>0</td>\n",
       "      <td>0</td>\n",
       "      <td>0</td>\n",
       "      <td>0</td>\n",
       "      <td>0</td>\n",
       "      <td>0</td>\n",
       "      <td>0</td>\n",
       "      <td>0</td>\n",
       "      <td>0</td>\n",
       "      <td>0</td>\n",
       "      <td>0</td>\n",
       "      <td>0</td>\n",
       "      <td>0</td>\n",
       "      <td>0</td>\n",
       "      <td>0</td>\n",
       "      <td>0</td>\n",
       "      <td>0.774983</td>\n",
       "      <td>0.225017</td>\n",
       "      <td>0.598892</td>\n",
       "      <td>0.401108</td>\n",
       "    </tr>\n",
       "    <tr>\n",
       "      <th>2</th>\n",
       "      <td>0</td>\n",
       "      <td>1</td>\n",
       "      <td>0</td>\n",
       "      <td>0</td>\n",
       "      <td>0</td>\n",
       "      <td>0</td>\n",
       "      <td>0</td>\n",
       "      <td>1</td>\n",
       "      <td>0</td>\n",
       "      <td>0</td>\n",
       "      <td>0</td>\n",
       "      <td>0</td>\n",
       "      <td>0</td>\n",
       "      <td>0</td>\n",
       "      <td>0</td>\n",
       "      <td>0</td>\n",
       "      <td>1</td>\n",
       "      <td>0</td>\n",
       "      <td>0</td>\n",
       "      <td>0</td>\n",
       "      <td>0</td>\n",
       "      <td>0</td>\n",
       "      <td>88</td>\n",
       "      <td>0</td>\n",
       "      <td>30.0</td>\n",
       "      <td>0</td>\n",
       "      <td>1840</td>\n",
       "      <td>1</td>\n",
       "      <td>1</td>\n",
       "      <td>0</td>\n",
       "      <td>0</td>\n",
       "      <td>0</td>\n",
       "      <td>0</td>\n",
       "      <td>0</td>\n",
       "      <td>0</td>\n",
       "      <td>0</td>\n",
       "      <td>0</td>\n",
       "      <td>0</td>\n",
       "      <td>0</td>\n",
       "      <td>0</td>\n",
       "      <td>0</td>\n",
       "      <td>0</td>\n",
       "      <td>0</td>\n",
       "      <td>0</td>\n",
       "      <td>0</td>\n",
       "      <td>0</td>\n",
       "      <td>0.538002</td>\n",
       "      <td>0.461998</td>\n",
       "      <td>0.639752</td>\n",
       "      <td>0.360248</td>\n",
       "    </tr>\n",
       "    <tr>\n",
       "      <th>3</th>\n",
       "      <td>0</td>\n",
       "      <td>1</td>\n",
       "      <td>0</td>\n",
       "      <td>0</td>\n",
       "      <td>0</td>\n",
       "      <td>0</td>\n",
       "      <td>0</td>\n",
       "      <td>1</td>\n",
       "      <td>0</td>\n",
       "      <td>0</td>\n",
       "      <td>1</td>\n",
       "      <td>0</td>\n",
       "      <td>0</td>\n",
       "      <td>0</td>\n",
       "      <td>0</td>\n",
       "      <td>1</td>\n",
       "      <td>1</td>\n",
       "      <td>0</td>\n",
       "      <td>1</td>\n",
       "      <td>0</td>\n",
       "      <td>0</td>\n",
       "      <td>0</td>\n",
       "      <td>61</td>\n",
       "      <td>0</td>\n",
       "      <td>0.0</td>\n",
       "      <td>0</td>\n",
       "      <td>2570</td>\n",
       "      <td>1</td>\n",
       "      <td>1</td>\n",
       "      <td>0</td>\n",
       "      <td>0</td>\n",
       "      <td>0</td>\n",
       "      <td>0</td>\n",
       "      <td>0</td>\n",
       "      <td>0</td>\n",
       "      <td>0</td>\n",
       "      <td>0</td>\n",
       "      <td>0</td>\n",
       "      <td>0</td>\n",
       "      <td>0</td>\n",
       "      <td>0</td>\n",
       "      <td>0</td>\n",
       "      <td>0</td>\n",
       "      <td>0</td>\n",
       "      <td>0</td>\n",
       "      <td>0</td>\n",
       "      <td>0.702086</td>\n",
       "      <td>0.297914</td>\n",
       "      <td>0.781065</td>\n",
       "      <td>0.218935</td>\n",
       "    </tr>\n",
       "    <tr>\n",
       "      <th>4</th>\n",
       "      <td>0</td>\n",
       "      <td>1</td>\n",
       "      <td>0</td>\n",
       "      <td>0</td>\n",
       "      <td>0</td>\n",
       "      <td>0</td>\n",
       "      <td>0</td>\n",
       "      <td>2</td>\n",
       "      <td>0</td>\n",
       "      <td>1</td>\n",
       "      <td>0</td>\n",
       "      <td>0</td>\n",
       "      <td>0</td>\n",
       "      <td>0</td>\n",
       "      <td>1</td>\n",
       "      <td>1</td>\n",
       "      <td>0</td>\n",
       "      <td>0</td>\n",
       "      <td>0</td>\n",
       "      <td>0</td>\n",
       "      <td>0</td>\n",
       "      <td>0</td>\n",
       "      <td>65</td>\n",
       "      <td>0</td>\n",
       "      <td>50.0</td>\n",
       "      <td>0</td>\n",
       "      <td>2280</td>\n",
       "      <td>1</td>\n",
       "      <td>1</td>\n",
       "      <td>0</td>\n",
       "      <td>0</td>\n",
       "      <td>0</td>\n",
       "      <td>0</td>\n",
       "      <td>0</td>\n",
       "      <td>0</td>\n",
       "      <td>0</td>\n",
       "      <td>0</td>\n",
       "      <td>0</td>\n",
       "      <td>0</td>\n",
       "      <td>0</td>\n",
       "      <td>0</td>\n",
       "      <td>0</td>\n",
       "      <td>0</td>\n",
       "      <td>0</td>\n",
       "      <td>0</td>\n",
       "      <td>0</td>\n",
       "      <td>0.702086</td>\n",
       "      <td>0.297914</td>\n",
       "      <td>0.589579</td>\n",
       "      <td>0.410421</td>\n",
       "    </tr>\n",
       "  </tbody>\n",
       "</table>\n",
       "</div>"
      ],
      "text/plain": [
       "   ClmAdmitDiagnosisCode  ClmDiagnosisCode_1  ClmDiagnosisCode_2  \\\n",
       "0                      0                   1                   0   \n",
       "1                      0                   1                   1   \n",
       "2                      0                   1                   0   \n",
       "3                      0                   1                   0   \n",
       "4                      0                   1                   0   \n",
       "\n",
       "   ClmDiagnosisCode_9  ClmDiagnosisCode_10  ClmProcedureCode_2  Gender  Race  \\\n",
       "0                   0                    0                   0       0     1   \n",
       "1                   0                    0                   0       1     1   \n",
       "2                   0                    0                   0       0     1   \n",
       "3                   0                    0                   0       0     1   \n",
       "4                   0                    0                   0       0     2   \n",
       "\n",
       "   RenalDiseaseIndicator  ChronicCond_Alzheimer  ChronicCond_Heartfailure  \\\n",
       "0                      0                      1                         0   \n",
       "1                      0                      0                         0   \n",
       "2                      0                      0                         0   \n",
       "3                      0                      0                         1   \n",
       "4                      0                      1                         0   \n",
       "\n",
       "   ChronicCond_KidneyDisease  ChronicCond_Cancer  ChronicCond_ObstrPulmonary  \\\n",
       "0                          0                   0                           0   \n",
       "1                          0                   0                           0   \n",
       "2                          0                   0                           0   \n",
       "3                          0                   0                           0   \n",
       "4                          0                   0                           0   \n",
       "\n",
       "   ChronicCond_Depression  ChronicCond_Diabetes  ChronicCond_IschemicHeart  \\\n",
       "0                       1                     1                          1   \n",
       "1                       0                     0                          0   \n",
       "2                       0                     0                          1   \n",
       "3                       0                     1                          1   \n",
       "4                       1                     1                          0   \n",
       "\n",
       "   ChronicCond_Osteoporasis  ChronicCond_rheumatoidarthritis  \\\n",
       "0                         0                                0   \n",
       "1                         0                                0   \n",
       "2                         0                                0   \n",
       "3                         0                                1   \n",
       "4                         0                                0   \n",
       "\n",
       "   ChronicCond_stroke  ClaimSettlementDelay  TreatmentDuration  Age  IsDead  \\\n",
       "0                   0                     0                  0   81       0   \n",
       "1                   0                     0                  0   90       0   \n",
       "2                   0                     0                  0   88       0   \n",
       "3                   0                     0                  0   61       0   \n",
       "4                   0                     0                  0   65       0   \n",
       "\n",
       "   TotalClaimAmount  IPTotalAmount  OPTotalAmount  UniquePhysCount  \\\n",
       "0               0.0           6268           2210                1   \n",
       "1             100.0           3068           7870                1   \n",
       "2              30.0              0           1840                1   \n",
       "3               0.0              0           2570                1   \n",
       "4              50.0              0           2280                1   \n",
       "\n",
       "   PhysRoleCount  IsSamePhysMultiRole1  IsSamePhysMultiRole2  PHY412132  \\\n",
       "0              1                     0                     0          0   \n",
       "1              2                     1                     0          0   \n",
       "2              1                     0                     0          0   \n",
       "3              1                     0                     0          0   \n",
       "4              1                     0                     0          0   \n",
       "\n",
       "   PHY337425  PHY330576  ClmDiagCode_4019  ClmDiagCode_2724  \\\n",
       "0          0          0                 0                 0   \n",
       "1          0          0                 0                 0   \n",
       "2          0          0                 0                 0   \n",
       "3          0          0                 0                 0   \n",
       "4          0          0                 0                 0   \n",
       "\n",
       "   ClmDiagCode_42731  ClmDiagCode_25000  ClmDiagCode_2449  ClmDiagCode_53081  \\\n",
       "0                  0                  0                 0                  0   \n",
       "1                  0                  0                 0                  0   \n",
       "2                  0                  0                 0                  0   \n",
       "3                  0                  0                 0                  0   \n",
       "4                  0                  0                 0                  0   \n",
       "\n",
       "   ClmDiagCode_4280  ClmProcCode_9904.0  ClmProcCode_8154.0  ClmProcCode_66.0  \\\n",
       "0                 0                   0                   0                 0   \n",
       "1                 0                   0                   0                 0   \n",
       "2                 0                   0                   0                 0   \n",
       "3                 0                   0                   0                 0   \n",
       "4                 0                   0                   0                 0   \n",
       "\n",
       "   ClmProcCode_3893.0  ClmProcCode_3995.0   State_0   State_1  Country_0  \\\n",
       "0                   0                   0  0.702086  0.297914   0.745150   \n",
       "1                   0                   0  0.774983  0.225017   0.598892   \n",
       "2                   0                   0  0.538002  0.461998   0.639752   \n",
       "3                   0                   0  0.702086  0.297914   0.781065   \n",
       "4                   0                   0  0.702086  0.297914   0.589579   \n",
       "\n",
       "   Country_1  \n",
       "0   0.254850  \n",
       "1   0.401108  \n",
       "2   0.360248  \n",
       "3   0.218935  \n",
       "4   0.410421  "
      ]
     },
     "execution_count": 32,
     "metadata": {},
     "output_type": "execute_result"
    }
   ],
   "source": [
    "# Display top 5 records from the response encoded Train Dataset\n",
    "xTrainRE.head()"
   ]
  },
  {
   "cell_type": "code",
   "execution_count": 36,
   "id": "184beebe",
   "metadata": {
    "id": "184beebe"
   },
   "outputs": [],
   "source": [
    "class OneHotEncoder(BaseEstimator, TransformerMixin):\n",
    "    '''\n",
    "    Class to do One-hot Encoding for the Categorical features.\n",
    "    This class can be used in the sklearn's Pipeline to avoid data leakage issues\n",
    "    '''\n",
    "    def __init__(self, categoricalFeatures):\n",
    "        '''\n",
    "        Function to initialize the class members\n",
    "        \n",
    "        Parameter(s):\n",
    "        ------------\n",
    "        categoricalFeatures: list\n",
    "            List of features for which the response encoding has to be done to generate new one-hot encoded features.\n",
    "        '''\n",
    "        self.categoricalFeatures = categoricalFeatures # Categorical Features for which One-hot Encoding has to be done.\n",
    "        self.countVectorizers = dict() # Dictionary of CountVectorizer object for each features to be one-hot encoded.\n",
    "        \n",
    "        # Add CountVectorizer object for each feature to the dictionary 'self.countVectorizers'\n",
    "        for feature in categoricalFeatures:\n",
    "            \n",
    "            # 'CountVectorizer not considering single letter text': https://stackoverflow.com/a/63339533/16007029\n",
    "            self.countVectorizers[feature] = CountVectorizer(tokenizer=lambda x: x.split())\n",
    "        \n",
    "    def fit(self, X, y=None):        \n",
    "        '''\n",
    "        Function called on a Dataset (usually Train Dataset) to generate One-hot Encoded Features.\n",
    "        This function is called only for the train dataset and not for any cv/test dataset to avoid data leakage.\n",
    "        \n",
    "        Parameters:\n",
    "        ----------\n",
    "        X: pandas.core.frame.DataFrame\n",
    "            DataFrame on which the Response Encoding has to be carried out.\n",
    "        '''\n",
    "        \n",
    "        # Fit the CountVectorizer object for each feature, on the Train Data feature\n",
    "        for feature in self.categoricalFeatures:\n",
    "            \n",
    "            self.countVectorizers[feature].fit(pd.Series(X[feature]).astype(str).values)\n",
    "            \n",
    "        return self\n",
    "    \n",
    "    def transform(self, X, y=None):\n",
    "        '''\n",
    "        Function called on a Dataset (Train/Test Dataset) and/or Class Label to generate One-hot Encoded Features.\n",
    "        This is called to avoid any data leakage. This uses the CountVectorizer object already prepared by the fit() method\n",
    "        and does not consider the test dataset.\n",
    "        \n",
    "        Parameters:\n",
    "        ----------\n",
    "        X: pandas.core.frame.DataFrame\n",
    "            DataFrame on which the One-hot Encoding has to be done.\n",
    "        '''\n",
    "        \n",
    "        # Create a copy of the dataframe so that it does not modify the input dataframe\n",
    "        xEncoded = X.copy()\n",
    "        \n",
    "        oneHotEncodedFeatures = dict() # Dictionary to store the feature name as key and its one-hot encoded csr matrix in its value\n",
    "        \n",
    "        # Transform each of the categorical feature to convert to one-hot encoding\n",
    "        for feature in self.categoricalFeatures:\n",
    "            \n",
    "            oneHotEncodedFeatures[feature] = self.countVectorizers[feature].transform(pd.Series(xEncoded[feature]).astype(str).values)\n",
    "            \n",
    "        # Remove the original categorical features from the Dataset\n",
    "        xEncoded.drop(columns=self.categoricalFeatures, inplace=True)\n",
    "        \n",
    "        # Stack (horizontally) the new one-hot encoded features to the dataset\n",
    "        for feature in self.categoricalFeatures:\n",
    "            \n",
    "            xEncoded = hstack((xEncoded, oneHotEncodedFeatures[feature])).tocsr()\n",
    "            \n",
    "        # Return this DataFrame with all the numerical features and the one-hot encoded features for the categorical features\n",
    "        return xEncoded"
   ]
  },
  {
   "cell_type": "code",
   "execution_count": 37,
   "id": "fe2c6a35",
   "metadata": {
    "colab": {
     "base_uri": "https://localhost:8080/"
    },
    "id": "fe2c6a35",
    "outputId": "53389697-ca22-4395-80c3-8e70c812a19a"
   },
   "outputs": [
    {
     "name": "stdout",
     "output_type": "stream",
     "text": [
      "CPU times: user 2.91 s, sys: 138 ms, total: 3.05 s\n",
      "Wall time: 3.47 s\n"
     ]
    },
    {
     "data": {
      "text/html": [
       "<style>#sk-container-id-2 {color: black;}#sk-container-id-2 pre{padding: 0;}#sk-container-id-2 div.sk-toggleable {background-color: white;}#sk-container-id-2 label.sk-toggleable__label {cursor: pointer;display: block;width: 100%;margin-bottom: 0;padding: 0.3em;box-sizing: border-box;text-align: center;}#sk-container-id-2 label.sk-toggleable__label-arrow:before {content: \"▸\";float: left;margin-right: 0.25em;color: #696969;}#sk-container-id-2 label.sk-toggleable__label-arrow:hover:before {color: black;}#sk-container-id-2 div.sk-estimator:hover label.sk-toggleable__label-arrow:before {color: black;}#sk-container-id-2 div.sk-toggleable__content {max-height: 0;max-width: 0;overflow: hidden;text-align: left;background-color: #f0f8ff;}#sk-container-id-2 div.sk-toggleable__content pre {margin: 0.2em;color: black;border-radius: 0.25em;background-color: #f0f8ff;}#sk-container-id-2 input.sk-toggleable__control:checked~div.sk-toggleable__content {max-height: 200px;max-width: 100%;overflow: auto;}#sk-container-id-2 input.sk-toggleable__control:checked~label.sk-toggleable__label-arrow:before {content: \"▾\";}#sk-container-id-2 div.sk-estimator input.sk-toggleable__control:checked~label.sk-toggleable__label {background-color: #d4ebff;}#sk-container-id-2 div.sk-label input.sk-toggleable__control:checked~label.sk-toggleable__label {background-color: #d4ebff;}#sk-container-id-2 input.sk-hidden--visually {border: 0;clip: rect(1px 1px 1px 1px);clip: rect(1px, 1px, 1px, 1px);height: 1px;margin: -1px;overflow: hidden;padding: 0;position: absolute;width: 1px;}#sk-container-id-2 div.sk-estimator {font-family: monospace;background-color: #f0f8ff;border: 1px dotted black;border-radius: 0.25em;box-sizing: border-box;margin-bottom: 0.5em;}#sk-container-id-2 div.sk-estimator:hover {background-color: #d4ebff;}#sk-container-id-2 div.sk-parallel-item::after {content: \"\";width: 100%;border-bottom: 1px solid gray;flex-grow: 1;}#sk-container-id-2 div.sk-label:hover label.sk-toggleable__label {background-color: #d4ebff;}#sk-container-id-2 div.sk-serial::before {content: \"\";position: absolute;border-left: 1px solid gray;box-sizing: border-box;top: 0;bottom: 0;left: 50%;z-index: 0;}#sk-container-id-2 div.sk-serial {display: flex;flex-direction: column;align-items: center;background-color: white;padding-right: 0.2em;padding-left: 0.2em;position: relative;}#sk-container-id-2 div.sk-item {position: relative;z-index: 1;}#sk-container-id-2 div.sk-parallel {display: flex;align-items: stretch;justify-content: center;background-color: white;position: relative;}#sk-container-id-2 div.sk-item::before, #sk-container-id-2 div.sk-parallel-item::before {content: \"\";position: absolute;border-left: 1px solid gray;box-sizing: border-box;top: 0;bottom: 0;left: 50%;z-index: -1;}#sk-container-id-2 div.sk-parallel-item {display: flex;flex-direction: column;z-index: 1;position: relative;background-color: white;}#sk-container-id-2 div.sk-parallel-item:first-child::after {align-self: flex-end;width: 50%;}#sk-container-id-2 div.sk-parallel-item:last-child::after {align-self: flex-start;width: 50%;}#sk-container-id-2 div.sk-parallel-item:only-child::after {width: 0;}#sk-container-id-2 div.sk-dashed-wrapped {border: 1px dashed gray;margin: 0 0.4em 0.5em 0.4em;box-sizing: border-box;padding-bottom: 0.4em;background-color: white;}#sk-container-id-2 div.sk-label label {font-family: monospace;font-weight: bold;display: inline-block;line-height: 1.2em;}#sk-container-id-2 div.sk-label-container {text-align: center;}#sk-container-id-2 div.sk-container {/* jupyter's `normalize.less` sets `[hidden] { display: none; }` but bootstrap.min.css set `[hidden] { display: none !important; }` so we also need the `!important` here to be able to override the default hidden behavior on the sphinx rendered scikit-learn.org. See: https://github.com/scikit-learn/scikit-learn/issues/21755 */display: inline-block !important;position: relative;}#sk-container-id-2 div.sk-text-repr-fallback {display: none;}</style><div id=\"sk-container-id-2\" class=\"sk-top-container\"><div class=\"sk-text-repr-fallback\"><pre>OneHotEncoder(categoricalFeatures=[&#x27;State&#x27;, &#x27;Country&#x27;])</pre><b>In a Jupyter environment, please rerun this cell to show the HTML representation or trust the notebook. <br />On GitHub, the HTML representation is unable to render, please try loading this page with nbviewer.org.</b></div><div class=\"sk-container\" hidden><div class=\"sk-item\"><div class=\"sk-estimator sk-toggleable\"><input class=\"sk-toggleable__control sk-hidden--visually\" id=\"sk-estimator-id-2\" type=\"checkbox\" checked><label for=\"sk-estimator-id-2\" class=\"sk-toggleable__label sk-toggleable__label-arrow\">OneHotEncoder</label><div class=\"sk-toggleable__content\"><pre>OneHotEncoder(categoricalFeatures=[&#x27;State&#x27;, &#x27;Country&#x27;])</pre></div></div></div></div></div>"
      ],
      "text/plain": [
       "OneHotEncoder(categoricalFeatures=['State', 'Country'])"
      ]
     },
     "execution_count": 37,
     "metadata": {},
     "output_type": "execute_result"
    }
   ],
   "source": [
    "%%time\n",
    "# Create an object of the 'OneHotEncoder' class\n",
    "onehotEnc = OneHotEncoder(categoricalFeatures=['State', 'Country'])\n",
    "\n",
    "# Fit the 'OneHotEncoder' class object on only Train Data\n",
    "onehotEnc.fit(xTrain, yTrain)"
   ]
  },
  {
   "cell_type": "code",
   "execution_count": 38,
   "id": "34f8783f",
   "metadata": {
    "colab": {
     "base_uri": "https://localhost:8080/"
    },
    "id": "34f8783f",
    "outputId": "cb4f2cff-571f-49df-c5e8-f9e159f98311"
   },
   "outputs": [
    {
     "name": "stdout",
     "output_type": "stream",
     "text": [
      "CPU times: user 6.02 s, sys: 1.55 s, total: 7.57 s\n",
      "Wall time: 8.5 s\n"
     ]
    }
   ],
   "source": [
    "%%time\n",
    "# Transform the 'OneHotEncoder' class object to get the one-hot encoded features for the categorical features:\n",
    "# 'State' and 'Country'\n",
    "xTrainOHE = onehotEnc.transform(xTrain) # Train Data\n",
    "\n",
    "xTestOHE = onehotEnc.transform(xTest) # Test Data"
   ]
  },
  {
   "cell_type": "code",
   "execution_count": 39,
   "id": "bd6555d5",
   "metadata": {
    "colab": {
     "base_uri": "https://localhost:8080/"
    },
    "id": "bd6555d5",
    "outputId": "9839f81c-6b31-4c27-f44b-03c54947ebfb"
   },
   "outputs": [
    {
     "name": "stdout",
     "output_type": "stream",
     "text": [
      "Shape of the Train Data before doing one-hot encoding of 'State' and 'Country' Features: (446568, 48)\n",
      "Shape of the Test Data before doing one-hot encoding of 'State' and 'Country' Features: (111643, 48)\n",
      "Shape of the Train Data after doing one-hot encoding of 'State' and 'Country' Features: (446568, 409)\n",
      "Shape of the Test Data after doing one-hot encoding of 'State' and 'Country' Features: (111643, 409)\n"
     ]
    }
   ],
   "source": [
    "print('Shape of the Train Data before doing one-hot encoding of \\'State\\' and \\'Country\\' Features:',  xTrain.shape)\n",
    "print('Shape of the Test Data before doing one-hot encoding of \\'State\\' and \\'Country\\' Features:',  xTest.shape)\n",
    "print('Shape of the Train Data after doing one-hot encoding of \\'State\\' and \\'Country\\' Features:',  xTrainOHE.shape)\n",
    "print('Shape of the Test Data after doing one-hot encoding of \\'State\\' and \\'Country\\' Features:',  xTestOHE.shape)"
   ]
  },
  {
   "cell_type": "code",
   "execution_count": 40,
   "id": "d0f09f34",
   "metadata": {
    "colab": {
     "base_uri": "https://localhost:8080/"
    },
    "id": "d0f09f34",
    "outputId": "6d5b8d38-a31e-43c4-d9f8-756266b4f71b"
   },
   "outputs": [
    {
     "name": "stdout",
     "output_type": "stream",
     "text": [
      "Number of unique states in the Train Dataset:  52\n",
      "Number of unique countried in the Train Dataset:  311\n"
     ]
    }
   ],
   "source": [
    "print('Number of unique states in the Train Dataset: ', len(xTrain['State'].unique()))\n",
    "print('Number of unique countried in the Train Dataset: ', len(xTrain['Country'].unique()))"
   ]
  },
  {
   "cell_type": "code",
   "execution_count": 41,
   "id": "1e6e69a3",
   "metadata": {
    "colab": {
     "base_uri": "https://localhost:8080/"
    },
    "id": "1e6e69a3",
    "outputId": "68dd69f6-8859-4860-c638-bf3a424f9721"
   },
   "outputs": [
    {
     "name": "stdout",
     "output_type": "stream",
     "text": [
      "Final Dataset 1 (with Response Encoded State and Country Features):\n",
      "--------------------------------------------------------------------------------\n",
      "Train Dataset: Features- (446568, 50) , Class Labels:  (446568,)\n",
      "Test Dataset: Features- (111643, 50) , Class Labels:  (111643,)\n",
      "================================================================================\n",
      "Final Dataset 2 (with One-hot Encoded State and Country Features):\n",
      "--------------------------------------------------------------------------------\n",
      "Train Dataset: Features- (446568, 409) , Class Labels:  (446568,)\n",
      "Test Dataset: Features- (111643, 409) , Class Labels:  (111643,)\n"
     ]
    }
   ],
   "source": [
    "print('Final Dataset 1 (with Response Encoded State and Country Features):')\n",
    "print('--'*40)\n",
    "print('Train Dataset: Features-', xTrainRE.shape, ', Class Labels: ', yTrain.shape)\n",
    "print('Test Dataset: Features-', xTestRE.shape, ', Class Labels: ', yTest.shape)\n",
    "\n",
    "print('=='*40)\n",
    "\n",
    "print('Final Dataset 2 (with One-hot Encoded State and Country Features):')\n",
    "print('--'*40)\n",
    "print('Train Dataset: Features-', xTrainOHE.shape, ', Class Labels: ', yTrain.shape)\n",
    "print('Test Dataset: Features-', xTestOHE.shape, ', Class Labels: ', yTest.shape)"
   ]
  },
  {
   "cell_type": "code",
   "execution_count": 42,
   "id": "20c3d4e1",
   "metadata": {
    "id": "20c3d4e1"
   },
   "outputs": [],
   "source": [
    "class Standardize(BaseEstimator, TransformerMixin):\n",
    "    '''\n",
    "    Class to do standardization of the numerical features.\n",
    "    This class can be used in the sklearn's Pipeline to avoid data leakdage issues\n",
    "    '''\n",
    "    def __init__(self, numericalFeatures):\n",
    "        '''\n",
    "        Function to initialize the class members\n",
    "        \n",
    "        Parameter(s):\n",
    "        ------------\n",
    "        numericalFeatures: list\n",
    "            List of numerical features to be standardized.\n",
    "        '''\n",
    "        self.numericalFeatures = numericalFeatures # Numerical Features to be standardized.\n",
    "        self.standardScaler = StandardScaler() # Object of StandardScaler.\n",
    "        \n",
    "    def fit(self, X, y=None):        \n",
    "        '''\n",
    "        Function called on a Dataset (usually Train Dataset) to fit the train dataset.\n",
    "        This function is called only for the train dataset and not for any cv/test dataset to avoid data leakage.\n",
    "        \n",
    "        Parameters:\n",
    "        ----------\n",
    "        X: pandas.core.frame.DataFrame\n",
    "            Dataset to be considered for standardization.\n",
    "        '''\n",
    "        \n",
    "        # Fit the StandardScaler object only on the numerical features.\n",
    "        self.standardScaler.fit(X[self.numericalFeatures])        \n",
    "            \n",
    "        return self\n",
    "    \n",
    "    def transform(self, X, y=None):\n",
    "        '''\n",
    "        Function called on a Dataset (Train/Test Dataset) to standardize the data based on the Train Dataset.\n",
    "        This is called to avoid any data leakage. This uses the standardScaler object already prepared by the fit() method\n",
    "        and does not consider the test dataset.\n",
    "        \n",
    "        Parameters:\n",
    "        ----------\n",
    "        X: pandas.core.frame.DataFrame\n",
    "            Dataset to be standardized.\n",
    "        '''\n",
    "        \n",
    "        # Create a copy of the dataframe so that it does not modify the input dataframe\n",
    "        xStandardized = X.copy()\n",
    "        \n",
    "        # Standardize the numerical features of the dataset.\n",
    "        xStandardized[self.numericalFeatures] = self.standardScaler.transform(xStandardized[self.numericalFeatures])\n",
    "            \n",
    "        # Return the standardized dataset\n",
    "        return xStandardized"
   ]
  },
  {
   "cell_type": "code",
   "execution_count": 43,
   "id": "2503e771",
   "metadata": {
    "colab": {
     "base_uri": "https://localhost:8080/"
    },
    "id": "2503e771",
    "outputId": "a609620d-5656-4967-c94c-ab985c968d12"
   },
   "outputs": [
    {
     "name": "stdout",
     "output_type": "stream",
     "text": [
      "CPU times: user 59.1 ms, sys: 36.1 ms, total: 95.2 ms\n",
      "Wall time: 94.6 ms\n"
     ]
    },
    {
     "data": {
      "text/html": [
       "<style>#sk-container-id-3 {color: black;}#sk-container-id-3 pre{padding: 0;}#sk-container-id-3 div.sk-toggleable {background-color: white;}#sk-container-id-3 label.sk-toggleable__label {cursor: pointer;display: block;width: 100%;margin-bottom: 0;padding: 0.3em;box-sizing: border-box;text-align: center;}#sk-container-id-3 label.sk-toggleable__label-arrow:before {content: \"▸\";float: left;margin-right: 0.25em;color: #696969;}#sk-container-id-3 label.sk-toggleable__label-arrow:hover:before {color: black;}#sk-container-id-3 div.sk-estimator:hover label.sk-toggleable__label-arrow:before {color: black;}#sk-container-id-3 div.sk-toggleable__content {max-height: 0;max-width: 0;overflow: hidden;text-align: left;background-color: #f0f8ff;}#sk-container-id-3 div.sk-toggleable__content pre {margin: 0.2em;color: black;border-radius: 0.25em;background-color: #f0f8ff;}#sk-container-id-3 input.sk-toggleable__control:checked~div.sk-toggleable__content {max-height: 200px;max-width: 100%;overflow: auto;}#sk-container-id-3 input.sk-toggleable__control:checked~label.sk-toggleable__label-arrow:before {content: \"▾\";}#sk-container-id-3 div.sk-estimator input.sk-toggleable__control:checked~label.sk-toggleable__label {background-color: #d4ebff;}#sk-container-id-3 div.sk-label input.sk-toggleable__control:checked~label.sk-toggleable__label {background-color: #d4ebff;}#sk-container-id-3 input.sk-hidden--visually {border: 0;clip: rect(1px 1px 1px 1px);clip: rect(1px, 1px, 1px, 1px);height: 1px;margin: -1px;overflow: hidden;padding: 0;position: absolute;width: 1px;}#sk-container-id-3 div.sk-estimator {font-family: monospace;background-color: #f0f8ff;border: 1px dotted black;border-radius: 0.25em;box-sizing: border-box;margin-bottom: 0.5em;}#sk-container-id-3 div.sk-estimator:hover {background-color: #d4ebff;}#sk-container-id-3 div.sk-parallel-item::after {content: \"\";width: 100%;border-bottom: 1px solid gray;flex-grow: 1;}#sk-container-id-3 div.sk-label:hover label.sk-toggleable__label {background-color: #d4ebff;}#sk-container-id-3 div.sk-serial::before {content: \"\";position: absolute;border-left: 1px solid gray;box-sizing: border-box;top: 0;bottom: 0;left: 50%;z-index: 0;}#sk-container-id-3 div.sk-serial {display: flex;flex-direction: column;align-items: center;background-color: white;padding-right: 0.2em;padding-left: 0.2em;position: relative;}#sk-container-id-3 div.sk-item {position: relative;z-index: 1;}#sk-container-id-3 div.sk-parallel {display: flex;align-items: stretch;justify-content: center;background-color: white;position: relative;}#sk-container-id-3 div.sk-item::before, #sk-container-id-3 div.sk-parallel-item::before {content: \"\";position: absolute;border-left: 1px solid gray;box-sizing: border-box;top: 0;bottom: 0;left: 50%;z-index: -1;}#sk-container-id-3 div.sk-parallel-item {display: flex;flex-direction: column;z-index: 1;position: relative;background-color: white;}#sk-container-id-3 div.sk-parallel-item:first-child::after {align-self: flex-end;width: 50%;}#sk-container-id-3 div.sk-parallel-item:last-child::after {align-self: flex-start;width: 50%;}#sk-container-id-3 div.sk-parallel-item:only-child::after {width: 0;}#sk-container-id-3 div.sk-dashed-wrapped {border: 1px dashed gray;margin: 0 0.4em 0.5em 0.4em;box-sizing: border-box;padding-bottom: 0.4em;background-color: white;}#sk-container-id-3 div.sk-label label {font-family: monospace;font-weight: bold;display: inline-block;line-height: 1.2em;}#sk-container-id-3 div.sk-label-container {text-align: center;}#sk-container-id-3 div.sk-container {/* jupyter's `normalize.less` sets `[hidden] { display: none; }` but bootstrap.min.css set `[hidden] { display: none !important; }` so we also need the `!important` here to be able to override the default hidden behavior on the sphinx rendered scikit-learn.org. See: https://github.com/scikit-learn/scikit-learn/issues/21755 */display: inline-block !important;position: relative;}#sk-container-id-3 div.sk-text-repr-fallback {display: none;}</style><div id=\"sk-container-id-3\" class=\"sk-top-container\"><div class=\"sk-text-repr-fallback\"><pre>Standardize(numericalFeatures=[&#x27;Race&#x27;, &#x27;ClaimSettlementDelay&#x27;,\n",
       "                               &#x27;TreatmentDuration&#x27;, &#x27;Age&#x27;, &#x27;TotalClaimAmount&#x27;,\n",
       "                               &#x27;IPTotalAmount&#x27;, &#x27;OPTotalAmount&#x27;,\n",
       "                               &#x27;UniquePhysCount&#x27;, &#x27;PhysRoleCount&#x27;])</pre><b>In a Jupyter environment, please rerun this cell to show the HTML representation or trust the notebook. <br />On GitHub, the HTML representation is unable to render, please try loading this page with nbviewer.org.</b></div><div class=\"sk-container\" hidden><div class=\"sk-item\"><div class=\"sk-estimator sk-toggleable\"><input class=\"sk-toggleable__control sk-hidden--visually\" id=\"sk-estimator-id-3\" type=\"checkbox\" checked><label for=\"sk-estimator-id-3\" class=\"sk-toggleable__label sk-toggleable__label-arrow\">Standardize</label><div class=\"sk-toggleable__content\"><pre>Standardize(numericalFeatures=[&#x27;Race&#x27;, &#x27;ClaimSettlementDelay&#x27;,\n",
       "                               &#x27;TreatmentDuration&#x27;, &#x27;Age&#x27;, &#x27;TotalClaimAmount&#x27;,\n",
       "                               &#x27;IPTotalAmount&#x27;, &#x27;OPTotalAmount&#x27;,\n",
       "                               &#x27;UniquePhysCount&#x27;, &#x27;PhysRoleCount&#x27;])</pre></div></div></div></div></div>"
      ],
      "text/plain": [
       "Standardize(numericalFeatures=['Race', 'ClaimSettlementDelay',\n",
       "                               'TreatmentDuration', 'Age', 'TotalClaimAmount',\n",
       "                               'IPTotalAmount', 'OPTotalAmount',\n",
       "                               'UniquePhysCount', 'PhysRoleCount'])"
      ]
     },
     "execution_count": 43,
     "metadata": {},
     "output_type": "execute_result"
    }
   ],
   "source": [
    "%%time\n",
    "\n",
    "# Create a list of numerical features to be standardized.\n",
    "featuresToStd = ['Race', 'ClaimSettlementDelay', 'TreatmentDuration', 'Age', 'TotalClaimAmount',\n",
    "                 'IPTotalAmount', 'OPTotalAmount', 'UniquePhysCount', 'PhysRoleCount']\n",
    "\n",
    "# Create an object of the 'Standardize' class\n",
    "std = Standardize(numericalFeatures=featuresToStd)\n",
    "\n",
    "# Fit the 'Standardize' class object on only Train Data\n",
    "std.fit(xTrain, yTrain)"
   ]
  },
  {
   "cell_type": "code",
   "execution_count": 44,
   "id": "a4c6dac3",
   "metadata": {
    "colab": {
     "base_uri": "https://localhost:8080/"
    },
    "id": "a4c6dac3",
    "outputId": "bfc618f2-3f92-4477-a356-07c51e9e63a3"
   },
   "outputs": [
    {
     "name": "stdout",
     "output_type": "stream",
     "text": [
      "CPU times: user 163 ms, sys: 96.8 ms, total: 260 ms\n",
      "Wall time: 264 ms\n"
     ]
    }
   ],
   "source": [
    "%%time\n",
    "# Transform the 'Standardize' class object to standardize the numerical features\n",
    "xTrainStd = std.transform(xTrain) # Train Data\n",
    "\n",
    "xTestStd = std.transform(xTest) # Test Data"
   ]
  },
  {
   "cell_type": "code",
   "execution_count": 45,
   "id": "17ab5a7a",
   "metadata": {
    "colab": {
     "base_uri": "https://localhost:8080/",
     "height": 270
    },
    "id": "17ab5a7a",
    "outputId": "7c72699d-1c5c-40ed-ff2b-f2fcd6a65d68"
   },
   "outputs": [
    {
     "data": {
      "text/html": [
       "<div>\n",
       "<style scoped>\n",
       "    .dataframe tbody tr th:only-of-type {\n",
       "        vertical-align: middle;\n",
       "    }\n",
       "\n",
       "    .dataframe tbody tr th {\n",
       "        vertical-align: top;\n",
       "    }\n",
       "\n",
       "    .dataframe thead th {\n",
       "        text-align: right;\n",
       "    }\n",
       "</style>\n",
       "<table border=\"1\" class=\"dataframe\">\n",
       "  <thead>\n",
       "    <tr style=\"text-align: right;\">\n",
       "      <th></th>\n",
       "      <th>ClmAdmitDiagnosisCode</th>\n",
       "      <th>ClmDiagnosisCode_1</th>\n",
       "      <th>ClmDiagnosisCode_2</th>\n",
       "      <th>ClmDiagnosisCode_9</th>\n",
       "      <th>ClmDiagnosisCode_10</th>\n",
       "      <th>ClmProcedureCode_2</th>\n",
       "      <th>Gender</th>\n",
       "      <th>Race</th>\n",
       "      <th>RenalDiseaseIndicator</th>\n",
       "      <th>State</th>\n",
       "      <th>Country</th>\n",
       "      <th>ChronicCond_Alzheimer</th>\n",
       "      <th>ChronicCond_Heartfailure</th>\n",
       "      <th>ChronicCond_KidneyDisease</th>\n",
       "      <th>ChronicCond_Cancer</th>\n",
       "      <th>ChronicCond_ObstrPulmonary</th>\n",
       "      <th>ChronicCond_Depression</th>\n",
       "      <th>ChronicCond_Diabetes</th>\n",
       "      <th>ChronicCond_IschemicHeart</th>\n",
       "      <th>ChronicCond_Osteoporasis</th>\n",
       "      <th>ChronicCond_rheumatoidarthritis</th>\n",
       "      <th>ChronicCond_stroke</th>\n",
       "      <th>ClaimSettlementDelay</th>\n",
       "      <th>TreatmentDuration</th>\n",
       "      <th>Age</th>\n",
       "      <th>IsDead</th>\n",
       "      <th>TotalClaimAmount</th>\n",
       "      <th>IPTotalAmount</th>\n",
       "      <th>OPTotalAmount</th>\n",
       "      <th>UniquePhysCount</th>\n",
       "      <th>PhysRoleCount</th>\n",
       "      <th>IsSamePhysMultiRole1</th>\n",
       "      <th>IsSamePhysMultiRole2</th>\n",
       "      <th>PHY412132</th>\n",
       "      <th>PHY337425</th>\n",
       "      <th>PHY330576</th>\n",
       "      <th>ClmDiagCode_4019</th>\n",
       "      <th>ClmDiagCode_2724</th>\n",
       "      <th>ClmDiagCode_42731</th>\n",
       "      <th>ClmDiagCode_25000</th>\n",
       "      <th>ClmDiagCode_2449</th>\n",
       "      <th>ClmDiagCode_53081</th>\n",
       "      <th>ClmDiagCode_4280</th>\n",
       "      <th>ClmProcCode_9904.0</th>\n",
       "      <th>ClmProcCode_8154.0</th>\n",
       "      <th>ClmProcCode_66.0</th>\n",
       "      <th>ClmProcCode_3893.0</th>\n",
       "      <th>ClmProcCode_3995.0</th>\n",
       "    </tr>\n",
       "  </thead>\n",
       "  <tbody>\n",
       "    <tr>\n",
       "      <th>188848</th>\n",
       "      <td>0</td>\n",
       "      <td>1</td>\n",
       "      <td>0</td>\n",
       "      <td>0</td>\n",
       "      <td>0</td>\n",
       "      <td>0</td>\n",
       "      <td>0</td>\n",
       "      <td>-0.356015</td>\n",
       "      <td>0</td>\n",
       "      <td>45</td>\n",
       "      <td>240</td>\n",
       "      <td>1</td>\n",
       "      <td>0</td>\n",
       "      <td>0</td>\n",
       "      <td>0</td>\n",
       "      <td>0</td>\n",
       "      <td>1</td>\n",
       "      <td>1</td>\n",
       "      <td>1</td>\n",
       "      <td>0</td>\n",
       "      <td>0</td>\n",
       "      <td>0</td>\n",
       "      <td>-0.352568</td>\n",
       "      <td>-0.194483</td>\n",
       "      <td>0.548330</td>\n",
       "      <td>0</td>\n",
       "      <td>-0.268900</td>\n",
       "      <td>0.036958</td>\n",
       "      <td>-0.151565</td>\n",
       "      <td>-0.579646</td>\n",
       "      <td>-0.874752</td>\n",
       "      <td>0</td>\n",
       "      <td>0</td>\n",
       "      <td>0</td>\n",
       "      <td>0</td>\n",
       "      <td>0</td>\n",
       "      <td>0</td>\n",
       "      <td>0</td>\n",
       "      <td>0</td>\n",
       "      <td>0</td>\n",
       "      <td>0</td>\n",
       "      <td>0</td>\n",
       "      <td>0</td>\n",
       "      <td>0</td>\n",
       "      <td>0</td>\n",
       "      <td>0</td>\n",
       "      <td>0</td>\n",
       "      <td>0</td>\n",
       "    </tr>\n",
       "    <tr>\n",
       "      <th>282148</th>\n",
       "      <td>0</td>\n",
       "      <td>1</td>\n",
       "      <td>1</td>\n",
       "      <td>0</td>\n",
       "      <td>0</td>\n",
       "      <td>0</td>\n",
       "      <td>1</td>\n",
       "      <td>-0.356015</td>\n",
       "      <td>0</td>\n",
       "      <td>21</td>\n",
       "      <td>150</td>\n",
       "      <td>0</td>\n",
       "      <td>0</td>\n",
       "      <td>0</td>\n",
       "      <td>0</td>\n",
       "      <td>0</td>\n",
       "      <td>0</td>\n",
       "      <td>0</td>\n",
       "      <td>0</td>\n",
       "      <td>0</td>\n",
       "      <td>0</td>\n",
       "      <td>0</td>\n",
       "      <td>-0.352568</td>\n",
       "      <td>-0.194483</td>\n",
       "      <td>1.239122</td>\n",
       "      <td>0</td>\n",
       "      <td>-0.243878</td>\n",
       "      <td>-0.217027</td>\n",
       "      <td>1.041461</td>\n",
       "      <td>-0.579646</td>\n",
       "      <td>0.687974</td>\n",
       "      <td>1</td>\n",
       "      <td>0</td>\n",
       "      <td>0</td>\n",
       "      <td>0</td>\n",
       "      <td>0</td>\n",
       "      <td>0</td>\n",
       "      <td>0</td>\n",
       "      <td>0</td>\n",
       "      <td>0</td>\n",
       "      <td>0</td>\n",
       "      <td>0</td>\n",
       "      <td>0</td>\n",
       "      <td>0</td>\n",
       "      <td>0</td>\n",
       "      <td>0</td>\n",
       "      <td>0</td>\n",
       "      <td>0</td>\n",
       "    </tr>\n",
       "    <tr>\n",
       "      <th>349647</th>\n",
       "      <td>0</td>\n",
       "      <td>1</td>\n",
       "      <td>0</td>\n",
       "      <td>0</td>\n",
       "      <td>0</td>\n",
       "      <td>0</td>\n",
       "      <td>0</td>\n",
       "      <td>-0.356015</td>\n",
       "      <td>0</td>\n",
       "      <td>44</td>\n",
       "      <td>770</td>\n",
       "      <td>0</td>\n",
       "      <td>0</td>\n",
       "      <td>0</td>\n",
       "      <td>0</td>\n",
       "      <td>0</td>\n",
       "      <td>0</td>\n",
       "      <td>0</td>\n",
       "      <td>1</td>\n",
       "      <td>0</td>\n",
       "      <td>0</td>\n",
       "      <td>0</td>\n",
       "      <td>-0.352568</td>\n",
       "      <td>-0.194483</td>\n",
       "      <td>1.085613</td>\n",
       "      <td>0</td>\n",
       "      <td>-0.261394</td>\n",
       "      <td>-0.460535</td>\n",
       "      <td>-0.229555</td>\n",
       "      <td>-0.579646</td>\n",
       "      <td>-0.874752</td>\n",
       "      <td>0</td>\n",
       "      <td>0</td>\n",
       "      <td>0</td>\n",
       "      <td>0</td>\n",
       "      <td>0</td>\n",
       "      <td>0</td>\n",
       "      <td>0</td>\n",
       "      <td>0</td>\n",
       "      <td>0</td>\n",
       "      <td>0</td>\n",
       "      <td>0</td>\n",
       "      <td>0</td>\n",
       "      <td>0</td>\n",
       "      <td>0</td>\n",
       "      <td>0</td>\n",
       "      <td>0</td>\n",
       "      <td>0</td>\n",
       "    </tr>\n",
       "    <tr>\n",
       "      <th>500010</th>\n",
       "      <td>0</td>\n",
       "      <td>1</td>\n",
       "      <td>0</td>\n",
       "      <td>0</td>\n",
       "      <td>0</td>\n",
       "      <td>0</td>\n",
       "      <td>0</td>\n",
       "      <td>-0.356015</td>\n",
       "      <td>0</td>\n",
       "      <td>45</td>\n",
       "      <td>960</td>\n",
       "      <td>0</td>\n",
       "      <td>1</td>\n",
       "      <td>0</td>\n",
       "      <td>0</td>\n",
       "      <td>0</td>\n",
       "      <td>0</td>\n",
       "      <td>1</td>\n",
       "      <td>1</td>\n",
       "      <td>0</td>\n",
       "      <td>1</td>\n",
       "      <td>0</td>\n",
       "      <td>-0.352568</td>\n",
       "      <td>-0.194483</td>\n",
       "      <td>-0.986764</td>\n",
       "      <td>0</td>\n",
       "      <td>-0.268900</td>\n",
       "      <td>-0.460535</td>\n",
       "      <td>-0.075684</td>\n",
       "      <td>-0.579646</td>\n",
       "      <td>-0.874752</td>\n",
       "      <td>0</td>\n",
       "      <td>0</td>\n",
       "      <td>0</td>\n",
       "      <td>0</td>\n",
       "      <td>0</td>\n",
       "      <td>0</td>\n",
       "      <td>0</td>\n",
       "      <td>0</td>\n",
       "      <td>0</td>\n",
       "      <td>0</td>\n",
       "      <td>0</td>\n",
       "      <td>0</td>\n",
       "      <td>0</td>\n",
       "      <td>0</td>\n",
       "      <td>0</td>\n",
       "      <td>0</td>\n",
       "      <td>0</td>\n",
       "    </tr>\n",
       "    <tr>\n",
       "      <th>394413</th>\n",
       "      <td>0</td>\n",
       "      <td>1</td>\n",
       "      <td>0</td>\n",
       "      <td>0</td>\n",
       "      <td>0</td>\n",
       "      <td>0</td>\n",
       "      <td>0</td>\n",
       "      <td>1.036635</td>\n",
       "      <td>0</td>\n",
       "      <td>45</td>\n",
       "      <td>570</td>\n",
       "      <td>1</td>\n",
       "      <td>0</td>\n",
       "      <td>0</td>\n",
       "      <td>0</td>\n",
       "      <td>0</td>\n",
       "      <td>1</td>\n",
       "      <td>1</td>\n",
       "      <td>0</td>\n",
       "      <td>0</td>\n",
       "      <td>0</td>\n",
       "      <td>0</td>\n",
       "      <td>-0.352568</td>\n",
       "      <td>-0.194483</td>\n",
       "      <td>-0.679745</td>\n",
       "      <td>0</td>\n",
       "      <td>-0.256389</td>\n",
       "      <td>-0.460535</td>\n",
       "      <td>-0.136810</td>\n",
       "      <td>-0.579646</td>\n",
       "      <td>-0.874752</td>\n",
       "      <td>0</td>\n",
       "      <td>0</td>\n",
       "      <td>0</td>\n",
       "      <td>0</td>\n",
       "      <td>0</td>\n",
       "      <td>0</td>\n",
       "      <td>0</td>\n",
       "      <td>0</td>\n",
       "      <td>0</td>\n",
       "      <td>0</td>\n",
       "      <td>0</td>\n",
       "      <td>0</td>\n",
       "      <td>0</td>\n",
       "      <td>0</td>\n",
       "      <td>0</td>\n",
       "      <td>0</td>\n",
       "      <td>0</td>\n",
       "    </tr>\n",
       "  </tbody>\n",
       "</table>\n",
       "</div>"
      ],
      "text/plain": [
       "        ClmAdmitDiagnosisCode  ClmDiagnosisCode_1  ClmDiagnosisCode_2  \\\n",
       "188848                      0                   1                   0   \n",
       "282148                      0                   1                   1   \n",
       "349647                      0                   1                   0   \n",
       "500010                      0                   1                   0   \n",
       "394413                      0                   1                   0   \n",
       "\n",
       "        ClmDiagnosisCode_9  ClmDiagnosisCode_10  ClmProcedureCode_2  Gender  \\\n",
       "188848                   0                    0                   0       0   \n",
       "282148                   0                    0                   0       1   \n",
       "349647                   0                    0                   0       0   \n",
       "500010                   0                    0                   0       0   \n",
       "394413                   0                    0                   0       0   \n",
       "\n",
       "            Race  RenalDiseaseIndicator  State  Country  \\\n",
       "188848 -0.356015                      0     45      240   \n",
       "282148 -0.356015                      0     21      150   \n",
       "349647 -0.356015                      0     44      770   \n",
       "500010 -0.356015                      0     45      960   \n",
       "394413  1.036635                      0     45      570   \n",
       "\n",
       "        ChronicCond_Alzheimer  ChronicCond_Heartfailure  \\\n",
       "188848                      1                         0   \n",
       "282148                      0                         0   \n",
       "349647                      0                         0   \n",
       "500010                      0                         1   \n",
       "394413                      1                         0   \n",
       "\n",
       "        ChronicCond_KidneyDisease  ChronicCond_Cancer  \\\n",
       "188848                          0                   0   \n",
       "282148                          0                   0   \n",
       "349647                          0                   0   \n",
       "500010                          0                   0   \n",
       "394413                          0                   0   \n",
       "\n",
       "        ChronicCond_ObstrPulmonary  ChronicCond_Depression  \\\n",
       "188848                           0                       1   \n",
       "282148                           0                       0   \n",
       "349647                           0                       0   \n",
       "500010                           0                       0   \n",
       "394413                           0                       1   \n",
       "\n",
       "        ChronicCond_Diabetes  ChronicCond_IschemicHeart  \\\n",
       "188848                     1                          1   \n",
       "282148                     0                          0   \n",
       "349647                     0                          1   \n",
       "500010                     1                          1   \n",
       "394413                     1                          0   \n",
       "\n",
       "        ChronicCond_Osteoporasis  ChronicCond_rheumatoidarthritis  \\\n",
       "188848                         0                                0   \n",
       "282148                         0                                0   \n",
       "349647                         0                                0   \n",
       "500010                         0                                1   \n",
       "394413                         0                                0   \n",
       "\n",
       "        ChronicCond_stroke  ClaimSettlementDelay  TreatmentDuration       Age  \\\n",
       "188848                   0             -0.352568          -0.194483  0.548330   \n",
       "282148                   0             -0.352568          -0.194483  1.239122   \n",
       "349647                   0             -0.352568          -0.194483  1.085613   \n",
       "500010                   0             -0.352568          -0.194483 -0.986764   \n",
       "394413                   0             -0.352568          -0.194483 -0.679745   \n",
       "\n",
       "        IsDead  TotalClaimAmount  IPTotalAmount  OPTotalAmount  \\\n",
       "188848       0         -0.268900       0.036958      -0.151565   \n",
       "282148       0         -0.243878      -0.217027       1.041461   \n",
       "349647       0         -0.261394      -0.460535      -0.229555   \n",
       "500010       0         -0.268900      -0.460535      -0.075684   \n",
       "394413       0         -0.256389      -0.460535      -0.136810   \n",
       "\n",
       "        UniquePhysCount  PhysRoleCount  IsSamePhysMultiRole1  \\\n",
       "188848        -0.579646      -0.874752                     0   \n",
       "282148        -0.579646       0.687974                     1   \n",
       "349647        -0.579646      -0.874752                     0   \n",
       "500010        -0.579646      -0.874752                     0   \n",
       "394413        -0.579646      -0.874752                     0   \n",
       "\n",
       "        IsSamePhysMultiRole2  PHY412132  PHY337425  PHY330576  \\\n",
       "188848                     0          0          0          0   \n",
       "282148                     0          0          0          0   \n",
       "349647                     0          0          0          0   \n",
       "500010                     0          0          0          0   \n",
       "394413                     0          0          0          0   \n",
       "\n",
       "        ClmDiagCode_4019  ClmDiagCode_2724  ClmDiagCode_42731  \\\n",
       "188848                 0                 0                  0   \n",
       "282148                 0                 0                  0   \n",
       "349647                 0                 0                  0   \n",
       "500010                 0                 0                  0   \n",
       "394413                 0                 0                  0   \n",
       "\n",
       "        ClmDiagCode_25000  ClmDiagCode_2449  ClmDiagCode_53081  \\\n",
       "188848                  0                 0                  0   \n",
       "282148                  0                 0                  0   \n",
       "349647                  0                 0                  0   \n",
       "500010                  0                 0                  0   \n",
       "394413                  0                 0                  0   \n",
       "\n",
       "        ClmDiagCode_4280  ClmProcCode_9904.0  ClmProcCode_8154.0  \\\n",
       "188848                 0                   0                   0   \n",
       "282148                 0                   0                   0   \n",
       "349647                 0                   0                   0   \n",
       "500010                 0                   0                   0   \n",
       "394413                 0                   0                   0   \n",
       "\n",
       "        ClmProcCode_66.0  ClmProcCode_3893.0  ClmProcCode_3995.0  \n",
       "188848                 0                   0                   0  \n",
       "282148                 0                   0                   0  \n",
       "349647                 0                   0                   0  \n",
       "500010                 0                   0                   0  \n",
       "394413                 0                   0                   0  "
      ]
     },
     "execution_count": 45,
     "metadata": {},
     "output_type": "execute_result"
    }
   ],
   "source": [
    "# Display the top 5 records in the standardized train dataset\n",
    "xTrainStd.head()"
   ]
  },
  {
   "cell_type": "code",
   "execution_count": 46,
   "id": "2e9264a0",
   "metadata": {
    "colab": {
     "base_uri": "https://localhost:8080/",
     "height": 270
    },
    "id": "2e9264a0",
    "outputId": "7c2ee2ab-d4b3-4cd5-f6ff-169e85f71fcd"
   },
   "outputs": [
    {
     "data": {
      "text/html": [
       "<div>\n",
       "<style scoped>\n",
       "    .dataframe tbody tr th:only-of-type {\n",
       "        vertical-align: middle;\n",
       "    }\n",
       "\n",
       "    .dataframe tbody tr th {\n",
       "        vertical-align: top;\n",
       "    }\n",
       "\n",
       "    .dataframe thead th {\n",
       "        text-align: right;\n",
       "    }\n",
       "</style>\n",
       "<table border=\"1\" class=\"dataframe\">\n",
       "  <thead>\n",
       "    <tr style=\"text-align: right;\">\n",
       "      <th></th>\n",
       "      <th>ClmAdmitDiagnosisCode</th>\n",
       "      <th>ClmDiagnosisCode_1</th>\n",
       "      <th>ClmDiagnosisCode_2</th>\n",
       "      <th>ClmDiagnosisCode_9</th>\n",
       "      <th>ClmDiagnosisCode_10</th>\n",
       "      <th>ClmProcedureCode_2</th>\n",
       "      <th>Gender</th>\n",
       "      <th>Race</th>\n",
       "      <th>RenalDiseaseIndicator</th>\n",
       "      <th>State</th>\n",
       "      <th>Country</th>\n",
       "      <th>ChronicCond_Alzheimer</th>\n",
       "      <th>ChronicCond_Heartfailure</th>\n",
       "      <th>ChronicCond_KidneyDisease</th>\n",
       "      <th>ChronicCond_Cancer</th>\n",
       "      <th>ChronicCond_ObstrPulmonary</th>\n",
       "      <th>ChronicCond_Depression</th>\n",
       "      <th>ChronicCond_Diabetes</th>\n",
       "      <th>ChronicCond_IschemicHeart</th>\n",
       "      <th>ChronicCond_Osteoporasis</th>\n",
       "      <th>ChronicCond_rheumatoidarthritis</th>\n",
       "      <th>ChronicCond_stroke</th>\n",
       "      <th>ClaimSettlementDelay</th>\n",
       "      <th>TreatmentDuration</th>\n",
       "      <th>Age</th>\n",
       "      <th>IsDead</th>\n",
       "      <th>TotalClaimAmount</th>\n",
       "      <th>IPTotalAmount</th>\n",
       "      <th>OPTotalAmount</th>\n",
       "      <th>UniquePhysCount</th>\n",
       "      <th>PhysRoleCount</th>\n",
       "      <th>IsSamePhysMultiRole1</th>\n",
       "      <th>IsSamePhysMultiRole2</th>\n",
       "      <th>PHY412132</th>\n",
       "      <th>PHY337425</th>\n",
       "      <th>PHY330576</th>\n",
       "      <th>ClmDiagCode_4019</th>\n",
       "      <th>ClmDiagCode_2724</th>\n",
       "      <th>ClmDiagCode_42731</th>\n",
       "      <th>ClmDiagCode_25000</th>\n",
       "      <th>ClmDiagCode_2449</th>\n",
       "      <th>ClmDiagCode_53081</th>\n",
       "      <th>ClmDiagCode_4280</th>\n",
       "      <th>ClmProcCode_9904.0</th>\n",
       "      <th>ClmProcCode_8154.0</th>\n",
       "      <th>ClmProcCode_66.0</th>\n",
       "      <th>ClmProcCode_3893.0</th>\n",
       "      <th>ClmProcCode_3995.0</th>\n",
       "    </tr>\n",
       "  </thead>\n",
       "  <tbody>\n",
       "    <tr>\n",
       "      <th>508869</th>\n",
       "      <td>0</td>\n",
       "      <td>1</td>\n",
       "      <td>1</td>\n",
       "      <td>0</td>\n",
       "      <td>0</td>\n",
       "      <td>0</td>\n",
       "      <td>1</td>\n",
       "      <td>-0.356015</td>\n",
       "      <td>1</td>\n",
       "      <td>20</td>\n",
       "      <td>20</td>\n",
       "      <td>0</td>\n",
       "      <td>1</td>\n",
       "      <td>1</td>\n",
       "      <td>0</td>\n",
       "      <td>1</td>\n",
       "      <td>1</td>\n",
       "      <td>1</td>\n",
       "      <td>1</td>\n",
       "      <td>1</td>\n",
       "      <td>1</td>\n",
       "      <td>0</td>\n",
       "      <td>-0.352568</td>\n",
       "      <td>-0.194483</td>\n",
       "      <td>-1.370537</td>\n",
       "      <td>0</td>\n",
       "      <td>-0.268900</td>\n",
       "      <td>-0.460535</td>\n",
       "      <td>0.025492</td>\n",
       "      <td>-0.579646</td>\n",
       "      <td>0.687974</td>\n",
       "      <td>1</td>\n",
       "      <td>0</td>\n",
       "      <td>0</td>\n",
       "      <td>0</td>\n",
       "      <td>0</td>\n",
       "      <td>1</td>\n",
       "      <td>0</td>\n",
       "      <td>0</td>\n",
       "      <td>0</td>\n",
       "      <td>1</td>\n",
       "      <td>0</td>\n",
       "      <td>0</td>\n",
       "      <td>0</td>\n",
       "      <td>0</td>\n",
       "      <td>0</td>\n",
       "      <td>0</td>\n",
       "      <td>0</td>\n",
       "    </tr>\n",
       "    <tr>\n",
       "      <th>79940</th>\n",
       "      <td>0</td>\n",
       "      <td>1</td>\n",
       "      <td>1</td>\n",
       "      <td>0</td>\n",
       "      <td>0</td>\n",
       "      <td>0</td>\n",
       "      <td>1</td>\n",
       "      <td>-0.356015</td>\n",
       "      <td>0</td>\n",
       "      <td>36</td>\n",
       "      <td>770</td>\n",
       "      <td>1</td>\n",
       "      <td>0</td>\n",
       "      <td>1</td>\n",
       "      <td>0</td>\n",
       "      <td>0</td>\n",
       "      <td>1</td>\n",
       "      <td>0</td>\n",
       "      <td>1</td>\n",
       "      <td>1</td>\n",
       "      <td>1</td>\n",
       "      <td>0</td>\n",
       "      <td>-0.352568</td>\n",
       "      <td>-0.194483</td>\n",
       "      <td>-0.449481</td>\n",
       "      <td>0</td>\n",
       "      <td>-0.246380</td>\n",
       "      <td>-0.460535</td>\n",
       "      <td>0.109804</td>\n",
       "      <td>1.400308</td>\n",
       "      <td>0.687974</td>\n",
       "      <td>0</td>\n",
       "      <td>0</td>\n",
       "      <td>0</td>\n",
       "      <td>0</td>\n",
       "      <td>0</td>\n",
       "      <td>0</td>\n",
       "      <td>0</td>\n",
       "      <td>0</td>\n",
       "      <td>0</td>\n",
       "      <td>0</td>\n",
       "      <td>0</td>\n",
       "      <td>0</td>\n",
       "      <td>0</td>\n",
       "      <td>0</td>\n",
       "      <td>0</td>\n",
       "      <td>0</td>\n",
       "      <td>0</td>\n",
       "    </tr>\n",
       "    <tr>\n",
       "      <th>515203</th>\n",
       "      <td>0</td>\n",
       "      <td>1</td>\n",
       "      <td>0</td>\n",
       "      <td>0</td>\n",
       "      <td>0</td>\n",
       "      <td>0</td>\n",
       "      <td>1</td>\n",
       "      <td>-0.356015</td>\n",
       "      <td>0</td>\n",
       "      <td>45</td>\n",
       "      <td>230</td>\n",
       "      <td>1</td>\n",
       "      <td>0</td>\n",
       "      <td>0</td>\n",
       "      <td>1</td>\n",
       "      <td>0</td>\n",
       "      <td>0</td>\n",
       "      <td>1</td>\n",
       "      <td>1</td>\n",
       "      <td>1</td>\n",
       "      <td>1</td>\n",
       "      <td>0</td>\n",
       "      <td>-0.352568</td>\n",
       "      <td>-0.194483</td>\n",
       "      <td>1.239122</td>\n",
       "      <td>0</td>\n",
       "      <td>-0.263896</td>\n",
       "      <td>0.021083</td>\n",
       "      <td>-0.558375</td>\n",
       "      <td>-0.579646</td>\n",
       "      <td>2.250701</td>\n",
       "      <td>1</td>\n",
       "      <td>0</td>\n",
       "      <td>0</td>\n",
       "      <td>0</td>\n",
       "      <td>0</td>\n",
       "      <td>0</td>\n",
       "      <td>0</td>\n",
       "      <td>0</td>\n",
       "      <td>0</td>\n",
       "      <td>0</td>\n",
       "      <td>0</td>\n",
       "      <td>0</td>\n",
       "      <td>0</td>\n",
       "      <td>0</td>\n",
       "      <td>0</td>\n",
       "      <td>0</td>\n",
       "      <td>0</td>\n",
       "    </tr>\n",
       "    <tr>\n",
       "      <th>501274</th>\n",
       "      <td>0</td>\n",
       "      <td>1</td>\n",
       "      <td>1</td>\n",
       "      <td>1</td>\n",
       "      <td>0</td>\n",
       "      <td>0</td>\n",
       "      <td>0</td>\n",
       "      <td>-0.356015</td>\n",
       "      <td>0</td>\n",
       "      <td>52</td>\n",
       "      <td>390</td>\n",
       "      <td>0</td>\n",
       "      <td>0</td>\n",
       "      <td>0</td>\n",
       "      <td>1</td>\n",
       "      <td>1</td>\n",
       "      <td>1</td>\n",
       "      <td>1</td>\n",
       "      <td>1</td>\n",
       "      <td>1</td>\n",
       "      <td>1</td>\n",
       "      <td>0</td>\n",
       "      <td>-0.352568</td>\n",
       "      <td>-0.194483</td>\n",
       "      <td>1.392632</td>\n",
       "      <td>0</td>\n",
       "      <td>-0.143791</td>\n",
       "      <td>-0.460535</td>\n",
       "      <td>-0.128379</td>\n",
       "      <td>1.400308</td>\n",
       "      <td>0.687974</td>\n",
       "      <td>0</td>\n",
       "      <td>0</td>\n",
       "      <td>0</td>\n",
       "      <td>0</td>\n",
       "      <td>0</td>\n",
       "      <td>1</td>\n",
       "      <td>0</td>\n",
       "      <td>0</td>\n",
       "      <td>1</td>\n",
       "      <td>0</td>\n",
       "      <td>0</td>\n",
       "      <td>0</td>\n",
       "      <td>0</td>\n",
       "      <td>0</td>\n",
       "      <td>0</td>\n",
       "      <td>0</td>\n",
       "      <td>0</td>\n",
       "    </tr>\n",
       "    <tr>\n",
       "      <th>409814</th>\n",
       "      <td>0</td>\n",
       "      <td>1</td>\n",
       "      <td>1</td>\n",
       "      <td>0</td>\n",
       "      <td>0</td>\n",
       "      <td>0</td>\n",
       "      <td>0</td>\n",
       "      <td>-0.356015</td>\n",
       "      <td>0</td>\n",
       "      <td>34</td>\n",
       "      <td>910</td>\n",
       "      <td>1</td>\n",
       "      <td>1</td>\n",
       "      <td>0</td>\n",
       "      <td>0</td>\n",
       "      <td>1</td>\n",
       "      <td>1</td>\n",
       "      <td>1</td>\n",
       "      <td>1</td>\n",
       "      <td>1</td>\n",
       "      <td>1</td>\n",
       "      <td>1</td>\n",
       "      <td>-0.352568</td>\n",
       "      <td>-0.194483</td>\n",
       "      <td>1.085613</td>\n",
       "      <td>0</td>\n",
       "      <td>-0.193835</td>\n",
       "      <td>0.021083</td>\n",
       "      <td>0.208872</td>\n",
       "      <td>1.400308</td>\n",
       "      <td>2.250701</td>\n",
       "      <td>0</td>\n",
       "      <td>1</td>\n",
       "      <td>0</td>\n",
       "      <td>0</td>\n",
       "      <td>0</td>\n",
       "      <td>0</td>\n",
       "      <td>0</td>\n",
       "      <td>0</td>\n",
       "      <td>0</td>\n",
       "      <td>1</td>\n",
       "      <td>0</td>\n",
       "      <td>0</td>\n",
       "      <td>0</td>\n",
       "      <td>0</td>\n",
       "      <td>0</td>\n",
       "      <td>0</td>\n",
       "      <td>0</td>\n",
       "    </tr>\n",
       "  </tbody>\n",
       "</table>\n",
       "</div>"
      ],
      "text/plain": [
       "        ClmAdmitDiagnosisCode  ClmDiagnosisCode_1  ClmDiagnosisCode_2  \\\n",
       "508869                      0                   1                   1   \n",
       "79940                       0                   1                   1   \n",
       "515203                      0                   1                   0   \n",
       "501274                      0                   1                   1   \n",
       "409814                      0                   1                   1   \n",
       "\n",
       "        ClmDiagnosisCode_9  ClmDiagnosisCode_10  ClmProcedureCode_2  Gender  \\\n",
       "508869                   0                    0                   0       1   \n",
       "79940                    0                    0                   0       1   \n",
       "515203                   0                    0                   0       1   \n",
       "501274                   1                    0                   0       0   \n",
       "409814                   0                    0                   0       0   \n",
       "\n",
       "            Race  RenalDiseaseIndicator  State  Country  \\\n",
       "508869 -0.356015                      1     20       20   \n",
       "79940  -0.356015                      0     36      770   \n",
       "515203 -0.356015                      0     45      230   \n",
       "501274 -0.356015                      0     52      390   \n",
       "409814 -0.356015                      0     34      910   \n",
       "\n",
       "        ChronicCond_Alzheimer  ChronicCond_Heartfailure  \\\n",
       "508869                      0                         1   \n",
       "79940                       1                         0   \n",
       "515203                      1                         0   \n",
       "501274                      0                         0   \n",
       "409814                      1                         1   \n",
       "\n",
       "        ChronicCond_KidneyDisease  ChronicCond_Cancer  \\\n",
       "508869                          1                   0   \n",
       "79940                           1                   0   \n",
       "515203                          0                   1   \n",
       "501274                          0                   1   \n",
       "409814                          0                   0   \n",
       "\n",
       "        ChronicCond_ObstrPulmonary  ChronicCond_Depression  \\\n",
       "508869                           1                       1   \n",
       "79940                            0                       1   \n",
       "515203                           0                       0   \n",
       "501274                           1                       1   \n",
       "409814                           1                       1   \n",
       "\n",
       "        ChronicCond_Diabetes  ChronicCond_IschemicHeart  \\\n",
       "508869                     1                          1   \n",
       "79940                      0                          1   \n",
       "515203                     1                          1   \n",
       "501274                     1                          1   \n",
       "409814                     1                          1   \n",
       "\n",
       "        ChronicCond_Osteoporasis  ChronicCond_rheumatoidarthritis  \\\n",
       "508869                         1                                1   \n",
       "79940                          1                                1   \n",
       "515203                         1                                1   \n",
       "501274                         1                                1   \n",
       "409814                         1                                1   \n",
       "\n",
       "        ChronicCond_stroke  ClaimSettlementDelay  TreatmentDuration       Age  \\\n",
       "508869                   0             -0.352568          -0.194483 -1.370537   \n",
       "79940                    0             -0.352568          -0.194483 -0.449481   \n",
       "515203                   0             -0.352568          -0.194483  1.239122   \n",
       "501274                   0             -0.352568          -0.194483  1.392632   \n",
       "409814                   1             -0.352568          -0.194483  1.085613   \n",
       "\n",
       "        IsDead  TotalClaimAmount  IPTotalAmount  OPTotalAmount  \\\n",
       "508869       0         -0.268900      -0.460535       0.025492   \n",
       "79940        0         -0.246380      -0.460535       0.109804   \n",
       "515203       0         -0.263896       0.021083      -0.558375   \n",
       "501274       0         -0.143791      -0.460535      -0.128379   \n",
       "409814       0         -0.193835       0.021083       0.208872   \n",
       "\n",
       "        UniquePhysCount  PhysRoleCount  IsSamePhysMultiRole1  \\\n",
       "508869        -0.579646       0.687974                     1   \n",
       "79940          1.400308       0.687974                     0   \n",
       "515203        -0.579646       2.250701                     1   \n",
       "501274         1.400308       0.687974                     0   \n",
       "409814         1.400308       2.250701                     0   \n",
       "\n",
       "        IsSamePhysMultiRole2  PHY412132  PHY337425  PHY330576  \\\n",
       "508869                     0          0          0          0   \n",
       "79940                      0          0          0          0   \n",
       "515203                     0          0          0          0   \n",
       "501274                     0          0          0          0   \n",
       "409814                     1          0          0          0   \n",
       "\n",
       "        ClmDiagCode_4019  ClmDiagCode_2724  ClmDiagCode_42731  \\\n",
       "508869                 1                 0                  0   \n",
       "79940                  0                 0                  0   \n",
       "515203                 0                 0                  0   \n",
       "501274                 1                 0                  0   \n",
       "409814                 0                 0                  0   \n",
       "\n",
       "        ClmDiagCode_25000  ClmDiagCode_2449  ClmDiagCode_53081  \\\n",
       "508869                  0                 1                  0   \n",
       "79940                   0                 0                  0   \n",
       "515203                  0                 0                  0   \n",
       "501274                  1                 0                  0   \n",
       "409814                  0                 1                  0   \n",
       "\n",
       "        ClmDiagCode_4280  ClmProcCode_9904.0  ClmProcCode_8154.0  \\\n",
       "508869                 0                   0                   0   \n",
       "79940                  0                   0                   0   \n",
       "515203                 0                   0                   0   \n",
       "501274                 0                   0                   0   \n",
       "409814                 0                   0                   0   \n",
       "\n",
       "        ClmProcCode_66.0  ClmProcCode_3893.0  ClmProcCode_3995.0  \n",
       "508869                 0                   0                   0  \n",
       "79940                  0                   0                   0  \n",
       "515203                 0                   0                   0  \n",
       "501274                 0                   0                   0  \n",
       "409814                 0                   0                   0  "
      ]
     },
     "execution_count": 46,
     "metadata": {},
     "output_type": "execute_result"
    }
   ],
   "source": [
    "# Display the top 5 records in the standardized test dataset\n",
    "xTestStd.head()"
   ]
  },
  {
   "cell_type": "markdown",
   "id": "7bef18d9",
   "metadata": {
    "id": "7bef18d9"
   },
   "source": [
    "----"
   ]
  },
  {
   "cell_type": "code",
   "execution_count": 47,
   "id": "ebab9575",
   "metadata": {
    "id": "ebab9575"
   },
   "outputs": [],
   "source": [
    "def getLogloss(yActual, yPredProb, datasetType='Test'):\n",
    "    '''\n",
    "    Finds and displays the Log Loss\n",
    "    \n",
    "    Parameters:\n",
    "    ----------\n",
    "    yActual: array-like\n",
    "        Ground truth (correct) class labels for 'n' samples.\n",
    "    yPredProb: array-like\n",
    "        Predicted probabilities, as returned by a model's predict_proba method.\n",
    "    datasetType: str\n",
    "        Type of Dataset: Test or Train.\n",
    "    '''\n",
    "    \n",
    "    logloss = log_loss(y_true=yActual, y_pred=yPredProb)\n",
    "    \n",
    "    print('Log-loss of the Model on ', datasetType ,' Dataset: ', logloss)"
   ]
  },
  {
   "cell_type": "code",
   "execution_count": 48,
   "id": "6053ff86",
   "metadata": {
    "id": "6053ff86"
   },
   "outputs": [],
   "source": [
    "def plotPerformanceMatrix(yActual, yPred):\n",
    "    '''\n",
    "    Function to compute Confusion, Precision and Recall Matrix and plot them.\n",
    "    \n",
    "    Parameters:\n",
    "    ----------\n",
    "    yActual: array-like\n",
    "        Ground truth (correct) class labels for 'n' samples.\n",
    "    yPred: array-like\n",
    "        Predicted class labels for 'n' samples.\n",
    "    '''\n",
    "    \n",
    "    # Get Confusion Matrix based on the input 'yActual' and 'yPred'.\n",
    "    confusionMatrix = confusion_matrix(y_true=yActual, y_pred=yPred)\n",
    "    \n",
    "    # Compute the Precision Matrix\n",
    "    precisionMatrix = (confusionMatrix/confusionMatrix.sum(axis=0))\n",
    "    # Divide each element of the confusion matrix with the sum of the elements in that column (total predicted value)\n",
    "    \n",
    "    # Compute the Recall Matrix\n",
    "    recallMatrix = (confusionMatrix.T/confusionMatrix.sum(axis=1)).T\n",
    "    # Divide each element of the confusion matrix with the sum of the elements in that row (total actual values)\n",
    "    \n",
    "    plt.figure(figsize=(20,5))\n",
    "    \n",
    "    # Plot the Confusion Matrix.\n",
    "    plt.subplot(131)\n",
    "    sns.heatmap(confusionMatrix, annot=True, fmt='d', cmap='Reds')\n",
    "    plt.title('Confusion Matrix on Test Data', fontsize=20)\n",
    "    plt.xlabel('Predicted Value', fontsize=15) # Label on the x-axis\n",
    "    plt.ylabel('Actual Values', fontsize=15) # Label on the y-axis\n",
    "    plt.xticks(ticks=[0.5, 1.5], labels=['Predicted: NO (Non-fraud)', 'Predicted: YES (Fraud)'])\n",
    "    plt.yticks(ticks=[0.5, 1.5], labels=['Actual: NO (Non-fraud)', 'Actual: YES (Fraud)'], rotation=0)\n",
    "    \n",
    "    # Plot the Precision Matrix.\n",
    "    plt.subplot(132)\n",
    "    sns.heatmap(precisionMatrix, annot=True, fmt='.3f', cmap=sns.light_palette('green'))\n",
    "    plt.title('Precision Matrix on Test Data', fontsize=20)\n",
    "    plt.xlabel('Predicted Value', fontsize=15) # Label on the x-axis\n",
    "    plt.xticks(ticks=[0.5, 1.5], labels=['Predicted: NO (Non-fraud)', 'Predicted: YES (Fraud)'])\n",
    "    \n",
    "    # Plot the Recall Matrix.\n",
    "    plt.subplot(133)\n",
    "    sns.heatmap(recallMatrix, annot=True, fmt='.3f', cmap='Blues')\n",
    "    plt.title('Recall Matrix on Test Data', fontsize=20)\n",
    "    plt.xlabel('Predicted Value', fontsize=15) # Label on the x-axis\n",
    "    plt.xticks(ticks=[0.5, 1.5], labels=['Predicted: NO (Non-fraud)', 'Predicted: YES (Fraud)'])\n",
    "    plt.show()\n",
    "    \n",
    "    totalDatapoints = len(yActual) # Total number of Datapoints\n",
    "    print('Percentage of misclassified points (Test Data): ', ((totalDatapoints - np.trace(confusionMatrix))/totalDatapoints)*100, '%')\n",
    "    print('Sum of columns in the Precision Matrix: ', precisionMatrix.sum(axis=0))\n",
    "    print('Sum of rows in the Recall Matrix: ', recallMatrix.sum(axis=1))\n",
    "    \n",
    "    # Find Total Negatives and Total Positives (Actual/ ground truth)\n",
    "    totalNegative, totalPositive = tuple(confusionMatrix.sum(axis=1))\n",
    "    \n",
    "    # Find True Positive, False Positive, False Negative and True Positive\n",
    "    tn, fp, fn, tp = confusionMatrix.ravel()\n",
    "    \n",
    "    # Calculate the FPR and FNR\n",
    "    fpr = fp / totalNegative\n",
    "    fnr = fn / totalPositive\n",
    "    print('False Positive Rate (FPR) on Test Data: ', fpr)\n",
    "    print('False Negative Rate (FNR) on Test Data: ', fnr)\n",
    "    \n",
    "    # Get the BACC Score\n",
    "    bacc = balanced_accuracy_score(y_true=yActual, y_pred=yPred)\n",
    "    print('Balanced Accuracy Score (BACC) on Test Data: ', bacc)\n",
    "    \n",
    "    # Get the MCC Score\n",
    "    mcc = matthews_corrcoef(y_true=yActual, y_pred=yPred)\n",
    "    print('Matthew\\'s Correlation Coefficient (MCC) on Test Data: ', mcc)"
   ]
  },
  {
   "cell_type": "code",
   "execution_count": 49,
   "id": "572c2cf1",
   "metadata": {
    "id": "572c2cf1"
   },
   "outputs": [],
   "source": [
    "def getProbEstimates(yPredProb, positiveClass=True, batchSize=1000):\n",
    "    '''\n",
    "    Returns the Probability Estimates of the data as predicted by the model, for the given Class.\n",
    "    Class can be negative (0) or positive (1).\n",
    "    This function returns the Probability Estimates of the positive class (1) by default.\n",
    "    \n",
    "    Parameters:\n",
    "    -----------\n",
    "    yPredProb: array-like\n",
    "        Contains the Predicted Probability Scores of both -ve (0) and +ve (1) class.\n",
    "    positiveClass: bool\n",
    "        Flag to decide whether to find the Probability Estimates for a positive class (True) or negative class (False).\n",
    "    batchSize: int\n",
    "        Size of the batch to precessed at a time.\n",
    "    '''\n",
    "    \n",
    "    # Check if the input Predicted variable is a Probabilty Estimates or not\n",
    "    if len(yPredProb.shape) == 1:\n",
    "        print('Please pass the Probability Estimates')\n",
    "        return\n",
    "    \n",
    "    probEstimates = list() # Variable to store the Predicted Probability Estimates\n",
    "    classIndex = 1 # Index of the Class (For -ve class, it should be 0 and for +ve class, it should be 1)\n",
    "    if positiveClass == False:\n",
    "        classIndex = 0\n",
    "    batchsize = batchSize # Process a batch of given size.\n",
    "    totalCnt = yPredProb.shape[0] # Total number of Datapoints\n",
    "    datapointCount = totalCnt - totalCnt%batchsize # Total no. of datapoints minus the last batch of datapoint\n",
    "    \n",
    "    # Loop through the dataset batch-wise\n",
    "    for i in range(0, datapointCount, batchsize):\n",
    "        probEstimates.extend(yPredProb[i : i + batchsize][:,classIndex]) # Add Probability Estimates of +ve class\n",
    "        \n",
    "    # Find the Probability Estimate for the remaining last batch\n",
    "    if totalCnt%batchsize != 0:\n",
    "        probEstimates.extend(yPredProb[datapointCount:][:,classIndex])\n",
    "    \n",
    "    return probEstimates"
   ]
  },
  {
   "cell_type": "code",
   "execution_count": 50,
   "id": "8b9d5a37",
   "metadata": {
    "id": "8b9d5a37"
   },
   "outputs": [],
   "source": [
    "def getF1Score(yActual, yPred):\n",
    "    '''\n",
    "    Calculates and displays the F1-Score\n",
    "    \n",
    "    Parameters:\n",
    "    ----------\n",
    "    yActual: array-like\n",
    "        Ground truth (correct) class labels for 'n' samples.\n",
    "    yPred: array-like\n",
    "        Predicted class labels for 'n' samples.\n",
    "    '''\n",
    "    \n",
    "    f1Score = f1_score(y_true=yActual, y_pred=yPred)\n",
    "    \n",
    "    print('F1-Score of the Model on Test Data: ', f1Score)"
   ]
  },
  {
   "cell_type": "code",
   "execution_count": 51,
   "id": "c5269fb3",
   "metadata": {
    "id": "c5269fb3"
   },
   "outputs": [],
   "source": [
    "def plotROC(yTestActual, yTestPredProb, yTrainActual=None, yTrainPredProb=None):\n",
    "    '''\n",
    "    Plots the ROC and calculates the AUC\n",
    "    \n",
    "    Parameters:\n",
    "    ----------\n",
    "    yTestActual: array-like\n",
    "        Ground truth (correct) class labels for 'n' samples on Test Dataset.\n",
    "    yTestPredProb: array-like\n",
    "        Predicted probabilities, as returned by a model's predict_proba method on Test Dataset.\n",
    "    yTrainActual: array-like\n",
    "        Ground truth (correct) class labels for 'n' samples on Train Dataset.\n",
    "    yTrainPredProb: array-like\n",
    "        Predicted probabilities, as returned by a model's predict_proba method on Train Dataset.\n",
    "    '''\n",
    "    \n",
    "    # Check if the input Predicted variable is a Probabilty Estimates or not\n",
    "    if len(yTestPredProb.shape) == 1:\n",
    "        print('Please pass the correct Probability Estimates')\n",
    "        return\n",
    "    \n",
    "    # Calculate the Predicted Probability Estimates for the positive class of Test Data\n",
    "    yTestPredPE = getProbEstimates(yTestPredProb)\n",
    "    \n",
    "    # Find the FPR, TPR and Threshold values for the Test Data\n",
    "    fprTest, tprTest, thresholdTest = roc_curve(yTestActual, yTestPredPE)\n",
    "    \n",
    "    # Find the AUC\n",
    "    areaTest = auc(fprTest, tprTest)\n",
    "\n",
    "    # If Train Dataset to also to be considered for plotting ROC\n",
    "    if (type(yTrainActual) != type(None) and type(yTrainPredProb) != type(None)):\n",
    "\n",
    "        # Check if the input Predicted variable is a Probabilty Estimates or not\n",
    "        if len(yTrainPredProb.shape) == 1:\n",
    "            print('Please pass the correct Probability Estimates')\n",
    "            return\n",
    "        \n",
    "        # Calculate the Predicted Probability Estimates for the positive class of Train Data\n",
    "        yTrainPredPE = getProbEstimates(yTrainPredProb)\n",
    "        \n",
    "        # Find the FPR, TPR and Threshold values for the Train Data\n",
    "        fprTrain, tprTrain, thresholdTrain = roc_curve(yTrainActual, yTrainPredPE)\n",
    "        \n",
    "        # Find the AUC\n",
    "        areaTrain = auc(fprTrain, tprTrain)\n",
    "    \n",
    "    # Plot the ROC Curve\n",
    "    # If Train Dataset to also to be considered for plotting ROC\n",
    "    if (type(yTrainActual) != type(None) and type(yTrainPredProb) != type(None)):\n",
    "\n",
    "        plt.plot(fprTrain, tprTrain, label= 'Train AUC: ' + str(areaTrain))\n",
    "\n",
    "    plt.plot(fprTest, tprTest, label= 'Test AUC: ' + str(areaTest))\n",
    "    plt.legend()\n",
    "    # If Train Dataset to also to be considered for plotting ROC\n",
    "    if (type(yTrainActual) != type(None) and type(yTrainPredProb) != type(None)):\n",
    "\n",
    "        plt.title('ROC Curve of Train and Test Data', fontsize=20)\n",
    "\n",
    "    else:\n",
    "\n",
    "        plt.title('ROC Curve of Test Data', fontsize=20)\n",
    "\n",
    "    plt.xlabel('FPRs', fontsize=15)\n",
    "    plt.ylabel('TPRs', fontsize=15)\n",
    "    plt.grid()\n",
    "    plt.show()"
   ]
  },
  {
   "cell_type": "code",
   "execution_count": 52,
   "id": "I8U4FPnXKrNn",
   "metadata": {
    "id": "I8U4FPnXKrNn"
   },
   "outputs": [],
   "source": [
    "def showPerformanceMetrics(model, xTestData, yTestData, xTrainData=None, yTrainData=None):\n",
    "    '''\n",
    "    Calls all the above defined performance metrics functions 'getLogloss', 'getF1Score', 'plotPerformanceMatrix' and 'plotROC'.\n",
    "\n",
    "    Parameters:\n",
    "    ----------\n",
    "    model: Classifier Model\n",
    "        Classifier Model trained to do classification.\n",
    "    xTestData: DataFrame\n",
    "        Test Dataset containing the features.\n",
    "    yTestData: Series\n",
    "        Test Dataset containing only the Class Labels.\n",
    "    xTrainData: DataFrame\n",
    "        Train Dataset containing the features.\n",
    "    yTrainData: Series\n",
    "        Train Dataset containing only the Class Labels.\n",
    "    '''\n",
    "\n",
    "    # Predict the Class Labels of the Test Dataset using the given Model.\n",
    "    yTestPred = model.predict(xTestData)\n",
    "\n",
    "    # Predict the Probability Estimates of both the classes of the Test Dataset using the given Model.\n",
    "    yTestPredProba = model.predict_proba(xTestData)\n",
    "\n",
    "    if (type(xTrainData) != type(None)):\n",
    "\n",
    "        # Predict the Class Labels of the Train Dataset using the given Model.\n",
    "        yTrainPred = model.predict(xTrainData)\n",
    "\n",
    "        # Predict the Probability Estimates of both the classes of the Train Dataset using the given Model.\n",
    "        yTrainPredProba = model.predict_proba(xTrainData)\n",
    "\n",
    "        # Call the 'getLogloss' function to get the Log-loss of the Model on the given Train dataset.\n",
    "        getLogloss(yTrainData, yTrainPredProba, datasetType='Train')\n",
    "\n",
    "    # Call the 'getLogloss' function to get the Log-loss of the Model on the given Test dataset.\n",
    "    getLogloss(yTestData, yTestPredProba)\n",
    "\n",
    "    # Call the 'getF1Score' function to get the F1-Score of the Model on the given Test dataset.\n",
    "    getF1Score(yTestData, yTestPred)\n",
    "\n",
    "    # Call the 'plotPerformanceMatrix' function to plot Confusion, Precision and Recall Matrices \n",
    "    # and display various metrics based on these matrices\n",
    "    plotPerformanceMatrix(yTestData, yTestPred)\n",
    "\n",
    "    if (type(xTrainData) != type(None)):\n",
    "\n",
    "        # Call the 'plotROC' function to plot the ROC Curve and display the AUC value of the Model.\n",
    "        plotROC(yTestData, yTestPredProba, yTrainData, yTrainPredProba)\n",
    "\n",
    "    else:\n",
    "\n",
    "        # Call the 'plotROC' function to plot the ROC Curve and display the AUC value of the Model.\n",
    "        plotROC(yTestData, yTestPredProba)"
   ]
  },
  {
   "cell_type": "markdown",
   "id": "ff332d23",
   "metadata": {
    "id": "ff332d23"
   },
   "source": [
    "----"
   ]
  },
  {
   "cell_type": "markdown",
   "id": "b45133d5",
   "metadata": {
    "id": "b45133d5"
   },
   "source": [
    "# <font color=\"blue\">Logistic Regression</font>"
   ]
  },
  {
   "cell_type": "markdown",
   "id": "7740fc59",
   "metadata": {
    "id": "7740fc59"
   },
   "source": [
    "## <font color=\"blue\">Hyperparameter Tuning on One Hot Encoded Data without sampling</font>"
   ]
  },
  {
   "cell_type": "code",
   "execution_count": 53,
   "id": "iNptRtAmLKoN",
   "metadata": {
    "id": "iNptRtAmLKoN"
   },
   "outputs": [],
   "source": [
    "# Define an object of LogisticRegression Model\n",
    "logReg = LogisticRegression()\n",
    "\n",
    "# Define different values for the Hyperparameters to do tuning\n",
    "params = {\n",
    "    'C': np.logspace(-3, 3, 7),\n",
    "    'penalty': ['l1', 'l2', 'elasticnet']\n",
    "}"
   ]
  },
  {
   "cell_type": "code",
   "execution_count": 54,
   "id": "bE9-Cg6sN8g1",
   "metadata": {
    "id": "bE9-Cg6sN8g1"
   },
   "outputs": [],
   "source": [
    "# Create Pipeline: \n",
    "# 1. Standardization of numerical features.\n",
    "# 2. One-hot Encoding of 'State' and 'Country' features.\n",
    "# 3. RandomizedSearchCV using Logistic Regression\n",
    "pipelineLR1 = sklearnPipeline(steps=[\n",
    "    ('standardization', Standardize(numericalFeatures=featuresToStd)),\n",
    "    ('OneHotEncoder', OneHotEncoder(categoricalFeatures=['State', 'Country'])),\n",
    "    ('randomizedSearchCV', RandomizedSearchCV(logReg, param_distributions=params, n_iter=10, cv=5, verbose=10, n_jobs=-1, random_state=1))\n",
    "])"
   ]
  },
  {
   "cell_type": "code",
   "execution_count": 55,
   "id": "ZNcTDiiJOI0y",
   "metadata": {
    "colab": {
     "base_uri": "https://localhost:8080/"
    },
    "id": "ZNcTDiiJOI0y",
    "outputId": "120dcbbd-3b2e-4b23-b15b-49daab133af3"
   },
   "outputs": [
    {
     "name": "stdout",
     "output_type": "stream",
     "text": [
      "Fitting 5 folds for each of 10 candidates, totalling 50 fits\n",
      "[CV 5/5; 1/10] START C=100.0, penalty=l1........................................\n",
      "[CV 3/5; 2/10] START C=1.0, penalty=l2..........................................\n",
      "[CV 2/5; 2/10] START C=1.0, penalty=l2..........................................\n",
      "[CV 1/5; 1/10] START C=100.0, penalty=l1........................................\n",
      "[CV 1/5; 2/10] START C=1.0, penalty=l2..........................................\n",
      "[CV 4/5; 1/10] START C=100.0, penalty=l1........................................\n",
      "[CV 2/5; 1/10] START C=100.0, penalty=l1........................................\n",
      "[CV 3/5; 1/10] START C=100.0, penalty=l1........................................\n",
      "[CV 5/5; 1/10] END ...........C=100.0, penalty=l1;, score=nan total time=   0.8s\n",
      "[CV 4/5; 1/10] END ...........C=100.0, penalty=l1;, score=nan total time=   0.9s\n",
      "[CV 3/5; 1/10] END ...........C=100.0, penalty=l1;, score=nan total time=   0.9s\n",
      "[CV 2/5; 1/10] END ...........C=100.0, penalty=l1;, score=nan total time=   0.9s\n",
      "[CV 1/5; 1/10] END ...........C=100.0, penalty=l1;, score=nan total time=   0.9s\n",
      "[CV 4/5; 2/10] START C=1.0, penalty=l2..........................................\n",
      "[CV 5/5; 2/10] START C=1.0, penalty=l2..........................................\n",
      "[CV 1/5; 3/10] START C=0.01, penalty=l1.........................................\n",
      "[CV 2/5; 3/10] START C=0.01, penalty=l1.........................................\n",
      "[CV 3/5; 3/10] START C=0.01, penalty=l1.........................................\n",
      "[CV 1/5; 3/10] END ............C=0.01, penalty=l1;, score=nan total time=   0.3s\n",
      "[CV 2/5; 3/10] END ............C=0.01, penalty=l1;, score=nan total time=   0.4s\n",
      "[CV 3/5; 3/10] END ............C=0.01, penalty=l1;, score=nan total time=   0.4s\n",
      "[CV 4/5; 3/10] START C=0.01, penalty=l1.........................................\n",
      "[CV 5/5; 3/10] START C=0.01, penalty=l1.........................................\n",
      "[CV 1/5; 4/10] START C=1000.0, penalty=l1.......................................\n",
      "[CV 4/5; 3/10] END ............C=0.01, penalty=l1;, score=nan total time=   0.3s\n",
      "[CV 2/5; 4/10] START C=1000.0, penalty=l1.......................................\n",
      "[CV 5/5; 3/10] END ............C=0.01, penalty=l1;, score=nan total time=   0.2s\n",
      "[CV 1/5; 4/10] END ..........C=1000.0, penalty=l1;, score=nan total time=   0.2s\n",
      "[CV 2/5; 4/10] END ..........C=1000.0, penalty=l1;, score=nan total time=   0.3s\n",
      "[CV 3/5; 4/10] START C=1000.0, penalty=l1.......................................\n",
      "[CV 4/5; 4/10] START C=1000.0, penalty=l1.......................................\n",
      "[CV 5/5; 4/10] START C=1000.0, penalty=l1.......................................\n",
      "[CV 3/5; 4/10] END ..........C=1000.0, penalty=l1;, score=nan total time=   0.3s\n",
      "[CV 4/5; 4/10] END ..........C=1000.0, penalty=l1;, score=nan total time=   0.3s\n",
      "[CV 5/5; 4/10] END ..........C=1000.0, penalty=l1;, score=nan total time=   0.3s\n",
      "[CV 1/5; 5/10] START C=100.0, penalty=elasticnet................................\n",
      "[CV 2/5; 5/10] START C=100.0, penalty=elasticnet................................\n",
      "[CV 3/5; 5/10] START C=100.0, penalty=elasticnet................................\n",
      "[CV 1/5; 5/10] END ...C=100.0, penalty=elasticnet;, score=nan total time=   0.2s\n",
      "[CV 2/5; 5/10] END ...C=100.0, penalty=elasticnet;, score=nan total time=   0.2s\n",
      "[CV 3/5; 5/10] END ...C=100.0, penalty=elasticnet;, score=nan total time=   0.3s\n",
      "[CV 4/5; 5/10] START C=100.0, penalty=elasticnet................................\n",
      "[CV 5/5; 5/10] START C=100.0, penalty=elasticnet................................\n",
      "[CV 1/5; 6/10] START C=10.0, penalty=elasticnet.................................\n",
      "[CV 5/5; 5/10] END ...C=100.0, penalty=elasticnet;, score=nan total time=   0.2s\n",
      "[CV 4/5; 5/10] END ...C=100.0, penalty=elasticnet;, score=nan total time=   0.2s\n",
      "[CV 1/5; 6/10] END ....C=10.0, penalty=elasticnet;, score=nan total time=   0.3s\n",
      "[CV 2/5; 6/10] START C=10.0, penalty=elasticnet.................................\n",
      "[CV 4/5; 6/10] START C=10.0, penalty=elasticnet.................................\n",
      "[CV 3/5; 6/10] START C=10.0, penalty=elasticnet.................................\n",
      "[CV 2/5; 6/10] END ....C=10.0, penalty=elasticnet;, score=nan total time=   0.3s\n",
      "[CV 3/5; 6/10] END ....C=10.0, penalty=elasticnet;, score=nan total time=   0.3s\n",
      "[CV 4/5; 6/10] END ....C=10.0, penalty=elasticnet;, score=nan total time=   0.3s\n",
      "[CV 5/5; 6/10] START C=10.0, penalty=elasticnet.................................\n",
      "[CV 1/5; 7/10] START C=100.0, penalty=l2........................................\n",
      "[CV 2/5; 7/10] START C=100.0, penalty=l2........................................\n",
      "[CV 5/5; 6/10] END ....C=10.0, penalty=elasticnet;, score=nan total time=   0.3s\n",
      "[CV 3/5; 7/10] START C=100.0, penalty=l2........................................\n"
     ]
    },
    {
     "name": "stderr",
     "output_type": "stream",
     "text": [
      "/usr/local/lib/python3.11/site-packages/sklearn/linear_model/_logistic.py:460: ConvergenceWarning: lbfgs failed to converge (status=1):\n",
      "STOP: TOTAL NO. of ITERATIONS REACHED LIMIT.\n",
      "\n",
      "Increase the number of iterations (max_iter) or scale the data as shown in:\n",
      "    https://scikit-learn.org/stable/modules/preprocessing.html\n",
      "Please also refer to the documentation for alternative solver options:\n",
      "    https://scikit-learn.org/stable/modules/linear_model.html#logistic-regression\n",
      "  n_iter_i = _check_optimize_result(\n",
      "/usr/local/lib/python3.11/site-packages/sklearn/linear_model/_logistic.py:460: ConvergenceWarning: lbfgs failed to converge (status=1):\n",
      "STOP: TOTAL NO. of ITERATIONS REACHED LIMIT.\n",
      "\n",
      "Increase the number of iterations (max_iter) or scale the data as shown in:\n",
      "    https://scikit-learn.org/stable/modules/preprocessing.html\n",
      "Please also refer to the documentation for alternative solver options:\n",
      "    https://scikit-learn.org/stable/modules/linear_model.html#logistic-regression\n",
      "  n_iter_i = _check_optimize_result(\n"
     ]
    },
    {
     "name": "stdout",
     "output_type": "stream",
     "text": [
      "[CV 1/5; 2/10] END ...........C=1.0, penalty=l2;, score=0.703 total time=   9.5s\n",
      "[CV 4/5; 2/10] END ...........C=1.0, penalty=l2;, score=0.703 total time=   8.6s\n"
     ]
    },
    {
     "name": "stderr",
     "output_type": "stream",
     "text": [
      "/usr/local/lib/python3.11/site-packages/sklearn/linear_model/_logistic.py:460: ConvergenceWarning: lbfgs failed to converge (status=1):\n",
      "STOP: TOTAL NO. of ITERATIONS REACHED LIMIT.\n",
      "\n",
      "Increase the number of iterations (max_iter) or scale the data as shown in:\n",
      "    https://scikit-learn.org/stable/modules/preprocessing.html\n",
      "Please also refer to the documentation for alternative solver options:\n",
      "    https://scikit-learn.org/stable/modules/linear_model.html#logistic-regression\n",
      "  n_iter_i = _check_optimize_result(\n",
      "/usr/local/lib/python3.11/site-packages/sklearn/linear_model/_logistic.py:460: ConvergenceWarning: lbfgs failed to converge (status=1):\n",
      "STOP: TOTAL NO. of ITERATIONS REACHED LIMIT.\n",
      "\n",
      "Increase the number of iterations (max_iter) or scale the data as shown in:\n",
      "    https://scikit-learn.org/stable/modules/preprocessing.html\n",
      "Please also refer to the documentation for alternative solver options:\n",
      "    https://scikit-learn.org/stable/modules/linear_model.html#logistic-regression\n",
      "  n_iter_i = _check_optimize_result(\n"
     ]
    },
    {
     "name": "stdout",
     "output_type": "stream",
     "text": [
      "[CV 4/5; 7/10] START C=100.0, penalty=l2........................................\n",
      "[CV 3/5; 2/10] END ...........C=1.0, penalty=l2;, score=0.703 total time=   9.8s\n",
      "[CV 5/5; 7/10] START C=100.0, penalty=l2........................................\n"
     ]
    },
    {
     "name": "stderr",
     "output_type": "stream",
     "text": [
      "/usr/local/lib/python3.11/site-packages/sklearn/linear_model/_logistic.py:460: ConvergenceWarning: lbfgs failed to converge (status=1):\n",
      "STOP: TOTAL NO. of ITERATIONS REACHED LIMIT.\n",
      "\n",
      "Increase the number of iterations (max_iter) or scale the data as shown in:\n",
      "    https://scikit-learn.org/stable/modules/preprocessing.html\n",
      "Please also refer to the documentation for alternative solver options:\n",
      "    https://scikit-learn.org/stable/modules/linear_model.html#logistic-regression\n",
      "  n_iter_i = _check_optimize_result(\n"
     ]
    },
    {
     "name": "stdout",
     "output_type": "stream",
     "text": [
      "[CV 2/5; 2/10] END ...........C=1.0, penalty=l2;, score=0.704 total time=  10.0s\n",
      "[CV 5/5; 2/10] END ...........C=1.0, penalty=l2;, score=0.702 total time=   8.8s\n",
      "[CV 1/5; 8/10] START C=0.01, penalty=l2.........................................\n",
      "[CV 2/5; 8/10] START C=0.01, penalty=l2.........................................\n",
      "[CV 3/5; 8/10] START C=0.01, penalty=l2.........................................\n"
     ]
    },
    {
     "name": "stderr",
     "output_type": "stream",
     "text": [
      "/usr/local/lib/python3.11/site-packages/sklearn/linear_model/_logistic.py:460: ConvergenceWarning: lbfgs failed to converge (status=1):\n",
      "STOP: TOTAL NO. of ITERATIONS REACHED LIMIT.\n",
      "\n",
      "Increase the number of iterations (max_iter) or scale the data as shown in:\n",
      "    https://scikit-learn.org/stable/modules/preprocessing.html\n",
      "Please also refer to the documentation for alternative solver options:\n",
      "    https://scikit-learn.org/stable/modules/linear_model.html#logistic-regression\n",
      "  n_iter_i = _check_optimize_result(\n",
      "/usr/local/lib/python3.11/site-packages/sklearn/linear_model/_logistic.py:460: ConvergenceWarning: lbfgs failed to converge (status=1):\n",
      "STOP: TOTAL NO. of ITERATIONS REACHED LIMIT.\n",
      "\n",
      "Increase the number of iterations (max_iter) or scale the data as shown in:\n",
      "    https://scikit-learn.org/stable/modules/preprocessing.html\n",
      "Please also refer to the documentation for alternative solver options:\n",
      "    https://scikit-learn.org/stable/modules/linear_model.html#logistic-regression\n",
      "  n_iter_i = _check_optimize_result(\n",
      "/usr/local/lib/python3.11/site-packages/sklearn/linear_model/_logistic.py:460: ConvergenceWarning: lbfgs failed to converge (status=1):\n",
      "STOP: TOTAL NO. of ITERATIONS REACHED LIMIT.\n",
      "\n",
      "Increase the number of iterations (max_iter) or scale the data as shown in:\n",
      "    https://scikit-learn.org/stable/modules/preprocessing.html\n",
      "Please also refer to the documentation for alternative solver options:\n",
      "    https://scikit-learn.org/stable/modules/linear_model.html#logistic-regression\n",
      "  n_iter_i = _check_optimize_result(\n"
     ]
    },
    {
     "name": "stdout",
     "output_type": "stream",
     "text": [
      "[CV 1/5; 7/10] END .........C=100.0, penalty=l2;, score=0.703 total time=   9.1s\n",
      "[CV 2/5; 7/10] END .........C=100.0, penalty=l2;, score=0.704 total time=   9.2s\n",
      "[CV 3/5; 7/10] END .........C=100.0, penalty=l2;, score=0.703 total time=   9.0s\n",
      "[CV 4/5; 8/10] START C=0.01, penalty=l2.........................................\n",
      "[CV 5/5; 8/10] START C=0.01, penalty=l2.........................................\n",
      "[CV 1/5; 9/10] START C=0.001, penalty=elasticnet................................\n",
      "[CV 1/5; 9/10] END ...C=0.001, penalty=elasticnet;, score=nan total time=   0.4s\n",
      "[CV 2/5; 9/10] START C=0.001, penalty=elasticnet................................\n",
      "[CV 2/5; 9/10] END ...C=0.001, penalty=elasticnet;, score=nan total time=   0.3s\n",
      "[CV 3/5; 9/10] START C=0.001, penalty=elasticnet................................\n",
      "[CV 3/5; 9/10] END ...C=0.001, penalty=elasticnet;, score=nan total time=   0.3s\n",
      "[CV 4/5; 9/10] START C=0.001, penalty=elasticnet................................\n",
      "[CV 4/5; 9/10] END ...C=0.001, penalty=elasticnet;, score=nan total time=   0.3s\n",
      "[CV 5/5; 9/10] START C=0.001, penalty=elasticnet................................\n",
      "[CV 5/5; 9/10] END ...C=0.001, penalty=elasticnet;, score=nan total time=   0.3s\n",
      "[CV 1/5; 10/10] START C=0.1, penalty=l1.........................................\n",
      "[CV 1/5; 10/10] END ............C=0.1, penalty=l1;, score=nan total time=   0.3s\n",
      "[CV 2/5; 10/10] START C=0.1, penalty=l1.........................................\n",
      "[CV 2/5; 10/10] END ............C=0.1, penalty=l1;, score=nan total time=   0.3s\n",
      "[CV 3/5; 10/10] START C=0.1, penalty=l1.........................................\n",
      "[CV 3/5; 10/10] END ............C=0.1, penalty=l1;, score=nan total time=   0.3s\n",
      "[CV 4/5; 10/10] START C=0.1, penalty=l1.........................................\n",
      "[CV 4/5; 10/10] END ............C=0.1, penalty=l1;, score=nan total time=   0.3s\n",
      "[CV 5/5; 10/10] START C=0.1, penalty=l1.........................................\n",
      "[CV 5/5; 10/10] END ............C=0.1, penalty=l1;, score=nan total time=   0.3s\n"
     ]
    },
    {
     "name": "stderr",
     "output_type": "stream",
     "text": [
      "/usr/local/lib/python3.11/site-packages/sklearn/linear_model/_logistic.py:460: ConvergenceWarning: lbfgs failed to converge (status=1):\n",
      "STOP: TOTAL NO. of ITERATIONS REACHED LIMIT.\n",
      "\n",
      "Increase the number of iterations (max_iter) or scale the data as shown in:\n",
      "    https://scikit-learn.org/stable/modules/preprocessing.html\n",
      "Please also refer to the documentation for alternative solver options:\n",
      "    https://scikit-learn.org/stable/modules/linear_model.html#logistic-regression\n",
      "  n_iter_i = _check_optimize_result(\n",
      "/usr/local/lib/python3.11/site-packages/sklearn/linear_model/_logistic.py:460: ConvergenceWarning: lbfgs failed to converge (status=1):\n",
      "STOP: TOTAL NO. of ITERATIONS REACHED LIMIT.\n",
      "\n",
      "Increase the number of iterations (max_iter) or scale the data as shown in:\n",
      "    https://scikit-learn.org/stable/modules/preprocessing.html\n",
      "Please also refer to the documentation for alternative solver options:\n",
      "    https://scikit-learn.org/stable/modules/linear_model.html#logistic-regression\n",
      "  n_iter_i = _check_optimize_result(\n",
      "/usr/local/lib/python3.11/site-packages/sklearn/linear_model/_logistic.py:460: ConvergenceWarning: lbfgs failed to converge (status=1):\n",
      "STOP: TOTAL NO. of ITERATIONS REACHED LIMIT.\n",
      "\n",
      "Increase the number of iterations (max_iter) or scale the data as shown in:\n",
      "    https://scikit-learn.org/stable/modules/preprocessing.html\n",
      "Please also refer to the documentation for alternative solver options:\n",
      "    https://scikit-learn.org/stable/modules/linear_model.html#logistic-regression\n",
      "  n_iter_i = _check_optimize_result(\n",
      "/usr/local/lib/python3.11/site-packages/sklearn/linear_model/_logistic.py:460: ConvergenceWarning: lbfgs failed to converge (status=1):\n",
      "STOP: TOTAL NO. of ITERATIONS REACHED LIMIT.\n",
      "\n",
      "Increase the number of iterations (max_iter) or scale the data as shown in:\n",
      "    https://scikit-learn.org/stable/modules/preprocessing.html\n",
      "Please also refer to the documentation for alternative solver options:\n",
      "    https://scikit-learn.org/stable/modules/linear_model.html#logistic-regression\n",
      "  n_iter_i = _check_optimize_result(\n"
     ]
    },
    {
     "name": "stdout",
     "output_type": "stream",
     "text": [
      "[CV 4/5; 7/10] END .........C=100.0, penalty=l2;, score=0.702 total time=   8.7s\n",
      "[CV 1/5; 8/10] END ..........C=0.01, penalty=l2;, score=0.699 total time=   8.5s\n",
      "[CV 5/5; 7/10] END .........C=100.0, penalty=l2;, score=0.702 total time=   8.7s\n",
      "[CV 3/5; 8/10] END ..........C=0.01, penalty=l2;, score=0.699 total time=   8.4s\n"
     ]
    },
    {
     "name": "stderr",
     "output_type": "stream",
     "text": [
      "/usr/local/lib/python3.11/site-packages/sklearn/linear_model/_logistic.py:460: ConvergenceWarning: lbfgs failed to converge (status=1):\n",
      "STOP: TOTAL NO. of ITERATIONS REACHED LIMIT.\n",
      "\n",
      "Increase the number of iterations (max_iter) or scale the data as shown in:\n",
      "    https://scikit-learn.org/stable/modules/preprocessing.html\n",
      "Please also refer to the documentation for alternative solver options:\n",
      "    https://scikit-learn.org/stable/modules/linear_model.html#logistic-regression\n",
      "  n_iter_i = _check_optimize_result(\n"
     ]
    },
    {
     "name": "stdout",
     "output_type": "stream",
     "text": [
      "[CV 2/5; 8/10] END ..........C=0.01, penalty=l2;, score=0.701 total time=   8.6s\n"
     ]
    },
    {
     "name": "stderr",
     "output_type": "stream",
     "text": [
      "/usr/local/lib/python3.11/site-packages/sklearn/linear_model/_logistic.py:460: ConvergenceWarning: lbfgs failed to converge (status=1):\n",
      "STOP: TOTAL NO. of ITERATIONS REACHED LIMIT.\n",
      "\n",
      "Increase the number of iterations (max_iter) or scale the data as shown in:\n",
      "    https://scikit-learn.org/stable/modules/preprocessing.html\n",
      "Please also refer to the documentation for alternative solver options:\n",
      "    https://scikit-learn.org/stable/modules/linear_model.html#logistic-regression\n",
      "  n_iter_i = _check_optimize_result(\n",
      "/usr/local/lib/python3.11/site-packages/sklearn/linear_model/_logistic.py:460: ConvergenceWarning: lbfgs failed to converge (status=1):\n",
      "STOP: TOTAL NO. of ITERATIONS REACHED LIMIT.\n",
      "\n",
      "Increase the number of iterations (max_iter) or scale the data as shown in:\n",
      "    https://scikit-learn.org/stable/modules/preprocessing.html\n",
      "Please also refer to the documentation for alternative solver options:\n",
      "    https://scikit-learn.org/stable/modules/linear_model.html#logistic-regression\n",
      "  n_iter_i = _check_optimize_result(\n"
     ]
    },
    {
     "name": "stdout",
     "output_type": "stream",
     "text": [
      "[CV 4/5; 8/10] END ..........C=0.01, penalty=l2;, score=0.698 total time=   7.1s\n",
      "[CV 5/5; 8/10] END ..........C=0.01, penalty=l2;, score=0.697 total time=   7.1s\n",
      "CPU times: user 13.4 s, sys: 2.33 s, total: 15.7 s\n",
      "Wall time: 39 s\n"
     ]
    },
    {
     "data": {
      "text/html": [
       "<style>#sk-container-id-4 {color: black;}#sk-container-id-4 pre{padding: 0;}#sk-container-id-4 div.sk-toggleable {background-color: white;}#sk-container-id-4 label.sk-toggleable__label {cursor: pointer;display: block;width: 100%;margin-bottom: 0;padding: 0.3em;box-sizing: border-box;text-align: center;}#sk-container-id-4 label.sk-toggleable__label-arrow:before {content: \"▸\";float: left;margin-right: 0.25em;color: #696969;}#sk-container-id-4 label.sk-toggleable__label-arrow:hover:before {color: black;}#sk-container-id-4 div.sk-estimator:hover label.sk-toggleable__label-arrow:before {color: black;}#sk-container-id-4 div.sk-toggleable__content {max-height: 0;max-width: 0;overflow: hidden;text-align: left;background-color: #f0f8ff;}#sk-container-id-4 div.sk-toggleable__content pre {margin: 0.2em;color: black;border-radius: 0.25em;background-color: #f0f8ff;}#sk-container-id-4 input.sk-toggleable__control:checked~div.sk-toggleable__content {max-height: 200px;max-width: 100%;overflow: auto;}#sk-container-id-4 input.sk-toggleable__control:checked~label.sk-toggleable__label-arrow:before {content: \"▾\";}#sk-container-id-4 div.sk-estimator input.sk-toggleable__control:checked~label.sk-toggleable__label {background-color: #d4ebff;}#sk-container-id-4 div.sk-label input.sk-toggleable__control:checked~label.sk-toggleable__label {background-color: #d4ebff;}#sk-container-id-4 input.sk-hidden--visually {border: 0;clip: rect(1px 1px 1px 1px);clip: rect(1px, 1px, 1px, 1px);height: 1px;margin: -1px;overflow: hidden;padding: 0;position: absolute;width: 1px;}#sk-container-id-4 div.sk-estimator {font-family: monospace;background-color: #f0f8ff;border: 1px dotted black;border-radius: 0.25em;box-sizing: border-box;margin-bottom: 0.5em;}#sk-container-id-4 div.sk-estimator:hover {background-color: #d4ebff;}#sk-container-id-4 div.sk-parallel-item::after {content: \"\";width: 100%;border-bottom: 1px solid gray;flex-grow: 1;}#sk-container-id-4 div.sk-label:hover label.sk-toggleable__label {background-color: #d4ebff;}#sk-container-id-4 div.sk-serial::before {content: \"\";position: absolute;border-left: 1px solid gray;box-sizing: border-box;top: 0;bottom: 0;left: 50%;z-index: 0;}#sk-container-id-4 div.sk-serial {display: flex;flex-direction: column;align-items: center;background-color: white;padding-right: 0.2em;padding-left: 0.2em;position: relative;}#sk-container-id-4 div.sk-item {position: relative;z-index: 1;}#sk-container-id-4 div.sk-parallel {display: flex;align-items: stretch;justify-content: center;background-color: white;position: relative;}#sk-container-id-4 div.sk-item::before, #sk-container-id-4 div.sk-parallel-item::before {content: \"\";position: absolute;border-left: 1px solid gray;box-sizing: border-box;top: 0;bottom: 0;left: 50%;z-index: -1;}#sk-container-id-4 div.sk-parallel-item {display: flex;flex-direction: column;z-index: 1;position: relative;background-color: white;}#sk-container-id-4 div.sk-parallel-item:first-child::after {align-self: flex-end;width: 50%;}#sk-container-id-4 div.sk-parallel-item:last-child::after {align-self: flex-start;width: 50%;}#sk-container-id-4 div.sk-parallel-item:only-child::after {width: 0;}#sk-container-id-4 div.sk-dashed-wrapped {border: 1px dashed gray;margin: 0 0.4em 0.5em 0.4em;box-sizing: border-box;padding-bottom: 0.4em;background-color: white;}#sk-container-id-4 div.sk-label label {font-family: monospace;font-weight: bold;display: inline-block;line-height: 1.2em;}#sk-container-id-4 div.sk-label-container {text-align: center;}#sk-container-id-4 div.sk-container {/* jupyter's `normalize.less` sets `[hidden] { display: none; }` but bootstrap.min.css set `[hidden] { display: none !important; }` so we also need the `!important` here to be able to override the default hidden behavior on the sphinx rendered scikit-learn.org. See: https://github.com/scikit-learn/scikit-learn/issues/21755 */display: inline-block !important;position: relative;}#sk-container-id-4 div.sk-text-repr-fallback {display: none;}</style><div id=\"sk-container-id-4\" class=\"sk-top-container\"><div class=\"sk-text-repr-fallback\"><pre>Pipeline(steps=[(&#x27;standardization&#x27;,\n",
       "                 Standardize(numericalFeatures=[&#x27;Race&#x27;, &#x27;ClaimSettlementDelay&#x27;,\n",
       "                                                &#x27;TreatmentDuration&#x27;, &#x27;Age&#x27;,\n",
       "                                                &#x27;TotalClaimAmount&#x27;,\n",
       "                                                &#x27;IPTotalAmount&#x27;,\n",
       "                                                &#x27;OPTotalAmount&#x27;,\n",
       "                                                &#x27;UniquePhysCount&#x27;,\n",
       "                                                &#x27;PhysRoleCount&#x27;])),\n",
       "                (&#x27;OneHotEncoder&#x27;,\n",
       "                 OneHotEncoder(categoricalFeatures=[&#x27;State&#x27;, &#x27;Country&#x27;])),\n",
       "                (&#x27;randomizedSearchCV&#x27;,\n",
       "                 RandomizedSearchCV(cv=5, estimator=LogisticRegression(),\n",
       "                                    n_jobs=-1,\n",
       "                                    param_distributions={&#x27;C&#x27;: array([1.e-03, 1.e-02, 1.e-01, 1.e+00, 1.e+01, 1.e+02, 1.e+03]),\n",
       "                                                         &#x27;penalty&#x27;: [&#x27;l1&#x27;, &#x27;l2&#x27;,\n",
       "                                                                     &#x27;elasticnet&#x27;]},\n",
       "                                    random_state=1, verbose=10))])</pre><b>In a Jupyter environment, please rerun this cell to show the HTML representation or trust the notebook. <br />On GitHub, the HTML representation is unable to render, please try loading this page with nbviewer.org.</b></div><div class=\"sk-container\" hidden><div class=\"sk-item sk-dashed-wrapped\"><div class=\"sk-label-container\"><div class=\"sk-label sk-toggleable\"><input class=\"sk-toggleable__control sk-hidden--visually\" id=\"sk-estimator-id-4\" type=\"checkbox\" ><label for=\"sk-estimator-id-4\" class=\"sk-toggleable__label sk-toggleable__label-arrow\">Pipeline</label><div class=\"sk-toggleable__content\"><pre>Pipeline(steps=[(&#x27;standardization&#x27;,\n",
       "                 Standardize(numericalFeatures=[&#x27;Race&#x27;, &#x27;ClaimSettlementDelay&#x27;,\n",
       "                                                &#x27;TreatmentDuration&#x27;, &#x27;Age&#x27;,\n",
       "                                                &#x27;TotalClaimAmount&#x27;,\n",
       "                                                &#x27;IPTotalAmount&#x27;,\n",
       "                                                &#x27;OPTotalAmount&#x27;,\n",
       "                                                &#x27;UniquePhysCount&#x27;,\n",
       "                                                &#x27;PhysRoleCount&#x27;])),\n",
       "                (&#x27;OneHotEncoder&#x27;,\n",
       "                 OneHotEncoder(categoricalFeatures=[&#x27;State&#x27;, &#x27;Country&#x27;])),\n",
       "                (&#x27;randomizedSearchCV&#x27;,\n",
       "                 RandomizedSearchCV(cv=5, estimator=LogisticRegression(),\n",
       "                                    n_jobs=-1,\n",
       "                                    param_distributions={&#x27;C&#x27;: array([1.e-03, 1.e-02, 1.e-01, 1.e+00, 1.e+01, 1.e+02, 1.e+03]),\n",
       "                                                         &#x27;penalty&#x27;: [&#x27;l1&#x27;, &#x27;l2&#x27;,\n",
       "                                                                     &#x27;elasticnet&#x27;]},\n",
       "                                    random_state=1, verbose=10))])</pre></div></div></div><div class=\"sk-serial\"><div class=\"sk-item\"><div class=\"sk-estimator sk-toggleable\"><input class=\"sk-toggleable__control sk-hidden--visually\" id=\"sk-estimator-id-5\" type=\"checkbox\" ><label for=\"sk-estimator-id-5\" class=\"sk-toggleable__label sk-toggleable__label-arrow\">Standardize</label><div class=\"sk-toggleable__content\"><pre>Standardize(numericalFeatures=[&#x27;Race&#x27;, &#x27;ClaimSettlementDelay&#x27;,\n",
       "                               &#x27;TreatmentDuration&#x27;, &#x27;Age&#x27;, &#x27;TotalClaimAmount&#x27;,\n",
       "                               &#x27;IPTotalAmount&#x27;, &#x27;OPTotalAmount&#x27;,\n",
       "                               &#x27;UniquePhysCount&#x27;, &#x27;PhysRoleCount&#x27;])</pre></div></div></div><div class=\"sk-item\"><div class=\"sk-estimator sk-toggleable\"><input class=\"sk-toggleable__control sk-hidden--visually\" id=\"sk-estimator-id-6\" type=\"checkbox\" ><label for=\"sk-estimator-id-6\" class=\"sk-toggleable__label sk-toggleable__label-arrow\">OneHotEncoder</label><div class=\"sk-toggleable__content\"><pre>OneHotEncoder(categoricalFeatures=[&#x27;State&#x27;, &#x27;Country&#x27;])</pre></div></div></div><div class=\"sk-item sk-dashed-wrapped\"><div class=\"sk-label-container\"><div class=\"sk-label sk-toggleable\"><input class=\"sk-toggleable__control sk-hidden--visually\" id=\"sk-estimator-id-7\" type=\"checkbox\" ><label for=\"sk-estimator-id-7\" class=\"sk-toggleable__label sk-toggleable__label-arrow\">randomizedSearchCV: RandomizedSearchCV</label><div class=\"sk-toggleable__content\"><pre>RandomizedSearchCV(cv=5, estimator=LogisticRegression(), n_jobs=-1,\n",
       "                   param_distributions={&#x27;C&#x27;: array([1.e-03, 1.e-02, 1.e-01, 1.e+00, 1.e+01, 1.e+02, 1.e+03]),\n",
       "                                        &#x27;penalty&#x27;: [&#x27;l1&#x27;, &#x27;l2&#x27;, &#x27;elasticnet&#x27;]},\n",
       "                   random_state=1, verbose=10)</pre></div></div></div><div class=\"sk-parallel\"><div class=\"sk-parallel-item\"><div class=\"sk-item\"><div class=\"sk-label-container\"><div class=\"sk-label sk-toggleable\"><input class=\"sk-toggleable__control sk-hidden--visually\" id=\"sk-estimator-id-8\" type=\"checkbox\" ><label for=\"sk-estimator-id-8\" class=\"sk-toggleable__label sk-toggleable__label-arrow\">estimator: LogisticRegression</label><div class=\"sk-toggleable__content\"><pre>LogisticRegression()</pre></div></div></div><div class=\"sk-serial\"><div class=\"sk-item\"><div class=\"sk-estimator sk-toggleable\"><input class=\"sk-toggleable__control sk-hidden--visually\" id=\"sk-estimator-id-9\" type=\"checkbox\" ><label for=\"sk-estimator-id-9\" class=\"sk-toggleable__label sk-toggleable__label-arrow\">LogisticRegression</label><div class=\"sk-toggleable__content\"><pre>LogisticRegression()</pre></div></div></div></div></div></div></div></div></div></div></div></div>"
      ],
      "text/plain": [
       "Pipeline(steps=[('standardization',\n",
       "                 Standardize(numericalFeatures=['Race', 'ClaimSettlementDelay',\n",
       "                                                'TreatmentDuration', 'Age',\n",
       "                                                'TotalClaimAmount',\n",
       "                                                'IPTotalAmount',\n",
       "                                                'OPTotalAmount',\n",
       "                                                'UniquePhysCount',\n",
       "                                                'PhysRoleCount'])),\n",
       "                ('OneHotEncoder',\n",
       "                 OneHotEncoder(categoricalFeatures=['State', 'Country'])),\n",
       "                ('randomizedSearchCV',\n",
       "                 RandomizedSearchCV(cv=5, estimator=LogisticRegression(),\n",
       "                                    n_jobs=-1,\n",
       "                                    param_distributions={'C': array([1.e-03, 1.e-02, 1.e-01, 1.e+00, 1.e+01, 1.e+02, 1.e+03]),\n",
       "                                                         'penalty': ['l1', 'l2',\n",
       "                                                                     'elasticnet']},\n",
       "                                    random_state=1, verbose=10))])"
      ]
     },
     "execution_count": 55,
     "metadata": {},
     "output_type": "execute_result"
    }
   ],
   "source": [
    "%%time\n",
    "# Fit the Pipeline on the Train Data\n",
    "pipelineLR1.fit(xTrain, yTrain)"
   ]
  },
  {
   "cell_type": "code",
   "execution_count": 56,
   "id": "zVDRCZyxOKuw",
   "metadata": {
    "colab": {
     "base_uri": "https://localhost:8080/"
    },
    "id": "zVDRCZyxOKuw",
    "outputId": "53b066d7-9cc4-4e1e-a1d4-89ac8a85b944"
   },
   "outputs": [
    {
     "name": "stdout",
     "output_type": "stream",
     "text": [
      "Best Parameters found: {'penalty': 'l2', 'C': 1.0}\n"
     ]
    }
   ],
   "source": [
    "print('Best Parameters found:', pipelineLR1.steps[2][1].best_params_)"
   ]
  },
  {
   "cell_type": "code",
   "execution_count": 57,
   "id": "5iBLBjXxP-Yi",
   "metadata": {
    "colab": {
     "base_uri": "https://localhost:8080/"
    },
    "id": "5iBLBjXxP-Yi",
    "outputId": "31c28122-1ef6-4624-cece-5dc6dbbe8d41"
   },
   "outputs": [
    {
     "name": "stdout",
     "output_type": "stream",
     "text": [
      "CPU times: user 12.8 s, sys: 1.58 s, total: 14.4 s\n",
      "Wall time: 14.8 s\n"
     ]
    },
    {
     "data": {
      "text/html": [
       "<style>#sk-container-id-5 {color: black;}#sk-container-id-5 pre{padding: 0;}#sk-container-id-5 div.sk-toggleable {background-color: white;}#sk-container-id-5 label.sk-toggleable__label {cursor: pointer;display: block;width: 100%;margin-bottom: 0;padding: 0.3em;box-sizing: border-box;text-align: center;}#sk-container-id-5 label.sk-toggleable__label-arrow:before {content: \"▸\";float: left;margin-right: 0.25em;color: #696969;}#sk-container-id-5 label.sk-toggleable__label-arrow:hover:before {color: black;}#sk-container-id-5 div.sk-estimator:hover label.sk-toggleable__label-arrow:before {color: black;}#sk-container-id-5 div.sk-toggleable__content {max-height: 0;max-width: 0;overflow: hidden;text-align: left;background-color: #f0f8ff;}#sk-container-id-5 div.sk-toggleable__content pre {margin: 0.2em;color: black;border-radius: 0.25em;background-color: #f0f8ff;}#sk-container-id-5 input.sk-toggleable__control:checked~div.sk-toggleable__content {max-height: 200px;max-width: 100%;overflow: auto;}#sk-container-id-5 input.sk-toggleable__control:checked~label.sk-toggleable__label-arrow:before {content: \"▾\";}#sk-container-id-5 div.sk-estimator input.sk-toggleable__control:checked~label.sk-toggleable__label {background-color: #d4ebff;}#sk-container-id-5 div.sk-label input.sk-toggleable__control:checked~label.sk-toggleable__label {background-color: #d4ebff;}#sk-container-id-5 input.sk-hidden--visually {border: 0;clip: rect(1px 1px 1px 1px);clip: rect(1px, 1px, 1px, 1px);height: 1px;margin: -1px;overflow: hidden;padding: 0;position: absolute;width: 1px;}#sk-container-id-5 div.sk-estimator {font-family: monospace;background-color: #f0f8ff;border: 1px dotted black;border-radius: 0.25em;box-sizing: border-box;margin-bottom: 0.5em;}#sk-container-id-5 div.sk-estimator:hover {background-color: #d4ebff;}#sk-container-id-5 div.sk-parallel-item::after {content: \"\";width: 100%;border-bottom: 1px solid gray;flex-grow: 1;}#sk-container-id-5 div.sk-label:hover label.sk-toggleable__label {background-color: #d4ebff;}#sk-container-id-5 div.sk-serial::before {content: \"\";position: absolute;border-left: 1px solid gray;box-sizing: border-box;top: 0;bottom: 0;left: 50%;z-index: 0;}#sk-container-id-5 div.sk-serial {display: flex;flex-direction: column;align-items: center;background-color: white;padding-right: 0.2em;padding-left: 0.2em;position: relative;}#sk-container-id-5 div.sk-item {position: relative;z-index: 1;}#sk-container-id-5 div.sk-parallel {display: flex;align-items: stretch;justify-content: center;background-color: white;position: relative;}#sk-container-id-5 div.sk-item::before, #sk-container-id-5 div.sk-parallel-item::before {content: \"\";position: absolute;border-left: 1px solid gray;box-sizing: border-box;top: 0;bottom: 0;left: 50%;z-index: -1;}#sk-container-id-5 div.sk-parallel-item {display: flex;flex-direction: column;z-index: 1;position: relative;background-color: white;}#sk-container-id-5 div.sk-parallel-item:first-child::after {align-self: flex-end;width: 50%;}#sk-container-id-5 div.sk-parallel-item:last-child::after {align-self: flex-start;width: 50%;}#sk-container-id-5 div.sk-parallel-item:only-child::after {width: 0;}#sk-container-id-5 div.sk-dashed-wrapped {border: 1px dashed gray;margin: 0 0.4em 0.5em 0.4em;box-sizing: border-box;padding-bottom: 0.4em;background-color: white;}#sk-container-id-5 div.sk-label label {font-family: monospace;font-weight: bold;display: inline-block;line-height: 1.2em;}#sk-container-id-5 div.sk-label-container {text-align: center;}#sk-container-id-5 div.sk-container {/* jupyter's `normalize.less` sets `[hidden] { display: none; }` but bootstrap.min.css set `[hidden] { display: none !important; }` so we also need the `!important` here to be able to override the default hidden behavior on the sphinx rendered scikit-learn.org. See: https://github.com/scikit-learn/scikit-learn/issues/21755 */display: inline-block !important;position: relative;}#sk-container-id-5 div.sk-text-repr-fallback {display: none;}</style><div id=\"sk-container-id-5\" class=\"sk-top-container\"><div class=\"sk-text-repr-fallback\"><pre>Pipeline(steps=[(&#x27;standardization&#x27;,\n",
       "                 Standardize(numericalFeatures=[&#x27;Race&#x27;, &#x27;ClaimSettlementDelay&#x27;,\n",
       "                                                &#x27;TreatmentDuration&#x27;, &#x27;Age&#x27;,\n",
       "                                                &#x27;TotalClaimAmount&#x27;,\n",
       "                                                &#x27;IPTotalAmount&#x27;,\n",
       "                                                &#x27;OPTotalAmount&#x27;,\n",
       "                                                &#x27;UniquePhysCount&#x27;,\n",
       "                                                &#x27;PhysRoleCount&#x27;])),\n",
       "                (&#x27;OneHotEncoder&#x27;,\n",
       "                 OneHotEncoder(categoricalFeatures=[&#x27;State&#x27;, &#x27;Country&#x27;])),\n",
       "                (&#x27;logisticRegression&#x27;, LogisticRegression(C=100))])</pre><b>In a Jupyter environment, please rerun this cell to show the HTML representation or trust the notebook. <br />On GitHub, the HTML representation is unable to render, please try loading this page with nbviewer.org.</b></div><div class=\"sk-container\" hidden><div class=\"sk-item sk-dashed-wrapped\"><div class=\"sk-label-container\"><div class=\"sk-label sk-toggleable\"><input class=\"sk-toggleable__control sk-hidden--visually\" id=\"sk-estimator-id-10\" type=\"checkbox\" ><label for=\"sk-estimator-id-10\" class=\"sk-toggleable__label sk-toggleable__label-arrow\">Pipeline</label><div class=\"sk-toggleable__content\"><pre>Pipeline(steps=[(&#x27;standardization&#x27;,\n",
       "                 Standardize(numericalFeatures=[&#x27;Race&#x27;, &#x27;ClaimSettlementDelay&#x27;,\n",
       "                                                &#x27;TreatmentDuration&#x27;, &#x27;Age&#x27;,\n",
       "                                                &#x27;TotalClaimAmount&#x27;,\n",
       "                                                &#x27;IPTotalAmount&#x27;,\n",
       "                                                &#x27;OPTotalAmount&#x27;,\n",
       "                                                &#x27;UniquePhysCount&#x27;,\n",
       "                                                &#x27;PhysRoleCount&#x27;])),\n",
       "                (&#x27;OneHotEncoder&#x27;,\n",
       "                 OneHotEncoder(categoricalFeatures=[&#x27;State&#x27;, &#x27;Country&#x27;])),\n",
       "                (&#x27;logisticRegression&#x27;, LogisticRegression(C=100))])</pre></div></div></div><div class=\"sk-serial\"><div class=\"sk-item\"><div class=\"sk-estimator sk-toggleable\"><input class=\"sk-toggleable__control sk-hidden--visually\" id=\"sk-estimator-id-11\" type=\"checkbox\" ><label for=\"sk-estimator-id-11\" class=\"sk-toggleable__label sk-toggleable__label-arrow\">Standardize</label><div class=\"sk-toggleable__content\"><pre>Standardize(numericalFeatures=[&#x27;Race&#x27;, &#x27;ClaimSettlementDelay&#x27;,\n",
       "                               &#x27;TreatmentDuration&#x27;, &#x27;Age&#x27;, &#x27;TotalClaimAmount&#x27;,\n",
       "                               &#x27;IPTotalAmount&#x27;, &#x27;OPTotalAmount&#x27;,\n",
       "                               &#x27;UniquePhysCount&#x27;, &#x27;PhysRoleCount&#x27;])</pre></div></div></div><div class=\"sk-item\"><div class=\"sk-estimator sk-toggleable\"><input class=\"sk-toggleable__control sk-hidden--visually\" id=\"sk-estimator-id-12\" type=\"checkbox\" ><label for=\"sk-estimator-id-12\" class=\"sk-toggleable__label sk-toggleable__label-arrow\">OneHotEncoder</label><div class=\"sk-toggleable__content\"><pre>OneHotEncoder(categoricalFeatures=[&#x27;State&#x27;, &#x27;Country&#x27;])</pre></div></div></div><div class=\"sk-item\"><div class=\"sk-estimator sk-toggleable\"><input class=\"sk-toggleable__control sk-hidden--visually\" id=\"sk-estimator-id-13\" type=\"checkbox\" ><label for=\"sk-estimator-id-13\" class=\"sk-toggleable__label sk-toggleable__label-arrow\">LogisticRegression</label><div class=\"sk-toggleable__content\"><pre>LogisticRegression(C=100)</pre></div></div></div></div></div></div></div>"
      ],
      "text/plain": [
       "Pipeline(steps=[('standardization',\n",
       "                 Standardize(numericalFeatures=['Race', 'ClaimSettlementDelay',\n",
       "                                                'TreatmentDuration', 'Age',\n",
       "                                                'TotalClaimAmount',\n",
       "                                                'IPTotalAmount',\n",
       "                                                'OPTotalAmount',\n",
       "                                                'UniquePhysCount',\n",
       "                                                'PhysRoleCount'])),\n",
       "                ('OneHotEncoder',\n",
       "                 OneHotEncoder(categoricalFeatures=['State', 'Country'])),\n",
       "                ('logisticRegression', LogisticRegression(C=100))])"
      ]
     },
     "execution_count": 57,
     "metadata": {},
     "output_type": "execute_result"
    }
   ],
   "source": [
    "%%time\n",
    "# Create Pipeline: \n",
    "# 1. Standardization of numerical features.\n",
    "# 2. One-hot Encoding of 'State' and 'Country' features.\n",
    "# 3. Logistic Regression with best hyperparameters\n",
    "pipelineLR1 = sklearnPipeline(steps=[\n",
    "    ('standardization', Standardize(numericalFeatures=featuresToStd)),\n",
    "    ('OneHotEncoder', OneHotEncoder(categoricalFeatures=['State', 'Country'])),\n",
    "    ('logisticRegression', LogisticRegression(C=100, penalty='l2'))\n",
    "])\n",
    "\n",
    "# Fit the Pipeline on the Train Data\n",
    "pipelineLR1.fit(xTrain, yTrain)"
   ]
  },
  {
   "cell_type": "code",
   "execution_count": 58,
   "id": "DCY4klkxkdZb",
   "metadata": {
    "colab": {
     "base_uri": "https://localhost:8080/",
     "height": 782
    },
    "id": "DCY4klkxkdZb",
    "outputId": "a6e15aba-2587-439a-b25b-20db0d6f32c3"
   },
   "outputs": [
    {
     "name": "stdout",
     "output_type": "stream",
     "text": [
      "Log-loss of the Model on  Train  Dataset:  0.5742542160976241\n",
      "Log-loss of the Model on  Test  Dataset:  0.5756773823177476\n",
      "F1-Score of the Model on Test Data:  0.5463275831406722\n"
     ]
    },
    {
     "data": {
      "image/png": "[encoded data removed]",
      "text/plain": [
       "<Figure size 2000x500 with 6 Axes>"
      ]
     },
     "metadata": {},
     "output_type": "display_data"
    },
    {
     "name": "stdout",
     "output_type": "stream",
     "text": [
      "Percentage of misclassified points (Test Data):  29.704504536782423 %\n",
      "Sum of columns in the Precision Matrix:  [1. 1.]\n",
      "Sum of rows in the Recall Matrix:  [1. 1.]\n",
      "False Positive Rate (FPR) on Test Data:  0.15301883241897427\n",
      "False Negative Rate (FNR) on Test Data:  0.530827067669173\n",
      "Balanced Accuracy Score (BACC) on Test Data:  0.6580770499559264\n",
      "Matthew's Correlation Coefficient (MCC) on Test Data:  0.34445832020356953\n"
     ]
    },
    {
     "data": {
      "image/png": "[encoded data removed]",
      "text/plain": [
       "<Figure size 640x480 with 1 Axes>"
      ]
     },
     "metadata": {},
     "output_type": "display_data"
    }
   ],
   "source": [
    "# Transformation of the Test Data (similar to the Train Data used while training the model) is taken care by the pipeline internally.\n",
    "showPerformanceMetrics(model=pipelineLR1, xTestData=xTest, yTestData=yTest, xTrainData=xTrain, yTrainData=yTrain)"
   ]
  },
  {
   "cell_type": "code",
   "execution_count": 59,
   "id": "vVjdQ-V3oUi2",
   "metadata": {
    "colab": {
     "base_uri": "https://localhost:8080/"
    },
    "id": "vVjdQ-V3oUi2",
    "outputId": "4fcaf674-204d-45a5-e132-63e10f313432"
   },
   "outputs": [
    {
     "name": "stdout",
     "output_type": "stream",
     "text": [
      "Fitting 5 folds for each of 10 candidates, totalling 50 fits\n",
      "[CV 1/5; 1/10] START C=100.0, penalty=l1........................................\n",
      "[CV 2/5; 1/10] START C=100.0, penalty=l1........................................\n",
      "[CV 3/5; 1/10] START C=100.0, penalty=l1........................................\n",
      "[CV 1/5; 1/10] END ...........C=100.0, penalty=l1;, score=nan total time=   0.2s\n",
      "[CV 2/5; 1/10] END ...........C=100.0, penalty=l1;, score=nan total time=   0.2s\n",
      "[CV 4/5; 1/10] START C=100.0, penalty=l1........................................\n",
      "[CV 3/5; 1/10] END ...........C=100.0, penalty=l1;, score=nan total time=   0.2s\n",
      "[CV 5/5; 1/10] START C=100.0, penalty=l1........................................\n",
      "[CV 4/5; 1/10] END ...........C=100.0, penalty=l1;, score=nan total time=   0.2s\n",
      "[CV 1/5; 2/10] START C=1.0, penalty=l2..........................................\n",
      "[CV 2/5; 2/10] START C=1.0, penalty=l2..........................................\n",
      "[CV 5/5; 1/10] END ...........C=100.0, penalty=l1;, score=nan total time=   0.2s\n",
      "[CV 3/5; 2/10] START C=1.0, penalty=l2..........................................\n",
      "[CV 4/5; 2/10] START C=1.0, penalty=l2..........................................\n",
      "[CV 5/5; 2/10] START C=1.0, penalty=l2..........................................\n",
      "[CV 1/5; 3/10] START C=0.01, penalty=l1.........................................\n",
      "[CV 2/5; 3/10] START C=0.01, penalty=l1.........................................\n",
      "[CV 3/5; 3/10] START C=0.01, penalty=l1.........................................\n",
      "[CV 2/5; 3/10] END ............C=0.01, penalty=l1;, score=nan total time=   0.3s\n",
      "[CV 1/5; 3/10] END ............C=0.01, penalty=l1;, score=nan total time=   0.4s\n",
      "[CV 3/5; 3/10] END ............C=0.01, penalty=l1;, score=nan total time=   0.4s\n",
      "[CV 4/5; 3/10] START C=0.01, penalty=l1.........................................\n",
      "[CV 5/5; 3/10] START C=0.01, penalty=l1.........................................\n",
      "[CV 1/5; 4/10] START C=1000.0, penalty=l1.......................................\n",
      "[CV 4/5; 3/10] END ............C=0.01, penalty=l1;, score=nan total time=   0.3s\n",
      "[CV 5/5; 3/10] END ............C=0.01, penalty=l1;, score=nan total time=   0.3s\n",
      "[CV 1/5; 4/10] END ..........C=1000.0, penalty=l1;, score=nan total time=   0.3s\n",
      "[CV 2/5; 4/10] START C=1000.0, penalty=l1.......................................\n",
      "[CV 3/5; 4/10] START C=1000.0, penalty=l1.......................................\n",
      "[CV 4/5; 4/10] START C=1000.0, penalty=l1.......................................\n",
      "[CV 2/5; 4/10] END ..........C=1000.0, penalty=l1;, score=nan total time=   0.2s\n",
      "[CV 3/5; 4/10] END ..........C=1000.0, penalty=l1;, score=nan total time=   0.2s\n",
      "[CV 4/5; 4/10] END ..........C=1000.0, penalty=l1;, score=nan total time=   0.2s\n",
      "[CV 5/5; 4/10] START C=1000.0, penalty=l1.......................................\n",
      "[CV 2/5; 5/10] START C=100.0, penalty=elasticnet................................\n",
      "[CV 1/5; 5/10] START C=100.0, penalty=elasticnet................................\n",
      "[CV 5/5; 4/10] END ..........C=1000.0, penalty=l1;, score=nan total time=   0.2s\n",
      "[CV 2/5; 5/10] END ...C=100.0, penalty=elasticnet;, score=nan total time=   0.2s\n",
      "[CV 1/5; 5/10] END ...C=100.0, penalty=elasticnet;, score=nan total time=   0.2s\n",
      "[CV 3/5; 5/10] START C=100.0, penalty=elasticnet................................\n",
      "[CV 4/5; 5/10] START C=100.0, penalty=elasticnet................................\n",
      "[CV 5/5; 5/10] START C=100.0, penalty=elasticnet................................\n",
      "[CV 3/5; 5/10] END ...C=100.0, penalty=elasticnet;, score=nan total time=   0.2s\n",
      "[CV 4/5; 5/10] END ...C=100.0, penalty=elasticnet;, score=nan total time=   0.2s\n",
      "[CV 5/5; 5/10] END ...C=100.0, penalty=elasticnet;, score=nan total time=   0.3s\n",
      "[CV 1/5; 6/10] START C=10.0, penalty=elasticnet.................................\n",
      "[CV 2/5; 6/10] START C=10.0, penalty=elasticnet.................................\n",
      "[CV 3/5; 6/10] START C=10.0, penalty=elasticnet.................................\n",
      "[CV 1/5; 6/10] END ....C=10.0, penalty=elasticnet;, score=nan total time=   0.2s\n",
      "[CV 2/5; 6/10] END ....C=10.0, penalty=elasticnet;, score=nan total time=   0.2s\n",
      "[CV 3/5; 6/10] END ....C=10.0, penalty=elasticnet;, score=nan total time=   0.2s\n",
      "[CV 4/5; 6/10] START C=10.0, penalty=elasticnet.................................\n",
      "[CV 5/5; 6/10] START C=10.0, penalty=elasticnet.................................\n",
      "[CV 1/5; 7/10] START C=100.0, penalty=l2........................................\n",
      "[CV 4/5; 6/10] END ....C=10.0, penalty=elasticnet;, score=nan total time=   0.3s\n",
      "[CV 5/5; 6/10] END ....C=10.0, penalty=elasticnet;, score=nan total time=   0.2s\n",
      "[CV 3/5; 7/10] START C=100.0, penalty=l2........................................\n",
      "[CV 2/5; 7/10] START C=100.0, penalty=l2........................................\n"
     ]
    },
    {
     "name": "stderr",
     "output_type": "stream",
     "text": [
      "/usr/local/lib/python3.11/site-packages/sklearn/linear_model/_logistic.py:460: ConvergenceWarning: lbfgs failed to converge (status=1):\n",
      "STOP: TOTAL NO. of ITERATIONS REACHED LIMIT.\n",
      "\n",
      "Increase the number of iterations (max_iter) or scale the data as shown in:\n",
      "    https://scikit-learn.org/stable/modules/preprocessing.html\n",
      "Please also refer to the documentation for alternative solver options:\n",
      "    https://scikit-learn.org/stable/modules/linear_model.html#logistic-regression\n",
      "  n_iter_i = _check_optimize_result(\n",
      "/usr/local/lib/python3.11/site-packages/sklearn/linear_model/_logistic.py:460: ConvergenceWarning: lbfgs failed to converge (status=1):\n",
      "STOP: TOTAL NO. of ITERATIONS REACHED LIMIT.\n",
      "\n",
      "Increase the number of iterations (max_iter) or scale the data as shown in:\n",
      "    https://scikit-learn.org/stable/modules/preprocessing.html\n",
      "Please also refer to the documentation for alternative solver options:\n",
      "    https://scikit-learn.org/stable/modules/linear_model.html#logistic-regression\n",
      "  n_iter_i = _check_optimize_result(\n"
     ]
    },
    {
     "name": "stdout",
     "output_type": "stream",
     "text": [
      "[CV 3/5; 2/10] END ...........C=1.0, penalty=l2;, score=0.685 total time=  10.1s\n",
      "[CV 4/5; 7/10] START C=100.0, penalty=l2........................................\n"
     ]
    },
    {
     "name": "stderr",
     "output_type": "stream",
     "text": [
      "/usr/local/lib/python3.11/site-packages/sklearn/linear_model/_logistic.py:460: ConvergenceWarning: lbfgs failed to converge (status=1):\n",
      "STOP: TOTAL NO. of ITERATIONS REACHED LIMIT.\n",
      "\n",
      "Increase the number of iterations (max_iter) or scale the data as shown in:\n",
      "    https://scikit-learn.org/stable/modules/preprocessing.html\n",
      "Please also refer to the documentation for alternative solver options:\n",
      "    https://scikit-learn.org/stable/modules/linear_model.html#logistic-regression\n",
      "  n_iter_i = _check_optimize_result(\n",
      "/usr/local/lib/python3.11/site-packages/sklearn/linear_model/_logistic.py:460: ConvergenceWarning: lbfgs failed to converge (status=1):\n",
      "STOP: TOTAL NO. of ITERATIONS REACHED LIMIT.\n",
      "\n",
      "Increase the number of iterations (max_iter) or scale the data as shown in:\n",
      "    https://scikit-learn.org/stable/modules/preprocessing.html\n",
      "Please also refer to the documentation for alternative solver options:\n",
      "    https://scikit-learn.org/stable/modules/linear_model.html#logistic-regression\n",
      "  n_iter_i = _check_optimize_result(\n"
     ]
    },
    {
     "name": "stdout",
     "output_type": "stream",
     "text": [
      "[CV 1/5; 2/10] END ...........C=1.0, penalty=l2;, score=0.686 total time=  10.5s\n",
      "[CV 2/5; 2/10] END ...........C=1.0, penalty=l2;, score=0.683 total time=  10.5s\n",
      "[CV 4/5; 2/10] END ...........C=1.0, penalty=l2;, score=0.682 total time=  10.3s\n",
      "[CV 5/5; 7/10] START C=100.0, penalty=l2........................................\n",
      "[CV 1/5; 8/10] START C=0.01, penalty=l2.........................................\n",
      "[CV 2/5; 8/10] START C=0.01, penalty=l2.........................................\n"
     ]
    },
    {
     "name": "stderr",
     "output_type": "stream",
     "text": [
      "/usr/local/lib/python3.11/site-packages/sklearn/linear_model/_logistic.py:460: ConvergenceWarning: lbfgs failed to converge (status=1):\n",
      "STOP: TOTAL NO. of ITERATIONS REACHED LIMIT.\n",
      "\n",
      "Increase the number of iterations (max_iter) or scale the data as shown in:\n",
      "    https://scikit-learn.org/stable/modules/preprocessing.html\n",
      "Please also refer to the documentation for alternative solver options:\n",
      "    https://scikit-learn.org/stable/modules/linear_model.html#logistic-regression\n",
      "  n_iter_i = _check_optimize_result(\n"
     ]
    },
    {
     "name": "stdout",
     "output_type": "stream",
     "text": [
      "[CV 5/5; 2/10] END ...........C=1.0, penalty=l2;, score=0.683 total time=  10.7s\n",
      "[CV 3/5; 8/10] START C=0.01, penalty=l2.........................................\n"
     ]
    },
    {
     "name": "stderr",
     "output_type": "stream",
     "text": [
      "/usr/local/lib/python3.11/site-packages/sklearn/linear_model/_logistic.py:460: ConvergenceWarning: lbfgs failed to converge (status=1):\n",
      "STOP: TOTAL NO. of ITERATIONS REACHED LIMIT.\n",
      "\n",
      "Increase the number of iterations (max_iter) or scale the data as shown in:\n",
      "    https://scikit-learn.org/stable/modules/preprocessing.html\n",
      "Please also refer to the documentation for alternative solver options:\n",
      "    https://scikit-learn.org/stable/modules/linear_model.html#logistic-regression\n",
      "  n_iter_i = _check_optimize_result(\n"
     ]
    },
    {
     "name": "stdout",
     "output_type": "stream",
     "text": [
      "[CV 1/5; 7/10] END .........C=100.0, penalty=l2;, score=0.685 total time=  11.2s\n",
      "[CV 4/5; 8/10] START C=0.01, penalty=l2.........................................\n"
     ]
    },
    {
     "name": "stderr",
     "output_type": "stream",
     "text": [
      "/usr/local/lib/python3.11/site-packages/sklearn/linear_model/_logistic.py:460: ConvergenceWarning: lbfgs failed to converge (status=1):\n",
      "STOP: TOTAL NO. of ITERATIONS REACHED LIMIT.\n",
      "\n",
      "Increase the number of iterations (max_iter) or scale the data as shown in:\n",
      "    https://scikit-learn.org/stable/modules/preprocessing.html\n",
      "Please also refer to the documentation for alternative solver options:\n",
      "    https://scikit-learn.org/stable/modules/linear_model.html#logistic-regression\n",
      "  n_iter_i = _check_optimize_result(\n"
     ]
    },
    {
     "name": "stdout",
     "output_type": "stream",
     "text": [
      "[CV 3/5; 7/10] END .........C=100.0, penalty=l2;, score=0.684 total time=  11.0s\n",
      "[CV 5/5; 8/10] START C=0.01, penalty=l2.........................................\n"
     ]
    },
    {
     "name": "stderr",
     "output_type": "stream",
     "text": [
      "/usr/local/lib/python3.11/site-packages/sklearn/linear_model/_logistic.py:460: ConvergenceWarning: lbfgs failed to converge (status=1):\n",
      "STOP: TOTAL NO. of ITERATIONS REACHED LIMIT.\n",
      "\n",
      "Increase the number of iterations (max_iter) or scale the data as shown in:\n",
      "    https://scikit-learn.org/stable/modules/preprocessing.html\n",
      "Please also refer to the documentation for alternative solver options:\n",
      "    https://scikit-learn.org/stable/modules/linear_model.html#logistic-regression\n",
      "  n_iter_i = _check_optimize_result(\n"
     ]
    },
    {
     "name": "stdout",
     "output_type": "stream",
     "text": [
      "[CV 2/5; 7/10] END .........C=100.0, penalty=l2;, score=0.683 total time=  11.6s\n",
      "[CV 1/5; 9/10] START C=0.001, penalty=elasticnet................................\n",
      "[CV 1/5; 9/10] END ...C=0.001, penalty=elasticnet;, score=nan total time=   0.4s\n",
      "[CV 2/5; 9/10] START C=0.001, penalty=elasticnet................................\n",
      "[CV 2/5; 9/10] END ...C=0.001, penalty=elasticnet;, score=nan total time=   0.4s\n",
      "[CV 3/5; 9/10] START C=0.001, penalty=elasticnet................................\n",
      "[CV 3/5; 9/10] END ...C=0.001, penalty=elasticnet;, score=nan total time=   0.3s\n",
      "[CV 4/5; 9/10] START C=0.001, penalty=elasticnet................................\n",
      "[CV 4/5; 9/10] END ...C=0.001, penalty=elasticnet;, score=nan total time=   0.3s\n",
      "[CV 5/5; 9/10] START C=0.001, penalty=elasticnet................................\n",
      "[CV 5/5; 9/10] END ...C=0.001, penalty=elasticnet;, score=nan total time=   0.4s\n",
      "[CV 1/5; 10/10] START C=0.1, penalty=l1.........................................\n",
      "[CV 1/5; 10/10] END ............C=0.1, penalty=l1;, score=nan total time=   0.3s\n",
      "[CV 2/5; 10/10] START C=0.1, penalty=l1.........................................\n",
      "[CV 2/5; 10/10] END ............C=0.1, penalty=l1;, score=nan total time=   0.3s\n",
      "[CV 3/5; 10/10] START C=0.1, penalty=l1.........................................\n",
      "[CV 3/5; 10/10] END ............C=0.1, penalty=l1;, score=nan total time=   0.3s\n",
      "[CV 4/5; 10/10] START C=0.1, penalty=l1.........................................\n",
      "[CV 4/5; 10/10] END ............C=0.1, penalty=l1;, score=nan total time=   0.5s\n",
      "[CV 5/5; 10/10] START C=0.1, penalty=l1.........................................\n",
      "[CV 5/5; 10/10] END ............C=0.1, penalty=l1;, score=nan total time=   0.4s\n"
     ]
    },
    {
     "name": "stderr",
     "output_type": "stream",
     "text": [
      "/usr/local/lib/python3.11/site-packages/sklearn/linear_model/_logistic.py:460: ConvergenceWarning: lbfgs failed to converge (status=1):\n",
      "STOP: TOTAL NO. of ITERATIONS REACHED LIMIT.\n",
      "\n",
      "Increase the number of iterations (max_iter) or scale the data as shown in:\n",
      "    https://scikit-learn.org/stable/modules/preprocessing.html\n",
      "Please also refer to the documentation for alternative solver options:\n",
      "    https://scikit-learn.org/stable/modules/linear_model.html#logistic-regression\n",
      "  n_iter_i = _check_optimize_result(\n"
     ]
    },
    {
     "name": "stdout",
     "output_type": "stream",
     "text": [
      "[CV 4/5; 7/10] END .........C=100.0, penalty=l2;, score=0.681 total time=  10.4s\n"
     ]
    },
    {
     "name": "stderr",
     "output_type": "stream",
     "text": [
      "/usr/local/lib/python3.11/site-packages/sklearn/linear_model/_logistic.py:460: ConvergenceWarning: lbfgs failed to converge (status=1):\n",
      "STOP: TOTAL NO. of ITERATIONS REACHED LIMIT.\n",
      "\n",
      "Increase the number of iterations (max_iter) or scale the data as shown in:\n",
      "    https://scikit-learn.org/stable/modules/preprocessing.html\n",
      "Please also refer to the documentation for alternative solver options:\n",
      "    https://scikit-learn.org/stable/modules/linear_model.html#logistic-regression\n",
      "  n_iter_i = _check_optimize_result(\n",
      "/usr/local/lib/python3.11/site-packages/sklearn/linear_model/_logistic.py:460: ConvergenceWarning: lbfgs failed to converge (status=1):\n",
      "STOP: TOTAL NO. of ITERATIONS REACHED LIMIT.\n",
      "\n",
      "Increase the number of iterations (max_iter) or scale the data as shown in:\n",
      "    https://scikit-learn.org/stable/modules/preprocessing.html\n",
      "Please also refer to the documentation for alternative solver options:\n",
      "    https://scikit-learn.org/stable/modules/linear_model.html#logistic-regression\n",
      "  n_iter_i = _check_optimize_result(\n"
     ]
    },
    {
     "name": "stdout",
     "output_type": "stream",
     "text": [
      "[CV 5/5; 7/10] END .........C=100.0, penalty=l2;, score=0.683 total time=  10.3s\n",
      "[CV 3/5; 8/10] END ..........C=0.01, penalty=l2;, score=0.683 total time=   9.9s\n",
      "[CV 2/5; 8/10] END ..........C=0.01, penalty=l2;, score=0.682 total time=  10.3s\n"
     ]
    },
    {
     "name": "stderr",
     "output_type": "stream",
     "text": [
      "/usr/local/lib/python3.11/site-packages/sklearn/linear_model/_logistic.py:460: ConvergenceWarning: lbfgs failed to converge (status=1):\n",
      "STOP: TOTAL NO. of ITERATIONS REACHED LIMIT.\n",
      "\n",
      "Increase the number of iterations (max_iter) or scale the data as shown in:\n",
      "    https://scikit-learn.org/stable/modules/preprocessing.html\n",
      "Please also refer to the documentation for alternative solver options:\n",
      "    https://scikit-learn.org/stable/modules/linear_model.html#logistic-regression\n",
      "  n_iter_i = _check_optimize_result(\n",
      "/usr/local/lib/python3.11/site-packages/sklearn/linear_model/_logistic.py:460: ConvergenceWarning: lbfgs failed to converge (status=1):\n",
      "STOP: TOTAL NO. of ITERATIONS REACHED LIMIT.\n",
      "\n",
      "Increase the number of iterations (max_iter) or scale the data as shown in:\n",
      "    https://scikit-learn.org/stable/modules/preprocessing.html\n",
      "Please also refer to the documentation for alternative solver options:\n",
      "    https://scikit-learn.org/stable/modules/linear_model.html#logistic-regression\n",
      "  n_iter_i = _check_optimize_result(\n"
     ]
    },
    {
     "name": "stdout",
     "output_type": "stream",
     "text": [
      "[CV 1/5; 8/10] END ..........C=0.01, penalty=l2;, score=0.684 total time=  10.4s\n"
     ]
    },
    {
     "name": "stderr",
     "output_type": "stream",
     "text": [
      "/usr/local/lib/python3.11/site-packages/sklearn/linear_model/_logistic.py:460: ConvergenceWarning: lbfgs failed to converge (status=1):\n",
      "STOP: TOTAL NO. of ITERATIONS REACHED LIMIT.\n",
      "\n",
      "Increase the number of iterations (max_iter) or scale the data as shown in:\n",
      "    https://scikit-learn.org/stable/modules/preprocessing.html\n",
      "Please also refer to the documentation for alternative solver options:\n",
      "    https://scikit-learn.org/stable/modules/linear_model.html#logistic-regression\n",
      "  n_iter_i = _check_optimize_result(\n",
      "/usr/local/lib/python3.11/site-packages/sklearn/linear_model/_logistic.py:460: ConvergenceWarning: lbfgs failed to converge (status=1):\n",
      "STOP: TOTAL NO. of ITERATIONS REACHED LIMIT.\n",
      "\n",
      "Increase the number of iterations (max_iter) or scale the data as shown in:\n",
      "    https://scikit-learn.org/stable/modules/preprocessing.html\n",
      "Please also refer to the documentation for alternative solver options:\n",
      "    https://scikit-learn.org/stable/modules/linear_model.html#logistic-regression\n",
      "  n_iter_i = _check_optimize_result(\n"
     ]
    },
    {
     "name": "stdout",
     "output_type": "stream",
     "text": [
      "[CV 4/5; 8/10] END ..........C=0.01, penalty=l2;, score=0.681 total time=   8.7s\n",
      "[CV 5/5; 8/10] END ..........C=0.01, penalty=l2;, score=0.681 total time=   8.3s\n",
      "CPU times: user 13.2 s, sys: 1.66 s, total: 14.9 s\n",
      "Wall time: 38.9 s\n"
     ]
    },
    {
     "data": {
      "text/html": [
       "<style>#sk-container-id-6 {color: black;}#sk-container-id-6 pre{padding: 0;}#sk-container-id-6 div.sk-toggleable {background-color: white;}#sk-container-id-6 label.sk-toggleable__label {cursor: pointer;display: block;width: 100%;margin-bottom: 0;padding: 0.3em;box-sizing: border-box;text-align: center;}#sk-container-id-6 label.sk-toggleable__label-arrow:before {content: \"▸\";float: left;margin-right: 0.25em;color: #696969;}#sk-container-id-6 label.sk-toggleable__label-arrow:hover:before {color: black;}#sk-container-id-6 div.sk-estimator:hover label.sk-toggleable__label-arrow:before {color: black;}#sk-container-id-6 div.sk-toggleable__content {max-height: 0;max-width: 0;overflow: hidden;text-align: left;background-color: #f0f8ff;}#sk-container-id-6 div.sk-toggleable__content pre {margin: 0.2em;color: black;border-radius: 0.25em;background-color: #f0f8ff;}#sk-container-id-6 input.sk-toggleable__control:checked~div.sk-toggleable__content {max-height: 200px;max-width: 100%;overflow: auto;}#sk-container-id-6 input.sk-toggleable__control:checked~label.sk-toggleable__label-arrow:before {content: \"▾\";}#sk-container-id-6 div.sk-estimator input.sk-toggleable__control:checked~label.sk-toggleable__label {background-color: #d4ebff;}#sk-container-id-6 div.sk-label input.sk-toggleable__control:checked~label.sk-toggleable__label {background-color: #d4ebff;}#sk-container-id-6 input.sk-hidden--visually {border: 0;clip: rect(1px 1px 1px 1px);clip: rect(1px, 1px, 1px, 1px);height: 1px;margin: -1px;overflow: hidden;padding: 0;position: absolute;width: 1px;}#sk-container-id-6 div.sk-estimator {font-family: monospace;background-color: #f0f8ff;border: 1px dotted black;border-radius: 0.25em;box-sizing: border-box;margin-bottom: 0.5em;}#sk-container-id-6 div.sk-estimator:hover {background-color: #d4ebff;}#sk-container-id-6 div.sk-parallel-item::after {content: \"\";width: 100%;border-bottom: 1px solid gray;flex-grow: 1;}#sk-container-id-6 div.sk-label:hover label.sk-toggleable__label {background-color: #d4ebff;}#sk-container-id-6 div.sk-serial::before {content: \"\";position: absolute;border-left: 1px solid gray;box-sizing: border-box;top: 0;bottom: 0;left: 50%;z-index: 0;}#sk-container-id-6 div.sk-serial {display: flex;flex-direction: column;align-items: center;background-color: white;padding-right: 0.2em;padding-left: 0.2em;position: relative;}#sk-container-id-6 div.sk-item {position: relative;z-index: 1;}#sk-container-id-6 div.sk-parallel {display: flex;align-items: stretch;justify-content: center;background-color: white;position: relative;}#sk-container-id-6 div.sk-item::before, #sk-container-id-6 div.sk-parallel-item::before {content: \"\";position: absolute;border-left: 1px solid gray;box-sizing: border-box;top: 0;bottom: 0;left: 50%;z-index: -1;}#sk-container-id-6 div.sk-parallel-item {display: flex;flex-direction: column;z-index: 1;position: relative;background-color: white;}#sk-container-id-6 div.sk-parallel-item:first-child::after {align-self: flex-end;width: 50%;}#sk-container-id-6 div.sk-parallel-item:last-child::after {align-self: flex-start;width: 50%;}#sk-container-id-6 div.sk-parallel-item:only-child::after {width: 0;}#sk-container-id-6 div.sk-dashed-wrapped {border: 1px dashed gray;margin: 0 0.4em 0.5em 0.4em;box-sizing: border-box;padding-bottom: 0.4em;background-color: white;}#sk-container-id-6 div.sk-label label {font-family: monospace;font-weight: bold;display: inline-block;line-height: 1.2em;}#sk-container-id-6 div.sk-label-container {text-align: center;}#sk-container-id-6 div.sk-container {/* jupyter's `normalize.less` sets `[hidden] { display: none; }` but bootstrap.min.css set `[hidden] { display: none !important; }` so we also need the `!important` here to be able to override the default hidden behavior on the sphinx rendered scikit-learn.org. See: https://github.com/scikit-learn/scikit-learn/issues/21755 */display: inline-block !important;position: relative;}#sk-container-id-6 div.sk-text-repr-fallback {display: none;}</style><div id=\"sk-container-id-6\" class=\"sk-top-container\"><div class=\"sk-text-repr-fallback\"><pre>Pipeline(steps=[(&#x27;standardization&#x27;,\n",
       "                 Standardize(numericalFeatures=[&#x27;Race&#x27;, &#x27;ClaimSettlementDelay&#x27;,\n",
       "                                                &#x27;TreatmentDuration&#x27;, &#x27;Age&#x27;,\n",
       "                                                &#x27;TotalClaimAmount&#x27;,\n",
       "                                                &#x27;IPTotalAmount&#x27;,\n",
       "                                                &#x27;OPTotalAmount&#x27;,\n",
       "                                                &#x27;UniquePhysCount&#x27;,\n",
       "                                                &#x27;PhysRoleCount&#x27;])),\n",
       "                (&#x27;OneHotEncoder&#x27;,\n",
       "                 OneHotEncoder(categoricalFeatures=[&#x27;State&#x27;, &#x27;Country&#x27;])),\n",
       "                (&#x27;randomizedSearchCV&#x27;,\n",
       "                 RandomizedSearchCV(cv=5,\n",
       "                                    estimator=LogisticRegression(class_weight=&#x27;balanced&#x27;),\n",
       "                                    n_jobs=-1,\n",
       "                                    param_distributions={&#x27;C&#x27;: array([1.e-03, 1.e-02, 1.e-01, 1.e+00, 1.e+01, 1.e+02, 1.e+03]),\n",
       "                                                         &#x27;penalty&#x27;: [&#x27;l1&#x27;, &#x27;l2&#x27;,\n",
       "                                                                     &#x27;elasticnet&#x27;]},\n",
       "                                    random_state=1, verbose=10))])</pre><b>In a Jupyter environment, please rerun this cell to show the HTML representation or trust the notebook. <br />On GitHub, the HTML representation is unable to render, please try loading this page with nbviewer.org.</b></div><div class=\"sk-container\" hidden><div class=\"sk-item sk-dashed-wrapped\"><div class=\"sk-label-container\"><div class=\"sk-label sk-toggleable\"><input class=\"sk-toggleable__control sk-hidden--visually\" id=\"sk-estimator-id-14\" type=\"checkbox\" ><label for=\"sk-estimator-id-14\" class=\"sk-toggleable__label sk-toggleable__label-arrow\">Pipeline</label><div class=\"sk-toggleable__content\"><pre>Pipeline(steps=[(&#x27;standardization&#x27;,\n",
       "                 Standardize(numericalFeatures=[&#x27;Race&#x27;, &#x27;ClaimSettlementDelay&#x27;,\n",
       "                                                &#x27;TreatmentDuration&#x27;, &#x27;Age&#x27;,\n",
       "                                                &#x27;TotalClaimAmount&#x27;,\n",
       "                                                &#x27;IPTotalAmount&#x27;,\n",
       "                                                &#x27;OPTotalAmount&#x27;,\n",
       "                                                &#x27;UniquePhysCount&#x27;,\n",
       "                                                &#x27;PhysRoleCount&#x27;])),\n",
       "                (&#x27;OneHotEncoder&#x27;,\n",
       "                 OneHotEncoder(categoricalFeatures=[&#x27;State&#x27;, &#x27;Country&#x27;])),\n",
       "                (&#x27;randomizedSearchCV&#x27;,\n",
       "                 RandomizedSearchCV(cv=5,\n",
       "                                    estimator=LogisticRegression(class_weight=&#x27;balanced&#x27;),\n",
       "                                    n_jobs=-1,\n",
       "                                    param_distributions={&#x27;C&#x27;: array([1.e-03, 1.e-02, 1.e-01, 1.e+00, 1.e+01, 1.e+02, 1.e+03]),\n",
       "                                                         &#x27;penalty&#x27;: [&#x27;l1&#x27;, &#x27;l2&#x27;,\n",
       "                                                                     &#x27;elasticnet&#x27;]},\n",
       "                                    random_state=1, verbose=10))])</pre></div></div></div><div class=\"sk-serial\"><div class=\"sk-item\"><div class=\"sk-estimator sk-toggleable\"><input class=\"sk-toggleable__control sk-hidden--visually\" id=\"sk-estimator-id-15\" type=\"checkbox\" ><label for=\"sk-estimator-id-15\" class=\"sk-toggleable__label sk-toggleable__label-arrow\">Standardize</label><div class=\"sk-toggleable__content\"><pre>Standardize(numericalFeatures=[&#x27;Race&#x27;, &#x27;ClaimSettlementDelay&#x27;,\n",
       "                               &#x27;TreatmentDuration&#x27;, &#x27;Age&#x27;, &#x27;TotalClaimAmount&#x27;,\n",
       "                               &#x27;IPTotalAmount&#x27;, &#x27;OPTotalAmount&#x27;,\n",
       "                               &#x27;UniquePhysCount&#x27;, &#x27;PhysRoleCount&#x27;])</pre></div></div></div><div class=\"sk-item\"><div class=\"sk-estimator sk-toggleable\"><input class=\"sk-toggleable__control sk-hidden--visually\" id=\"sk-estimator-id-16\" type=\"checkbox\" ><label for=\"sk-estimator-id-16\" class=\"sk-toggleable__label sk-toggleable__label-arrow\">OneHotEncoder</label><div class=\"sk-toggleable__content\"><pre>OneHotEncoder(categoricalFeatures=[&#x27;State&#x27;, &#x27;Country&#x27;])</pre></div></div></div><div class=\"sk-item sk-dashed-wrapped\"><div class=\"sk-label-container\"><div class=\"sk-label sk-toggleable\"><input class=\"sk-toggleable__control sk-hidden--visually\" id=\"sk-estimator-id-17\" type=\"checkbox\" ><label for=\"sk-estimator-id-17\" class=\"sk-toggleable__label sk-toggleable__label-arrow\">randomizedSearchCV: RandomizedSearchCV</label><div class=\"sk-toggleable__content\"><pre>RandomizedSearchCV(cv=5, estimator=LogisticRegression(class_weight=&#x27;balanced&#x27;),\n",
       "                   n_jobs=-1,\n",
       "                   param_distributions={&#x27;C&#x27;: array([1.e-03, 1.e-02, 1.e-01, 1.e+00, 1.e+01, 1.e+02, 1.e+03]),\n",
       "                                        &#x27;penalty&#x27;: [&#x27;l1&#x27;, &#x27;l2&#x27;, &#x27;elasticnet&#x27;]},\n",
       "                   random_state=1, verbose=10)</pre></div></div></div><div class=\"sk-parallel\"><div class=\"sk-parallel-item\"><div class=\"sk-item\"><div class=\"sk-label-container\"><div class=\"sk-label sk-toggleable\"><input class=\"sk-toggleable__control sk-hidden--visually\" id=\"sk-estimator-id-18\" type=\"checkbox\" ><label for=\"sk-estimator-id-18\" class=\"sk-toggleable__label sk-toggleable__label-arrow\">estimator: LogisticRegression</label><div class=\"sk-toggleable__content\"><pre>LogisticRegression(class_weight=&#x27;balanced&#x27;)</pre></div></div></div><div class=\"sk-serial\"><div class=\"sk-item\"><div class=\"sk-estimator sk-toggleable\"><input class=\"sk-toggleable__control sk-hidden--visually\" id=\"sk-estimator-id-19\" type=\"checkbox\" ><label for=\"sk-estimator-id-19\" class=\"sk-toggleable__label sk-toggleable__label-arrow\">LogisticRegression</label><div class=\"sk-toggleable__content\"><pre>LogisticRegression(class_weight=&#x27;balanced&#x27;)</pre></div></div></div></div></div></div></div></div></div></div></div></div>"
      ],
      "text/plain": [
       "Pipeline(steps=[('standardization',\n",
       "                 Standardize(numericalFeatures=['Race', 'ClaimSettlementDelay',\n",
       "                                                'TreatmentDuration', 'Age',\n",
       "                                                'TotalClaimAmount',\n",
       "                                                'IPTotalAmount',\n",
       "                                                'OPTotalAmount',\n",
       "                                                'UniquePhysCount',\n",
       "                                                'PhysRoleCount'])),\n",
       "                ('OneHotEncoder',\n",
       "                 OneHotEncoder(categoricalFeatures=['State', 'Country'])),\n",
       "                ('randomizedSearchCV',\n",
       "                 RandomizedSearchCV(cv=5,\n",
       "                                    estimator=LogisticRegression(class_weight='balanced'),\n",
       "                                    n_jobs=-1,\n",
       "                                    param_distributions={'C': array([1.e-03, 1.e-02, 1.e-01, 1.e+00, 1.e+01, 1.e+02, 1.e+03]),\n",
       "                                                         'penalty': ['l1', 'l2',\n",
       "                                                                     'elasticnet']},\n",
       "                                    random_state=1, verbose=10))])"
      ]
     },
     "execution_count": 59,
     "metadata": {},
     "output_type": "execute_result"
    }
   ],
   "source": [
    "%%time\n",
    "# Define an object of LogisticRegression Model\n",
    "logReg2 = LogisticRegression(class_weight='balanced')\n",
    "\n",
    "# Define different values for the Hyperparameters to do tuning\n",
    "params = {\n",
    "    'C': np.logspace(-3, 3, 7),\n",
    "    'penalty': ['l1', 'l2', 'elasticnet']\n",
    "}\n",
    "\n",
    "# Create Pipeline: \n",
    "# 1. Standardization of numerical features.\n",
    "# 2. One-hot Encoding of 'State' and 'Country' features.\n",
    "# 3. RandomizedSearchCV using Logistic Regression\n",
    "pipelineLR2 = sklearnPipeline(steps=[\n",
    "    ('standardization', Standardize(numericalFeatures=featuresToStd)),\n",
    "    ('OneHotEncoder', OneHotEncoder(categoricalFeatures=['State', 'Country'])),\n",
    "    ('randomizedSearchCV', RandomizedSearchCV(logReg2, param_distributions=params, n_iter=10, cv=5, verbose=10, n_jobs=-1, random_state=1))\n",
    "])\n",
    "\n",
    "# Fit the Pipeline on the Train Data\n",
    "pipelineLR2.fit(xTrain, yTrain)"
   ]
  },
  {
   "cell_type": "code",
   "execution_count": 60,
   "id": "T_pQk3edoV8I",
   "metadata": {
    "colab": {
     "base_uri": "https://localhost:8080/"
    },
    "id": "T_pQk3edoV8I",
    "outputId": "82806392-fe75-40d8-c807-8c6c34542a02"
   },
   "outputs": [
    {
     "name": "stdout",
     "output_type": "stream",
     "text": [
      "Best Parameters found: {'penalty': 'l2', 'C': 1.0}\n"
     ]
    }
   ],
   "source": [
    "print('Best Parameters found:', pipelineLR2.steps[2][1].best_params_)"
   ]
  },
  {
   "cell_type": "markdown",
   "id": "_-WpUyU_ofCa",
   "metadata": {
    "id": "_-WpUyU_ofCa"
   },
   "source": [
    "## <font color=\"blue\">Training the Model with best hyperparameters on One Hot Encoded Data with balanced Class Weights</font>"
   ]
  },
  {
   "cell_type": "code",
   "execution_count": 61,
   "id": "VD2RtKG5ojU0",
   "metadata": {
    "id": "VD2RtKG5ojU0"
   },
   "outputs": [],
   "source": [
    "# Create Pipeline: \n",
    "# 1. Standardization of numerical features.\n",
    "# 2. One-hot Encoding of 'State' and 'Country' features.\n",
    "# 3. Logistic Regression with best hyperparameters\n",
    "pipelineLR2 = sklearnPipeline(steps=[\n",
    "    ('standardization', Standardize(numericalFeatures=featuresToStd)),\n",
    "    ('OneHotEncoder', OneHotEncoder(categoricalFeatures=['State', 'Country'])),\n",
    "    ('logisticRegression', LogisticRegression(C=1, penalty='l2', class_weight='balanced'))\n",
    "])"
   ]
  },
  {
   "cell_type": "code",
   "execution_count": 62,
   "id": "HNvOEec3oJ0a",
   "metadata": {
    "colab": {
     "base_uri": "https://localhost:8080/"
    },
    "id": "HNvOEec3oJ0a",
    "outputId": "542312f0-7278-4453-d5ab-4997e6a943ec"
   },
   "outputs": [
    {
     "name": "stdout",
     "output_type": "stream",
     "text": [
      "CPU times: user 13.4 s, sys: 1.96 s, total: 15.3 s\n",
      "Wall time: 16.1 s\n"
     ]
    },
    {
     "data": {
      "text/html": [
       "<style>#sk-container-id-7 {color: black;}#sk-container-id-7 pre{padding: 0;}#sk-container-id-7 div.sk-toggleable {background-color: white;}#sk-container-id-7 label.sk-toggleable__label {cursor: pointer;display: block;width: 100%;margin-bottom: 0;padding: 0.3em;box-sizing: border-box;text-align: center;}#sk-container-id-7 label.sk-toggleable__label-arrow:before {content: \"▸\";float: left;margin-right: 0.25em;color: #696969;}#sk-container-id-7 label.sk-toggleable__label-arrow:hover:before {color: black;}#sk-container-id-7 div.sk-estimator:hover label.sk-toggleable__label-arrow:before {color: black;}#sk-container-id-7 div.sk-toggleable__content {max-height: 0;max-width: 0;overflow: hidden;text-align: left;background-color: #f0f8ff;}#sk-container-id-7 div.sk-toggleable__content pre {margin: 0.2em;color: black;border-radius: 0.25em;background-color: #f0f8ff;}#sk-container-id-7 input.sk-toggleable__control:checked~div.sk-toggleable__content {max-height: 200px;max-width: 100%;overflow: auto;}#sk-container-id-7 input.sk-toggleable__control:checked~label.sk-toggleable__label-arrow:before {content: \"▾\";}#sk-container-id-7 div.sk-estimator input.sk-toggleable__control:checked~label.sk-toggleable__label {background-color: #d4ebff;}#sk-container-id-7 div.sk-label input.sk-toggleable__control:checked~label.sk-toggleable__label {background-color: #d4ebff;}#sk-container-id-7 input.sk-hidden--visually {border: 0;clip: rect(1px 1px 1px 1px);clip: rect(1px, 1px, 1px, 1px);height: 1px;margin: -1px;overflow: hidden;padding: 0;position: absolute;width: 1px;}#sk-container-id-7 div.sk-estimator {font-family: monospace;background-color: #f0f8ff;border: 1px dotted black;border-radius: 0.25em;box-sizing: border-box;margin-bottom: 0.5em;}#sk-container-id-7 div.sk-estimator:hover {background-color: #d4ebff;}#sk-container-id-7 div.sk-parallel-item::after {content: \"\";width: 100%;border-bottom: 1px solid gray;flex-grow: 1;}#sk-container-id-7 div.sk-label:hover label.sk-toggleable__label {background-color: #d4ebff;}#sk-container-id-7 div.sk-serial::before {content: \"\";position: absolute;border-left: 1px solid gray;box-sizing: border-box;top: 0;bottom: 0;left: 50%;z-index: 0;}#sk-container-id-7 div.sk-serial {display: flex;flex-direction: column;align-items: center;background-color: white;padding-right: 0.2em;padding-left: 0.2em;position: relative;}#sk-container-id-7 div.sk-item {position: relative;z-index: 1;}#sk-container-id-7 div.sk-parallel {display: flex;align-items: stretch;justify-content: center;background-color: white;position: relative;}#sk-container-id-7 div.sk-item::before, #sk-container-id-7 div.sk-parallel-item::before {content: \"\";position: absolute;border-left: 1px solid gray;box-sizing: border-box;top: 0;bottom: 0;left: 50%;z-index: -1;}#sk-container-id-7 div.sk-parallel-item {display: flex;flex-direction: column;z-index: 1;position: relative;background-color: white;}#sk-container-id-7 div.sk-parallel-item:first-child::after {align-self: flex-end;width: 50%;}#sk-container-id-7 div.sk-parallel-item:last-child::after {align-self: flex-start;width: 50%;}#sk-container-id-7 div.sk-parallel-item:only-child::after {width: 0;}#sk-container-id-7 div.sk-dashed-wrapped {border: 1px dashed gray;margin: 0 0.4em 0.5em 0.4em;box-sizing: border-box;padding-bottom: 0.4em;background-color: white;}#sk-container-id-7 div.sk-label label {font-family: monospace;font-weight: bold;display: inline-block;line-height: 1.2em;}#sk-container-id-7 div.sk-label-container {text-align: center;}#sk-container-id-7 div.sk-container {/* jupyter's `normalize.less` sets `[hidden] { display: none; }` but bootstrap.min.css set `[hidden] { display: none !important; }` so we also need the `!important` here to be able to override the default hidden behavior on the sphinx rendered scikit-learn.org. See: https://github.com/scikit-learn/scikit-learn/issues/21755 */display: inline-block !important;position: relative;}#sk-container-id-7 div.sk-text-repr-fallback {display: none;}</style><div id=\"sk-container-id-7\" class=\"sk-top-container\"><div class=\"sk-text-repr-fallback\"><pre>Pipeline(steps=[(&#x27;standardization&#x27;,\n",
       "                 Standardize(numericalFeatures=[&#x27;Race&#x27;, &#x27;ClaimSettlementDelay&#x27;,\n",
       "                                                &#x27;TreatmentDuration&#x27;, &#x27;Age&#x27;,\n",
       "                                                &#x27;TotalClaimAmount&#x27;,\n",
       "                                                &#x27;IPTotalAmount&#x27;,\n",
       "                                                &#x27;OPTotalAmount&#x27;,\n",
       "                                                &#x27;UniquePhysCount&#x27;,\n",
       "                                                &#x27;PhysRoleCount&#x27;])),\n",
       "                (&#x27;OneHotEncoder&#x27;,\n",
       "                 OneHotEncoder(categoricalFeatures=[&#x27;State&#x27;, &#x27;Country&#x27;])),\n",
       "                (&#x27;logisticRegression&#x27;,\n",
       "                 LogisticRegression(C=1, class_weight=&#x27;balanced&#x27;))])</pre><b>In a Jupyter environment, please rerun this cell to show the HTML representation or trust the notebook. <br />On GitHub, the HTML representation is unable to render, please try loading this page with nbviewer.org.</b></div><div class=\"sk-container\" hidden><div class=\"sk-item sk-dashed-wrapped\"><div class=\"sk-label-container\"><div class=\"sk-label sk-toggleable\"><input class=\"sk-toggleable__control sk-hidden--visually\" id=\"sk-estimator-id-20\" type=\"checkbox\" ><label for=\"sk-estimator-id-20\" class=\"sk-toggleable__label sk-toggleable__label-arrow\">Pipeline</label><div class=\"sk-toggleable__content\"><pre>Pipeline(steps=[(&#x27;standardization&#x27;,\n",
       "                 Standardize(numericalFeatures=[&#x27;Race&#x27;, &#x27;ClaimSettlementDelay&#x27;,\n",
       "                                                &#x27;TreatmentDuration&#x27;, &#x27;Age&#x27;,\n",
       "                                                &#x27;TotalClaimAmount&#x27;,\n",
       "                                                &#x27;IPTotalAmount&#x27;,\n",
       "                                                &#x27;OPTotalAmount&#x27;,\n",
       "                                                &#x27;UniquePhysCount&#x27;,\n",
       "                                                &#x27;PhysRoleCount&#x27;])),\n",
       "                (&#x27;OneHotEncoder&#x27;,\n",
       "                 OneHotEncoder(categoricalFeatures=[&#x27;State&#x27;, &#x27;Country&#x27;])),\n",
       "                (&#x27;logisticRegression&#x27;,\n",
       "                 LogisticRegression(C=1, class_weight=&#x27;balanced&#x27;))])</pre></div></div></div><div class=\"sk-serial\"><div class=\"sk-item\"><div class=\"sk-estimator sk-toggleable\"><input class=\"sk-toggleable__control sk-hidden--visually\" id=\"sk-estimator-id-21\" type=\"checkbox\" ><label for=\"sk-estimator-id-21\" class=\"sk-toggleable__label sk-toggleable__label-arrow\">Standardize</label><div class=\"sk-toggleable__content\"><pre>Standardize(numericalFeatures=[&#x27;Race&#x27;, &#x27;ClaimSettlementDelay&#x27;,\n",
       "                               &#x27;TreatmentDuration&#x27;, &#x27;Age&#x27;, &#x27;TotalClaimAmount&#x27;,\n",
       "                               &#x27;IPTotalAmount&#x27;, &#x27;OPTotalAmount&#x27;,\n",
       "                               &#x27;UniquePhysCount&#x27;, &#x27;PhysRoleCount&#x27;])</pre></div></div></div><div class=\"sk-item\"><div class=\"sk-estimator sk-toggleable\"><input class=\"sk-toggleable__control sk-hidden--visually\" id=\"sk-estimator-id-22\" type=\"checkbox\" ><label for=\"sk-estimator-id-22\" class=\"sk-toggleable__label sk-toggleable__label-arrow\">OneHotEncoder</label><div class=\"sk-toggleable__content\"><pre>OneHotEncoder(categoricalFeatures=[&#x27;State&#x27;, &#x27;Country&#x27;])</pre></div></div></div><div class=\"sk-item\"><div class=\"sk-estimator sk-toggleable\"><input class=\"sk-toggleable__control sk-hidden--visually\" id=\"sk-estimator-id-23\" type=\"checkbox\" ><label for=\"sk-estimator-id-23\" class=\"sk-toggleable__label sk-toggleable__label-arrow\">LogisticRegression</label><div class=\"sk-toggleable__content\"><pre>LogisticRegression(C=1, class_weight=&#x27;balanced&#x27;)</pre></div></div></div></div></div></div></div>"
      ],
      "text/plain": [
       "Pipeline(steps=[('standardization',\n",
       "                 Standardize(numericalFeatures=['Race', 'ClaimSettlementDelay',\n",
       "                                                'TreatmentDuration', 'Age',\n",
       "                                                'TotalClaimAmount',\n",
       "                                                'IPTotalAmount',\n",
       "                                                'OPTotalAmount',\n",
       "                                                'UniquePhysCount',\n",
       "                                                'PhysRoleCount'])),\n",
       "                ('OneHotEncoder',\n",
       "                 OneHotEncoder(categoricalFeatures=['State', 'Country'])),\n",
       "                ('logisticRegression',\n",
       "                 LogisticRegression(C=1, class_weight='balanced'))])"
      ]
     },
     "execution_count": 62,
     "metadata": {},
     "output_type": "execute_result"
    }
   ],
   "source": [
    "%%time\n",
    "# Fit the Pipeline on the Train Data\n",
    "pipelineLR2.fit(xTrain, yTrain)"
   ]
  },
  {
   "cell_type": "markdown",
   "id": "ZVWQyTPoo-tU",
   "metadata": {
    "id": "ZVWQyTPoo-tU"
   },
   "source": [
    "## <font color=\"blue\">Evaluate the Model now on One Hot Encoded Test Data with balanced Class weights</font>"
   ]
  },
  {
   "cell_type": "code",
   "execution_count": 63,
   "id": "3WcWUk38RCs6",
   "metadata": {
    "colab": {
     "base_uri": "https://localhost:8080/",
     "height": 781
    },
    "id": "3WcWUk38RCs6",
    "outputId": "30a4027a-7fbe-44b6-c199-c718738188fb"
   },
   "outputs": [
    {
     "name": "stdout",
     "output_type": "stream",
     "text": [
      "Log-loss of the Model on  Train  Dataset:  0.5979433896509029\n",
      "Log-loss of the Model on  Test  Dataset:  0.5996115235344532\n",
      "F1-Score of the Model on Test Data:  0.6182524521903372\n"
     ]
    },
    {
     "data": {
      "image/png": "[encoded data removed]",
      "text/plain": [
       "<Figure size 2000x500 with 6 Axes>"
      ]
     },
     "metadata": {},
     "output_type": "display_data"
    },
    {
     "name": "stdout",
     "output_type": "stream",
     "text": [
      "Percentage of misclassified points (Test Data):  31.862275288195406 %\n",
      "Sum of columns in the Precision Matrix:  [1. 1.]\n",
      "Sum of rows in the Recall Matrix:  [1. 1.]\n",
      "False Positive Rate (FPR) on Test Data:  0.31580852018586336\n",
      "False Negative Rate (FNR) on Test Data:  0.32319078947368424\n",
      "Balanced Accuracy Score (BACC) on Test Data:  0.6805003451702263\n",
      "Matthew's Correlation Coefficient (MCC) on Test Data:  0.35219657360058426\n"
     ]
    },
    {
     "data": {
      "image/png": "[encoded data removed]",
      "text/plain": [
       "<Figure size 640x480 with 1 Axes>"
      ]
     },
     "metadata": {},
     "output_type": "display_data"
    }
   ],
   "source": [
    "# Transformation of the Test Data (similar to the Train Data used while training the model) is taken care by the pipeline internally.\n",
    "showPerformanceMetrics(model=pipelineLR2, xTestData=xTest, yTestData=yTest, xTrainData=xTrain, yTrainData=yTrain)"
   ]
  },
  {
   "cell_type": "markdown",
   "id": "LmCaaVJHpzqC",
   "metadata": {
    "id": "LmCaaVJHpzqC"
   },
   "source": [
    "## <font color=\"blue\">Hyperparameter Tuning on One Hot Encoded Data with Random Undersampling</font>"
   ]
  },
  {
   "cell_type": "code",
   "execution_count": 64,
   "id": "mL33F8-4p213",
   "metadata": {
    "colab": {
     "base_uri": "https://localhost:8080/"
    },
    "id": "mL33F8-4p213",
    "outputId": "fb2365e8-d87f-4780-f1aa-ba749d97c26f"
   },
   "outputs": [
    {
     "name": "stdout",
     "output_type": "stream",
     "text": [
      "Fitting 5 folds for each of 10 candidates, totalling 50 fits\n",
      "[CV 1/5; 1/10] START C=100.0, penalty=l1........................................\n",
      "[CV 2/5; 1/10] START C=100.0, penalty=l1........................................\n",
      "[CV 3/5; 1/10] START C=100.0, penalty=l1........................................\n",
      "[CV 1/5; 1/10] END ...........C=100.0, penalty=l1;, score=nan total time=   0.1s\n",
      "[CV 2/5; 1/10] END ...........C=100.0, penalty=l1;, score=nan total time=   0.1s\n",
      "[CV 3/5; 1/10] END ...........C=100.0, penalty=l1;, score=nan total time=   0.1s\n",
      "[CV 4/5; 1/10] START C=100.0, penalty=l1........................................\n",
      "[CV 5/5; 1/10] START C=100.0, penalty=l1........................................\n",
      "[CV 4/5; 1/10] END ...........C=100.0, penalty=l1;, score=nan total time=   0.1s\n",
      "[CV 1/5; 2/10] START C=1.0, penalty=l2..........................................\n",
      "[CV 2/5; 2/10] START C=1.0, penalty=l2..........................................\n",
      "[CV 5/5; 1/10] END ...........C=100.0, penalty=l1;, score=nan total time=   0.1s\n",
      "[CV 3/5; 2/10] START C=1.0, penalty=l2..........................................\n",
      "[CV 4/5; 2/10] START C=1.0, penalty=l2..........................................\n",
      "[CV 5/5; 2/10] START C=1.0, penalty=l2..........................................\n",
      "[CV 1/5; 3/10] START C=0.01, penalty=l1.........................................\n",
      "[CV 2/5; 3/10] START C=0.01, penalty=l1.........................................\n",
      "[CV 3/5; 3/10] START C=0.01, penalty=l1.........................................\n",
      "[CV 1/5; 3/10] END ............C=0.01, penalty=l1;, score=nan total time=   0.2s\n",
      "[CV 2/5; 3/10] END ............C=0.01, penalty=l1;, score=nan total time=   0.2s\n",
      "[CV 4/5; 3/10] START C=0.01, penalty=l1.........................................\n",
      "[CV 3/5; 3/10] END ............C=0.01, penalty=l1;, score=nan total time=   0.2s\n",
      "[CV 5/5; 3/10] START C=0.01, penalty=l1.........................................\n",
      "[CV 1/5; 4/10] START C=1000.0, penalty=l1.......................................\n",
      "[CV 4/5; 3/10] END ............C=0.01, penalty=l1;, score=nan total time=   0.2s\n",
      "[CV 2/5; 4/10] START C=1000.0, penalty=l1.......................................\n",
      "[CV 1/5; 4/10] END ..........C=1000.0, penalty=l1;, score=nan total time=   0.2s\n",
      "[CV 5/5; 3/10] END ............C=0.01, penalty=l1;, score=nan total time=   0.2s\n",
      "[CV 2/5; 4/10] END ..........C=1000.0, penalty=l1;, score=nan total time=   0.2s\n",
      "[CV 3/5; 4/10] START C=1000.0, penalty=l1.......................................\n",
      "[CV 4/5; 4/10] START C=1000.0, penalty=l1.......................................\n",
      "[CV 5/5; 4/10] START C=1000.0, penalty=l1.......................................\n",
      "[CV 3/5; 4/10] END ..........C=1000.0, penalty=l1;, score=nan total time=   0.2s\n",
      "[CV 4/5; 4/10] END ..........C=1000.0, penalty=l1;, score=nan total time=   0.2s\n",
      "[CV 1/5; 5/10] START C=100.0, penalty=elasticnet................................\n",
      "[CV 5/5; 4/10] END ..........C=1000.0, penalty=l1;, score=nan total time=   0.2s\n",
      "[CV 2/5; 5/10] START C=100.0, penalty=elasticnet................................\n",
      "[CV 3/5; 5/10] START C=100.0, penalty=elasticnet................................\n",
      "[CV 1/5; 5/10] END ...C=100.0, penalty=elasticnet;, score=nan total time=   0.2s\n",
      "[CV 4/5; 5/10] START C=100.0, penalty=elasticnet................................\n",
      "[CV 2/5; 5/10] END ...C=100.0, penalty=elasticnet;, score=nan total time=   0.2s\n",
      "[CV 3/5; 5/10] END ...C=100.0, penalty=elasticnet;, score=nan total time=   0.2s\n",
      "[CV 4/5; 5/10] END ...C=100.0, penalty=elasticnet;, score=nan total time=   0.2s\n",
      "[CV 5/5; 5/10] START C=100.0, penalty=elasticnet................................\n",
      "[CV 2/5; 6/10] START C=10.0, penalty=elasticnet.................................\n",
      "[CV 1/5; 6/10] START C=10.0, penalty=elasticnet.................................\n",
      "[CV 5/5; 5/10] END ...C=100.0, penalty=elasticnet;, score=nan total time=   0.2s\n",
      "[CV 2/5; 6/10] END ....C=10.0, penalty=elasticnet;, score=nan total time=   0.2s\n",
      "[CV 1/5; 6/10] END ....C=10.0, penalty=elasticnet;, score=nan total time=   0.2s\n",
      "[CV 3/5; 6/10] START C=10.0, penalty=elasticnet.................................\n",
      "[CV 4/5; 6/10] START C=10.0, penalty=elasticnet.................................\n",
      "[CV 5/5; 6/10] START C=10.0, penalty=elasticnet.................................\n",
      "[CV 3/5; 6/10] END ....C=10.0, penalty=elasticnet;, score=nan total time=   0.2s\n",
      "[CV 1/5; 7/10] START C=100.0, penalty=l2........................................\n",
      "[CV 4/5; 6/10] END ....C=10.0, penalty=elasticnet;, score=nan total time=   0.2s\n",
      "[CV 5/5; 6/10] END ....C=10.0, penalty=elasticnet;, score=nan total time=   0.2s\n",
      "[CV 2/5; 7/10] START C=100.0, penalty=l2........................................\n",
      "[CV 3/5; 7/10] START C=100.0, penalty=l2........................................\n"
     ]
    },
    {
     "name": "stderr",
     "output_type": "stream",
     "text": [
      "/usr/local/lib/python3.11/site-packages/sklearn/linear_model/_logistic.py:460: ConvergenceWarning: lbfgs failed to converge (status=1):\n",
      "STOP: TOTAL NO. of ITERATIONS REACHED LIMIT.\n",
      "\n",
      "Increase the number of iterations (max_iter) or scale the data as shown in:\n",
      "    https://scikit-learn.org/stable/modules/preprocessing.html\n",
      "Please also refer to the documentation for alternative solver options:\n",
      "    https://scikit-learn.org/stable/modules/linear_model.html#logistic-regression\n",
      "  n_iter_i = _check_optimize_result(\n",
      "/usr/local/lib/python3.11/site-packages/sklearn/linear_model/_logistic.py:460: ConvergenceWarning: lbfgs failed to converge (status=1):\n",
      "STOP: TOTAL NO. of ITERATIONS REACHED LIMIT.\n",
      "\n",
      "Increase the number of iterations (max_iter) or scale the data as shown in:\n",
      "    https://scikit-learn.org/stable/modules/preprocessing.html\n",
      "Please also refer to the documentation for alternative solver options:\n",
      "    https://scikit-learn.org/stable/modules/linear_model.html#logistic-regression\n",
      "  n_iter_i = _check_optimize_result(\n"
     ]
    },
    {
     "name": "stdout",
     "output_type": "stream",
     "text": [
      "[CV 2/5; 2/10] END ...........C=1.0, penalty=l2;, score=0.684 total time=   6.3s\n",
      "[CV 1/5; 2/10] END ...........C=1.0, penalty=l2;, score=0.678 total time=   6.4s\n",
      "[CV 4/5; 7/10] START C=100.0, penalty=l2........................................\n",
      "[CV 5/5; 7/10] START C=100.0, penalty=l2........................................\n"
     ]
    },
    {
     "name": "stderr",
     "output_type": "stream",
     "text": [
      "/usr/local/lib/python3.11/site-packages/sklearn/linear_model/_logistic.py:460: ConvergenceWarning: lbfgs failed to converge (status=1):\n",
      "STOP: TOTAL NO. of ITERATIONS REACHED LIMIT.\n",
      "\n",
      "Increase the number of iterations (max_iter) or scale the data as shown in:\n",
      "    https://scikit-learn.org/stable/modules/preprocessing.html\n",
      "Please also refer to the documentation for alternative solver options:\n",
      "    https://scikit-learn.org/stable/modules/linear_model.html#logistic-regression\n",
      "  n_iter_i = _check_optimize_result(\n",
      "/usr/local/lib/python3.11/site-packages/sklearn/linear_model/_logistic.py:460: ConvergenceWarning: lbfgs failed to converge (status=1):\n",
      "STOP: TOTAL NO. of ITERATIONS REACHED LIMIT.\n",
      "\n",
      "Increase the number of iterations (max_iter) or scale the data as shown in:\n",
      "    https://scikit-learn.org/stable/modules/preprocessing.html\n",
      "Please also refer to the documentation for alternative solver options:\n",
      "    https://scikit-learn.org/stable/modules/linear_model.html#logistic-regression\n",
      "  n_iter_i = _check_optimize_result(\n"
     ]
    },
    {
     "name": "stdout",
     "output_type": "stream",
     "text": [
      "[CV 3/5; 2/10] END ...........C=1.0, penalty=l2;, score=0.684 total time=   6.7s\n",
      "[CV 5/5; 2/10] END ...........C=1.0, penalty=l2;, score=0.682 total time=   6.6s\n",
      "[CV 1/5; 8/10] START C=0.01, penalty=l2.........................................\n",
      "[CV 2/5; 8/10] START C=0.01, penalty=l2.........................................\n"
     ]
    },
    {
     "name": "stderr",
     "output_type": "stream",
     "text": [
      "/usr/local/lib/python3.11/site-packages/sklearn/linear_model/_logistic.py:460: ConvergenceWarning: lbfgs failed to converge (status=1):\n",
      "STOP: TOTAL NO. of ITERATIONS REACHED LIMIT.\n",
      "\n",
      "Increase the number of iterations (max_iter) or scale the data as shown in:\n",
      "    https://scikit-learn.org/stable/modules/preprocessing.html\n",
      "Please also refer to the documentation for alternative solver options:\n",
      "    https://scikit-learn.org/stable/modules/linear_model.html#logistic-regression\n",
      "  n_iter_i = _check_optimize_result(\n"
     ]
    },
    {
     "name": "stdout",
     "output_type": "stream",
     "text": [
      "[CV 4/5; 2/10] END ...........C=1.0, penalty=l2;, score=0.683 total time=   6.9s\n",
      "[CV 3/5; 8/10] START C=0.01, penalty=l2.........................................\n"
     ]
    },
    {
     "name": "stderr",
     "output_type": "stream",
     "text": [
      "/usr/local/lib/python3.11/site-packages/sklearn/linear_model/_logistic.py:460: ConvergenceWarning: lbfgs failed to converge (status=1):\n",
      "STOP: TOTAL NO. of ITERATIONS REACHED LIMIT.\n",
      "\n",
      "Increase the number of iterations (max_iter) or scale the data as shown in:\n",
      "    https://scikit-learn.org/stable/modules/preprocessing.html\n",
      "Please also refer to the documentation for alternative solver options:\n",
      "    https://scikit-learn.org/stable/modules/linear_model.html#logistic-regression\n",
      "  n_iter_i = _check_optimize_result(\n"
     ]
    },
    {
     "name": "stdout",
     "output_type": "stream",
     "text": [
      "[CV 1/5; 7/10] END .........C=100.0, penalty=l2;, score=0.678 total time=   8.4s\n",
      "[CV 4/5; 8/10] START C=0.01, penalty=l2.........................................\n"
     ]
    },
    {
     "name": "stderr",
     "output_type": "stream",
     "text": [
      "/usr/local/lib/python3.11/site-packages/sklearn/linear_model/_logistic.py:460: ConvergenceWarning: lbfgs failed to converge (status=1):\n",
      "STOP: TOTAL NO. of ITERATIONS REACHED LIMIT.\n",
      "\n",
      "Increase the number of iterations (max_iter) or scale the data as shown in:\n",
      "    https://scikit-learn.org/stable/modules/preprocessing.html\n",
      "Please also refer to the documentation for alternative solver options:\n",
      "    https://scikit-learn.org/stable/modules/linear_model.html#logistic-regression\n",
      "  n_iter_i = _check_optimize_result(\n",
      "/usr/local/lib/python3.11/site-packages/sklearn/linear_model/_logistic.py:460: ConvergenceWarning: lbfgs failed to converge (status=1):\n",
      "STOP: TOTAL NO. of ITERATIONS REACHED LIMIT.\n",
      "\n",
      "Increase the number of iterations (max_iter) or scale the data as shown in:\n",
      "    https://scikit-learn.org/stable/modules/preprocessing.html\n",
      "Please also refer to the documentation for alternative solver options:\n",
      "    https://scikit-learn.org/stable/modules/linear_model.html#logistic-regression\n",
      "  n_iter_i = _check_optimize_result(\n"
     ]
    },
    {
     "name": "stdout",
     "output_type": "stream",
     "text": [
      "[CV 3/5; 7/10] END .........C=100.0, penalty=l2;, score=0.684 total time=   8.6s\n",
      "[CV 2/5; 7/10] END .........C=100.0, penalty=l2;, score=0.683 total time=   8.7s\n",
      "[CV 5/5; 8/10] START C=0.01, penalty=l2.........................................\n",
      "[CV 1/5; 9/10] START C=0.001, penalty=elasticnet................................\n",
      "[CV 1/5; 9/10] END ...C=0.001, penalty=elasticnet;, score=nan total time=   0.2s\n",
      "[CV 2/5; 9/10] START C=0.001, penalty=elasticnet................................\n",
      "[CV 2/5; 9/10] END ...C=0.001, penalty=elasticnet;, score=nan total time=   0.2s\n",
      "[CV 3/5; 9/10] START C=0.001, penalty=elasticnet................................\n",
      "[CV 3/5; 9/10] END ...C=0.001, penalty=elasticnet;, score=nan total time=   0.3s\n",
      "[CV 4/5; 9/10] START C=0.001, penalty=elasticnet................................\n",
      "[CV 4/5; 9/10] END ...C=0.001, penalty=elasticnet;, score=nan total time=   0.2s\n",
      "[CV 5/5; 9/10] START C=0.001, penalty=elasticnet................................\n",
      "[CV 5/5; 9/10] END ...C=0.001, penalty=elasticnet;, score=nan total time=   0.3s\n",
      "[CV 1/5; 10/10] START C=0.1, penalty=l1.........................................\n",
      "[CV 1/5; 10/10] END ............C=0.1, penalty=l1;, score=nan total time=   0.2s\n",
      "[CV 2/5; 10/10] START C=0.1, penalty=l1.........................................\n",
      "[CV 2/5; 10/10] END ............C=0.1, penalty=l1;, score=nan total time=   0.2s\n",
      "[CV 3/5; 10/10] START C=0.1, penalty=l1.........................................\n",
      "[CV 3/5; 10/10] END ............C=0.1, penalty=l1;, score=nan total time=   0.3s\n",
      "[CV 4/5; 10/10] START C=0.1, penalty=l1.........................................\n",
      "[CV 4/5; 10/10] END ............C=0.1, penalty=l1;, score=nan total time=   0.3s\n",
      "[CV 5/5; 10/10] START C=0.1, penalty=l1.........................................\n",
      "[CV 5/5; 10/10] END ............C=0.1, penalty=l1;, score=nan total time=   0.3s\n"
     ]
    },
    {
     "name": "stderr",
     "output_type": "stream",
     "text": [
      "/usr/local/lib/python3.11/site-packages/sklearn/linear_model/_logistic.py:460: ConvergenceWarning: lbfgs failed to converge (status=1):\n",
      "STOP: TOTAL NO. of ITERATIONS REACHED LIMIT.\n",
      "\n",
      "Increase the number of iterations (max_iter) or scale the data as shown in:\n",
      "    https://scikit-learn.org/stable/modules/preprocessing.html\n",
      "Please also refer to the documentation for alternative solver options:\n",
      "    https://scikit-learn.org/stable/modules/linear_model.html#logistic-regression\n",
      "  n_iter_i = _check_optimize_result(\n",
      "/usr/local/lib/python3.11/site-packages/sklearn/linear_model/_logistic.py:460: ConvergenceWarning: lbfgs failed to converge (status=1):\n",
      "STOP: TOTAL NO. of ITERATIONS REACHED LIMIT.\n",
      "\n",
      "Increase the number of iterations (max_iter) or scale the data as shown in:\n",
      "    https://scikit-learn.org/stable/modules/preprocessing.html\n",
      "Please also refer to the documentation for alternative solver options:\n",
      "    https://scikit-learn.org/stable/modules/linear_model.html#logistic-regression\n",
      "  n_iter_i = _check_optimize_result(\n"
     ]
    },
    {
     "name": "stdout",
     "output_type": "stream",
     "text": [
      "[CV 5/5; 7/10] END .........C=100.0, penalty=l2;, score=0.681 total time=   8.7s\n",
      "[CV 4/5; 7/10] END .........C=100.0, penalty=l2;, score=0.683 total time=   8.8s\n"
     ]
    },
    {
     "name": "stderr",
     "output_type": "stream",
     "text": [
      "/usr/local/lib/python3.11/site-packages/sklearn/linear_model/_logistic.py:460: ConvergenceWarning: lbfgs failed to converge (status=1):\n",
      "STOP: TOTAL NO. of ITERATIONS REACHED LIMIT.\n",
      "\n",
      "Increase the number of iterations (max_iter) or scale the data as shown in:\n",
      "    https://scikit-learn.org/stable/modules/preprocessing.html\n",
      "Please also refer to the documentation for alternative solver options:\n",
      "    https://scikit-learn.org/stable/modules/linear_model.html#logistic-regression\n",
      "  n_iter_i = _check_optimize_result(\n",
      "/usr/local/lib/python3.11/site-packages/sklearn/linear_model/_logistic.py:460: ConvergenceWarning: lbfgs failed to converge (status=1):\n",
      "STOP: TOTAL NO. of ITERATIONS REACHED LIMIT.\n",
      "\n",
      "Increase the number of iterations (max_iter) or scale the data as shown in:\n",
      "    https://scikit-learn.org/stable/modules/preprocessing.html\n",
      "Please also refer to the documentation for alternative solver options:\n",
      "    https://scikit-learn.org/stable/modules/linear_model.html#logistic-regression\n",
      "  n_iter_i = _check_optimize_result(\n",
      "/usr/local/lib/python3.11/site-packages/sklearn/linear_model/_logistic.py:460: ConvergenceWarning: lbfgs failed to converge (status=1):\n",
      "STOP: TOTAL NO. of ITERATIONS REACHED LIMIT.\n",
      "\n",
      "Increase the number of iterations (max_iter) or scale the data as shown in:\n",
      "    https://scikit-learn.org/stable/modules/preprocessing.html\n",
      "Please also refer to the documentation for alternative solver options:\n",
      "    https://scikit-learn.org/stable/modules/linear_model.html#logistic-regression\n",
      "  n_iter_i = _check_optimize_result(\n"
     ]
    },
    {
     "name": "stdout",
     "output_type": "stream",
     "text": [
      "[CV 1/5; 8/10] END ..........C=0.01, penalty=l2;, score=0.677 total time=   8.8s\n",
      "[CV 2/5; 8/10] END ..........C=0.01, penalty=l2;, score=0.682 total time=   8.8s\n",
      "[CV 3/5; 8/10] END ..........C=0.01, penalty=l2;, score=0.681 total time=   8.5s\n"
     ]
    },
    {
     "name": "stderr",
     "output_type": "stream",
     "text": [
      "/usr/local/lib/python3.11/site-packages/sklearn/linear_model/_logistic.py:460: ConvergenceWarning: lbfgs failed to converge (status=1):\n",
      "STOP: TOTAL NO. of ITERATIONS REACHED LIMIT.\n",
      "\n",
      "Increase the number of iterations (max_iter) or scale the data as shown in:\n",
      "    https://scikit-learn.org/stable/modules/preprocessing.html\n",
      "Please also refer to the documentation for alternative solver options:\n",
      "    https://scikit-learn.org/stable/modules/linear_model.html#logistic-regression\n",
      "  n_iter_i = _check_optimize_result(\n"
     ]
    },
    {
     "name": "stdout",
     "output_type": "stream",
     "text": [
      "[CV 4/5; 8/10] END ..........C=0.01, penalty=l2;, score=0.681 total time=   6.6s\n"
     ]
    },
    {
     "name": "stderr",
     "output_type": "stream",
     "text": [
      "/usr/local/lib/python3.11/site-packages/sklearn/linear_model/_logistic.py:460: ConvergenceWarning: lbfgs failed to converge (status=1):\n",
      "STOP: TOTAL NO. of ITERATIONS REACHED LIMIT.\n",
      "\n",
      "Increase the number of iterations (max_iter) or scale the data as shown in:\n",
      "    https://scikit-learn.org/stable/modules/preprocessing.html\n",
      "Please also refer to the documentation for alternative solver options:\n",
      "    https://scikit-learn.org/stable/modules/linear_model.html#logistic-regression\n",
      "  n_iter_i = _check_optimize_result(\n"
     ]
    },
    {
     "name": "stdout",
     "output_type": "stream",
     "text": [
      "[CV 5/5; 8/10] END ..........C=0.01, penalty=l2;, score=0.679 total time=   6.4s\n",
      "CPU times: user 10.6 s, sys: 1.53 s, total: 12.1 s\n",
      "Wall time: 30.5 s\n"
     ]
    },
    {
     "data": {
      "text/html": [
       "<style>#sk-container-id-8 {color: black;}#sk-container-id-8 pre{padding: 0;}#sk-container-id-8 div.sk-toggleable {background-color: white;}#sk-container-id-8 label.sk-toggleable__label {cursor: pointer;display: block;width: 100%;margin-bottom: 0;padding: 0.3em;box-sizing: border-box;text-align: center;}#sk-container-id-8 label.sk-toggleable__label-arrow:before {content: \"▸\";float: left;margin-right: 0.25em;color: #696969;}#sk-container-id-8 label.sk-toggleable__label-arrow:hover:before {color: black;}#sk-container-id-8 div.sk-estimator:hover label.sk-toggleable__label-arrow:before {color: black;}#sk-container-id-8 div.sk-toggleable__content {max-height: 0;max-width: 0;overflow: hidden;text-align: left;background-color: #f0f8ff;}#sk-container-id-8 div.sk-toggleable__content pre {margin: 0.2em;color: black;border-radius: 0.25em;background-color: #f0f8ff;}#sk-container-id-8 input.sk-toggleable__control:checked~div.sk-toggleable__content {max-height: 200px;max-width: 100%;overflow: auto;}#sk-container-id-8 input.sk-toggleable__control:checked~label.sk-toggleable__label-arrow:before {content: \"▾\";}#sk-container-id-8 div.sk-estimator input.sk-toggleable__control:checked~label.sk-toggleable__label {background-color: #d4ebff;}#sk-container-id-8 div.sk-label input.sk-toggleable__control:checked~label.sk-toggleable__label {background-color: #d4ebff;}#sk-container-id-8 input.sk-hidden--visually {border: 0;clip: rect(1px 1px 1px 1px);clip: rect(1px, 1px, 1px, 1px);height: 1px;margin: -1px;overflow: hidden;padding: 0;position: absolute;width: 1px;}#sk-container-id-8 div.sk-estimator {font-family: monospace;background-color: #f0f8ff;border: 1px dotted black;border-radius: 0.25em;box-sizing: border-box;margin-bottom: 0.5em;}#sk-container-id-8 div.sk-estimator:hover {background-color: #d4ebff;}#sk-container-id-8 div.sk-parallel-item::after {content: \"\";width: 100%;border-bottom: 1px solid gray;flex-grow: 1;}#sk-container-id-8 div.sk-label:hover label.sk-toggleable__label {background-color: #d4ebff;}#sk-container-id-8 div.sk-serial::before {content: \"\";position: absolute;border-left: 1px solid gray;box-sizing: border-box;top: 0;bottom: 0;left: 50%;z-index: 0;}#sk-container-id-8 div.sk-serial {display: flex;flex-direction: column;align-items: center;background-color: white;padding-right: 0.2em;padding-left: 0.2em;position: relative;}#sk-container-id-8 div.sk-item {position: relative;z-index: 1;}#sk-container-id-8 div.sk-parallel {display: flex;align-items: stretch;justify-content: center;background-color: white;position: relative;}#sk-container-id-8 div.sk-item::before, #sk-container-id-8 div.sk-parallel-item::before {content: \"\";position: absolute;border-left: 1px solid gray;box-sizing: border-box;top: 0;bottom: 0;left: 50%;z-index: -1;}#sk-container-id-8 div.sk-parallel-item {display: flex;flex-direction: column;z-index: 1;position: relative;background-color: white;}#sk-container-id-8 div.sk-parallel-item:first-child::after {align-self: flex-end;width: 50%;}#sk-container-id-8 div.sk-parallel-item:last-child::after {align-self: flex-start;width: 50%;}#sk-container-id-8 div.sk-parallel-item:only-child::after {width: 0;}#sk-container-id-8 div.sk-dashed-wrapped {border: 1px dashed gray;margin: 0 0.4em 0.5em 0.4em;box-sizing: border-box;padding-bottom: 0.4em;background-color: white;}#sk-container-id-8 div.sk-label label {font-family: monospace;font-weight: bold;display: inline-block;line-height: 1.2em;}#sk-container-id-8 div.sk-label-container {text-align: center;}#sk-container-id-8 div.sk-container {/* jupyter's `normalize.less` sets `[hidden] { display: none; }` but bootstrap.min.css set `[hidden] { display: none !important; }` so we also need the `!important` here to be able to override the default hidden behavior on the sphinx rendered scikit-learn.org. See: https://github.com/scikit-learn/scikit-learn/issues/21755 */display: inline-block !important;position: relative;}#sk-container-id-8 div.sk-text-repr-fallback {display: none;}</style><div id=\"sk-container-id-8\" class=\"sk-top-container\"><div class=\"sk-text-repr-fallback\"><pre>Pipeline(steps=[(&#x27;standardization&#x27;,\n",
       "                 Standardize(numericalFeatures=[&#x27;Race&#x27;, &#x27;ClaimSettlementDelay&#x27;,\n",
       "                                                &#x27;TreatmentDuration&#x27;, &#x27;Age&#x27;,\n",
       "                                                &#x27;TotalClaimAmount&#x27;,\n",
       "                                                &#x27;IPTotalAmount&#x27;,\n",
       "                                                &#x27;OPTotalAmount&#x27;,\n",
       "                                                &#x27;UniquePhysCount&#x27;,\n",
       "                                                &#x27;PhysRoleCount&#x27;])),\n",
       "                (&#x27;OneHotEncoder&#x27;,\n",
       "                 OneHotEncoder(categoricalFeatures=[&#x27;State&#x27;, &#x27;Country&#x27;])),\n",
       "                (&#x27;randomizedSearchCV&#x27;,\n",
       "                 RandomizedSearchCV(cv=5,\n",
       "                                    estimator=LogisticRegression(class_weight=&#x27;balanced&#x27;),\n",
       "                                    n_jobs=-1,\n",
       "                                    param_distributions={&#x27;C&#x27;: array([1.e-03, 1.e-02, 1.e-01, 1.e+00, 1.e+01, 1.e+02, 1.e+03]),\n",
       "                                                         &#x27;penalty&#x27;: [&#x27;l1&#x27;, &#x27;l2&#x27;,\n",
       "                                                                     &#x27;elasticnet&#x27;]},\n",
       "                                    random_state=1, verbose=10))])</pre><b>In a Jupyter environment, please rerun this cell to show the HTML representation or trust the notebook. <br />On GitHub, the HTML representation is unable to render, please try loading this page with nbviewer.org.</b></div><div class=\"sk-container\" hidden><div class=\"sk-item sk-dashed-wrapped\"><div class=\"sk-label-container\"><div class=\"sk-label sk-toggleable\"><input class=\"sk-toggleable__control sk-hidden--visually\" id=\"sk-estimator-id-24\" type=\"checkbox\" ><label for=\"sk-estimator-id-24\" class=\"sk-toggleable__label sk-toggleable__label-arrow\">Pipeline</label><div class=\"sk-toggleable__content\"><pre>Pipeline(steps=[(&#x27;standardization&#x27;,\n",
       "                 Standardize(numericalFeatures=[&#x27;Race&#x27;, &#x27;ClaimSettlementDelay&#x27;,\n",
       "                                                &#x27;TreatmentDuration&#x27;, &#x27;Age&#x27;,\n",
       "                                                &#x27;TotalClaimAmount&#x27;,\n",
       "                                                &#x27;IPTotalAmount&#x27;,\n",
       "                                                &#x27;OPTotalAmount&#x27;,\n",
       "                                                &#x27;UniquePhysCount&#x27;,\n",
       "                                                &#x27;PhysRoleCount&#x27;])),\n",
       "                (&#x27;OneHotEncoder&#x27;,\n",
       "                 OneHotEncoder(categoricalFeatures=[&#x27;State&#x27;, &#x27;Country&#x27;])),\n",
       "                (&#x27;randomizedSearchCV&#x27;,\n",
       "                 RandomizedSearchCV(cv=5,\n",
       "                                    estimator=LogisticRegression(class_weight=&#x27;balanced&#x27;),\n",
       "                                    n_jobs=-1,\n",
       "                                    param_distributions={&#x27;C&#x27;: array([1.e-03, 1.e-02, 1.e-01, 1.e+00, 1.e+01, 1.e+02, 1.e+03]),\n",
       "                                                         &#x27;penalty&#x27;: [&#x27;l1&#x27;, &#x27;l2&#x27;,\n",
       "                                                                     &#x27;elasticnet&#x27;]},\n",
       "                                    random_state=1, verbose=10))])</pre></div></div></div><div class=\"sk-serial\"><div class=\"sk-item\"><div class=\"sk-estimator sk-toggleable\"><input class=\"sk-toggleable__control sk-hidden--visually\" id=\"sk-estimator-id-25\" type=\"checkbox\" ><label for=\"sk-estimator-id-25\" class=\"sk-toggleable__label sk-toggleable__label-arrow\">Standardize</label><div class=\"sk-toggleable__content\"><pre>Standardize(numericalFeatures=[&#x27;Race&#x27;, &#x27;ClaimSettlementDelay&#x27;,\n",
       "                               &#x27;TreatmentDuration&#x27;, &#x27;Age&#x27;, &#x27;TotalClaimAmount&#x27;,\n",
       "                               &#x27;IPTotalAmount&#x27;, &#x27;OPTotalAmount&#x27;,\n",
       "                               &#x27;UniquePhysCount&#x27;, &#x27;PhysRoleCount&#x27;])</pre></div></div></div><div class=\"sk-item\"><div class=\"sk-estimator sk-toggleable\"><input class=\"sk-toggleable__control sk-hidden--visually\" id=\"sk-estimator-id-26\" type=\"checkbox\" ><label for=\"sk-estimator-id-26\" class=\"sk-toggleable__label sk-toggleable__label-arrow\">OneHotEncoder</label><div class=\"sk-toggleable__content\"><pre>OneHotEncoder(categoricalFeatures=[&#x27;State&#x27;, &#x27;Country&#x27;])</pre></div></div></div><div class=\"sk-item sk-dashed-wrapped\"><div class=\"sk-label-container\"><div class=\"sk-label sk-toggleable\"><input class=\"sk-toggleable__control sk-hidden--visually\" id=\"sk-estimator-id-27\" type=\"checkbox\" ><label for=\"sk-estimator-id-27\" class=\"sk-toggleable__label sk-toggleable__label-arrow\">randomizedSearchCV: RandomizedSearchCV</label><div class=\"sk-toggleable__content\"><pre>RandomizedSearchCV(cv=5, estimator=LogisticRegression(class_weight=&#x27;balanced&#x27;),\n",
       "                   n_jobs=-1,\n",
       "                   param_distributions={&#x27;C&#x27;: array([1.e-03, 1.e-02, 1.e-01, 1.e+00, 1.e+01, 1.e+02, 1.e+03]),\n",
       "                                        &#x27;penalty&#x27;: [&#x27;l1&#x27;, &#x27;l2&#x27;, &#x27;elasticnet&#x27;]},\n",
       "                   random_state=1, verbose=10)</pre></div></div></div><div class=\"sk-parallel\"><div class=\"sk-parallel-item\"><div class=\"sk-item\"><div class=\"sk-label-container\"><div class=\"sk-label sk-toggleable\"><input class=\"sk-toggleable__control sk-hidden--visually\" id=\"sk-estimator-id-28\" type=\"checkbox\" ><label for=\"sk-estimator-id-28\" class=\"sk-toggleable__label sk-toggleable__label-arrow\">estimator: LogisticRegression</label><div class=\"sk-toggleable__content\"><pre>LogisticRegression(class_weight=&#x27;balanced&#x27;)</pre></div></div></div><div class=\"sk-serial\"><div class=\"sk-item\"><div class=\"sk-estimator sk-toggleable\"><input class=\"sk-toggleable__control sk-hidden--visually\" id=\"sk-estimator-id-29\" type=\"checkbox\" ><label for=\"sk-estimator-id-29\" class=\"sk-toggleable__label sk-toggleable__label-arrow\">LogisticRegression</label><div class=\"sk-toggleable__content\"><pre>LogisticRegression(class_weight=&#x27;balanced&#x27;)</pre></div></div></div></div></div></div></div></div></div></div></div></div>"
      ],
      "text/plain": [
       "Pipeline(steps=[('standardization',\n",
       "                 Standardize(numericalFeatures=['Race', 'ClaimSettlementDelay',\n",
       "                                                'TreatmentDuration', 'Age',\n",
       "                                                'TotalClaimAmount',\n",
       "                                                'IPTotalAmount',\n",
       "                                                'OPTotalAmount',\n",
       "                                                'UniquePhysCount',\n",
       "                                                'PhysRoleCount'])),\n",
       "                ('OneHotEncoder',\n",
       "                 OneHotEncoder(categoricalFeatures=['State', 'Country'])),\n",
       "                ('randomizedSearchCV',\n",
       "                 RandomizedSearchCV(cv=5,\n",
       "                                    estimator=LogisticRegression(class_weight='balanced'),\n",
       "                                    n_jobs=-1,\n",
       "                                    param_distributions={'C': array([1.e-03, 1.e-02, 1.e-01, 1.e+00, 1.e+01, 1.e+02, 1.e+03]),\n",
       "                                                         'penalty': ['l1', 'l2',\n",
       "                                                                     'elasticnet']},\n",
       "                                    random_state=1, verbose=10))])"
      ]
     },
     "execution_count": 64,
     "metadata": {},
     "output_type": "execute_result"
    }
   ],
   "source": [
    "%%time\n",
    "# Define an object of LogisticRegression Model\n",
    "logReg3 = LogisticRegression()\n",
    "\n",
    "# Define different values for the Hyperparameters to do tuning\n",
    "params = {\n",
    "    'C': np.logspace(-3, 3, 7),\n",
    "    'penalty': ['l1', 'l2', 'elasticnet']\n",
    "}\n",
    "\n",
    "# Create Pipeline: \n",
    "# 1. Standardization of numerical features.\n",
    "# 2. One-hot Encoding of 'State' and 'Country' features.\n",
    "# 3. RandomizedSearchCV using Logistic Regression\n",
    "pipelineLR3 = sklearnPipeline(steps=[\n",
    "    ('standardization', Standardize(numericalFeatures=featuresToStd)),\n",
    "    ('OneHotEncoder', OneHotEncoder(categoricalFeatures=['State', 'Country'])),\n",
    "    ('randomizedSearchCV', RandomizedSearchCV(logReg2, param_distributions=params, n_iter=10, cv=5, verbose=10, n_jobs=-1, random_state=1))\n",
    "])\n",
    "\n",
    "# Fit the Pipeline on the Train Data having random undersampling\n",
    "pipelineLR3.fit(xTrainRndmUS, yTrainRndmUS)"
   ]
  },
  {
   "cell_type": "code",
   "execution_count": 65,
   "id": "FEkmpXKQqOLk",
   "metadata": {
    "colab": {
     "base_uri": "https://localhost:8080/"
    },
    "id": "FEkmpXKQqOLk",
    "outputId": "12734708-5a26-4436-b33f-9a5b942f1311"
   },
   "outputs": [
    {
     "name": "stdout",
     "output_type": "stream",
     "text": [
      "Best Parameters found: {'penalty': 'l2', 'C': 1.0}\n"
     ]
    }
   ],
   "source": [
    "print('Best Parameters found:', pipelineLR3.steps[2][1].best_params_)"
   ]
  },
  {
   "cell_type": "markdown",
   "id": "YjVsqQ_qqyPi",
   "metadata": {
    "id": "YjVsqQ_qqyPi"
   },
   "source": [
    "## <font color=\"blue\">Train the Model now with best hyperparameters on One Hot Encoded Data with Random Undersampling</font>"
   ]
  },
  {
   "cell_type": "code",
   "execution_count": 66,
   "id": "R__Oq8gzq3Ah",
   "metadata": {
    "colab": {
     "base_uri": "https://localhost:8080/"
    },
    "id": "R__Oq8gzq3Ah",
    "outputId": "0565a68c-66de-4b4f-f3cc-6a5feb53766b"
   },
   "outputs": [
    {
     "name": "stdout",
     "output_type": "stream",
     "text": [
      "CPU times: user 9.8 s, sys: 1.1 s, total: 10.9 s\n",
      "Wall time: 11 s\n"
     ]
    },
    {
     "data": {
      "text/html": [
       "<style>#sk-container-id-9 {color: black;}#sk-container-id-9 pre{padding: 0;}#sk-container-id-9 div.sk-toggleable {background-color: white;}#sk-container-id-9 label.sk-toggleable__label {cursor: pointer;display: block;width: 100%;margin-bottom: 0;padding: 0.3em;box-sizing: border-box;text-align: center;}#sk-container-id-9 label.sk-toggleable__label-arrow:before {content: \"▸\";float: left;margin-right: 0.25em;color: #696969;}#sk-container-id-9 label.sk-toggleable__label-arrow:hover:before {color: black;}#sk-container-id-9 div.sk-estimator:hover label.sk-toggleable__label-arrow:before {color: black;}#sk-container-id-9 div.sk-toggleable__content {max-height: 0;max-width: 0;overflow: hidden;text-align: left;background-color: #f0f8ff;}#sk-container-id-9 div.sk-toggleable__content pre {margin: 0.2em;color: black;border-radius: 0.25em;background-color: #f0f8ff;}#sk-container-id-9 input.sk-toggleable__control:checked~div.sk-toggleable__content {max-height: 200px;max-width: 100%;overflow: auto;}#sk-container-id-9 input.sk-toggleable__control:checked~label.sk-toggleable__label-arrow:before {content: \"▾\";}#sk-container-id-9 div.sk-estimator input.sk-toggleable__control:checked~label.sk-toggleable__label {background-color: #d4ebff;}#sk-container-id-9 div.sk-label input.sk-toggleable__control:checked~label.sk-toggleable__label {background-color: #d4ebff;}#sk-container-id-9 input.sk-hidden--visually {border: 0;clip: rect(1px 1px 1px 1px);clip: rect(1px, 1px, 1px, 1px);height: 1px;margin: -1px;overflow: hidden;padding: 0;position: absolute;width: 1px;}#sk-container-id-9 div.sk-estimator {font-family: monospace;background-color: #f0f8ff;border: 1px dotted black;border-radius: 0.25em;box-sizing: border-box;margin-bottom: 0.5em;}#sk-container-id-9 div.sk-estimator:hover {background-color: #d4ebff;}#sk-container-id-9 div.sk-parallel-item::after {content: \"\";width: 100%;border-bottom: 1px solid gray;flex-grow: 1;}#sk-container-id-9 div.sk-label:hover label.sk-toggleable__label {background-color: #d4ebff;}#sk-container-id-9 div.sk-serial::before {content: \"\";position: absolute;border-left: 1px solid gray;box-sizing: border-box;top: 0;bottom: 0;left: 50%;z-index: 0;}#sk-container-id-9 div.sk-serial {display: flex;flex-direction: column;align-items: center;background-color: white;padding-right: 0.2em;padding-left: 0.2em;position: relative;}#sk-container-id-9 div.sk-item {position: relative;z-index: 1;}#sk-container-id-9 div.sk-parallel {display: flex;align-items: stretch;justify-content: center;background-color: white;position: relative;}#sk-container-id-9 div.sk-item::before, #sk-container-id-9 div.sk-parallel-item::before {content: \"\";position: absolute;border-left: 1px solid gray;box-sizing: border-box;top: 0;bottom: 0;left: 50%;z-index: -1;}#sk-container-id-9 div.sk-parallel-item {display: flex;flex-direction: column;z-index: 1;position: relative;background-color: white;}#sk-container-id-9 div.sk-parallel-item:first-child::after {align-self: flex-end;width: 50%;}#sk-container-id-9 div.sk-parallel-item:last-child::after {align-self: flex-start;width: 50%;}#sk-container-id-9 div.sk-parallel-item:only-child::after {width: 0;}#sk-container-id-9 div.sk-dashed-wrapped {border: 1px dashed gray;margin: 0 0.4em 0.5em 0.4em;box-sizing: border-box;padding-bottom: 0.4em;background-color: white;}#sk-container-id-9 div.sk-label label {font-family: monospace;font-weight: bold;display: inline-block;line-height: 1.2em;}#sk-container-id-9 div.sk-label-container {text-align: center;}#sk-container-id-9 div.sk-container {/* jupyter's `normalize.less` sets `[hidden] { display: none; }` but bootstrap.min.css set `[hidden] { display: none !important; }` so we also need the `!important` here to be able to override the default hidden behavior on the sphinx rendered scikit-learn.org. See: https://github.com/scikit-learn/scikit-learn/issues/21755 */display: inline-block !important;position: relative;}#sk-container-id-9 div.sk-text-repr-fallback {display: none;}</style><div id=\"sk-container-id-9\" class=\"sk-top-container\"><div class=\"sk-text-repr-fallback\"><pre>Pipeline(steps=[(&#x27;standardization&#x27;,\n",
       "                 Standardize(numericalFeatures=[&#x27;Race&#x27;, &#x27;ClaimSettlementDelay&#x27;,\n",
       "                                                &#x27;TreatmentDuration&#x27;, &#x27;Age&#x27;,\n",
       "                                                &#x27;TotalClaimAmount&#x27;,\n",
       "                                                &#x27;IPTotalAmount&#x27;,\n",
       "                                                &#x27;OPTotalAmount&#x27;,\n",
       "                                                &#x27;UniquePhysCount&#x27;,\n",
       "                                                &#x27;PhysRoleCount&#x27;])),\n",
       "                (&#x27;OneHotEncoder&#x27;,\n",
       "                 OneHotEncoder(categoricalFeatures=[&#x27;State&#x27;, &#x27;Country&#x27;])),\n",
       "                (&#x27;logisticRegression&#x27;, LogisticRegression(C=100))])</pre><b>In a Jupyter environment, please rerun this cell to show the HTML representation or trust the notebook. <br />On GitHub, the HTML representation is unable to render, please try loading this page with nbviewer.org.</b></div><div class=\"sk-container\" hidden><div class=\"sk-item sk-dashed-wrapped\"><div class=\"sk-label-container\"><div class=\"sk-label sk-toggleable\"><input class=\"sk-toggleable__control sk-hidden--visually\" id=\"sk-estimator-id-30\" type=\"checkbox\" ><label for=\"sk-estimator-id-30\" class=\"sk-toggleable__label sk-toggleable__label-arrow\">Pipeline</label><div class=\"sk-toggleable__content\"><pre>Pipeline(steps=[(&#x27;standardization&#x27;,\n",
       "                 Standardize(numericalFeatures=[&#x27;Race&#x27;, &#x27;ClaimSettlementDelay&#x27;,\n",
       "                                                &#x27;TreatmentDuration&#x27;, &#x27;Age&#x27;,\n",
       "                                                &#x27;TotalClaimAmount&#x27;,\n",
       "                                                &#x27;IPTotalAmount&#x27;,\n",
       "                                                &#x27;OPTotalAmount&#x27;,\n",
       "                                                &#x27;UniquePhysCount&#x27;,\n",
       "                                                &#x27;PhysRoleCount&#x27;])),\n",
       "                (&#x27;OneHotEncoder&#x27;,\n",
       "                 OneHotEncoder(categoricalFeatures=[&#x27;State&#x27;, &#x27;Country&#x27;])),\n",
       "                (&#x27;logisticRegression&#x27;, LogisticRegression(C=100))])</pre></div></div></div><div class=\"sk-serial\"><div class=\"sk-item\"><div class=\"sk-estimator sk-toggleable\"><input class=\"sk-toggleable__control sk-hidden--visually\" id=\"sk-estimator-id-31\" type=\"checkbox\" ><label for=\"sk-estimator-id-31\" class=\"sk-toggleable__label sk-toggleable__label-arrow\">Standardize</label><div class=\"sk-toggleable__content\"><pre>Standardize(numericalFeatures=[&#x27;Race&#x27;, &#x27;ClaimSettlementDelay&#x27;,\n",
       "                               &#x27;TreatmentDuration&#x27;, &#x27;Age&#x27;, &#x27;TotalClaimAmount&#x27;,\n",
       "                               &#x27;IPTotalAmount&#x27;, &#x27;OPTotalAmount&#x27;,\n",
       "                               &#x27;UniquePhysCount&#x27;, &#x27;PhysRoleCount&#x27;])</pre></div></div></div><div class=\"sk-item\"><div class=\"sk-estimator sk-toggleable\"><input class=\"sk-toggleable__control sk-hidden--visually\" id=\"sk-estimator-id-32\" type=\"checkbox\" ><label for=\"sk-estimator-id-32\" class=\"sk-toggleable__label sk-toggleable__label-arrow\">OneHotEncoder</label><div class=\"sk-toggleable__content\"><pre>OneHotEncoder(categoricalFeatures=[&#x27;State&#x27;, &#x27;Country&#x27;])</pre></div></div></div><div class=\"sk-item\"><div class=\"sk-estimator sk-toggleable\"><input class=\"sk-toggleable__control sk-hidden--visually\" id=\"sk-estimator-id-33\" type=\"checkbox\" ><label for=\"sk-estimator-id-33\" class=\"sk-toggleable__label sk-toggleable__label-arrow\">LogisticRegression</label><div class=\"sk-toggleable__content\"><pre>LogisticRegression(C=100)</pre></div></div></div></div></div></div></div>"
      ],
      "text/plain": [
       "Pipeline(steps=[('standardization',\n",
       "                 Standardize(numericalFeatures=['Race', 'ClaimSettlementDelay',\n",
       "                                                'TreatmentDuration', 'Age',\n",
       "                                                'TotalClaimAmount',\n",
       "                                                'IPTotalAmount',\n",
       "                                                'OPTotalAmount',\n",
       "                                                'UniquePhysCount',\n",
       "                                                'PhysRoleCount'])),\n",
       "                ('OneHotEncoder',\n",
       "                 OneHotEncoder(categoricalFeatures=['State', 'Country'])),\n",
       "                ('logisticRegression', LogisticRegression(C=100))])"
      ]
     },
     "execution_count": 66,
     "metadata": {},
     "output_type": "execute_result"
    }
   ],
   "source": [
    "%%time\n",
    "# Create Pipeline: \n",
    "# 1. Standardization of numerical features.\n",
    "# 2. One-hot Encoding of 'State' and 'Country' features.\n",
    "# 3. Logistic Regression with best hyperparameters\n",
    "pipelineLR3 = sklearnPipeline(steps=[\n",
    "    ('standardization', Standardize(numericalFeatures=featuresToStd)),\n",
    "    ('OneHotEncoder', OneHotEncoder(categoricalFeatures=['State', 'Country'])),\n",
    "    ('logisticRegression', LogisticRegression(C=100, penalty='l2'))\n",
    "])\n",
    "\n",
    "# Fit the Pipeline on the Train Data with random undersampling\n",
    "pipelineLR3.fit(xTrainRndmUS, yTrainRndmUS)"
   ]
  },
  {
   "cell_type": "markdown",
   "id": "nrS0XT84rUyv",
   "metadata": {
    "id": "nrS0XT84rUyv"
   },
   "source": [
    "## <font color=\"blue\">Evaluate the Model now on One Hot Encoded Test Data with Random Undersampling</font>"
   ]
  },
  {
   "cell_type": "code",
   "execution_count": 67,
   "id": "qmAyUKIWrX_3",
   "metadata": {
    "colab": {
     "base_uri": "https://localhost:8080/",
     "height": 781
    },
    "id": "qmAyUKIWrX_3",
    "outputId": "c7d373c6-b33f-4b56-c152-dcd83d642579"
   },
   "outputs": [
    {
     "name": "stdout",
     "output_type": "stream",
     "text": [
      "Log-loss of the Model on  Train  Dataset:  0.5984056336843996\n",
      "Log-loss of the Model on  Test  Dataset:  0.5995148970833198\n",
      "F1-Score of the Model on Test Data:  0.6182820493570287\n"
     ]
    },
    {
     "data": {
      "image/png": "[encoded data removed]",
      "text/plain": [
       "<Figure size 2000x500 with 6 Axes>"
      ]
     },
     "metadata": {},
     "output_type": "display_data"
    },
    {
     "name": "stdout",
     "output_type": "stream",
     "text": [
      "Percentage of misclassified points (Test Data):  31.879293820481358 %\n",
      "Sum of columns in the Precision Matrix:  [1. 1.]\n",
      "Sum of rows in the Recall Matrix:  [1. 1.]\n",
      "False Positive Rate (FPR) on Test Data:  0.3163585831535978\n",
      "False Negative Rate (FNR) on Test Data:  0.3227443609022556\n",
      "Balanced Accuracy Score (BACC) on Test Data:  0.6804485279720732\n",
      "Matthew's Correlation Coefficient (MCC) on Test Data:  0.3520618751757289\n"
     ]
    },
    {
     "data": {
      "image/png": "[encoded data removed]",
      "text/plain": [
       "<Figure size 640x480 with 1 Axes>"
      ]
     },
     "metadata": {},
     "output_type": "display_data"
    }
   ],
   "source": [
    "# Transformation of the Test Data (similar to the Train Data used while training the model) is taken care by the pipeline internally.\n",
    "showPerformanceMetrics(model=pipelineLR3, xTestData=xTest, yTestData=yTest, xTrainData=xTrainRndmUS, yTrainData=yTrainRndmUS)"
   ]
  },
  {
   "cell_type": "markdown",
   "id": "fOhWEjCOsuqQ",
   "metadata": {
    "id": "fOhWEjCOsuqQ"
   },
   "source": [
    "## <font color=\"blue\">Hyperparameter Tuning on One Hot Encoded Data with SMOTE Oversampling</font>"
   ]
  },
  {
   "cell_type": "code",
   "execution_count": 68,
   "id": "BE-cF7jbsxNe",
   "metadata": {
    "colab": {
     "base_uri": "https://localhost:8080/"
    },
    "id": "BE-cF7jbsxNe",
    "outputId": "cbdc3ab0-0941-4f2e-d8de-8302a417937e"
   },
   "outputs": [
    {
     "name": "stdout",
     "output_type": "stream",
     "text": [
      "Fitting 5 folds for each of 10 candidates, totalling 50 fits\n",
      "[CV 1/5; 1/10] START C=100.0, penalty=l1........................................\n",
      "[CV 2/5; 1/10] START C=100.0, penalty=l1........................................\n",
      "[CV 3/5; 1/10] START C=100.0, penalty=l1........................................\n",
      "[CV 1/5; 1/10] END ...........C=100.0, penalty=l1;, score=nan total time=   0.2s\n",
      "[CV 2/5; 1/10] END ...........C=100.0, penalty=l1;, score=nan total time=   0.2s\n",
      "[CV 4/5; 1/10] START C=100.0, penalty=l1........................................\n",
      "[CV 1/5; 2/10] START C=1.0, penalty=l2..........................................\n",
      "[CV 5/5; 1/10] START C=100.0, penalty=l1........................................\n",
      "[CV 2/5; 2/10] START C=1.0, penalty=l2..........................................\n",
      "[CV 3/5; 2/10] START C=1.0, penalty=l2..........................................\n",
      "[CV 5/5; 2/10] START C=1.0, penalty=l2..........................................\n",
      "[CV 4/5; 2/10] START C=1.0, penalty=l2..........................................\n",
      "[CV 3/5; 1/10] END ...........C=100.0, penalty=l1;, score=nan total time=   0.3s\n",
      "[CV 1/5; 3/10] START C=0.01, penalty=l1.........................................\n",
      "[CV 4/5; 1/10] END ...........C=100.0, penalty=l1;, score=nan total time=   0.3s\n",
      "[CV 5/5; 1/10] END ...........C=100.0, penalty=l1;, score=nan total time=   0.4s\n",
      "[CV 2/5; 3/10] START C=0.01, penalty=l1.........................................\n",
      "[CV 3/5; 3/10] START C=0.01, penalty=l1.........................................\n",
      "[CV 1/5; 3/10] END ............C=0.01, penalty=l1;, score=nan total time=   0.4s\n",
      "[CV 4/5; 3/10] START C=0.01, penalty=l1.........................................\n",
      "[CV 2/5; 3/10] END ............C=0.01, penalty=l1;, score=nan total time=   0.4s\n",
      "[CV 3/5; 3/10] END ............C=0.01, penalty=l1;, score=nan total time=   0.4s\n",
      "[CV 5/5; 3/10] START C=0.01, penalty=l1.........................................\n",
      "[CV 1/5; 4/10] START C=1000.0, penalty=l1.......................................\n",
      "[CV 4/5; 3/10] END ............C=0.01, penalty=l1;, score=nan total time=   0.4s\n",
      "[CV 2/5; 4/10] START C=1000.0, penalty=l1.......................................\n",
      "[CV 5/5; 3/10] END ............C=0.01, penalty=l1;, score=nan total time=   0.3s\n",
      "[CV 1/5; 4/10] END ..........C=1000.0, penalty=l1;, score=nan total time=   0.3s\n",
      "[CV 3/5; 4/10] START C=1000.0, penalty=l1.......................................\n",
      "[CV 4/5; 4/10] START C=1000.0, penalty=l1.......................................\n",
      "[CV 2/5; 4/10] END ..........C=1000.0, penalty=l1;, score=nan total time=   0.3s\n",
      "[CV 5/5; 4/10] START C=1000.0, penalty=l1.......................................\n",
      "[CV 3/5; 4/10] END ..........C=1000.0, penalty=l1;, score=nan total time=   0.4s\n",
      "[CV 4/5; 4/10] END ..........C=1000.0, penalty=l1;, score=nan total time=   0.4s\n",
      "[CV 1/5; 5/10] START C=100.0, penalty=elasticnet................................\n",
      "[CV 2/5; 5/10] START C=100.0, penalty=elasticnet................................\n",
      "[CV 5/5; 4/10] END ..........C=1000.0, penalty=l1;, score=nan total time=   0.3s\n",
      "[CV 3/5; 5/10] START C=100.0, penalty=elasticnet................................\n",
      "[CV 1/5; 5/10] END ...C=100.0, penalty=elasticnet;, score=nan total time=   0.4s\n",
      "[CV 4/5; 5/10] START C=100.0, penalty=elasticnet................................\n",
      "[CV 2/5; 5/10] END ...C=100.0, penalty=elasticnet;, score=nan total time=   0.4s\n",
      "[CV 5/5; 5/10] START C=100.0, penalty=elasticnet................................\n",
      "[CV 3/5; 5/10] END ...C=100.0, penalty=elasticnet;, score=nan total time=   0.3s\n",
      "[CV 1/5; 6/10] START C=10.0, penalty=elasticnet.................................\n",
      "[CV 4/5; 5/10] END ...C=100.0, penalty=elasticnet;, score=nan total time=   0.3s\n",
      "[CV 2/5; 6/10] START C=10.0, penalty=elasticnet.................................\n",
      "[CV 5/5; 5/10] END ...C=100.0, penalty=elasticnet;, score=nan total time=   0.3s\n",
      "[CV 3/5; 6/10] START C=10.0, penalty=elasticnet.................................\n",
      "[CV 1/5; 6/10] END ....C=10.0, penalty=elasticnet;, score=nan total time=   0.3s\n",
      "[CV 4/5; 6/10] START C=10.0, penalty=elasticnet.................................\n",
      "[CV 2/5; 6/10] END ....C=10.0, penalty=elasticnet;, score=nan total time=   0.4s\n",
      "[CV 5/5; 6/10] START C=10.0, penalty=elasticnet.................................\n",
      "[CV 3/5; 6/10] END ....C=10.0, penalty=elasticnet;, score=nan total time=   0.5s\n",
      "[CV 1/5; 7/10] START C=100.0, penalty=l2........................................\n",
      "[CV 4/5; 6/10] END ....C=10.0, penalty=elasticnet;, score=nan total time=   0.4s\n",
      "[CV 5/5; 6/10] END ....C=10.0, penalty=elasticnet;, score=nan total time=   0.4s\n",
      "[CV 2/5; 7/10] START C=100.0, penalty=l2........................................\n",
      "[CV 3/5; 7/10] START C=100.0, penalty=l2........................................\n"
     ]
    },
    {
     "name": "stderr",
     "output_type": "stream",
     "text": [
      "/usr/local/lib/python3.11/site-packages/sklearn/linear_model/_logistic.py:460: ConvergenceWarning: lbfgs failed to converge (status=1):\n",
      "STOP: TOTAL NO. of ITERATIONS REACHED LIMIT.\n",
      "\n",
      "Increase the number of iterations (max_iter) or scale the data as shown in:\n",
      "    https://scikit-learn.org/stable/modules/preprocessing.html\n",
      "Please also refer to the documentation for alternative solver options:\n",
      "    https://scikit-learn.org/stable/modules/linear_model.html#logistic-regression\n",
      "  n_iter_i = _check_optimize_result(\n",
      "/usr/local/lib/python3.11/site-packages/sklearn/linear_model/_logistic.py:460: ConvergenceWarning: lbfgs failed to converge (status=1):\n",
      "STOP: TOTAL NO. of ITERATIONS REACHED LIMIT.\n",
      "\n",
      "Increase the number of iterations (max_iter) or scale the data as shown in:\n",
      "    https://scikit-learn.org/stable/modules/preprocessing.html\n",
      "Please also refer to the documentation for alternative solver options:\n",
      "    https://scikit-learn.org/stable/modules/linear_model.html#logistic-regression\n",
      "  n_iter_i = _check_optimize_result(\n"
     ]
    },
    {
     "name": "stdout",
     "output_type": "stream",
     "text": [
      "[CV 5/5; 2/10] END ...........C=1.0, penalty=l2;, score=0.797 total time=  12.7s\n",
      "[CV 4/5; 7/10] START C=100.0, penalty=l2........................................\n",
      "[CV 3/5; 2/10] END ...........C=1.0, penalty=l2;, score=0.645 total time=  12.8s\n"
     ]
    },
    {
     "name": "stderr",
     "output_type": "stream",
     "text": [
      "/usr/local/lib/python3.11/site-packages/sklearn/linear_model/_logistic.py:460: ConvergenceWarning: lbfgs failed to converge (status=1):\n",
      "STOP: TOTAL NO. of ITERATIONS REACHED LIMIT.\n",
      "\n",
      "Increase the number of iterations (max_iter) or scale the data as shown in:\n",
      "    https://scikit-learn.org/stable/modules/preprocessing.html\n",
      "Please also refer to the documentation for alternative solver options:\n",
      "    https://scikit-learn.org/stable/modules/linear_model.html#logistic-regression\n",
      "  n_iter_i = _check_optimize_result(\n",
      "/usr/local/lib/python3.11/site-packages/sklearn/linear_model/_logistic.py:460: ConvergenceWarning: lbfgs failed to converge (status=1):\n",
      "STOP: TOTAL NO. of ITERATIONS REACHED LIMIT.\n",
      "\n",
      "Increase the number of iterations (max_iter) or scale the data as shown in:\n",
      "    https://scikit-learn.org/stable/modules/preprocessing.html\n",
      "Please also refer to the documentation for alternative solver options:\n",
      "    https://scikit-learn.org/stable/modules/linear_model.html#logistic-regression\n",
      "  n_iter_i = _check_optimize_result(\n",
      "/usr/local/lib/python3.11/site-packages/sklearn/linear_model/_logistic.py:460: ConvergenceWarning: lbfgs failed to converge (status=1):\n",
      "STOP: TOTAL NO. of ITERATIONS REACHED LIMIT.\n",
      "\n",
      "Increase the number of iterations (max_iter) or scale the data as shown in:\n",
      "    https://scikit-learn.org/stable/modules/preprocessing.html\n",
      "Please also refer to the documentation for alternative solver options:\n",
      "    https://scikit-learn.org/stable/modules/linear_model.html#logistic-regression\n",
      "  n_iter_i = _check_optimize_result(\n"
     ]
    },
    {
     "name": "stdout",
     "output_type": "stream",
     "text": [
      "[CV 5/5; 7/10] START C=100.0, penalty=l2........................................\n",
      "[CV 4/5; 2/10] END ...........C=1.0, penalty=l2;, score=0.786 total time=  12.9s\n",
      "[CV 1/5; 2/10] END ...........C=1.0, penalty=l2;, score=0.647 total time=  13.1s\n",
      "[CV 1/5; 8/10] START C=0.01, penalty=l2.........................................\n",
      "[CV 2/5; 2/10] END ...........C=1.0, penalty=l2;, score=0.644 total time=  13.1s\n",
      "[CV 2/5; 8/10] START C=0.01, penalty=l2.........................................\n",
      "[CV 3/5; 8/10] START C=0.01, penalty=l2.........................................\n"
     ]
    },
    {
     "name": "stderr",
     "output_type": "stream",
     "text": [
      "/usr/local/lib/python3.11/site-packages/sklearn/linear_model/_logistic.py:460: ConvergenceWarning: lbfgs failed to converge (status=1):\n",
      "STOP: TOTAL NO. of ITERATIONS REACHED LIMIT.\n",
      "\n",
      "Increase the number of iterations (max_iter) or scale the data as shown in:\n",
      "    https://scikit-learn.org/stable/modules/preprocessing.html\n",
      "Please also refer to the documentation for alternative solver options:\n",
      "    https://scikit-learn.org/stable/modules/linear_model.html#logistic-regression\n",
      "  n_iter_i = _check_optimize_result(\n"
     ]
    },
    {
     "name": "stdout",
     "output_type": "stream",
     "text": [
      "[CV 1/5; 7/10] END .........C=100.0, penalty=l2;, score=0.647 total time=  12.5s\n",
      "[CV 4/5; 8/10] START C=0.01, penalty=l2.........................................\n"
     ]
    },
    {
     "name": "stderr",
     "output_type": "stream",
     "text": [
      "/usr/local/lib/python3.11/site-packages/sklearn/linear_model/_logistic.py:460: ConvergenceWarning: lbfgs failed to converge (status=1):\n",
      "STOP: TOTAL NO. of ITERATIONS REACHED LIMIT.\n",
      "\n",
      "Increase the number of iterations (max_iter) or scale the data as shown in:\n",
      "    https://scikit-learn.org/stable/modules/preprocessing.html\n",
      "Please also refer to the documentation for alternative solver options:\n",
      "    https://scikit-learn.org/stable/modules/linear_model.html#logistic-regression\n",
      "  n_iter_i = _check_optimize_result(\n",
      "/usr/local/lib/python3.11/site-packages/sklearn/linear_model/_logistic.py:460: ConvergenceWarning: lbfgs failed to converge (status=1):\n",
      "STOP: TOTAL NO. of ITERATIONS REACHED LIMIT.\n",
      "\n",
      "Increase the number of iterations (max_iter) or scale the data as shown in:\n",
      "    https://scikit-learn.org/stable/modules/preprocessing.html\n",
      "Please also refer to the documentation for alternative solver options:\n",
      "    https://scikit-learn.org/stable/modules/linear_model.html#logistic-regression\n",
      "  n_iter_i = _check_optimize_result(\n"
     ]
    },
    {
     "name": "stdout",
     "output_type": "stream",
     "text": [
      "[CV 3/5; 7/10] END .........C=100.0, penalty=l2;, score=0.646 total time=  12.7s\n",
      "[CV 2/5; 7/10] END .........C=100.0, penalty=l2;, score=0.645 total time=  12.9s\n",
      "[CV 1/5; 9/10] START C=0.001, penalty=elasticnet................................\n",
      "[CV 5/5; 8/10] START C=0.01, penalty=l2.........................................\n",
      "[CV 1/5; 9/10] END ...C=0.001, penalty=elasticnet;, score=nan total time=   0.4s\n",
      "[CV 2/5; 9/10] START C=0.001, penalty=elasticnet................................\n",
      "[CV 2/5; 9/10] END ...C=0.001, penalty=elasticnet;, score=nan total time=   0.4s\n",
      "[CV 3/5; 9/10] START C=0.001, penalty=elasticnet................................\n",
      "[CV 3/5; 9/10] END ...C=0.001, penalty=elasticnet;, score=nan total time=   0.4s\n",
      "[CV 4/5; 9/10] START C=0.001, penalty=elasticnet................................\n",
      "[CV 4/5; 9/10] END ...C=0.001, penalty=elasticnet;, score=nan total time=   0.4s\n",
      "[CV 5/5; 9/10] START C=0.001, penalty=elasticnet................................\n",
      "[CV 5/5; 9/10] END ...C=0.001, penalty=elasticnet;, score=nan total time=   0.4s\n",
      "[CV 1/5; 10/10] START C=0.1, penalty=l1.........................................\n",
      "[CV 1/5; 10/10] END ............C=0.1, penalty=l1;, score=nan total time=   0.4s\n",
      "[CV 2/5; 10/10] START C=0.1, penalty=l1.........................................\n",
      "[CV 2/5; 10/10] END ............C=0.1, penalty=l1;, score=nan total time=   0.4s\n",
      "[CV 3/5; 10/10] START C=0.1, penalty=l1.........................................\n",
      "[CV 3/5; 10/10] END ............C=0.1, penalty=l1;, score=nan total time=   0.4s\n",
      "[CV 4/5; 10/10] START C=0.1, penalty=l1.........................................\n",
      "[CV 4/5; 10/10] END ............C=0.1, penalty=l1;, score=nan total time=   0.3s\n",
      "[CV 5/5; 10/10] START C=0.1, penalty=l1.........................................\n",
      "[CV 5/5; 10/10] END ............C=0.1, penalty=l1;, score=nan total time=   0.4s\n"
     ]
    },
    {
     "name": "stderr",
     "output_type": "stream",
     "text": [
      "/usr/local/lib/python3.11/site-packages/sklearn/linear_model/_logistic.py:460: ConvergenceWarning: lbfgs failed to converge (status=1):\n",
      "STOP: TOTAL NO. of ITERATIONS REACHED LIMIT.\n",
      "\n",
      "Increase the number of iterations (max_iter) or scale the data as shown in:\n",
      "    https://scikit-learn.org/stable/modules/preprocessing.html\n",
      "Please also refer to the documentation for alternative solver options:\n",
      "    https://scikit-learn.org/stable/modules/linear_model.html#logistic-regression\n",
      "  n_iter_i = _check_optimize_result(\n",
      "/usr/local/lib/python3.11/site-packages/sklearn/linear_model/_logistic.py:460: ConvergenceWarning: lbfgs failed to converge (status=1):\n",
      "STOP: TOTAL NO. of ITERATIONS REACHED LIMIT.\n",
      "\n",
      "Increase the number of iterations (max_iter) or scale the data as shown in:\n",
      "    https://scikit-learn.org/stable/modules/preprocessing.html\n",
      "Please also refer to the documentation for alternative solver options:\n",
      "    https://scikit-learn.org/stable/modules/linear_model.html#logistic-regression\n",
      "  n_iter_i = _check_optimize_result(\n"
     ]
    },
    {
     "name": "stdout",
     "output_type": "stream",
     "text": [
      "[CV 1/5; 8/10] END ..........C=0.01, penalty=l2;, score=0.643 total time=  11.4s\n",
      "[CV 2/5; 8/10] END ..........C=0.01, penalty=l2;, score=0.641 total time=  11.5s\n"
     ]
    },
    {
     "name": "stderr",
     "output_type": "stream",
     "text": [
      "/usr/local/lib/python3.11/site-packages/sklearn/linear_model/_logistic.py:460: ConvergenceWarning: lbfgs failed to converge (status=1):\n",
      "STOP: TOTAL NO. of ITERATIONS REACHED LIMIT.\n",
      "\n",
      "Increase the number of iterations (max_iter) or scale the data as shown in:\n",
      "    https://scikit-learn.org/stable/modules/preprocessing.html\n",
      "Please also refer to the documentation for alternative solver options:\n",
      "    https://scikit-learn.org/stable/modules/linear_model.html#logistic-regression\n",
      "  n_iter_i = _check_optimize_result(\n",
      "/usr/local/lib/python3.11/site-packages/sklearn/linear_model/_logistic.py:460: ConvergenceWarning: lbfgs failed to converge (status=1):\n",
      "STOP: TOTAL NO. of ITERATIONS REACHED LIMIT.\n",
      "\n",
      "Increase the number of iterations (max_iter) or scale the data as shown in:\n",
      "    https://scikit-learn.org/stable/modules/preprocessing.html\n",
      "Please also refer to the documentation for alternative solver options:\n",
      "    https://scikit-learn.org/stable/modules/linear_model.html#logistic-regression\n",
      "  n_iter_i = _check_optimize_result(\n"
     ]
    },
    {
     "name": "stdout",
     "output_type": "stream",
     "text": [
      "[CV 4/5; 7/10] END .........C=100.0, penalty=l2;, score=0.789 total time=  11.9s\n",
      "[CV 5/5; 7/10] END .........C=100.0, penalty=l2;, score=0.796 total time=  11.8s\n"
     ]
    },
    {
     "name": "stderr",
     "output_type": "stream",
     "text": [
      "/usr/local/lib/python3.11/site-packages/sklearn/linear_model/_logistic.py:460: ConvergenceWarning: lbfgs failed to converge (status=1):\n",
      "STOP: TOTAL NO. of ITERATIONS REACHED LIMIT.\n",
      "\n",
      "Increase the number of iterations (max_iter) or scale the data as shown in:\n",
      "    https://scikit-learn.org/stable/modules/preprocessing.html\n",
      "Please also refer to the documentation for alternative solver options:\n",
      "    https://scikit-learn.org/stable/modules/linear_model.html#logistic-regression\n",
      "  n_iter_i = _check_optimize_result(\n"
     ]
    },
    {
     "name": "stdout",
     "output_type": "stream",
     "text": [
      "[CV 3/5; 8/10] END ..........C=0.01, penalty=l2;, score=0.640 total time=  11.9s\n"
     ]
    },
    {
     "name": "stderr",
     "output_type": "stream",
     "text": [
      "/usr/local/lib/python3.11/site-packages/sklearn/linear_model/_logistic.py:460: ConvergenceWarning: lbfgs failed to converge (status=1):\n",
      "STOP: TOTAL NO. of ITERATIONS REACHED LIMIT.\n",
      "\n",
      "Increase the number of iterations (max_iter) or scale the data as shown in:\n",
      "    https://scikit-learn.org/stable/modules/preprocessing.html\n",
      "Please also refer to the documentation for alternative solver options:\n",
      "    https://scikit-learn.org/stable/modules/linear_model.html#logistic-regression\n",
      "  n_iter_i = _check_optimize_result(\n"
     ]
    },
    {
     "name": "stdout",
     "output_type": "stream",
     "text": [
      "[CV 4/5; 8/10] END ..........C=0.01, penalty=l2;, score=0.786 total time=  10.4s\n"
     ]
    },
    {
     "name": "stderr",
     "output_type": "stream",
     "text": [
      "/usr/local/lib/python3.11/site-packages/sklearn/linear_model/_logistic.py:460: ConvergenceWarning: lbfgs failed to converge (status=1):\n",
      "STOP: TOTAL NO. of ITERATIONS REACHED LIMIT.\n",
      "\n",
      "Increase the number of iterations (max_iter) or scale the data as shown in:\n",
      "    https://scikit-learn.org/stable/modules/preprocessing.html\n",
      "Please also refer to the documentation for alternative solver options:\n",
      "    https://scikit-learn.org/stable/modules/linear_model.html#logistic-regression\n",
      "  n_iter_i = _check_optimize_result(\n"
     ]
    },
    {
     "name": "stdout",
     "output_type": "stream",
     "text": [
      "[CV 5/5; 8/10] END ..........C=0.01, penalty=l2;, score=0.791 total time=  10.5s\n",
      "Best Parameters found: {'penalty': 'l2', 'C': 100.0}\n",
      "CPU times: user 16.7 s, sys: 3.21 s, total: 19.9 s\n",
      "Wall time: 47.8 s\n"
     ]
    }
   ],
   "source": [
    "%%time\n",
    "# Define an object of LogisticRegression Model\n",
    "logReg4 = LogisticRegression()\n",
    "\n",
    "# Define different values for the Hyperparameters to do tuning\n",
    "params = {\n",
    "    'C': np.logspace(-3, 3, 7),\n",
    "    'penalty': ['l1', 'l2', 'elasticnet']\n",
    "}\n",
    "\n",
    "# Create Pipeline: \n",
    "# 1. Standardization of numerical features.\n",
    "# 2. One-hot Encoding of 'State' and 'Country' features.\n",
    "# 3. RandomizedSearchCV using Logistic Regression\n",
    "pipelineLR4 = sklearnPipeline(steps=[\n",
    "    ('standardization', Standardize(numericalFeatures=featuresToStd)),\n",
    "    ('OneHotEncoder', OneHotEncoder(categoricalFeatures=['State', 'Country'])),\n",
    "    ('randomizedSearchCV', RandomizedSearchCV(logReg2, param_distributions=params, n_iter=10, cv=5, verbose=10, n_jobs=-1, random_state=1))\n",
    "])\n",
    "\n",
    "# Fit the Pipeline on the Train Data having SMOTE Oversampling\n",
    "pipelineLR4.fit(xTrainSMOTE, yTrainSMOTE)\n",
    "\n",
    "print('Best Parameters found:', pipelineLR4.steps[2][1].best_params_)"
   ]
  },
  {
   "cell_type": "markdown",
   "id": "IoCZf1FutLpO",
   "metadata": {
    "id": "IoCZf1FutLpO"
   },
   "source": [
    "## <font color=\"blue\">Training the Model with best hyperparameters on One Hot Encoded Data with SMOTE Oversampling</font>"
   ]
  },
  {
   "cell_type": "code",
   "execution_count": 69,
   "id": "9wbKRNuQtOnv",
   "metadata": {
    "colab": {
     "base_uri": "https://localhost:8080/"
    },
    "id": "9wbKRNuQtOnv",
    "outputId": "2207b48e-b91d-460f-a9b4-2cce1819af7b"
   },
   "outputs": [
    {
     "name": "stdout",
     "output_type": "stream",
     "text": [
      "CPU times: user 15.9 s, sys: 2.55 s, total: 18.5 s\n",
      "Wall time: 18.9 s\n"
     ]
    },
    {
     "data": {
      "text/html": [
       "<style>#sk-container-id-10 {color: black;}#sk-container-id-10 pre{padding: 0;}#sk-container-id-10 div.sk-toggleable {background-color: white;}#sk-container-id-10 label.sk-toggleable__label {cursor: pointer;display: block;width: 100%;margin-bottom: 0;padding: 0.3em;box-sizing: border-box;text-align: center;}#sk-container-id-10 label.sk-toggleable__label-arrow:before {content: \"▸\";float: left;margin-right: 0.25em;color: #696969;}#sk-container-id-10 label.sk-toggleable__label-arrow:hover:before {color: black;}#sk-container-id-10 div.sk-estimator:hover label.sk-toggleable__label-arrow:before {color: black;}#sk-container-id-10 div.sk-toggleable__content {max-height: 0;max-width: 0;overflow: hidden;text-align: left;background-color: #f0f8ff;}#sk-container-id-10 div.sk-toggleable__content pre {margin: 0.2em;color: black;border-radius: 0.25em;background-color: #f0f8ff;}#sk-container-id-10 input.sk-toggleable__control:checked~div.sk-toggleable__content {max-height: 200px;max-width: 100%;overflow: auto;}#sk-container-id-10 input.sk-toggleable__control:checked~label.sk-toggleable__label-arrow:before {content: \"▾\";}#sk-container-id-10 div.sk-estimator input.sk-toggleable__control:checked~label.sk-toggleable__label {background-color: #d4ebff;}#sk-container-id-10 div.sk-label input.sk-toggleable__control:checked~label.sk-toggleable__label {background-color: #d4ebff;}#sk-container-id-10 input.sk-hidden--visually {border: 0;clip: rect(1px 1px 1px 1px);clip: rect(1px, 1px, 1px, 1px);height: 1px;margin: -1px;overflow: hidden;padding: 0;position: absolute;width: 1px;}#sk-container-id-10 div.sk-estimator {font-family: monospace;background-color: #f0f8ff;border: 1px dotted black;border-radius: 0.25em;box-sizing: border-box;margin-bottom: 0.5em;}#sk-container-id-10 div.sk-estimator:hover {background-color: #d4ebff;}#sk-container-id-10 div.sk-parallel-item::after {content: \"\";width: 100%;border-bottom: 1px solid gray;flex-grow: 1;}#sk-container-id-10 div.sk-label:hover label.sk-toggleable__label {background-color: #d4ebff;}#sk-container-id-10 div.sk-serial::before {content: \"\";position: absolute;border-left: 1px solid gray;box-sizing: border-box;top: 0;bottom: 0;left: 50%;z-index: 0;}#sk-container-id-10 div.sk-serial {display: flex;flex-direction: column;align-items: center;background-color: white;padding-right: 0.2em;padding-left: 0.2em;position: relative;}#sk-container-id-10 div.sk-item {position: relative;z-index: 1;}#sk-container-id-10 div.sk-parallel {display: flex;align-items: stretch;justify-content: center;background-color: white;position: relative;}#sk-container-id-10 div.sk-item::before, #sk-container-id-10 div.sk-parallel-item::before {content: \"\";position: absolute;border-left: 1px solid gray;box-sizing: border-box;top: 0;bottom: 0;left: 50%;z-index: -1;}#sk-container-id-10 div.sk-parallel-item {display: flex;flex-direction: column;z-index: 1;position: relative;background-color: white;}#sk-container-id-10 div.sk-parallel-item:first-child::after {align-self: flex-end;width: 50%;}#sk-container-id-10 div.sk-parallel-item:last-child::after {align-self: flex-start;width: 50%;}#sk-container-id-10 div.sk-parallel-item:only-child::after {width: 0;}#sk-container-id-10 div.sk-dashed-wrapped {border: 1px dashed gray;margin: 0 0.4em 0.5em 0.4em;box-sizing: border-box;padding-bottom: 0.4em;background-color: white;}#sk-container-id-10 div.sk-label label {font-family: monospace;font-weight: bold;display: inline-block;line-height: 1.2em;}#sk-container-id-10 div.sk-label-container {text-align: center;}#sk-container-id-10 div.sk-container {/* jupyter's `normalize.less` sets `[hidden] { display: none; }` but bootstrap.min.css set `[hidden] { display: none !important; }` so we also need the `!important` here to be able to override the default hidden behavior on the sphinx rendered scikit-learn.org. See: https://github.com/scikit-learn/scikit-learn/issues/21755 */display: inline-block !important;position: relative;}#sk-container-id-10 div.sk-text-repr-fallback {display: none;}</style><div id=\"sk-container-id-10\" class=\"sk-top-container\"><div class=\"sk-text-repr-fallback\"><pre>Pipeline(steps=[(&#x27;standardization&#x27;,\n",
       "                 Standardize(numericalFeatures=[&#x27;Race&#x27;, &#x27;ClaimSettlementDelay&#x27;,\n",
       "                                                &#x27;TreatmentDuration&#x27;, &#x27;Age&#x27;,\n",
       "                                                &#x27;TotalClaimAmount&#x27;,\n",
       "                                                &#x27;IPTotalAmount&#x27;,\n",
       "                                                &#x27;OPTotalAmount&#x27;,\n",
       "                                                &#x27;UniquePhysCount&#x27;,\n",
       "                                                &#x27;PhysRoleCount&#x27;])),\n",
       "                (&#x27;OneHotEncoder&#x27;,\n",
       "                 OneHotEncoder(categoricalFeatures=[&#x27;State&#x27;, &#x27;Country&#x27;])),\n",
       "                (&#x27;logisticRegression&#x27;, LogisticRegression(C=1))])</pre><b>In a Jupyter environment, please rerun this cell to show the HTML representation or trust the notebook. <br />On GitHub, the HTML representation is unable to render, please try loading this page with nbviewer.org.</b></div><div class=\"sk-container\" hidden><div class=\"sk-item sk-dashed-wrapped\"><div class=\"sk-label-container\"><div class=\"sk-label sk-toggleable\"><input class=\"sk-toggleable__control sk-hidden--visually\" id=\"sk-estimator-id-34\" type=\"checkbox\" ><label for=\"sk-estimator-id-34\" class=\"sk-toggleable__label sk-toggleable__label-arrow\">Pipeline</label><div class=\"sk-toggleable__content\"><pre>Pipeline(steps=[(&#x27;standardization&#x27;,\n",
       "                 Standardize(numericalFeatures=[&#x27;Race&#x27;, &#x27;ClaimSettlementDelay&#x27;,\n",
       "                                                &#x27;TreatmentDuration&#x27;, &#x27;Age&#x27;,\n",
       "                                                &#x27;TotalClaimAmount&#x27;,\n",
       "                                                &#x27;IPTotalAmount&#x27;,\n",
       "                                                &#x27;OPTotalAmount&#x27;,\n",
       "                                                &#x27;UniquePhysCount&#x27;,\n",
       "                                                &#x27;PhysRoleCount&#x27;])),\n",
       "                (&#x27;OneHotEncoder&#x27;,\n",
       "                 OneHotEncoder(categoricalFeatures=[&#x27;State&#x27;, &#x27;Country&#x27;])),\n",
       "                (&#x27;logisticRegression&#x27;, LogisticRegression(C=1))])</pre></div></div></div><div class=\"sk-serial\"><div class=\"sk-item\"><div class=\"sk-estimator sk-toggleable\"><input class=\"sk-toggleable__control sk-hidden--visually\" id=\"sk-estimator-id-35\" type=\"checkbox\" ><label for=\"sk-estimator-id-35\" class=\"sk-toggleable__label sk-toggleable__label-arrow\">Standardize</label><div class=\"sk-toggleable__content\"><pre>Standardize(numericalFeatures=[&#x27;Race&#x27;, &#x27;ClaimSettlementDelay&#x27;,\n",
       "                               &#x27;TreatmentDuration&#x27;, &#x27;Age&#x27;, &#x27;TotalClaimAmount&#x27;,\n",
       "                               &#x27;IPTotalAmount&#x27;, &#x27;OPTotalAmount&#x27;,\n",
       "                               &#x27;UniquePhysCount&#x27;, &#x27;PhysRoleCount&#x27;])</pre></div></div></div><div class=\"sk-item\"><div class=\"sk-estimator sk-toggleable\"><input class=\"sk-toggleable__control sk-hidden--visually\" id=\"sk-estimator-id-36\" type=\"checkbox\" ><label for=\"sk-estimator-id-36\" class=\"sk-toggleable__label sk-toggleable__label-arrow\">OneHotEncoder</label><div class=\"sk-toggleable__content\"><pre>OneHotEncoder(categoricalFeatures=[&#x27;State&#x27;, &#x27;Country&#x27;])</pre></div></div></div><div class=\"sk-item\"><div class=\"sk-estimator sk-toggleable\"><input class=\"sk-toggleable__control sk-hidden--visually\" id=\"sk-estimator-id-37\" type=\"checkbox\" ><label for=\"sk-estimator-id-37\" class=\"sk-toggleable__label sk-toggleable__label-arrow\">LogisticRegression</label><div class=\"sk-toggleable__content\"><pre>LogisticRegression(C=1)</pre></div></div></div></div></div></div></div>"
      ],
      "text/plain": [
       "Pipeline(steps=[('standardization',\n",
       "                 Standardize(numericalFeatures=['Race', 'ClaimSettlementDelay',\n",
       "                                                'TreatmentDuration', 'Age',\n",
       "                                                'TotalClaimAmount',\n",
       "                                                'IPTotalAmount',\n",
       "                                                'OPTotalAmount',\n",
       "                                                'UniquePhysCount',\n",
       "                                                'PhysRoleCount'])),\n",
       "                ('OneHotEncoder',\n",
       "                 OneHotEncoder(categoricalFeatures=['State', 'Country'])),\n",
       "                ('logisticRegression', LogisticRegression(C=1))])"
      ]
     },
     "execution_count": 69,
     "metadata": {},
     "output_type": "execute_result"
    }
   ],
   "source": [
    "%%time\n",
    "# Create Pipeline: \n",
    "# 1. Standardization of numerical features.\n",
    "# 2. One-hot Encoding of 'State' and 'Country' features.\n",
    "# 3. Logistic Regression with best hyperparameters\n",
    "pipelineLR4 = sklearnPipeline(steps=[\n",
    "    ('standardization', Standardize(numericalFeatures=featuresToStd)),\n",
    "    ('OneHotEncoder', OneHotEncoder(categoricalFeatures=['State', 'Country'])),\n",
    "    ('logisticRegression', LogisticRegression(C=1, penalty='l2'))\n",
    "])\n",
    "\n",
    "# Fit the Pipeline on the Train Data with random undersampling\n",
    "pipelineLR4.fit(xTrainSMOTE, yTrainSMOTE)"
   ]
  },
  {
   "cell_type": "markdown",
   "id": "Be2vT7UbtfWh",
   "metadata": {
    "id": "Be2vT7UbtfWh"
   },
   "source": [
    "## <font color=\"blue\">Evaluating the Model on One Hot Encoded Test Data with SMOTE Oversampling</font>"
   ]
  },
  {
   "cell_type": "code",
   "execution_count": 70,
   "id": "TL8CFQ2ath3u",
   "metadata": {
    "colab": {
     "base_uri": "https://localhost:8080/",
     "height": 782
    },
    "id": "TL8CFQ2ath3u",
    "outputId": "1934e620-2027-4320-ed13-0189a2cca664"
   },
   "outputs": [
    {
     "name": "stdout",
     "output_type": "stream",
     "text": [
      "Log-loss of the Model on  Train  Dataset:  0.5417175820194742\n",
      "Log-loss of the Model on  Test  Dataset:  0.6054181347819906\n",
      "F1-Score of the Model on Test Data:  0.5648073034592147\n"
     ]
    },
    {
     "data": {
      "image/png": "[encoded data removed]",
      "text/plain": [
       "<Figure size 2000x500 with 6 Axes>"
      ]
     },
     "metadata": {},
     "output_type": "display_data"
    },
    {
     "name": "stdout",
     "output_type": "stream",
     "text": [
      "Percentage of misclassified points (Test Data):  32.19458452388417 %\n",
      "Sum of columns in the Precision Matrix:  [1. 1.]\n",
      "Sum of rows in the Recall Matrix:  [1. 1.]\n",
      "False Positive Rate (FPR) on Test Data:  0.2418395263668341\n",
      "False Negative Rate (FNR) on Test Data:  0.4519736842105263\n",
      "Balanced Accuracy Score (BACC) on Test Data:  0.6530933947113198\n",
      "Matthew's Correlation Coefficient (MCC) on Test Data:  0.3100856952246826\n"
     ]
    },
    {
     "data": {
      "image/png": "[encoded data removed]",
      "text/plain": [
       "<Figure size 640x480 with 1 Axes>"
      ]
     },
     "metadata": {},
     "output_type": "display_data"
    }
   ],
   "source": [
    "# Transformation of the Test Data (similar to the Train Data used while training the model) is taken care by the pipeline internally.\n",
    "showPerformanceMetrics(model=pipelineLR4, xTestData=xTest, yTestData=yTest, xTrainData=xTrainSMOTE, yTrainData=yTrainSMOTE)"
   ]
  }
 ],
 "metadata": {
  "accelerator": "GPU",
  "colab": {
   "collapsed_sections": [
    "7740fc59",
    "61dzocwmPS_W",
    "AF3noyNfQRX8",
    "TkTOt13Ony6T",
    "_-WpUyU_ofCa",
    "ZVWQyTPoo-tU",
    "LmCaaVJHpzqC",
    "YjVsqQ_qqyPi",
    "nrS0XT84rUyv",
    "fOhWEjCOsuqQ",
    "IoCZf1FutLpO",
    "Be2vT7UbtfWh",
    "wKUzuLQ7wOPC",
    "6A9sJRYVy77c",
    "faEtD7lbzzZZ",
    "B5jXoczt0KPX",
    "KxuRR-SM1KDk",
    "1W5riwJj1dDN",
    "xAIBW66o2k-c",
    "kgUO-H5H2_IO",
    "QrLiNjz83ZND",
    "6NI-JmiH3tYM",
    "aZBDOuJT4Ns2",
    "LP_xxOmK4dyk",
    "_UUbCqnO7YzS"
   ],
   "name": "3.Modelling.ipynb",
   "provenance": []
  },
  "kernelspec": {
   "display_name": "Python 3",
   "language": "python",
   "name": "python3"
  },
  "language_info": {
   "codemirror_mode": {
    "name": "ipython",
    "version": 3
   },
   "file_extension": ".py",
   "mimetype": "text/x-python",
   "name": "python",
   "nbconvert_exporter": "python",
   "pygments_lexer": "ipython3",
   "version": "3.11.5"
  }
 },
 "nbformat": 4,
 "nbformat_minor": 5
}
