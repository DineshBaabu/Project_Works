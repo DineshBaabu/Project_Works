{
 "cells": [
  {
   "cell_type": "code",
   "execution_count": 1,
   "id": "11850e5b",
   "metadata": {},
   "outputs": [
    {
     "name": "stdout",
     "output_type": "stream",
     "text": [
      "1\n",
      "['files\\\\Future of AI  Future of Artificial Intelligence 2023  AI Technology for Beginners  Simplilearn.mp3']\n"
     ]
    }
   ],
   "source": [
    "from pathlib import Path\n",
    "\n",
    "# get list of MP3 audio files\n",
    "paths = [str(x) for x in Path('./files').glob('*.mp3')]\n",
    "print(len(paths))\n",
    "print(paths[:5])"
   ]
  },
  {
   "cell_type": "code",
   "execution_count": 2,
   "id": "0081d418",
   "metadata": {},
   "outputs": [
    {
     "name": "stderr",
     "output_type": "stream",
     "text": [
      "c:\\Users\\Dell\\AppData\\Local\\Programs\\Python\\Python310\\lib\\site-packages\\tqdm\\auto.py:22: TqdmWarning: IProgress not found. Please update jupyter and ipywidgets. See https://ipywidgets.readthedocs.io/en/stable/user_install.html\n",
      "  from .autonotebook import tqdm as notebook_tqdm\n"
     ]
    }
   ],
   "source": [
    "import whisper\n",
    "import torch  # install steps: pytorch.org\n",
    "\n",
    "device = \"cuda\" if torch.cuda.is_available() else \"cpu\"\n",
    "\n",
    "model = whisper.load_model(\"small\").to(device)\n"
   ]
  },
  {
   "cell_type": "code",
   "execution_count": 3,
   "id": "8d445fa3",
   "metadata": {},
   "outputs": [
    {
     "name": "stderr",
     "output_type": "stream",
     "text": [
      "  0%|          | 0/1 [00:00<?, ?it/s]c:\\Users\\Dell\\AppData\\Local\\Programs\\Python\\Python310\\lib\\site-packages\\whisper\\transcribe.py:79: UserWarning: FP16 is not supported on CPU; using FP32 instead\n",
      "  warnings.warn(\"FP16 is not supported on CPU; using FP32 instead\")\n",
      "100%|██████████| 1/1 [03:07<00:00, 187.21s/it]"
     ]
    },
    {
     "name": "stdout",
     "output_type": "stream",
     "text": [
      "[{'id': 'files\\\\Future of AI  Future of Artificial Intelligence 2023  AI Technology for Beginners  Simplilearn-t0.0', 'text': 'Researchers are preparing us for a revolution that will change the world forever by looking', 'start': 0.0, 'end': 8.52}, {'id': 'files\\\\Future of AI  Future of Artificial Intelligence 2023  AI Technology for Beginners  Simplilearn-t8.52', 'text': 'into the future of artificial intelligence.', 'start': 8.52, 'end': 11.700000000000001}, {'id': 'files\\\\Future of AI  Future of Artificial Intelligence 2023  AI Technology for Beginners  Simplilearn-t11.700000000000001', 'text': \"This revolution isn't going to happen in a few decades, but in a few years, which means\", 'start': 11.700000000000001, 'end': 16.52}, {'id': 'files\\\\Future of AI  Future of Artificial Intelligence 2023  AI Technology for Beginners  Simplilearn-t16.52', 'text': 'that the clock is ticking for now for businesses to start embracing AI.', 'start': 16.52, 'end': 22.04}, {'id': 'files\\\\Future of AI  Future of Artificial Intelligence 2023  AI Technology for Beginners  Simplilearn-t22.04', 'text': 'Artificial intelligence has become a part of our lives.', 'start': 22.04, 'end': 25.2}, {'id': 'files\\\\Future of AI  Future of Artificial Intelligence 2023  AI Technology for Beginners  Simplilearn-t25.2', 'text': 'Due to its revolutionary nature, artificial intelligence also faces numerous debates regarding', 'start': 25.2, 'end': 30.56}, {'id': 'files\\\\Future of AI  Future of Artificial Intelligence 2023  AI Technology for Beginners  Simplilearn-t30.56', 'text': 'potential impacts on individuals.', 'start': 30.56, 'end': 33.2}, {'id': 'files\\\\Future of AI  Future of Artificial Intelligence 2023  AI Technology for Beginners  Simplilearn-t33.2', 'text': \"Although it could be risky, it's also a fantastic opportunity.\", 'start': 33.2, 'end': 37.04}, {'id': 'files\\\\Future of AI  Future of Artificial Intelligence 2023  AI Technology for Beginners  Simplilearn-t37.04', 'text': 'It is estimated that the global artificial intelligence market will reach $267 billion', 'start': 37.04, 'end': 44.4}, {'id': 'files\\\\Future of AI  Future of Artificial Intelligence 2023  AI Technology for Beginners  Simplilearn-t44.4', 'text': 'by 2027.', 'start': 44.4, 'end': 46.16}, {'id': 'files\\\\Future of AI  Future of Artificial Intelligence 2023  AI Technology for Beginners  Simplilearn-t46.16', 'text': 'People are worrying about losing their jobs as AI continues to advance, because it has', 'start': 46.16, 'end': 50.78}, {'id': 'files\\\\Future of AI  Future of Artificial Intelligence 2023  AI Technology for Beginners  Simplilearn-t50.78', 'text': 'revolutionized industries across all sectors.', 'start': 50.78, 'end': 54.120000000000005}, {'id': 'files\\\\Future of AI  Future of Artificial Intelligence 2023  AI Technology for Beginners  Simplilearn-t54.12', 'text': 'But AI has increased the number of jobs and possibilities available to individuals across', 'start': 54.12, 'end': 59.4}, {'id': 'files\\\\Future of AI  Future of Artificial Intelligence 2023  AI Technology for Beginners  Simplilearn-t59.4', 'text': 'all industries.', 'start': 59.4, 'end': 60.8}, {'id': 'files\\\\Future of AI  Future of Artificial Intelligence 2023  AI Technology for Beginners  Simplilearn-t60.8', 'text': 'Every machine needs a person to run it.', 'start': 60.8, 'end': 63.16}, {'id': 'files\\\\Future of AI  Future of Artificial Intelligence 2023  AI Technology for Beginners  Simplilearn-t63.16', 'text': 'Although AI has replaced certain occupations, it still creates more jobs for humans.', 'start': 63.16, 'end': 69.2}, {'id': 'files\\\\Future of AI  Future of Artificial Intelligence 2023  AI Technology for Beginners  Simplilearn-t69.2', 'text': 'AI can be categorized into three types.', 'start': 69.2, 'end': 72.08}, {'id': 'files\\\\Future of AI  Future of Artificial Intelligence 2023  AI Technology for Beginners  Simplilearn-t72.08', 'text': \"Firstly, weak AI performs specific tasks, like Apple's Siri.\", 'start': 72.08, 'end': 78.28}, {'id': 'files\\\\Future of AI  Future of Artificial Intelligence 2023  AI Technology for Beginners  Simplilearn-t78.28', 'text': 'General AI performs tasks like a human.', 'start': 78.28, 'end': 81.96}, {'id': 'files\\\\Future of AI  Future of Artificial Intelligence 2023  AI Technology for Beginners  Simplilearn-t81.96', 'text': 'Super AI is more capable than a human, but both general AI and super AI are hypothetical', 'start': 81.96, 'end': 88.72}, {'id': 'files\\\\Future of AI  Future of Artificial Intelligence 2023  AI Technology for Beginners  Simplilearn-t88.72', 'text': 'because these technologies are not yet developed and research is going on.', 'start': 88.72, 'end': 93.03999999999999}, {'id': 'files\\\\Future of AI  Future of Artificial Intelligence 2023  AI Technology for Beginners  Simplilearn-t93.03999999999999', 'text': 'However, the development of such AI will take a lot of time.', 'start': 93.03999999999999, 'end': 97.11999999999999}, {'id': 'files\\\\Future of AI  Future of Artificial Intelligence 2023  AI Technology for Beginners  Simplilearn-t97.11999999999999', 'text': 'The development of AGI will accelerate within the following 10 years.', 'start': 97.11999999999999, 'end': 101.75999999999999}, {'id': 'files\\\\Future of AI  Future of Artificial Intelligence 2023  AI Technology for Beginners  Simplilearn-t101.75999999999999', 'text': 'In fact, according to researchers, there is a 25% probability that by 2023, AI will', 'start': 101.75999999999999, 'end': 109.08}, {'id': 'files\\\\Future of AI  Future of Artificial Intelligence 2023  AI Technology for Beginners  Simplilearn-t109.08', 'text': 'resemble humans when it comes to thinking capacity.', 'start': 109.08, 'end': 112.36}, {'id': 'files\\\\Future of AI  Future of Artificial Intelligence 2023  AI Technology for Beginners  Simplilearn-t112.36', 'text': 'Additionally, the current data boom, computer developments, and improvements in automated', 'start': 112.36, 'end': 117.67999999999999}, {'id': 'files\\\\Future of AI  Future of Artificial Intelligence 2023  AI Technology for Beginners  Simplilearn-t117.67999999999999', 'text': 'methods and machine algorithms will provide a solid foundation for platforms with human-level', 'start': 117.67999999999999, 'end': 123.16}, {'id': 'files\\\\Future of AI  Future of Artificial Intelligence 2023  AI Technology for Beginners  Simplilearn-t123.16', 'text': 'AI.', 'start': 123.16, 'end': 124.16}, {'id': 'files\\\\Future of AI  Future of Artificial Intelligence 2023  AI Technology for Beginners  Simplilearn-t124.16', 'text': 'AI has occupied crucial sectors like healthcare, cybersecurity, e-commerce, agriculture, robotics,', 'start': 124.16, 'end': 133.4}, {'id': 'files\\\\Future of AI  Future of Artificial Intelligence 2023  AI Technology for Beginners  Simplilearn-t133.4', 'text': 'education, the military system, finance, gaming, and many more.', 'start': 133.4, 'end': 139.24}, {'id': 'files\\\\Future of AI  Future of Artificial Intelligence 2023  AI Technology for Beginners  Simplilearn-t139.24', 'text': 'AI is used in healthcare to identify diseases, helping healthcare service providers and their', 'start': 139.24, 'end': 144.68}, {'id': 'files\\\\Future of AI  Future of Artificial Intelligence 2023  AI Technology for Beginners  Simplilearn-t144.68', 'text': 'patients make better treatment and lifestyle decisions.', 'start': 144.68, 'end': 148.64000000000001}, {'id': 'files\\\\Future of AI  Future of Artificial Intelligence 2023  AI Technology for Beginners  Simplilearn-t148.64000000000001', 'text': \"We can say that without AI, we couldn't have made the incredible recent advancements in\", 'start': 148.64000000000001, 'end': 153.4}, {'id': 'files\\\\Future of AI  Future of Artificial Intelligence 2023  AI Technology for Beginners  Simplilearn-t153.4', 'text': 'fields like robotics, virtual reality, chatbots, face recognition, and autonomous vehicles.', 'start': 153.4, 'end': 162.4}, {'id': 'files\\\\Future of AI  Future of Artificial Intelligence 2023  AI Technology for Beginners  Simplilearn-t162.4', 'text': 'But robot advisors in finance, insurance, legal, media, and journalism will deliver', 'start': 162.4, 'end': 168.6}, {'id': 'files\\\\Future of AI  Future of Artificial Intelligence 2023  AI Technology for Beginners  Simplilearn-t168.6', 'text': 'instantaneous research or discoveries.', 'start': 168.6, 'end': 171.32}, {'id': 'files\\\\Future of AI  Future of Artificial Intelligence 2023  AI Technology for Beginners  Simplilearn-t171.32', 'text': 'In the upcoming years, it is anticipated that artificial intelligence and machine learning', 'start': 171.32, 'end': 176.16}, {'id': 'files\\\\Future of AI  Future of Artificial Intelligence 2023  AI Technology for Beginners  Simplilearn-t176.16', 'text': 'will become more prominent in the consumer market, which will immediately affect how', 'start': 176.16, 'end': 180.6}, {'id': 'files\\\\Future of AI  Future of Artificial Intelligence 2023  AI Technology for Beginners  Simplilearn-t180.6', 'text': 'well web development functions.', 'start': 180.6, 'end': 183.04000000000002}, {'id': 'files\\\\Future of AI  Future of Artificial Intelligence 2023  AI Technology for Beginners  Simplilearn-t183.04000000000002', 'text': 'Virtual assistants or chatbots will provide professional advice.', 'start': 183.04000000000002, 'end': 187.4}, {'id': 'files\\\\Future of AI  Future of Artificial Intelligence 2023  AI Technology for Beginners  Simplilearn-t187.4', 'text': 'Other advantages include strengthening governance through better decision-making processes, shortening', 'start': 187.4, 'end': 192.20000000000002}, {'id': 'files\\\\Future of AI  Future of Artificial Intelligence 2023  AI Technology for Beginners  Simplilearn-t192.2', 'text': 'time to market for R&D initiatives, and streamlining transportation and supply chain networks.', 'start': 192.2, 'end': 198.83999999999997}, {'id': 'files\\\\Future of AI  Future of Artificial Intelligence 2023  AI Technology for Beginners  Simplilearn-t198.83999999999997', 'text': 'Given all these scenarios, AI is all set to revolutionize every sector in the near future.', 'start': 198.83999999999997, 'end': 205.35999999999999}, {'id': 'files\\\\Future of AI  Future of Artificial Intelligence 2023  AI Technology for Beginners  Simplilearn-t205.35999999999999', 'text': 'Given that it is expected to impact 60% of firms, artificial intelligence will continue', 'start': 205.35999999999999, 'end': 210.88}, {'id': 'files\\\\Future of AI  Future of Artificial Intelligence 2023  AI Technology for Beginners  Simplilearn-t210.88', 'text': 'to spread deeper into a wide range of industries in the upcoming years.', 'start': 210.88, 'end': 215.12}, {'id': 'files\\\\Future of AI  Future of Artificial Intelligence 2023  AI Technology for Beginners  Simplilearn-t215.12', 'text': 'It is currently driving development in our smart devices, cars, and favorite apps.', 'start': 215.12, 'end': 220.28}, {'id': 'files\\\\Future of AI  Future of Artificial Intelligence 2023  AI Technology for Beginners  Simplilearn-t220.28', 'text': 'In the coming years, AI will invade every aspect of our life and eventually surpass human', 'start': 220.28, 'end': 226.2}, {'id': 'files\\\\Future of AI  Future of Artificial Intelligence 2023  AI Technology for Beginners  Simplilearn-t226.2', 'text': 'intellectual capacity.', 'start': 226.2, 'end': 228.12}, {'id': 'files\\\\Future of AI  Future of Artificial Intelligence 2023  AI Technology for Beginners  Simplilearn-t228.12', 'text': \"It won't be long before artificial intelligence becomes a common part of our everyday lives.\", 'start': 228.12, 'end': 233.56}, {'id': 'files\\\\Future of AI  Future of Artificial Intelligence 2023  AI Technology for Beginners  Simplilearn-t233.56', 'text': 'As it becomes more prevalent, it will allow us to live more efficiently and improve our', 'start': 233.56, 'end': 238.0}, {'id': 'files\\\\Future of AI  Future of Artificial Intelligence 2023  AI Technology for Beginners  Simplilearn-t238.0', 'text': 'lives.', 'start': 238.0, 'end': 239.28}, {'id': 'files\\\\Future of AI  Future of Artificial Intelligence 2023  AI Technology for Beginners  Simplilearn-t239.28', 'text': 'By increasing their effectiveness, efficiency, and concentration on the primary tasks that', 'start': 239.28, 'end': 243.68}, {'id': 'files\\\\Future of AI  Future of Artificial Intelligence 2023  AI Technology for Beginners  Simplilearn-t243.68', 'text': \"require people's attention, AI technologies are transforming many industry sectors.\", 'start': 243.68, 'end': 249.72}, {'id': 'files\\\\Future of AI  Future of Artificial Intelligence 2023  AI Technology for Beginners  Simplilearn-t249.72', 'text': 'artificial intelligence will change the world for the better.', 'start': 249.72, 'end': 252.52}, {'id': 'files\\\\Future of AI  Future of Artificial Intelligence 2023  AI Technology for Beginners  Simplilearn-t252.52', 'text': 'Thank you for watching.', 'start': 252.52, 'end': 253.52}, {'id': 'files\\\\Future of AI  Future of Artificial Intelligence 2023  AI Technology for Beginners  Simplilearn-t253.52', 'text': 'Please make sure you subscribe to our channel and press the bell icon to never miss updates', 'start': 253.52, 'end': 258.56}, {'id': 'files\\\\Future of AI  Future of Artificial Intelligence 2023  AI Technology for Beginners  Simplilearn-t258.56', 'text': 'from SimplyLearn.', 'start': 258.56, 'end': 259.92}, {'id': 'files\\\\Future of AI  Future of Artificial Intelligence 2023  AI Technology for Beginners  Simplilearn-t259.92', 'text': 'Happy learning!', 'start': 259.92, 'end': 273.6}]\n"
     ]
    },
    {
     "name": "stderr",
     "output_type": "stream",
     "text": [
      "\n"
     ]
    }
   ],
   "source": [
    "from tqdm import tqdm\n",
    "data = []\n",
    "\n",
    "for i, path in enumerate(tqdm(paths)):\n",
    "    _id = path.split('/')[-1][:-4]\n",
    "    # transcribe to get speech-to-text data\n",
    "    result = model.transcribe(path)\n",
    "    segments = result['segments']\n",
    "#     print(segments)\n",
    "#     get the video metadata...\n",
    "#     video_meta = videos_dict[_id]\n",
    "    j = 0\n",
    "    for segment in segments:\n",
    "        # merge segments data and videos_meta data\n",
    "        meta = {\n",
    "#             **video_meta,\n",
    "            **{\n",
    "                \"id\": f\"{_id}-t{segment['start']}\",\n",
    "                \"text\": segment[\"text\"].strip(),\n",
    "                \"start\": segment['start'],\n",
    "                \"end\": segment['end']\n",
    "            }\n",
    "        }\n",
    "        data.append(meta)\n",
    "        \n",
    "\n",
    "print(data)"
   ]
  },
  {
   "cell_type": "code",
   "execution_count": 4,
   "id": "ef9eb8c7",
   "metadata": {},
   "outputs": [
    {
     "name": "stdout",
     "output_type": "stream",
     "text": [
      "[{'id': 0, 'seek': 0, 'start': 0.0, 'end': 8.52, 'text': ' Researchers are preparing us for a revolution that will change the world forever by looking', 'tokens': [43555, 366, 10075, 505, 337, 257, 8894, 300, 486, 1319, 264, 1002, 5680, 538, 1237], 'temperature': 0.0, 'avg_logprob': -0.11784660967090461, 'compression_ratio': 1.6175115207373272, 'no_speech_prob': 0.04536842182278633}, {'id': 1, 'seek': 0, 'start': 8.52, 'end': 11.700000000000001, 'text': ' into the future of artificial intelligence.', 'tokens': [666, 264, 2027, 295, 11677, 7599, 13], 'temperature': 0.0, 'avg_logprob': -0.11784660967090461, 'compression_ratio': 1.6175115207373272, 'no_speech_prob': 0.04536842182278633}, {'id': 2, 'seek': 0, 'start': 11.700000000000001, 'end': 16.52, 'text': \" This revolution isn't going to happen in a few decades, but in a few years, which means\", 'tokens': [639, 8894, 1943, 380, 516, 281, 1051, 294, 257, 1326, 7878, 11, 457, 294, 257, 1326, 924, 11, 597, 1355], 'temperature': 0.0, 'avg_logprob': -0.11784660967090461, 'compression_ratio': 1.6175115207373272, 'no_speech_prob': 0.04536842182278633}, {'id': 3, 'seek': 0, 'start': 16.52, 'end': 22.04, 'text': ' that the clock is ticking for now for businesses to start embracing AI.', 'tokens': [300, 264, 7830, 307, 33999, 337, 586, 337, 6011, 281, 722, 31596, 7318, 13], 'temperature': 0.0, 'avg_logprob': -0.11784660967090461, 'compression_ratio': 1.6175115207373272, 'no_speech_prob': 0.04536842182278633}, {'id': 4, 'seek': 0, 'start': 22.04, 'end': 25.2, 'text': ' Artificial intelligence has become a part of our lives.', 'tokens': [5735, 10371, 7599, 575, 1813, 257, 644, 295, 527, 2909, 13], 'temperature': 0.0, 'avg_logprob': -0.11784660967090461, 'compression_ratio': 1.6175115207373272, 'no_speech_prob': 0.04536842182278633}, {'id': 5, 'seek': 2520, 'start': 25.2, 'end': 30.56, 'text': ' Due to its revolutionary nature, artificial intelligence also faces numerous debates regarding', 'tokens': [18980, 281, 1080, 22687, 3687, 11, 11677, 7599, 611, 8475, 12546, 24203, 8595], 'temperature': 0.0, 'avg_logprob': -0.1715659773751591, 'compression_ratio': 1.5441176470588236, 'no_speech_prob': 1.6618221707176417e-05}, {'id': 6, 'seek': 2520, 'start': 30.56, 'end': 33.2, 'text': ' potential impacts on individuals.', 'tokens': [3995, 11606, 322, 5346, 13], 'temperature': 0.0, 'avg_logprob': -0.1715659773751591, 'compression_ratio': 1.5441176470588236, 'no_speech_prob': 1.6618221707176417e-05}, {'id': 7, 'seek': 2520, 'start': 33.2, 'end': 37.04, 'text': \" Although it could be risky, it's also a fantastic opportunity.\", 'tokens': [5780, 309, 727, 312, 21137, 11, 309, 311, 611, 257, 5456, 2650, 13], 'temperature': 0.0, 'avg_logprob': -0.1715659773751591, 'compression_ratio': 1.5441176470588236, 'no_speech_prob': 1.6618221707176417e-05}, {'id': 8, 'seek': 2520, 'start': 37.04, 'end': 44.4, 'text': ' It is estimated that the global artificial intelligence market will reach $267 billion', 'tokens': [467, 307, 14109, 300, 264, 4338, 11677, 7599, 2142, 486, 2524, 1848, 10880, 22, 5218], 'temperature': 0.0, 'avg_logprob': -0.1715659773751591, 'compression_ratio': 1.5441176470588236, 'no_speech_prob': 1.6618221707176417e-05}, {'id': 9, 'seek': 2520, 'start': 44.4, 'end': 46.16, 'text': ' by 2027.', 'tokens': [538, 945, 10076, 13], 'temperature': 0.0, 'avg_logprob': -0.1715659773751591, 'compression_ratio': 1.5441176470588236, 'no_speech_prob': 1.6618221707176417e-05}, {'id': 10, 'seek': 2520, 'start': 46.16, 'end': 50.78, 'text': ' People are worrying about losing their jobs as AI continues to advance, because it has', 'tokens': [3432, 366, 18788, 466, 7027, 641, 4782, 382, 7318, 6515, 281, 7295, 11, 570, 309, 575], 'temperature': 0.0, 'avg_logprob': -0.1715659773751591, 'compression_ratio': 1.5441176470588236, 'no_speech_prob': 1.6618221707176417e-05}, {'id': 11, 'seek': 2520, 'start': 50.78, 'end': 54.120000000000005, 'text': ' revolutionized industries across all sectors.', 'tokens': [8894, 1602, 13284, 2108, 439, 18373, 13], 'temperature': 0.0, 'avg_logprob': -0.1715659773751591, 'compression_ratio': 1.5441176470588236, 'no_speech_prob': 1.6618221707176417e-05}, {'id': 12, 'seek': 5412, 'start': 54.12, 'end': 59.4, 'text': ' But AI has increased the number of jobs and possibilities available to individuals across', 'tokens': [583, 7318, 575, 6505, 264, 1230, 295, 4782, 293, 12178, 2435, 281, 5346, 2108], 'temperature': 0.0, 'avg_logprob': -0.18462625416842374, 'compression_ratio': 1.5394190871369295, 'no_speech_prob': 1.596467882336583e-05}, {'id': 13, 'seek': 5412, 'start': 59.4, 'end': 60.8, 'text': ' all industries.', 'tokens': [439, 13284, 13], 'temperature': 0.0, 'avg_logprob': -0.18462625416842374, 'compression_ratio': 1.5394190871369295, 'no_speech_prob': 1.596467882336583e-05}, {'id': 14, 'seek': 5412, 'start': 60.8, 'end': 63.16, 'text': ' Every machine needs a person to run it.', 'tokens': [2048, 3479, 2203, 257, 954, 281, 1190, 309, 13], 'temperature': 0.0, 'avg_logprob': -0.18462625416842374, 'compression_ratio': 1.5394190871369295, 'no_speech_prob': 1.596467882336583e-05}, {'id': 15, 'seek': 5412, 'start': 63.16, 'end': 69.2, 'text': ' Although AI has replaced certain occupations, it still creates more jobs for humans.', 'tokens': [5780, 7318, 575, 10772, 1629, 8073, 763, 11, 309, 920, 7829, 544, 4782, 337, 6255, 13], 'temperature': 0.0, 'avg_logprob': -0.18462625416842374, 'compression_ratio': 1.5394190871369295, 'no_speech_prob': 1.596467882336583e-05}, {'id': 16, 'seek': 5412, 'start': 69.2, 'end': 72.08, 'text': ' AI can be categorized into three types.', 'tokens': [7318, 393, 312, 19250, 1602, 666, 1045, 3467, 13], 'temperature': 0.0, 'avg_logprob': -0.18462625416842374, 'compression_ratio': 1.5394190871369295, 'no_speech_prob': 1.596467882336583e-05}, {'id': 17, 'seek': 5412, 'start': 72.08, 'end': 78.28, 'text': \" Firstly, weak AI performs specific tasks, like Apple's Siri.\", 'tokens': [20042, 11, 5336, 7318, 26213, 2685, 9608, 11, 411, 6373, 311, 33682, 13], 'temperature': 0.0, 'avg_logprob': -0.18462625416842374, 'compression_ratio': 1.5394190871369295, 'no_speech_prob': 1.596467882336583e-05}, {'id': 18, 'seek': 5412, 'start': 78.28, 'end': 81.96, 'text': ' General AI performs tasks like a human.', 'tokens': [6996, 7318, 26213, 9608, 411, 257, 1952, 13], 'temperature': 0.0, 'avg_logprob': -0.18462625416842374, 'compression_ratio': 1.5394190871369295, 'no_speech_prob': 1.596467882336583e-05}, {'id': 19, 'seek': 8196, 'start': 81.96, 'end': 88.72, 'text': ' Super AI is more capable than a human, but both general AI and super AI are hypothetical', 'tokens': [4548, 7318, 307, 544, 8189, 813, 257, 1952, 11, 457, 1293, 2674, 7318, 293, 1687, 7318, 366, 33053], 'temperature': 0.0, 'avg_logprob': -0.12267249889588089, 'compression_ratio': 1.5949367088607596, 'no_speech_prob': 3.159665720886551e-05}, {'id': 20, 'seek': 8196, 'start': 88.72, 'end': 93.03999999999999, 'text': ' because these technologies are not yet developed and research is going on.', 'tokens': [570, 613, 7943, 366, 406, 1939, 4743, 293, 2132, 307, 516, 322, 13], 'temperature': 0.0, 'avg_logprob': -0.12267249889588089, 'compression_ratio': 1.5949367088607596, 'no_speech_prob': 3.159665720886551e-05}, {'id': 21, 'seek': 8196, 'start': 93.03999999999999, 'end': 97.11999999999999, 'text': ' However, the development of such AI will take a lot of time.', 'tokens': [2908, 11, 264, 3250, 295, 1270, 7318, 486, 747, 257, 688, 295, 565, 13], 'temperature': 0.0, 'avg_logprob': -0.12267249889588089, 'compression_ratio': 1.5949367088607596, 'no_speech_prob': 3.159665720886551e-05}, {'id': 22, 'seek': 8196, 'start': 97.11999999999999, 'end': 101.75999999999999, 'text': ' The development of AGI will accelerate within the following 10 years.', 'tokens': [440, 3250, 295, 316, 26252, 486, 21341, 1951, 264, 3480, 1266, 924, 13], 'temperature': 0.0, 'avg_logprob': -0.12267249889588089, 'compression_ratio': 1.5949367088607596, 'no_speech_prob': 3.159665720886551e-05}, {'id': 23, 'seek': 8196, 'start': 101.75999999999999, 'end': 109.08, 'text': ' In fact, according to researchers, there is a 25% probability that by 2023, AI will', 'tokens': [682, 1186, 11, 4650, 281, 10309, 11, 456, 307, 257, 3552, 4, 8482, 300, 538, 44377, 11, 7318, 486], 'temperature': 0.0, 'avg_logprob': -0.12267249889588089, 'compression_ratio': 1.5949367088607596, 'no_speech_prob': 3.159665720886551e-05}, {'id': 24, 'seek': 10908, 'start': 109.08, 'end': 112.36, 'text': ' resemble humans when it comes to thinking capacity.', 'tokens': [36870, 6255, 562, 309, 1487, 281, 1953, 6042, 13], 'temperature': 0.0, 'avg_logprob': -0.17855666024344308, 'compression_ratio': 1.515695067264574, 'no_speech_prob': 5.127476106281392e-05}, {'id': 25, 'seek': 10908, 'start': 112.36, 'end': 117.67999999999999, 'text': ' Additionally, the current data boom, computer developments, and improvements in automated', 'tokens': [19927, 11, 264, 2190, 1412, 9351, 11, 3820, 20862, 11, 293, 13797, 294, 18473], 'temperature': 0.0, 'avg_logprob': -0.17855666024344308, 'compression_ratio': 1.515695067264574, 'no_speech_prob': 5.127476106281392e-05}, {'id': 26, 'seek': 10908, 'start': 117.67999999999999, 'end': 123.16, 'text': ' methods and machine algorithms will provide a solid foundation for platforms with human-level', 'tokens': [7150, 293, 3479, 14642, 486, 2893, 257, 5100, 7030, 337, 9473, 365, 1952, 12, 12418], 'temperature': 0.0, 'avg_logprob': -0.17855666024344308, 'compression_ratio': 1.515695067264574, 'no_speech_prob': 5.127476106281392e-05}, {'id': 27, 'seek': 10908, 'start': 123.16, 'end': 124.16, 'text': ' AI.', 'tokens': [7318, 13], 'temperature': 0.0, 'avg_logprob': -0.17855666024344308, 'compression_ratio': 1.515695067264574, 'no_speech_prob': 5.127476106281392e-05}, {'id': 28, 'seek': 10908, 'start': 124.16, 'end': 133.4, 'text': ' AI has occupied crucial sectors like healthcare, cybersecurity, e-commerce, agriculture, robotics,', 'tokens': [7318, 575, 19629, 11462, 18373, 411, 8884, 11, 38765, 11, 308, 12, 26926, 11, 14837, 11, 34145, 11], 'temperature': 0.0, 'avg_logprob': -0.17855666024344308, 'compression_ratio': 1.515695067264574, 'no_speech_prob': 5.127476106281392e-05}, {'id': 29, 'seek': 13340, 'start': 133.4, 'end': 139.24, 'text': ' education, the military system, finance, gaming, and many more.', 'tokens': [3309, 11, 264, 4632, 1185, 11, 10719, 11, 9703, 11, 293, 867, 544, 13], 'temperature': 0.0, 'avg_logprob': -0.11187877655029296, 'compression_ratio': 1.572, 'no_speech_prob': 2.0010207663290203e-05}, {'id': 30, 'seek': 13340, 'start': 139.24, 'end': 144.68, 'text': ' AI is used in healthcare to identify diseases, helping healthcare service providers and their', 'tokens': [7318, 307, 1143, 294, 8884, 281, 5876, 11044, 11, 4315, 8884, 2643, 11330, 293, 641], 'temperature': 0.0, 'avg_logprob': -0.11187877655029296, 'compression_ratio': 1.572, 'no_speech_prob': 2.0010207663290203e-05}, {'id': 31, 'seek': 13340, 'start': 144.68, 'end': 148.64000000000001, 'text': ' patients make better treatment and lifestyle decisions.', 'tokens': [4209, 652, 1101, 5032, 293, 11716, 5327, 13], 'temperature': 0.0, 'avg_logprob': -0.11187877655029296, 'compression_ratio': 1.572, 'no_speech_prob': 2.0010207663290203e-05}, {'id': 32, 'seek': 13340, 'start': 148.64000000000001, 'end': 153.4, 'text': \" We can say that without AI, we couldn't have made the incredible recent advancements in\", 'tokens': [492, 393, 584, 300, 1553, 7318, 11, 321, 2809, 380, 362, 1027, 264, 4651, 5162, 7295, 1117, 294], 'temperature': 0.0, 'avg_logprob': -0.11187877655029296, 'compression_ratio': 1.572, 'no_speech_prob': 2.0010207663290203e-05}, {'id': 33, 'seek': 13340, 'start': 153.4, 'end': 162.4, 'text': ' fields like robotics, virtual reality, chatbots, face recognition, and autonomous vehicles.', 'tokens': [7909, 411, 34145, 11, 6374, 4103, 11, 5081, 65, 1971, 11, 1851, 11150, 11, 293, 23797, 8948, 13], 'temperature': 0.0, 'avg_logprob': -0.11187877655029296, 'compression_ratio': 1.572, 'no_speech_prob': 2.0010207663290203e-05}, {'id': 34, 'seek': 16240, 'start': 162.4, 'end': 168.6, 'text': ' But robot advisors in finance, insurance, legal, media, and journalism will deliver', 'tokens': [583, 7881, 29136, 294, 10719, 11, 7214, 11, 5089, 11, 3021, 11, 293, 23191, 486, 4239], 'temperature': 0.0, 'avg_logprob': -0.11197458568372225, 'compression_ratio': 1.6327868852459015, 'no_speech_prob': 2.019151725107804e-05}, {'id': 35, 'seek': 16240, 'start': 168.6, 'end': 171.32, 'text': ' instantaneous research or discoveries.', 'tokens': [45596, 2132, 420, 28400, 13], 'temperature': 0.0, 'avg_logprob': -0.11197458568372225, 'compression_ratio': 1.6327868852459015, 'no_speech_prob': 2.019151725107804e-05}, {'id': 36, 'seek': 16240, 'start': 171.32, 'end': 176.16, 'text': ' In the upcoming years, it is anticipated that artificial intelligence and machine learning', 'tokens': [682, 264, 11500, 924, 11, 309, 307, 23267, 300, 11677, 7599, 293, 3479, 2539], 'temperature': 0.0, 'avg_logprob': -0.11197458568372225, 'compression_ratio': 1.6327868852459015, 'no_speech_prob': 2.019151725107804e-05}, {'id': 37, 'seek': 16240, 'start': 176.16, 'end': 180.6, 'text': ' will become more prominent in the consumer market, which will immediately affect how', 'tokens': [486, 1813, 544, 17034, 294, 264, 9711, 2142, 11, 597, 486, 4258, 3345, 577], 'temperature': 0.0, 'avg_logprob': -0.11197458568372225, 'compression_ratio': 1.6327868852459015, 'no_speech_prob': 2.019151725107804e-05}, {'id': 38, 'seek': 16240, 'start': 180.6, 'end': 183.04000000000002, 'text': ' well web development functions.', 'tokens': [731, 3670, 3250, 6828, 13], 'temperature': 0.0, 'avg_logprob': -0.11197458568372225, 'compression_ratio': 1.6327868852459015, 'no_speech_prob': 2.019151725107804e-05}, {'id': 39, 'seek': 16240, 'start': 183.04000000000002, 'end': 187.4, 'text': ' Virtual assistants or chatbots will provide professional advice.', 'tokens': [23887, 34949, 420, 5081, 65, 1971, 486, 2893, 4843, 5192, 13], 'temperature': 0.0, 'avg_logprob': -0.11197458568372225, 'compression_ratio': 1.6327868852459015, 'no_speech_prob': 2.019151725107804e-05}, {'id': 40, 'seek': 16240, 'start': 187.4, 'end': 192.20000000000002, 'text': ' Other advantages include strengthening governance through better decision-making processes, shortening', 'tokens': [5358, 14906, 4090, 28224, 17449, 807, 1101, 3537, 12, 12402, 7555, 11, 2099, 4559], 'temperature': 0.0, 'avg_logprob': -0.11197458568372225, 'compression_ratio': 1.6327868852459015, 'no_speech_prob': 2.019151725107804e-05}, {'id': 41, 'seek': 19220, 'start': 192.2, 'end': 198.83999999999997, 'text': ' time to market for R&D initiatives, and streamlining transportation and supply chain networks.', 'tokens': [565, 281, 2142, 337, 497, 5, 35, 16194, 11, 293, 4309, 31079, 11328, 293, 5847, 5021, 9590, 13], 'temperature': 0.0, 'avg_logprob': -0.0860211121408563, 'compression_ratio': 1.5793357933579335, 'no_speech_prob': 4.6959874453023076e-05}, {'id': 42, 'seek': 19220, 'start': 198.83999999999997, 'end': 205.35999999999999, 'text': ' Given all these scenarios, AI is all set to revolutionize every sector in the near future.', 'tokens': [18600, 439, 613, 15077, 11, 7318, 307, 439, 992, 281, 8894, 1125, 633, 6977, 294, 264, 2651, 2027, 13], 'temperature': 0.0, 'avg_logprob': -0.0860211121408563, 'compression_ratio': 1.5793357933579335, 'no_speech_prob': 4.6959874453023076e-05}, {'id': 43, 'seek': 19220, 'start': 205.35999999999999, 'end': 210.88, 'text': ' Given that it is expected to impact 60% of firms, artificial intelligence will continue', 'tokens': [18600, 300, 309, 307, 5176, 281, 2712, 4060, 4, 295, 18055, 11, 11677, 7599, 486, 2354], 'temperature': 0.0, 'avg_logprob': -0.0860211121408563, 'compression_ratio': 1.5793357933579335, 'no_speech_prob': 4.6959874453023076e-05}, {'id': 44, 'seek': 19220, 'start': 210.88, 'end': 215.12, 'text': ' to spread deeper into a wide range of industries in the upcoming years.', 'tokens': [281, 3974, 7731, 666, 257, 4874, 3613, 295, 13284, 294, 264, 11500, 924, 13], 'temperature': 0.0, 'avg_logprob': -0.0860211121408563, 'compression_ratio': 1.5793357933579335, 'no_speech_prob': 4.6959874453023076e-05}, {'id': 45, 'seek': 19220, 'start': 215.12, 'end': 220.28, 'text': ' It is currently driving development in our smart devices, cars, and favorite apps.', 'tokens': [467, 307, 4362, 4840, 3250, 294, 527, 4069, 5759, 11, 5163, 11, 293, 2954, 7733, 13], 'temperature': 0.0, 'avg_logprob': -0.0860211121408563, 'compression_ratio': 1.5793357933579335, 'no_speech_prob': 4.6959874453023076e-05}, {'id': 46, 'seek': 22028, 'start': 220.28, 'end': 226.2, 'text': ' In the coming years, AI will invade every aspect of our life and eventually surpass human', 'tokens': [682, 264, 1348, 924, 11, 7318, 486, 39171, 633, 4171, 295, 527, 993, 293, 4728, 27650, 1952], 'temperature': 0.0, 'avg_logprob': -0.08712574929902048, 'compression_ratio': 1.6784452296819787, 'no_speech_prob': 1.2044494724250399e-05}, {'id': 47, 'seek': 22028, 'start': 226.2, 'end': 228.12, 'text': ' intellectual capacity.', 'tokens': [12576, 6042, 13], 'temperature': 0.0, 'avg_logprob': -0.08712574929902048, 'compression_ratio': 1.6784452296819787, 'no_speech_prob': 1.2044494724250399e-05}, {'id': 48, 'seek': 22028, 'start': 228.12, 'end': 233.56, 'text': \" It won't be long before artificial intelligence becomes a common part of our everyday lives.\", 'tokens': [467, 1582, 380, 312, 938, 949, 11677, 7599, 3643, 257, 2689, 644, 295, 527, 7429, 2909, 13], 'temperature': 0.0, 'avg_logprob': -0.08712574929902048, 'compression_ratio': 1.6784452296819787, 'no_speech_prob': 1.2044494724250399e-05}, {'id': 49, 'seek': 22028, 'start': 233.56, 'end': 238.0, 'text': ' As it becomes more prevalent, it will allow us to live more efficiently and improve our', 'tokens': [1018, 309, 3643, 544, 30652, 11, 309, 486, 2089, 505, 281, 1621, 544, 19621, 293, 3470, 527], 'temperature': 0.0, 'avg_logprob': -0.08712574929902048, 'compression_ratio': 1.6784452296819787, 'no_speech_prob': 1.2044494724250399e-05}, {'id': 50, 'seek': 22028, 'start': 238.0, 'end': 239.28, 'text': ' lives.', 'tokens': [2909, 13], 'temperature': 0.0, 'avg_logprob': -0.08712574929902048, 'compression_ratio': 1.6784452296819787, 'no_speech_prob': 1.2044494724250399e-05}, {'id': 51, 'seek': 22028, 'start': 239.28, 'end': 243.68, 'text': ' By increasing their effectiveness, efficiency, and concentration on the primary tasks that', 'tokens': [3146, 5662, 641, 21208, 11, 10493, 11, 293, 9856, 322, 264, 6194, 9608, 300], 'temperature': 0.0, 'avg_logprob': -0.08712574929902048, 'compression_ratio': 1.6784452296819787, 'no_speech_prob': 1.2044494724250399e-05}, {'id': 52, 'seek': 22028, 'start': 243.68, 'end': 249.72, 'text': \" require people's attention, AI technologies are transforming many industry sectors.\", 'tokens': [3651, 561, 311, 3202, 11, 7318, 7943, 366, 27210, 867, 3518, 18373, 13], 'temperature': 0.0, 'avg_logprob': -0.08712574929902048, 'compression_ratio': 1.6784452296819787, 'no_speech_prob': 1.2044494724250399e-05}, {'id': 53, 'seek': 24972, 'start': 249.72, 'end': 252.52, 'text': ' artificial intelligence will change the world for the better.', 'tokens': [11677, 7599, 486, 1319, 264, 1002, 337, 264, 1101, 13], 'temperature': 0.0, 'avg_logprob': -0.29274753495758654, 'compression_ratio': 1.388157894736842, 'no_speech_prob': 0.00032378689502365887}, {'id': 54, 'seek': 24972, 'start': 252.52, 'end': 253.52, 'text': ' Thank you for watching.', 'tokens': [1044, 291, 337, 1976, 13], 'temperature': 0.0, 'avg_logprob': -0.29274753495758654, 'compression_ratio': 1.388157894736842, 'no_speech_prob': 0.00032378689502365887}, {'id': 55, 'seek': 24972, 'start': 253.52, 'end': 258.56, 'text': ' Please make sure you subscribe to our channel and press the bell icon to never miss updates', 'tokens': [2555, 652, 988, 291, 3022, 281, 527, 2269, 293, 1886, 264, 4549, 6528, 281, 1128, 1713, 9205], 'temperature': 0.0, 'avg_logprob': -0.29274753495758654, 'compression_ratio': 1.388157894736842, 'no_speech_prob': 0.00032378689502365887}, {'id': 56, 'seek': 24972, 'start': 258.56, 'end': 259.92, 'text': ' from SimplyLearn.', 'tokens': [490, 19596, 11020, 1083, 13], 'temperature': 0.0, 'avg_logprob': -0.29274753495758654, 'compression_ratio': 1.388157894736842, 'no_speech_prob': 0.00032378689502365887}, {'id': 57, 'seek': 25992, 'start': 259.92, 'end': 273.6, 'text': ' Happy learning!', 'tokens': [50364, 8277, 2539, 0, 51048], 'temperature': 0.0, 'avg_logprob': -0.33364752928415936, 'compression_ratio': 0.6521739130434783, 'no_speech_prob': 0.0010389282833784819}]\n",
      "58\n"
     ]
    }
   ],
   "source": [
    "print(segments)\n",
    "print(len(segments))"
   ]
  },
  {
   "cell_type": "code",
   "execution_count": 5,
   "id": "7cb2e120",
   "metadata": {},
   "outputs": [
    {
     "name": "stdout",
     "output_type": "stream",
     "text": [
      "58\n"
     ]
    }
   ],
   "source": [
    "print(len(data))"
   ]
  },
  {
   "cell_type": "code",
   "execution_count": 7,
   "id": "e284a77a",
   "metadata": {},
   "outputs": [
    {
     "name": "stderr",
     "output_type": "stream",
     "text": [
      "100%|██████████| 58/58 [00:00<?, ?it/s]\n"
     ]
    }
   ],
   "source": [
    "import json\n",
    "\n",
    "with open(\"youtube-transcriptions.jsonl\", \"w\", encoding=\"utf-8\") as fp:\n",
    "    for line in tqdm(data):\n",
    "        json.dump(line, fp)\n",
    "        fp.write('\\n')"
   ]
  },
  {
   "cell_type": "code",
   "execution_count": 8,
   "id": "e6024f27",
   "metadata": {},
   "outputs": [
    {
     "data": {
      "text/plain": [
       "{'id': 'files\\\\Future of AI  Future of Artificial Intelligence 2023  AI Technology for Beginners  Simplilearn-t0.0',\n",
       " 'text': 'Researchers are preparing us for a revolution that will change the world forever by looking',\n",
       " 'start': 0.0,\n",
       " 'end': 8.52}"
      ]
     },
     "execution_count": 8,
     "metadata": {},
     "output_type": "execute_result"
    }
   ],
   "source": [
    "data[0]"
   ]
  },
  {
   "cell_type": "code",
   "execution_count": 10,
   "id": "1a5ba846",
   "metadata": {},
   "outputs": [
    {
     "name": "stderr",
     "output_type": "stream",
     "text": [
      "100%|██████████| 70/70 [00:00<00:00, 6207.08it/s]\n"
     ]
    }
   ],
   "source": [
    "from tqdm.auto import tqdm\n",
    "\n",
    "new_data = []\n",
    "\n",
    "window = 6  # number of sentences to combine\n",
    "stride = 3  # number of sentences to 'stride' over, used to create overlap\n",
    "\n",
    "for i in tqdm(range(0, len(data), stride)):\n",
    "    i_end = min(len(data)-1, i+window)\n",
    "#     if data[i]['title'] != data[i_end]['title']:\n",
    "#         # in this case we skip this entry as we have start/end of two videos\n",
    "#         continue\n",
    "    for j in range(i,i_end):\n",
    "        text = ' '.join(data[j]['text'])\n",
    "    new_data.append({\n",
    "        'start': data[i]['start'],\n",
    "        'end': data[i_end]['end'],\n",
    "#         'title': data[i]['title'],\n",
    "        'text': text,\n",
    "        'id': data[i]['id'],\n",
    "#         'url': data[i]['url'],\n",
    "#         'published': data[i]['published']\n",
    "    })"
   ]
  },
  {
   "cell_type": "code",
   "execution_count": 11,
   "id": "ec076bbf",
   "metadata": {},
   "outputs": [
    {
     "name": "stdout",
     "output_type": "stream",
     "text": [
      "[{'start': 0.0, 'end': 44.239999999999995, 'text': 's e r i e s   o f   d e f i n i t i o n s   b e c a u s e   t h e   p r o c e s s   c a n   b e   d e f i n e d   i n   m u l t i p l e   d i f f e r e n t   w a y s .', 'id': 'files\\\\elzvHG6M-eU_Process management-t0.0'}, {'start': 19.5, 'end': 63.72, 'text': 'w i l l   t i c k   a t   4   p . m .   t h e n   o n e   p r o c e s s   w i l l   e x e c u t e .   I t   i s   n o t   l i k e   t h a t .   W h e n e v e r   a   p r o c e s s', 'id': 'files\\\\elzvHG6M-eU_Process management-t19.5'}, {'start': 37.239999999999995, 'end': 80.68, 'text': \"w i l l   g e t   l o a d e d   i n   t h e   c o m p u t e r ' s   m e m o r y ,   a   p r o c e s s   w i l l   g e t   c r e a t e d   o u t   o f   t h a t   a n d\", 'id': 'files\\\\elzvHG6M-eU_Process management-t37.239999999999995'}, {'start': 58.32, 'end': 100.56, 'text': 'I t   w i l l   h a v e   s o m e   e x e c u t i o n ,   s o m e   l o c u s   o f   c o n t r o l   w i l l   b e   t h e r e ,   s o m e   e x e c u t i o n   f l o w', 'id': 'files\\\\elzvHG6M-eU_Process management-t58.32'}, {'start': 73.68, 'end': 117.04, 'text': 'h a v e   s o m e   c o n t r o l   f l o w .   I t   w i l l   h a v e   s o m e   c o n t r o l   f l o w .   T h e r e   w i l l   b e   s o m e   c o n d i t i o n a l', 'id': 'files\\\\elzvHG6M-eU_Process management-t73.68'}, {'start': 93.56, 'end': 133.76, 'text': 'w i l l   b e   t h e r e   i n   a   p r o c e s s ,   b u t   t h e   p r o c e s s   w i l l   h a v e   s o m e   l o c u s   o f   c o n t r o l   a n d   i t   i s', 'id': 'files\\\\elzvHG6M-eU_Process management-t93.56'}, {'start': 111.52000000000001, 'end': 151.68, 'text': 'i n f o r m a t i o n .   A c t u a l l y ,   p r o c e s s   c o n t r o l   b l o c k   i s   n o t h i n g ,   b u t   o n e   d a t a   s t r u c t u r e   w h i c h   w i l l', 'id': 'files\\\\elzvHG6M-eU_Process management-t111.52000000000001'}, {'start': 128.88, 'end': 172.44, 'text': 'a n d   t h a t   i s   k n o w n   a s   t h e   P I D   p r o c e s s   i d e n t i f i c a t i o n   n u m b e r   a n d   a g a i n s t   e a c h   a n d   e v e r y   p r o c e s s ,', 'id': 'files\\\\elzvHG6M-eU_Process management-t128.88'}, {'start': 145.51999999999998, 'end': 189.51999999999998, 'text': 't h i s   p a r t i c u l a r   P C B .   Y o u   s e e   t h i s   i s   k n o w n   a s   a   p r o c e s s   t a b l e .   S o ,   h e r e   w e   a r e   h a v i n g', 'id': 'files\\\\elzvHG6M-eU_Process management-t145.51999999999998'}, {'start': 165.44000000000003, 'end': 207.07999999999998, 'text': 'n u m b e r   o f   t h e   p r o c e s s .   T h e   n u m b e r   w i l l   b e   a s s i g n e d   t o   t h e   p r o c e s s   a r b i t r a r i l y ,   b u t   i t', 'id': 'files\\\\elzvHG6M-eU_Process management-t165.44000000000003'}, {'start': 184.6, 'end': 222.6, 'text': 'b e   p o i n t i n g   t o   a   c e r t a i n   m e m o r y   b l o c k ,   w h e r e   t h e   p r o c e s s   r e l a t e d   i n f o r m a t i o n   w i l l   b e   k e p t', 'id': 'files\\\\elzvHG6M-eU_Process management-t184.6'}, {'start': 200.95999999999998, 'end': 236.2, 'text': 'w h i c h   w i l l   p o i n t   t o   t h a t   p a r t i c u l a r   m e m o r y   l o c a t i o n   f r o m   w h e r e   t h e   n e x t   i n s t r u c t i o n', 'id': 'files\\\\elzvHG6M-eU_Process management-t200.95999999999998'}, {'start': 216.56, 'end': 250.2, 'text': 'f o r   t h e   d i f f e r e n t   t y p e   o f   s t a t e s   p o s s i b l e   f o r   a   p a r t i c u l a r   p r o c e s s .   S o ,   t h i s   p a r t i c u l a r', 'id': 'files\\\\elzvHG6M-eU_Process management-t216.56'}, {'start': 232.32, 'end': 266.32, 'text': 'r e s o u r c e   w e   a r e   h a v i n g   m u l t i p l e   r e s o u r c e s   I   a m   c o n s i d e r i n g   t h i s   o n e .   M u l t i p l e   p r o c e s s e s', 'id': 'files\\\\elzvHG6M-eU_Process management-t232.32'}, {'start': 245.6, 'end': 283.15999999999997, 'text': 'n o n - s h a r e d a b l e   i n   t h a t   c a s e   t h e   p r o c e s s   p r i o r i t y   n u m b e r   w i l l   d e c i d e   t h a t   w h i c h   p r o c e s s   w i l l', 'id': 'files\\\\elzvHG6M-eU_Process management-t245.6'}, {'start': 261.44, 'end': 300.64, 'text': 'h a v e   t h e   P I D   a n d   i t s   p a r e n t   p r o c e s s   w i l l   h a v e   t h e   P P I D   t h a t   i s   a   p a r e n t   p r o c e s s   i d e n t i f i c a t i o n', 'id': 'files\\\\elzvHG6M-eU_Process management-t261.44'}, {'start': 278.71999999999997, 'end': 317.88, 'text': 't h e   P C B .   H o w   m a n y   f i l e s   a r e   o p e n e d   f o r   t h a t   p a r t i c u l a r   p r o c e s s   e x e c u t i o n   t h e   t r a c e   w i l l', 'id': 'files\\\\elzvHG6M-eU_Process management-t278.71999999999997'}, {'start': 295.08, 'end': 337.32, 'text': 'E n t i t y   t o   w h i c h   a   p r o c e s s o r   c a n   b e   a s s i g n e d   i t   i s   a   v e r y   i n t e r e s t i n g   t h i s   p a r t i c u l a r   l i n e', 'id': 'files\\\\elzvHG6M-eU_Process management-t295.08'}, {'start': 310.88, 'end': 357.96000000000004, 'text': 't o   g e t   t h e   p r o c e s s   e x e c u t e d   a n d   i t   i s   a   d i s p a t c h a b l e   u n i t   a s s i g n i n g   t h e   C P U   t o   a   p a r t i c u l a r   p r o c e s s .', 'id': 'files\\\\elzvHG6M-eU_Process management-t310.88'}, {'start': 331.88, 'end': 374.88, 'text': 'a s   d i s p a t c h .   S o ,   t h a t   i s   w h y   p r o c e s s   c a n   b e   d e f i n e d   a s   a   d i s p a t c h a b l e   u n i t .   S o ,   y o u   s e e', 'id': 'files\\\\elzvHG6M-eU_Process management-t331.88'}, {'start': 350.8, 'end': 400.24, 'text': 'P l e a s e   w a t c h   t h e   n e x t   v i d e o   o n   t h i s   p a r t i c u l a r   p r o c e s s   w e   w i l l   b e   d i s c u s s i n g   o t h e r   f e a t u r e s', 'id': 'files\\\\elzvHG6M-eU_Process management-t350.8'}, {'start': 369.52, 'end': 19.56, 'text': 'h a v i n g   t h a t   e x e c u t i o n   i n   p a r a l l e l ,   w h e n   t h a t   e x e c u t i o n   t i m e   d u r a t i o n s   a r e   o v e r l a p p i n g ,', 'id': 'files\\\\elzvHG6M-eU_Process management-t369.52'}, {'start': 385.96, 'end': 40.52, 'text': 'p a r t i c u l a r   i n s t a n t   o f   t i m e   a n d   w h i c h   h a s   g o t   t e r m i n a t e d   h e r e .   I f   w e   c o n s i d e r   A   i n t o   v e r y', 'id': 'files\\\\elzvHG6M-eU_Process management-t385.96'}, {'start': 14.0, 'end': 63.32, 'text': 'e q u a l   a n d   u n e q u a l   d u r a t i o n s .   S o ,   a s   a c c o r d i n g l y   I   h a v e   d r a w n .   I f   y o u   g o   f o r   v e r y   m i n u t e   d e t a i l s ,', 'id': 'files\\\\UpaDwHCwtUA_Concurrent Process-t14.0'}, {'start': 31.560000000000002, 'end': 83.16, 'text': 't h i s   w a y   I   c a n   d i v i d e   a   p r o c e s s   i n t o   m u l t i p l e   s u b   t a s k s   o r   s u b   s u b   t a s k s   o k .', 'id': 'files\\\\UpaDwHCwtUA_Concurrent Process-t31.560000000000002'}, {'start': 54.6, 'end': 102.28, 'text': 'B e c a u s e   t h e y   a r e   h a v i n g   s o m e   z o n e   w h e r e   t h e y   h a v e   o v e r l a p p e d   i n   t h a t   e x e c u t i o n   t i m e   s p a n .', 'id': 'files\\\\UpaDwHCwtUA_Concurrent Process-t54.6'}, {'start': 77.48, 'end': 121.0, 'text': 's t a t e m e n t   o r   c o n c u r r e n t   p r o g r a m   c o d e   h a v i n g   t h e   c o n c u r r e n t   s t a t e m e n t s .   S o ,   I   c a n   w r i t e', 'id': 'files\\\\UpaDwHCwtUA_Concurrent Process-t77.48'}, {'start': 95.2, 'end': 141.84, 'text': 'm e a n s   t h a t   t h i s   p a r t i c u l a r   c o   b e g i n ,   c o   e n d   i s   m a k i n g   o n e   b l o c k   a n d   t h i s   p a r t i c u l a r   b e g i n', 'id': 'files\\\\UpaDwHCwtUA_Concurrent Process-t95.2'}, {'start': 113.64, 'end': 162.35999999999999, 'text': 'p a r a l l e l .   S o ,   p a r a l l e l   b e g i n   a n d   p a r a l l e l   e n d .   S o ,   t h i s   i s   t h e   t o t a l   t h i n g   i n   b e t w e e n', 'id': 'files\\\\UpaDwHCwtUA_Concurrent Process-t113.64'}, {'start': 134.48, 'end': 182.48000000000002, 'text': 'e n d   m e a n s   t h e y   w i l l   b e   e x e c u t e d   s e r i a l l y   s e q u e n t i a l l y ,   b u t   w h e n e v e r   t h e y   a r e   e n c l o s e d   w i t h i n   c o   b e g i n', 'id': 'files\\\\UpaDwHCwtUA_Concurrent Process-t134.48'}, {'start': 155.12, 'end': 203.44, 'text': 'e x e c u t e   s e r i a l l y   a n d   t h i s   S   1   t o   S   n   t h e y   w i l l   g e t   e x e c u t e   i n   p a r a l l e l .   S o ,   t h a t   m e a n s ,', 'id': 'files\\\\UpaDwHCwtUA_Concurrent Process-t155.12'}, {'start': 176.92000000000002, 'end': 222.48, 'text': 'a n o t h e r   b e c a u s e   t h e y   a r e   e n c l o s e d   w i t h i n   b e g i n   a n d   e n d .', 'id': 'files\\\\UpaDwHCwtUA_Concurrent Process-t176.92000000000002'}, {'start': 197.64, 'end': 243.07999999999998, 'text': 't h a t   o n e   h e r e .   S o ,   l e t   m e   a n s w e r   t h i s   p a r t i c u l a r   q u e r y   o k .', 'id': 'files\\\\UpaDwHCwtUA_Concurrent Process-t197.64'}, {'start': 216.44, 'end': 265.84000000000003, 'text': 'b l o c k   w i l l   b e   i n   s e r i e s .   S o ,   l e t   m e   w r i t e .   S o ,   S   0   w i l l   b e   a t   t h e   t o p   S   7   w i l l   b e   a t', 'id': 'files\\\\UpaDwHCwtUA_Concurrent Process-t216.44'}, {'start': 232.56, 'end': 286.12, 'text': 'S o ,   S   1   t h i s   b l o c k   a n d   S   6 .   S o ,   I   s h a l l   b e   h a v i n g   S   1   h e r e   s o m e   b l o c k   w i l l   b e   t h e r e   t h e n', 'id': 'files\\\\UpaDwHCwtUA_Concurrent Process-t232.56'}, {'start': 257.92, 'end': 308.52000000000004, 'text': 'I   s h a l l   g o   f o r   S   2   s o m e t h i n g   w i l l   t a k e   p l a c e   a n d   t h e n   h e r e   I   a m   g e t t i n g   S   5 .   S o ,   i t   w i l l', 'id': 'files\\\\UpaDwHCwtUA_Concurrent Process-t257.92'}, {'start': 278.16, 'end': 333.6, 'text': 'y o u   s e e   S   1   s o r r y   S   0   t h i s   b l o c k   a n d   S   7 .   S o ,   S   0   t h i s   b l o c k   a n d   S   7 .   N o w ,   i n   b e t w e e n', 'id': 'files\\\\UpaDwHCwtUA_Concurrent Process-t278.16'}, {'start': 302.32, 'end': 359.08, 'text': 'S   3   a n d   S   4   w i l l   b e   c o m i n g   h e r e .   S o ,   t h e y   w i l l   b e   g o i n g   f o r   t h i s .   T h i s   i s   t h e   r e s p e c t i v e', 'id': 'files\\\\UpaDwHCwtUA_Concurrent Process-t302.32'}, {'start': 325.76, 'end': 374.04, 'text': 'm a y   c o m e .   O b v i o u s l y ,   i n   t h e   g a t e   e x a m   y o u   a r e   n o t   g o i n g   t o   d r a w   s u c h   d i a g r a m s ,   b u t   i n', 'id': 'files\\\\UpaDwHCwtUA_Concurrent Process-t325.76'}, {'start': 353.68, 'end': 400.72, 'text': 'o f   q u e s t i o n s   c a n   e a s i l y   c o m e .   S o ,   t h a t   i s   w h y   i n   t h e   n e x t   v i d e o   w e   s h a l l   s o l v e   s u c h   a   p r o b l e m .', 'id': 'files\\\\UpaDwHCwtUA_Concurrent Process-t353.68'}, {'start': 369.12, 'end': 14.88, 'text': 'S o ,   w h e n e v e r   a   p r o c e s s   e x e c u t e s   t h e n   t h e   p r o c e s s   c a n   b e   f o u n d   i n   m u l t i p l e   d i f f e r e n t   s t a t e   a n d', 'id': 'files\\\\UpaDwHCwtUA_Concurrent Process-t369.12'}, {'start': 385.16, 'end': 34.120000000000005, 'text': 'S o ,   w h e n e v e r   a   p r o c e s s   w i l l   g e t   b i r t h   t h a t   m e a n s ,   w h e n   t h e   p r o c e s s   i s   a   n e w   p r o c e s s .', 'id': 'files\\\\UpaDwHCwtUA_Concurrent Process-t385.16'}, {'start': 12.08, 'end': 47.0, 'text': 'w a i t i n g   f o r   e x e c u t i o n .', 'id': 'files\\\\UTv5aefIge4_Process State Transitions-t12.08'}, {'start': 26.64, 'end': 60.879999999999995, 'text': 'e x e c u t i o n   i s   k n o w n   a s   a   p r o c e s s .', 'id': 'files\\\\UTv5aefIge4_Process State Transitions-t26.64'}, {'start': 41.56, 'end': 72.92, 'text': 'T h a t   m e a n s ,   w h e n   t h e   p r o c e s s   o b v i o u s l y   t h e   p r o c e s s   w i l l   b e   j o i n i n g   a t   t h e   e n d   o f   t h e', 'id': 'files\\\\UTv5aefIge4_Process State Transitions-t41.56'}, {'start': 56.16, 'end': 89.39999999999999, 'text': 'w h e n   t h e   C P U   w i l l   b e c o m e   a v a i l a b l e   t h e n   a   d i s p a t c h   o p e r a t i o n   w i l l   t a k e   p l a c e   a n d   t h i s', 'id': 'files\\\\UTv5aefIge4_Process State Transitions-t56.16'}, {'start': 70.24, 'end': 105.88, 'text': 'b u t   d u r i n g   e x e c u t i o n   d u r i n g   e x e c u t i o n   s o m e   i n c i d e n c e s   m a y   h a p p e n .', 'id': 'files\\\\UTv5aefIge4_Process State Transitions-t70.24'}, {'start': 83.6, 'end': 119.52000000000001, 'text': 'a s   q u a n t u m .', 'id': 'files\\\\UTv5aefIge4_Process State Transitions-t83.6'}, {'start': 100.08, 'end': 135.04000000000002, 'text': 's t a t e   t o   t h e   r e a d y   s t a t e   t h e n   t h e   p r o c e s s   w i l l   b e   f o u n d   a t   t h e   r e a d y   q u e u e .', 'id': 'files\\\\UTv5aefIge4_Process State Transitions-t100.08'}, {'start': 113.96000000000001, 'end': 148.96, 'text': 'r e a d y   q u e u e .', 'id': 'files\\\\UTv5aefIge4_Process State Transitions-t113.96000000000001'}, {'start': 129.6, 'end': 163.64, 'text': 'S o ,   t h a t   i s   a n o t h e r   s t a t e   t r a n s i t i o n   i t   m a y   t a k e   p l a c e   s a y   a   p r o c e s s   c a n n o t   t a k e   p l a c e', 'id': 'files\\\\UTv5aefIge4_Process State Transitions-t129.6'}, {'start': 141.66, 'end': 180.92, 'text': 'w i l l   g e t   s u s p e n d e d   a n d   i t   w i l l   f i n d   i t s e l f   i n   t h e   s u s p e n d e d   r e a d y   a n d   w h e n   t h e   f a v o r a b l e', 'id': 'files\\\\UTv5aefIge4_Process State Transitions-t141.66'}, {'start': 161.16, 'end': 192.72, 'text': 'c o m e .', 'id': 'files\\\\UTv5aefIge4_Process State Transitions-t161.16'}, {'start': 174.84, 'end': 203.96, 'text': 's u s p e n d e d   r e a d y .', 'id': 'files\\\\UTv5aefIge4_Process State Transitions-t174.84'}, {'start': 186.12, 'end': 226.36, 'text': 'D u r i n g   t h i s   e x e c u t i o n   t h e   p r o c e s s   c a n   g e t   b l o c k e d   t h a t   m e a n s ,   l e t   u s   s u p p o s e   t h e   p r o c e s s', 'id': 'files\\\\UTv5aefIge4_Process State Transitions-t186.12'}, {'start': 197.96, 'end': 243.0, 'text': 'f o r   t h e   i n p u t   o u t p u t   o p e r a t i o n   a n d   w h e n   t h a t   i n p u t   o u t p u t   o p e r a t i o n   w i l l   t a k e   p l a c e   o r', 'id': 'files\\\\UTv5aefIge4_Process State Transitions-t197.96'}, {'start': 220.4, 'end': 254.72000000000003, 'text': 't o   t h e   r e a d y   s t a t e .', 'id': 'files\\\\UTv5aefIge4_Process State Transitions-t220.4'}, {'start': 237.12, 'end': 267.36, 'text': 't o   r e a d   a   f i l e   f r o m   t h e   s e g m e n t e d   s t o r a g e .', 'id': 'files\\\\UTv5aefIge4_Process State Transitions-t237.12'}, {'start': 249.52, 'end': 281.04, 'text': 'w a i t i n g   f o r   a n o t h e r   p r o c e s s   c o m p l e t i o n   o r   s a y   a n o t h e r   p r o c e s s   w i l l   c r e a t e   o n e   d a t a   f i l e', 'id': 'files\\\\UTv5aefIge4_Process State Transitions-t249.52'}, {'start': 263.4, 'end': 292.88, 'text': 'S o ,   t h e   p r o c e s s   c a n n o t   r u n .', 'id': 'files\\\\UTv5aefIge4_Process State Transitions-t263.4'}, {'start': 277.84, 'end': 305.08000000000004, 'text': 'p r o c e s s   h a s   c o m p l e t e d   t h e n   i t   w i l l   j o i n   t o   t h e   r e a d y   q u e u e .', 'id': 'files\\\\UTv5aefIge4_Process State Transitions-t277.84'}, {'start': 287.76000000000005, 'end': 320.88, 'text': 'o r   s a y   e v e n t   c o m p l e t i o n   i n   t h a t   c a s e   t h e   p r o c e s s   c a n   g e t   s u s p e n d e d   a n d   i t   w i l l   f i n d   i t s e l f', 'id': 'files\\\\UTv5aefIge4_Process State Transitions-t287.76000000000005'}, {'start': 300.68, 'end': 329.96, 'text': 't h e   r e a d y   q u e u e .', 'id': 'files\\\\UTv5aefIge4_Process State Transitions-t300.68'}, {'start': 315.84, 'end': 347.76, 'text': 'o f   t h e   C P U   t o   t h e   p r o c e s s   s o   t h a t   t h e   p r o c e s s   c a n   e x e c u t e   o r   r u n   a n d   t h e n   f r o m   h e r e   t i m e r', 'id': 'files\\\\UTv5aefIge4_Process State Transitions-t315.84'}, {'start': 326.2, 'end': 357.8, 'text': 'S o ,   t h i s   p r o c e s s   w i l l   g o   t o   t h e   r e a d y   q u e u e   a n d   h i g h e r   p r i o r i t y   p r o c e s s   w i l l   t a k e   o v e r', 'id': 'files\\\\UTv5aefIge4_Process State Transitions-t326.2'}, {'start': 341.96, 'end': 373.36, 'text': 'S o ,   t h i s   i s   t h e   f u l l   p r o c e s s   s t a t e   t r a n s i t i o n   d i a g r a m   I   h a v e   d i s c u s s e d   e a c h   a n d   e v e r y   t r a n s i t i o n', 'id': 'files\\\\UTv5aefIge4_Process State Transitions-t341.96'}, {'start': 354.96, 'end': 387.0, 'text': 'i s   t h e   o p e r a t i o n   o p e r a t i o n   i s   s u s p e n d .', 'id': 'files\\\\UTv5aefIge4_Process State Transitions-t354.96'}, {'start': 371.08000000000004, 'end': 401.64, 'text': 'I n   t h i s   w a y   t h e   p r o c e s s   s t a t e   t r a n s i t i o n   w i l l   t a k e   p l a c e .', 'id': 'files\\\\UTv5aefIge4_Process State Transitions-t371.08000000000004'}, {'start': 380.76, 'end': 422.88, 'text': 'i n   s e p a r a t e   b l o c k s   a n d   t h e   t r a n s i t i o n s   h a v e   g o t   n o t e d .', 'id': 'files\\\\UTv5aefIge4_Process State Transitions-t380.76'}, {'start': 395.2, 'end': 422.88, 'text': 'i n   s e p a r a t e   b l o c k s   a n d   t h e   t r a n s i t i o n s   h a v e   g o t   n o t e d .', 'id': 'files\\\\UTv5aefIge4_Process State Transitions-t395.2'}]\n",
      "70\n"
     ]
    }
   ],
   "source": [
    "print(new_data)\n",
    "print(len(new_data))"
   ]
  },
  {
   "cell_type": "code",
   "execution_count": 9,
   "id": "518b6e14",
   "metadata": {},
   "outputs": [
    {
     "data": {
      "text/plain": [
       "SentenceTransformer(\n",
       "  (0): Transformer({'max_seq_length': 512, 'do_lower_case': False}) with Transformer model: MPNetModel \n",
       "  (1): Pooling({'word_embedding_dimension': 768, 'pooling_mode_cls_token': True, 'pooling_mode_mean_tokens': False, 'pooling_mode_max_tokens': False, 'pooling_mode_mean_sqrt_len_tokens': False})\n",
       ")"
      ]
     },
     "execution_count": 9,
     "metadata": {},
     "output_type": "execute_result"
    }
   ],
   "source": [
    "from sentence_transformers import SentenceTransformer\n",
    "\n",
    "model_id = \"multi-qa-mpnet-base-dot-v1\"\n",
    "\n",
    "model = SentenceTransformer(model_id)\n",
    "model"
   ]
  },
  {
   "cell_type": "code",
   "execution_count": 10,
   "id": "4f34c4c9",
   "metadata": {},
   "outputs": [],
   "source": [
    "dim = model.get_sentence_embedding_dimension()"
   ]
  },
  {
   "cell_type": "code",
   "execution_count": 11,
   "id": "81de8623",
   "metadata": {},
   "outputs": [
    {
     "data": {
      "text/plain": [
       "{'dimension': 768,\n",
       " 'index_fullness': 0.0,\n",
       " 'namespaces': {'': {'vector_count': 2136}},\n",
       " 'total_vector_count': 2136}"
      ]
     },
     "execution_count": 11,
     "metadata": {},
     "output_type": "execute_result"
    }
   ],
   "source": [
    "import pinecone  # !pip install pinecone-client\n",
    "\n",
    "index_id = \"youtube-search\"\n",
    "\n",
    "pinecone.init(\n",
    "    api_key=\"d21ea354-bcbd-49ce-b9c2-e62edadbac44\",  # app.pinecone.io\n",
    "    environment=\"us-east-1-aws\"  # find next to API key\n",
    ")\n",
    "\n",
    "if index_id not in pinecone.list_indexes():\n",
    "    pinecone.create_index(\n",
    "        index_id,\n",
    "        dim,\n",
    "        metric=\"dotproduct\"\n",
    "    )\n",
    "\n",
    "index = pinecone.Index(index_id)\n",
    "index.describe_index_stats()"
   ]
  },
  {
   "cell_type": "code",
   "execution_count": 12,
   "id": "97859d72",
   "metadata": {},
   "outputs": [
    {
     "name": "stderr",
     "output_type": "stream",
     "text": [
      "100%|██████████| 1/1 [00:06<00:00,  6.61s/it]\n"
     ]
    }
   ],
   "source": [
    "# we encode and insert in batches of 64\n",
    "from tqdm.auto import tqdm\n",
    "batch_size = 64\n",
    "\n",
    "new_data = data\n",
    "\n",
    "# loop through in batches of 64\n",
    "for i in tqdm(range(0, len(new_data), batch_size)):\n",
    "    # find end position of batch (for when we hit end of data)\n",
    "    i_end = min(len(new_data)-1, i+batch_size)\n",
    "    # extract the metadata like text, start/end positions, etc\n",
    "    batch_meta = [{\n",
    "        \"text\": new_data[x][\"text\"],\n",
    "        \"start\": new_data[x][\"start\"],\n",
    "        \"end\": new_data[x][\"end\"],\n",
    "        # \"url\": new_data[x][\"url\"],\n",
    "        # \"title\": new_data[x][\"title\"]\n",
    "    } for x in range(i, i_end)]\n",
    "    # extract only text to be encoded by embedding model\n",
    "    batch_text = [\n",
    "        row['text'] for row in new_data[i:i_end]\n",
    "    ]\n",
    "    # create the embedding vectors\n",
    "    batch_embeds = model.encode(batch_text).tolist()\n",
    "    # extract IDs to be attached to each embedding and metadata\n",
    "    batch_ids = [\n",
    "        row['id'] for row in new_data[i:i_end]\n",
    "    ]\n",
    "    # 'upsert' (insert) IDs, embeddings, and metadata to index\n",
    "    to_upsert = list(zip(\n",
    "        batch_ids, batch_embeds, batch_meta\n",
    "    ))\n",
    "    index.upsert(to_upsert)\n"
   ]
  },
  {
   "cell_type": "code",
   "execution_count": 13,
   "id": "d50b2525",
   "metadata": {},
   "outputs": [
    {
     "data": {
      "text/plain": [
       "{'dimension': 768,\n",
       " 'index_fullness': 0.0,\n",
       " 'namespaces': {'': {'vector_count': 2193}},\n",
       " 'total_vector_count': 2193}"
      ]
     },
     "execution_count": 13,
     "metadata": {},
     "output_type": "execute_result"
    }
   ],
   "source": [
    "# check everything has been added\n",
    "index.describe_index_stats()"
   ]
  },
  {
   "cell_type": "code",
   "execution_count": 15,
   "id": "706ddd6d",
   "metadata": {},
   "outputs": [
    {
     "data": {
      "text/plain": [
       "{'matches': [{'id': 'files\\\\Future of AI  Future of Artificial Intelligence '\n",
       "                    '2023  AI Technology for Beginners  Simplilearn-t69.2',\n",
       "              'metadata': {'end': 72.08,\n",
       "                           'start': 69.2,\n",
       "                           'text': 'AI can be categorized into three types.'},\n",
       "              'score': 30.2790127,\n",
       "              'values': []},\n",
       "             {'id': 'files\\\\Future of AI  Future of Artificial Intelligence '\n",
       "                    '2023  AI Technology for Beginners  Simplilearn-t123.16',\n",
       "              'metadata': {'end': 124.16, 'start': 123.16, 'text': 'AI.'},\n",
       "              'score': 26.7398033,\n",
       "              'values': []},\n",
       "             {'id': 'files\\\\Future of AI  Future of Artificial Intelligence '\n",
       "                    '2023  AI Technology for Beginners  Simplilearn-t124.16',\n",
       "              'metadata': {'end': 133.4,\n",
       "                           'start': 124.16,\n",
       "                           'text': 'AI has occupied crucial sectors like '\n",
       "                                   'healthcare, cybersecurity, e-commerce, '\n",
       "                                   'agriculture, robotics,'},\n",
       "              'score': 23.6670151,\n",
       "              'values': []},\n",
       "             {'id': 'files\\\\Future of AI  Future of Artificial Intelligence '\n",
       "                    '2023  AI Technology for Beginners  Simplilearn-t78.28',\n",
       "              'metadata': {'end': 81.96,\n",
       "                           'start': 78.28,\n",
       "                           'text': 'General AI performs tasks like a human.'},\n",
       "              'score': 22.9881039,\n",
       "              'values': []},\n",
       "             {'id': 'files\\\\Future of AI  Future of Artificial Intelligence '\n",
       "                    '2023  AI Technology for Beginners  Simplilearn-t171.32',\n",
       "              'metadata': {'end': 176.16,\n",
       "                           'start': 171.32,\n",
       "                           'text': 'In the upcoming years, it is anticipated '\n",
       "                                   'that artificial intelligence and machine '\n",
       "                                   'learning'},\n",
       "              'score': 22.5337162,\n",
       "              'values': []}],\n",
       " 'namespace': ''}"
      ]
     },
     "execution_count": 15,
     "metadata": {},
     "output_type": "execute_result"
    }
   ],
   "source": [
    "# query = \"define a process\"\n",
    "# query = \"multiple definitions of a process\"\n",
    "# query = \"is process asynchronous\"\n",
    "# query = \"how is a process created\" #crct ans keela vanchu\n",
    "# query = \"how to identify a process\"\n",
    "# query = \"pcb?\"\n",
    "# query = \"what is a process table?\"\n",
    "# query = \"how to get next instruction to be fetched?\"\n",
    "# query = \"what will be inside a pcb\"\n",
    "# query = \"what is a semaphore\"  #of the semaphore huh\n",
    "# query = \"what is purpose of wait in semaphore\" #queue and semaphore empty ah \n",
    "# query = \"what happens in the signal operation in semaphore\"\n",
    "# query = \"how is semaphore expressed in record format\"\n",
    "# query = \"what is binary sempahore\" #semaphore bathila sempahore nu potaalum varuthe\n",
    "# query = \"what is deadlock\" #nahhh\n",
    "# query = \"what is resource allocation sequence\"\n",
    "# query = \"what is allocation\"\n",
    "# query = \"average waiting time\"\n",
    "# query = \"pcb?\"\n",
    "query = \"types of artificial intelligence\"\n",
    "xq = model.encode(query).tolist()\n",
    "\n",
    "index.query(xq, top_k=5, include_metadata=True)"
   ]
  },
  {
   "cell_type": "code",
   "execution_count": 3,
   "id": "a43e4157",
   "metadata": {},
   "outputs": [
    {
     "data": {
      "text/plain": [
       "{}"
      ]
     },
     "execution_count": 3,
     "metadata": {},
     "output_type": "execute_result"
    }
   ],
   "source": [
    "# index.delete(deleteAll='true')"
   ]
  }
 ],
 "metadata": {
  "kernelspec": {
   "display_name": "Python 3 (ipykernel)",
   "language": "python",
   "name": "python3"
  },
  "language_info": {
   "codemirror_mode": {
    "name": "ipython",
    "version": 3
   },
   "file_extension": ".py",
   "mimetype": "text/x-python",
   "name": "python",
   "nbconvert_exporter": "python",
   "pygments_lexer": "ipython3",
   "version": "3.10.4"
  }
 },
 "nbformat": 4,
 "nbformat_minor": 5
}
