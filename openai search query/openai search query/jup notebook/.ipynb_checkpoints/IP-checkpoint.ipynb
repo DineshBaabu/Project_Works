{
 "cells": [
  {
   "cell_type": "code",
   "execution_count": 1,
   "id": "29ac54bd",
   "metadata": {},
   "outputs": [
    {
     "ename": "NameError",
     "evalue": "name 'Path' is not defined",
     "output_type": "error",
     "traceback": [
      "\u001b[1;31m---------------------------------------------------------------------------\u001b[0m",
      "\u001b[1;31mNameError\u001b[0m                                 Traceback (most recent call last)",
      "Cell \u001b[1;32mIn[1], line 1\u001b[0m\n\u001b[1;32m----> 1\u001b[0m x \u001b[38;5;241m=\u001b[39m \u001b[43mPath\u001b[49m(\u001b[38;5;124m'\u001b[39m\u001b[38;5;124m/files\u001b[39m\u001b[38;5;124m'\u001b[39m)\u001b[38;5;241m.\u001b[39mglob(\u001b[38;5;124m'\u001b[39m\u001b[38;5;124m*.mp3\u001b[39m\u001b[38;5;124m'\u001b[39m)\n",
      "\u001b[1;31mNameError\u001b[0m: name 'Path' is not defined"
     ]
    }
   ],
   "source": [
    "x = Path('/files').glob('*.mp3')"
   ]
  },
  {
   "cell_type": "code",
   "execution_count": 2,
   "id": "fb03a3fb",
   "metadata": {},
   "outputs": [],
   "source": [
    "from pathlib import Path\n",
    "x = Path('/files').glob('*.mp3')"
   ]
  },
  {
   "cell_type": "code",
   "execution_count": 3,
   "id": "93c4316d",
   "metadata": {},
   "outputs": [
    {
     "name": "stdout",
     "output_type": "stream",
     "text": [
      "<generator object Path.glob at 0x000001C09A3E8C80>\n"
     ]
    }
   ],
   "source": [
    "print(x)"
   ]
  },
  {
   "cell_type": "code",
   "execution_count": 4,
   "id": "edfad94b",
   "metadata": {},
   "outputs": [
    {
     "name": "stdout",
     "output_type": "stream",
     "text": [
      "<generator object Path.glob at 0x000001C09A3E8C80>\n"
     ]
    }
   ],
   "source": [
    "x = str(x)\n",
    "print(x)"
   ]
  },
  {
   "cell_type": "code",
   "execution_count": 5,
   "id": "6fda7b36",
   "metadata": {},
   "outputs": [
    {
     "name": "stdout",
     "output_type": "stream",
     "text": [
      "<generator object Path.glob at 0x000001C09A3E91C0>\n"
     ]
    }
   ],
   "source": [
    "x = str(Path('/files').glob('*.mp3'))\n",
    "print(x)"
   ]
  },
  {
   "cell_type": "code",
   "execution_count": 7,
   "id": "fd536b7f",
   "metadata": {},
   "outputs": [
    {
     "name": "stdout",
     "output_type": "stream",
     "text": [
      "\\files\n"
     ]
    }
   ],
   "source": [
    "x = str(Path('/files'))\n",
    "print(x)"
   ]
  },
  {
   "cell_type": "code",
   "execution_count": 8,
   "id": "e2fd9338",
   "metadata": {},
   "outputs": [
    {
     "name": "stdout",
     "output_type": "stream",
     "text": [
      "<generator object Path.glob at 0x000001C09A3E9D20>\n"
     ]
    }
   ],
   "source": [
    "from pathlib import Path\n",
    "x = Path('/files').glob('*.mp3')\n",
    "print(str(x))"
   ]
  },
  {
   "cell_type": "code",
   "execution_count": 9,
   "id": "03e1aa0e",
   "metadata": {},
   "outputs": [
    {
     "name": "stdout",
     "output_type": "stream",
     "text": [
      "1\n",
      "['files\\\\How to Crush a Job Interview shorts.mp3']\n"
     ]
    }
   ],
   "source": [
    "from pathlib import Path\n",
    "\n",
    "# get list of MP3 audio files\n",
    "paths = [str(x) for x in Path('./files').glob('*.mp3')]\n",
    "print(len(paths))\n",
    "print(paths[:5])"
   ]
  },
  {
   "cell_type": "code",
   "execution_count": 2,
   "id": "11850e5b",
   "metadata": {},
   "outputs": [
    {
     "name": "stdout",
     "output_type": "stream",
     "text": [
      "1\n",
      "['files\\\\iv_1.mp3']\n"
     ]
    }
   ],
   "source": [
    "from pathlib import Path\n",
    "\n",
    "# get list of MP3 audio files\n",
    "paths = [str(x) for x in Path('./files').glob('*.mp3')]\n",
    "print(len(paths))\n",
    "print(paths[:5])"
   ]
  },
  {
   "cell_type": "code",
   "execution_count": 5,
   "id": "85a60e7b",
   "metadata": {},
   "outputs": [
    {
     "name": "stderr",
     "output_type": "stream",
     "text": [
      "  0%|                                                                                            | 0/1 [00:00<?, ?it/s]\n"
     ]
    },
    {
     "ename": "NameError",
     "evalue": "name 'model' is not defined",
     "output_type": "error",
     "traceback": [
      "\u001b[1;31m---------------------------------------------------------------------------\u001b[0m",
      "\u001b[1;31mNameError\u001b[0m                                 Traceback (most recent call last)",
      "Cell \u001b[1;32mIn[5], line 7\u001b[0m\n\u001b[0;32m      5\u001b[0m _id \u001b[38;5;241m=\u001b[39m path\u001b[38;5;241m.\u001b[39msplit(\u001b[38;5;124m'\u001b[39m\u001b[38;5;124m/\u001b[39m\u001b[38;5;124m'\u001b[39m)[\u001b[38;5;241m-\u001b[39m\u001b[38;5;241m1\u001b[39m][:\u001b[38;5;241m-\u001b[39m\u001b[38;5;241m4\u001b[39m]\n\u001b[0;32m      6\u001b[0m \u001b[38;5;66;03m# transcribe to get speech-to-text data\u001b[39;00m\n\u001b[1;32m----> 7\u001b[0m result \u001b[38;5;241m=\u001b[39m \u001b[43mmodel\u001b[49m\u001b[38;5;241m.\u001b[39mtranscribe(path)\n\u001b[0;32m      8\u001b[0m segments \u001b[38;5;241m=\u001b[39m result[\u001b[38;5;124m'\u001b[39m\u001b[38;5;124msegments\u001b[39m\u001b[38;5;124m'\u001b[39m]\n\u001b[0;32m      9\u001b[0m \u001b[38;5;66;03m# get the video metadata...\u001b[39;00m\n",
      "\u001b[1;31mNameError\u001b[0m: name 'model' is not defined"
     ]
    }
   ],
   "source": [
    "from tqdm import tqdm\n",
    "data = []\n",
    "\n",
    "for i, path in enumerate(tqdm(paths)):\n",
    "    _id = path.split('/')[-1][:-4]\n",
    "    # transcribe to get speech-to-text data\n",
    "    result = model.transcribe(path)\n",
    "    segments = result['segments']\n",
    "    # get the video metadata...\n",
    "    video_meta = videos_dict[_id]\n",
    "    for segment in segments:\n",
    "        # merge segments data and videos_meta data\n",
    "        meta = {\n",
    "            **video_meta,\n",
    "            **{\n",
    "                \"id\": f\"{_id}-t{segments[j]['start']}\",\n",
    "                \"text\": segment[\"text\"].strip(),\n",
    "                \"start\": segment['start'],\n",
    "                \"end\": segment['end']\n",
    "            }\n",
    "        }\n",
    "        data.append(meta)\n"
   ]
  },
  {
   "cell_type": "code",
   "execution_count": 4,
   "id": "818872ca",
   "metadata": {},
   "outputs": [
    {
     "name": "stdout",
     "output_type": "stream",
     "text": [
      "Requirement already satisfied: tqdm in c:\\users\\dell\\appdata\\local\\programs\\python\\python310\\lib\\site-packages (4.64.1)\n",
      "Requirement already satisfied: colorama in c:\\users\\dell\\appdata\\local\\programs\\python\\python310\\lib\\site-packages (from tqdm) (0.4.6)\n",
      "Note: you may need to restart the kernel to use updated packages.\n"
     ]
    }
   ],
   "source": [
    "pip install tqdm"
   ]
  },
  {
   "cell_type": "code",
   "execution_count": 6,
   "id": "bd2c6b44",
   "metadata": {},
   "outputs": [
    {
     "name": "stderr",
     "output_type": "stream",
     "text": [
      "C:\\Users\\Dell\\AppData\\Local\\Programs\\Python\\Python310\\lib\\site-packages\\tqdm\\auto.py:22: TqdmWarning: IProgress not found. Please update jupyter and ipywidgets. See https://ipywidgets.readthedocs.io/en/stable/user_install.html\n",
      "  from .autonotebook import tqdm as notebook_tqdm\n",
      "  0%|                                     | 5.51M/2.87G [00:05<45:49, 1.12MiB/s]\n"
     ]
    },
    {
     "ename": "KeyboardInterrupt",
     "evalue": "",
     "output_type": "error",
     "traceback": [
      "\u001b[1;31m---------------------------------------------------------------------------\u001b[0m",
      "\u001b[1;31mKeyboardInterrupt\u001b[0m                         Traceback (most recent call last)",
      "Cell \u001b[1;32mIn[6], line 6\u001b[0m\n\u001b[0;32m      2\u001b[0m \u001b[38;5;28;01mimport\u001b[39;00m \u001b[38;5;21;01mtorch\u001b[39;00m  \u001b[38;5;66;03m# install steps: pytorch.org\u001b[39;00m\n\u001b[0;32m      4\u001b[0m device \u001b[38;5;241m=\u001b[39m \u001b[38;5;124m\"\u001b[39m\u001b[38;5;124mcuda\u001b[39m\u001b[38;5;124m\"\u001b[39m \u001b[38;5;28;01mif\u001b[39;00m torch\u001b[38;5;241m.\u001b[39mcuda\u001b[38;5;241m.\u001b[39mis_available() \u001b[38;5;28;01melse\u001b[39;00m \u001b[38;5;124m\"\u001b[39m\u001b[38;5;124mcpu\u001b[39m\u001b[38;5;124m\"\u001b[39m\n\u001b[1;32m----> 6\u001b[0m model \u001b[38;5;241m=\u001b[39m \u001b[43mwhisper\u001b[49m\u001b[38;5;241;43m.\u001b[39;49m\u001b[43mload_model\u001b[49m\u001b[43m(\u001b[49m\u001b[38;5;124;43m\"\u001b[39;49m\u001b[38;5;124;43mlarge\u001b[39;49m\u001b[38;5;124;43m\"\u001b[39;49m\u001b[43m)\u001b[49m\u001b[38;5;241m.\u001b[39mto(device)\n",
      "File \u001b[1;32m~\\AppData\\Local\\Programs\\Python\\Python310\\lib\\site-packages\\whisper\\__init__.py:108\u001b[0m, in \u001b[0;36mload_model\u001b[1;34m(name, device, download_root, in_memory)\u001b[0m\n\u001b[0;32m     97\u001b[0m     download_root \u001b[38;5;241m=\u001b[39m os\u001b[38;5;241m.\u001b[39mpath\u001b[38;5;241m.\u001b[39mjoin(\n\u001b[0;32m     98\u001b[0m         os\u001b[38;5;241m.\u001b[39mgetenv(\n\u001b[0;32m     99\u001b[0m             \u001b[38;5;124m\"\u001b[39m\u001b[38;5;124mXDG_CACHE_HOME\u001b[39m\u001b[38;5;124m\"\u001b[39m,\n\u001b[1;32m   (...)\u001b[0m\n\u001b[0;32m    104\u001b[0m         \u001b[38;5;124m\"\u001b[39m\u001b[38;5;124mwhisper\u001b[39m\u001b[38;5;124m\"\u001b[39m\n\u001b[0;32m    105\u001b[0m     )\n\u001b[0;32m    107\u001b[0m \u001b[38;5;28;01mif\u001b[39;00m name \u001b[38;5;129;01min\u001b[39;00m _MODELS:\n\u001b[1;32m--> 108\u001b[0m     checkpoint_file \u001b[38;5;241m=\u001b[39m \u001b[43m_download\u001b[49m\u001b[43m(\u001b[49m\u001b[43m_MODELS\u001b[49m\u001b[43m[\u001b[49m\u001b[43mname\u001b[49m\u001b[43m]\u001b[49m\u001b[43m,\u001b[49m\u001b[43m \u001b[49m\u001b[43mdownload_root\u001b[49m\u001b[43m,\u001b[49m\u001b[43m \u001b[49m\u001b[43min_memory\u001b[49m\u001b[43m)\u001b[49m\n\u001b[0;32m    109\u001b[0m \u001b[38;5;28;01melif\u001b[39;00m os\u001b[38;5;241m.\u001b[39mpath\u001b[38;5;241m.\u001b[39misfile(name):\n\u001b[0;32m    110\u001b[0m     checkpoint_file \u001b[38;5;241m=\u001b[39m \u001b[38;5;28mopen\u001b[39m(name, \u001b[38;5;124m\"\u001b[39m\u001b[38;5;124mrb\u001b[39m\u001b[38;5;124m\"\u001b[39m)\u001b[38;5;241m.\u001b[39mread() \u001b[38;5;28;01mif\u001b[39;00m in_memory \u001b[38;5;28;01melse\u001b[39;00m name\n",
      "File \u001b[1;32m~\\AppData\\Local\\Programs\\Python\\Python310\\lib\\site-packages\\whisper\\__init__.py:53\u001b[0m, in \u001b[0;36m_download\u001b[1;34m(url, root, in_memory)\u001b[0m\n\u001b[0;32m     51\u001b[0m \u001b[38;5;28;01mwith\u001b[39;00m tqdm(total\u001b[38;5;241m=\u001b[39m\u001b[38;5;28mint\u001b[39m(source\u001b[38;5;241m.\u001b[39minfo()\u001b[38;5;241m.\u001b[39mget(\u001b[38;5;124m\"\u001b[39m\u001b[38;5;124mContent-Length\u001b[39m\u001b[38;5;124m\"\u001b[39m)), ncols\u001b[38;5;241m=\u001b[39m\u001b[38;5;241m80\u001b[39m, unit\u001b[38;5;241m=\u001b[39m\u001b[38;5;124m'\u001b[39m\u001b[38;5;124miB\u001b[39m\u001b[38;5;124m'\u001b[39m, unit_scale\u001b[38;5;241m=\u001b[39m\u001b[38;5;28;01mTrue\u001b[39;00m, unit_divisor\u001b[38;5;241m=\u001b[39m\u001b[38;5;241m1024\u001b[39m) \u001b[38;5;28;01mas\u001b[39;00m loop:\n\u001b[0;32m     52\u001b[0m     \u001b[38;5;28;01mwhile\u001b[39;00m \u001b[38;5;28;01mTrue\u001b[39;00m:\n\u001b[1;32m---> 53\u001b[0m         buffer \u001b[38;5;241m=\u001b[39m \u001b[43msource\u001b[49m\u001b[38;5;241;43m.\u001b[39;49m\u001b[43mread\u001b[49m\u001b[43m(\u001b[49m\u001b[38;5;241;43m8192\u001b[39;49m\u001b[43m)\u001b[49m\n\u001b[0;32m     54\u001b[0m         \u001b[38;5;28;01mif\u001b[39;00m \u001b[38;5;129;01mnot\u001b[39;00m buffer:\n\u001b[0;32m     55\u001b[0m             \u001b[38;5;28;01mbreak\u001b[39;00m\n",
      "File \u001b[1;32m~\\AppData\\Local\\Programs\\Python\\Python310\\lib\\http\\client.py:465\u001b[0m, in \u001b[0;36mHTTPResponse.read\u001b[1;34m(self, amt)\u001b[0m\n\u001b[0;32m    462\u001b[0m \u001b[38;5;28;01mif\u001b[39;00m \u001b[38;5;28mself\u001b[39m\u001b[38;5;241m.\u001b[39mlength \u001b[38;5;129;01mis\u001b[39;00m \u001b[38;5;129;01mnot\u001b[39;00m \u001b[38;5;28;01mNone\u001b[39;00m \u001b[38;5;129;01mand\u001b[39;00m amt \u001b[38;5;241m>\u001b[39m \u001b[38;5;28mself\u001b[39m\u001b[38;5;241m.\u001b[39mlength:\n\u001b[0;32m    463\u001b[0m     \u001b[38;5;66;03m# clip the read to the \"end of response\"\u001b[39;00m\n\u001b[0;32m    464\u001b[0m     amt \u001b[38;5;241m=\u001b[39m \u001b[38;5;28mself\u001b[39m\u001b[38;5;241m.\u001b[39mlength\n\u001b[1;32m--> 465\u001b[0m s \u001b[38;5;241m=\u001b[39m \u001b[38;5;28;43mself\u001b[39;49m\u001b[38;5;241;43m.\u001b[39;49m\u001b[43mfp\u001b[49m\u001b[38;5;241;43m.\u001b[39;49m\u001b[43mread\u001b[49m\u001b[43m(\u001b[49m\u001b[43mamt\u001b[49m\u001b[43m)\u001b[49m\n\u001b[0;32m    466\u001b[0m \u001b[38;5;28;01mif\u001b[39;00m \u001b[38;5;129;01mnot\u001b[39;00m s \u001b[38;5;129;01mand\u001b[39;00m amt:\n\u001b[0;32m    467\u001b[0m     \u001b[38;5;66;03m# Ideally, we would raise IncompleteRead if the content-length\u001b[39;00m\n\u001b[0;32m    468\u001b[0m     \u001b[38;5;66;03m# wasn't satisfied, but it might break compatibility.\u001b[39;00m\n\u001b[0;32m    469\u001b[0m     \u001b[38;5;28mself\u001b[39m\u001b[38;5;241m.\u001b[39m_close_conn()\n",
      "File \u001b[1;32m~\\AppData\\Local\\Programs\\Python\\Python310\\lib\\socket.py:705\u001b[0m, in \u001b[0;36mSocketIO.readinto\u001b[1;34m(self, b)\u001b[0m\n\u001b[0;32m    703\u001b[0m \u001b[38;5;28;01mwhile\u001b[39;00m \u001b[38;5;28;01mTrue\u001b[39;00m:\n\u001b[0;32m    704\u001b[0m     \u001b[38;5;28;01mtry\u001b[39;00m:\n\u001b[1;32m--> 705\u001b[0m         \u001b[38;5;28;01mreturn\u001b[39;00m \u001b[38;5;28;43mself\u001b[39;49m\u001b[38;5;241;43m.\u001b[39;49m\u001b[43m_sock\u001b[49m\u001b[38;5;241;43m.\u001b[39;49m\u001b[43mrecv_into\u001b[49m\u001b[43m(\u001b[49m\u001b[43mb\u001b[49m\u001b[43m)\u001b[49m\n\u001b[0;32m    706\u001b[0m     \u001b[38;5;28;01mexcept\u001b[39;00m timeout:\n\u001b[0;32m    707\u001b[0m         \u001b[38;5;28mself\u001b[39m\u001b[38;5;241m.\u001b[39m_timeout_occurred \u001b[38;5;241m=\u001b[39m \u001b[38;5;28;01mTrue\u001b[39;00m\n",
      "File \u001b[1;32m~\\AppData\\Local\\Programs\\Python\\Python310\\lib\\ssl.py:1273\u001b[0m, in \u001b[0;36mSSLSocket.recv_into\u001b[1;34m(self, buffer, nbytes, flags)\u001b[0m\n\u001b[0;32m   1269\u001b[0m     \u001b[38;5;28;01mif\u001b[39;00m flags \u001b[38;5;241m!=\u001b[39m \u001b[38;5;241m0\u001b[39m:\n\u001b[0;32m   1270\u001b[0m         \u001b[38;5;28;01mraise\u001b[39;00m \u001b[38;5;167;01mValueError\u001b[39;00m(\n\u001b[0;32m   1271\u001b[0m           \u001b[38;5;124m\"\u001b[39m\u001b[38;5;124mnon-zero flags not allowed in calls to recv_into() on \u001b[39m\u001b[38;5;132;01m%s\u001b[39;00m\u001b[38;5;124m\"\u001b[39m \u001b[38;5;241m%\u001b[39m\n\u001b[0;32m   1272\u001b[0m           \u001b[38;5;28mself\u001b[39m\u001b[38;5;241m.\u001b[39m\u001b[38;5;18m__class__\u001b[39m)\n\u001b[1;32m-> 1273\u001b[0m     \u001b[38;5;28;01mreturn\u001b[39;00m \u001b[38;5;28;43mself\u001b[39;49m\u001b[38;5;241;43m.\u001b[39;49m\u001b[43mread\u001b[49m\u001b[43m(\u001b[49m\u001b[43mnbytes\u001b[49m\u001b[43m,\u001b[49m\u001b[43m \u001b[49m\u001b[43mbuffer\u001b[49m\u001b[43m)\u001b[49m\n\u001b[0;32m   1274\u001b[0m \u001b[38;5;28;01melse\u001b[39;00m:\n\u001b[0;32m   1275\u001b[0m     \u001b[38;5;28;01mreturn\u001b[39;00m \u001b[38;5;28msuper\u001b[39m()\u001b[38;5;241m.\u001b[39mrecv_into(buffer, nbytes, flags)\n",
      "File \u001b[1;32m~\\AppData\\Local\\Programs\\Python\\Python310\\lib\\ssl.py:1129\u001b[0m, in \u001b[0;36mSSLSocket.read\u001b[1;34m(self, len, buffer)\u001b[0m\n\u001b[0;32m   1127\u001b[0m \u001b[38;5;28;01mtry\u001b[39;00m:\n\u001b[0;32m   1128\u001b[0m     \u001b[38;5;28;01mif\u001b[39;00m buffer \u001b[38;5;129;01mis\u001b[39;00m \u001b[38;5;129;01mnot\u001b[39;00m \u001b[38;5;28;01mNone\u001b[39;00m:\n\u001b[1;32m-> 1129\u001b[0m         \u001b[38;5;28;01mreturn\u001b[39;00m \u001b[38;5;28;43mself\u001b[39;49m\u001b[38;5;241;43m.\u001b[39;49m\u001b[43m_sslobj\u001b[49m\u001b[38;5;241;43m.\u001b[39;49m\u001b[43mread\u001b[49m\u001b[43m(\u001b[49m\u001b[38;5;28;43mlen\u001b[39;49m\u001b[43m,\u001b[49m\u001b[43m \u001b[49m\u001b[43mbuffer\u001b[49m\u001b[43m)\u001b[49m\n\u001b[0;32m   1130\u001b[0m     \u001b[38;5;28;01melse\u001b[39;00m:\n\u001b[0;32m   1131\u001b[0m         \u001b[38;5;28;01mreturn\u001b[39;00m \u001b[38;5;28mself\u001b[39m\u001b[38;5;241m.\u001b[39m_sslobj\u001b[38;5;241m.\u001b[39mread(\u001b[38;5;28mlen\u001b[39m)\n",
      "\u001b[1;31mKeyboardInterrupt\u001b[0m: "
     ]
    }
   ],
   "source": [
    "import whisper\n",
    "import torch  # install steps: pytorch.org\n",
    "\n",
    "device = \"cuda\" if torch.cuda.is_available() else \"cpu\"\n",
    "\n",
    "model = whisper.load_model(\"large\").to(device)\n"
   ]
  },
  {
   "cell_type": "code",
   "execution_count": 7,
   "id": "0081d418",
   "metadata": {},
   "outputs": [],
   "source": [
    "import whisper\n",
    "import torch  # install steps: pytorch.org\n",
    "\n",
    "device = \"cuda\" if torch.cuda.is_available() else \"cpu\"\n",
    "\n",
    "model = whisper.load_model(\"small\").to(device)\n"
   ]
  },
  {
   "cell_type": "code",
   "execution_count": 10,
   "id": "12221b2a",
   "metadata": {},
   "outputs": [
    {
     "name": "stderr",
     "output_type": "stream",
     "text": [
      "  0%|                                                                                            | 0/1 [00:29<?, ?it/s]"
     ]
    },
    {
     "name": "stdout",
     "output_type": "stream",
     "text": [
      "[{'id': 0, 'seek': 0, 'start': 0.0, 'end': 2.04, 'text': \" What do you say in an interview if you're asked,\", 'tokens': [708, 360, 291, 584, 294, 364, 4049, 498, 291, 434, 2351, 11], 'temperature': 0.0, 'avg_logprob': -0.13333314657211304, 'compression_ratio': 1.7209302325581395, 'no_speech_prob': 0.012880870141088963}, {'id': 1, 'seek': 0, 'start': 2.04, 'end': 3.2800000000000002, 'text': ' why should we hire you?', 'tokens': [983, 820, 321, 11158, 291, 30], 'temperature': 0.0, 'avg_logprob': -0.13333314657211304, 'compression_ratio': 1.7209302325581395, 'no_speech_prob': 0.012880870141088963}, {'id': 2, 'seek': 0, 'start': 3.2800000000000002, 'end': 5.92, 'text': \" Focus on how you'll bring value to the company and the role.\", 'tokens': [21862, 322, 577, 291, 603, 1565, 2158, 281, 264, 2237, 293, 264, 3090, 13], 'temperature': 0.0, 'avg_logprob': -0.13333314657211304, 'compression_ratio': 1.7209302325581395, 'no_speech_prob': 0.012880870141088963}, {'id': 3, 'seek': 0, 'start': 5.92, 'end': 6.92, 'text': \" Here's an example.\", 'tokens': [1692, 311, 364, 1365, 13], 'temperature': 0.0, 'avg_logprob': -0.13333314657211304, 'compression_ratio': 1.7209302325581395, 'no_speech_prob': 0.012880870141088963}, {'id': 4, 'seek': 0, 'start': 6.92, 'end': 10.84, 'text': ' I noticed that self-management was mentioned in the job description a number of times.', 'tokens': [286, 5694, 300, 2698, 12, 1601, 11129, 390, 2835, 294, 264, 1691, 3855, 257, 1230, 295, 1413, 13], 'temperature': 0.0, 'avg_logprob': -0.13333314657211304, 'compression_ratio': 1.7209302325581395, 'no_speech_prob': 0.012880870141088963}, {'id': 5, 'seek': 0, 'start': 10.84, 'end': 15.0, 'text': \" That's of course strength of mind and something I've been able to develop throughout all my previous roles.\", 'tokens': [663, 311, 295, 1164, 3800, 295, 1575, 293, 746, 286, 600, 668, 1075, 281, 1499, 3710, 439, 452, 3894, 9604, 13], 'temperature': 0.0, 'avg_logprob': -0.13333314657211304, 'compression_ratio': 1.7209302325581395, 'no_speech_prob': 0.012880870141088963}, {'id': 6, 'seek': 0, 'start': 15.0, 'end': 17.12, 'text': \" I have the skills and experience that you're looking for,\", 'tokens': [286, 362, 264, 3942, 293, 1752, 300, 291, 434, 1237, 337, 11], 'temperature': 0.0, 'avg_logprob': -0.13333314657211304, 'compression_ratio': 1.7209302325581395, 'no_speech_prob': 0.012880870141088963}, {'id': 7, 'seek': 0, 'start': 17.12, 'end': 19.92, 'text': ' especially in regularly presenting to clients.', 'tokens': [2318, 294, 11672, 15578, 281, 6982, 13], 'temperature': 0.0, 'avg_logprob': -0.13333314657211304, 'compression_ratio': 1.7209302325581395, 'no_speech_prob': 0.012880870141088963}, {'id': 8, 'seek': 0, 'start': 19.92, 'end': 22.56, 'text': ' In my previous role, I delivered client presentations weekly', 'tokens': [682, 452, 3894, 3090, 11, 286, 10144, 6423, 18964, 12460], 'temperature': 0.0, 'avg_logprob': -0.13333314657211304, 'compression_ratio': 1.7209302325581395, 'no_speech_prob': 0.012880870141088963}, {'id': 9, 'seek': 0, 'start': 22.56, 'end': 24.400000000000002, 'text': ' and I had the highest client feedback score.', 'tokens': [293, 286, 632, 264, 6343, 6423, 5824, 6175, 13], 'temperature': 0.0, 'avg_logprob': -0.13333314657211304, 'compression_ratio': 1.7209302325581395, 'no_speech_prob': 0.012880870141088963}, {'id': 10, 'seek': 0, 'start': 24.400000000000002, 'end': 27.560000000000002, 'text': \" I'm really passionate about the industry and building client advocacy.\", 'tokens': [286, 478, 534, 11410, 466, 264, 3518, 293, 2390, 6423, 22011, 13], 'temperature': 0.0, 'avg_logprob': -0.13333314657211304, 'compression_ratio': 1.7209302325581395, 'no_speech_prob': 0.012880870141088963}, {'id': 11, 'seek': 2756, 'start': 27.56, 'end': 29.56, 'text': ' This type of work really excites me.', 'tokens': [50364, 639, 2010, 295, 589, 534, 1624, 3324, 385, 13, 50464], 'temperature': 0.0, 'avg_logprob': -0.1950501799583435, 'compression_ratio': 0.8181818181818182, 'no_speech_prob': 2.779048190859612e-05}]\n"
     ]
    },
    {
     "name": "stderr",
     "output_type": "stream",
     "text": [
      "\n"
     ]
    },
    {
     "ename": "NameError",
     "evalue": "name 'j' is not defined",
     "output_type": "error",
     "traceback": [
      "\u001b[1;31m---------------------------------------------------------------------------\u001b[0m",
      "\u001b[1;31mNameError\u001b[0m                                 Traceback (most recent call last)",
      "Cell \u001b[1;32mIn[10], line 17\u001b[0m\n\u001b[0;32m     10\u001b[0m \u001b[38;5;66;03m#     get the video metadata...\u001b[39;00m\n\u001b[0;32m     11\u001b[0m \u001b[38;5;66;03m#     video_meta = videos_dict[_id]\u001b[39;00m\n\u001b[0;32m     12\u001b[0m     \u001b[38;5;28;01mfor\u001b[39;00m segment \u001b[38;5;129;01min\u001b[39;00m segments:\n\u001b[0;32m     13\u001b[0m         \u001b[38;5;66;03m# merge segments data and videos_meta data\u001b[39;00m\n\u001b[0;32m     14\u001b[0m         meta \u001b[38;5;241m=\u001b[39m {\n\u001b[0;32m     15\u001b[0m \u001b[38;5;66;03m#             **video_meta,\u001b[39;00m\n\u001b[0;32m     16\u001b[0m             \u001b[38;5;241m*\u001b[39m\u001b[38;5;241m*\u001b[39m{\n\u001b[1;32m---> 17\u001b[0m                 \u001b[38;5;124m\"\u001b[39m\u001b[38;5;124mid\u001b[39m\u001b[38;5;124m\"\u001b[39m: \u001b[38;5;124mf\u001b[39m\u001b[38;5;124m\"\u001b[39m\u001b[38;5;132;01m{\u001b[39;00m_id\u001b[38;5;132;01m}\u001b[39;00m\u001b[38;5;124m-t\u001b[39m\u001b[38;5;132;01m{\u001b[39;00msegments[\u001b[43mj\u001b[49m][\u001b[38;5;124m'\u001b[39m\u001b[38;5;124mstart\u001b[39m\u001b[38;5;124m'\u001b[39m]\u001b[38;5;132;01m}\u001b[39;00m\u001b[38;5;124m\"\u001b[39m,\n\u001b[0;32m     18\u001b[0m                 \u001b[38;5;124m\"\u001b[39m\u001b[38;5;124mtext\u001b[39m\u001b[38;5;124m\"\u001b[39m: segment[\u001b[38;5;124m\"\u001b[39m\u001b[38;5;124mtext\u001b[39m\u001b[38;5;124m\"\u001b[39m]\u001b[38;5;241m.\u001b[39mstrip(),\n\u001b[0;32m     19\u001b[0m                 \u001b[38;5;124m\"\u001b[39m\u001b[38;5;124mstart\u001b[39m\u001b[38;5;124m\"\u001b[39m: segment[\u001b[38;5;124m'\u001b[39m\u001b[38;5;124mstart\u001b[39m\u001b[38;5;124m'\u001b[39m],\n\u001b[0;32m     20\u001b[0m                 \u001b[38;5;124m\"\u001b[39m\u001b[38;5;124mend\u001b[39m\u001b[38;5;124m\"\u001b[39m: segment[\u001b[38;5;124m'\u001b[39m\u001b[38;5;124mend\u001b[39m\u001b[38;5;124m'\u001b[39m]\n\u001b[0;32m     21\u001b[0m             }\n\u001b[0;32m     22\u001b[0m         }\n\u001b[0;32m     23\u001b[0m         data\u001b[38;5;241m.\u001b[39mappend(meta)\n",
      "\u001b[1;31mNameError\u001b[0m: name 'j' is not defined"
     ]
    }
   ],
   "source": [
    "from tqdm import tqdm\n",
    "data = []\n",
    "\n",
    "for i, path in enumerate(tqdm(paths)):\n",
    "    _id = path.split('/')[-1][:-4]\n",
    "    # transcribe to get speech-to-text data\n",
    "    result = model.transcribe(path)\n",
    "    segments = result['segments']\n",
    "    print(segments)\n",
    "#     get the video metadata...\n",
    "#     video_meta = videos_dict[_id]\n",
    "    for segment in segments:\n",
    "        # merge segments data and videos_meta data\n",
    "        meta = {\n",
    "#             **video_meta,\n",
    "            **{\n",
    "                \"id\": f\"{_id}-t{segments[j]['start']}\",\n",
    "                \"text\": segment[\"text\"].strip(),\n",
    "                \"start\": segment['start'],\n",
    "                \"end\": segment['end']\n",
    "            }\n",
    "        }\n",
    "        data.append(meta)\n"
   ]
  },
  {
   "cell_type": "code",
   "execution_count": 26,
   "id": "8d445fa3",
   "metadata": {},
   "outputs": [
    {
     "name": "stderr",
     "output_type": "stream",
     "text": [
      "100%|████████████████████████████████████████████████████████████████████████████████████| 1/1 [00:25<00:00, 25.46s/it]"
     ]
    },
    {
     "name": "stdout",
     "output_type": "stream",
     "text": [
      "[{'id': 'files\\\\iv_1-t0.0', 'text': \"What do you say in an interview if you're asked,\", 'start': 0.0, 'end': 2.04}, {'id': 'files\\\\iv_1-t2.04', 'text': 'why should we hire you?', 'start': 2.04, 'end': 3.2800000000000002}, {'id': 'files\\\\iv_1-t3.2800000000000002', 'text': \"Focus on how you'll bring value to the company and the role.\", 'start': 3.2800000000000002, 'end': 5.92}, {'id': 'files\\\\iv_1-t5.92', 'text': \"Here's an example.\", 'start': 5.92, 'end': 6.92}, {'id': 'files\\\\iv_1-t6.92', 'text': 'I noticed that self-management was mentioned in the job description a number of times.', 'start': 6.92, 'end': 10.84}, {'id': 'files\\\\iv_1-t10.84', 'text': \"That's of course strength of mind and something I've been able to develop throughout all my previous roles.\", 'start': 10.84, 'end': 15.0}, {'id': 'files\\\\iv_1-t15.0', 'text': \"I have the skills and experience that you're looking for,\", 'start': 15.0, 'end': 17.12}, {'id': 'files\\\\iv_1-t17.12', 'text': 'especially in regularly presenting to clients.', 'start': 17.12, 'end': 19.92}, {'id': 'files\\\\iv_1-t19.92', 'text': 'In my previous role, I delivered client presentations weekly', 'start': 19.92, 'end': 22.56}, {'id': 'files\\\\iv_1-t22.56', 'text': 'and I had the highest client feedback score.', 'start': 22.56, 'end': 24.400000000000002}, {'id': 'files\\\\iv_1-t24.400000000000002', 'text': \"I'm really passionate about the industry and building client advocacy.\", 'start': 24.400000000000002, 'end': 27.560000000000002}, {'id': 'files\\\\iv_1-t27.56', 'text': 'This type of work really excites me.', 'start': 27.56, 'end': 29.56}]\n"
     ]
    },
    {
     "name": "stderr",
     "output_type": "stream",
     "text": [
      "\n"
     ]
    }
   ],
   "source": [
    "from tqdm import tqdm\n",
    "data = []\n",
    "\n",
    "for i, path in enumerate(tqdm(paths)):\n",
    "    _id = path.split('/')[-1][:-4]\n",
    "    # transcribe to get speech-to-text data\n",
    "    result = model.transcribe(path)\n",
    "    segments = result['segments']\n",
    "#     print(segments)\n",
    "#     get the video metadata...\n",
    "#     video_meta = videos_dict[_id]\n",
    "    j = 0\n",
    "    for segment in segments:\n",
    "        # merge segments data and videos_meta data\n",
    "        meta = {\n",
    "#             **video_meta,\n",
    "            **{\n",
    "                \"id\": f\"{_id}-t{segment['start']}\",\n",
    "                \"text\": segment[\"text\"].strip(),\n",
    "                \"start\": segment['start'],\n",
    "                \"end\": segment['end']\n",
    "            }\n",
    "        }\n",
    "        data.append(meta)\n",
    "        \n",
    "\n",
    "print(data)"
   ]
  },
  {
   "cell_type": "code",
   "execution_count": 14,
   "id": "c28f2aab",
   "metadata": {},
   "outputs": [
    {
     "name": "stdout",
     "output_type": "stream",
     "text": [
      "{'id': 0, 'seek': 0, 'start': 0.0, 'end': 2.04, 'text': \" What do you say in an interview if you're asked,\", 'tokens': [708, 360, 291, 584, 294, 364, 4049, 498, 291, 434, 2351, 11], 'temperature': 0.0, 'avg_logprob': -0.13333314657211304, 'compression_ratio': 1.7209302325581395, 'no_speech_prob': 0.012880870141088963}\n"
     ]
    }
   ],
   "source": [
    "print(segments[0])"
   ]
  },
  {
   "cell_type": "code",
   "execution_count": 17,
   "id": "c5b2c028",
   "metadata": {},
   "outputs": [
    {
     "name": "stdout",
     "output_type": "stream",
     "text": [
      "{'id': 1, 'seek': 0, 'start': 2.04, 'end': 3.2800000000000002, 'text': ' why should we hire you?', 'tokens': [983, 820, 321, 11158, 291, 30], 'temperature': 0.0, 'avg_logprob': -0.13333314657211304, 'compression_ratio': 1.7209302325581395, 'no_speech_prob': 0.012880870141088963}\n"
     ]
    }
   ],
   "source": [
    "print(segments[1])"
   ]
  },
  {
   "cell_type": "code",
   "execution_count": 20,
   "id": "6ad8267b",
   "metadata": {},
   "outputs": [
    {
     "name": "stdout",
     "output_type": "stream",
     "text": [
      "12\n"
     ]
    }
   ],
   "source": [
    "print(j)"
   ]
  },
  {
   "cell_type": "code",
   "execution_count": 23,
   "id": "ef9eb8c7",
   "metadata": {},
   "outputs": [
    {
     "name": "stdout",
     "output_type": "stream",
     "text": [
      "[{'id': 0, 'seek': 0, 'start': 0.0, 'end': 2.04, 'text': \" What do you say in an interview if you're asked,\", 'tokens': [708, 360, 291, 584, 294, 364, 4049, 498, 291, 434, 2351, 11], 'temperature': 0.0, 'avg_logprob': -0.13333314657211304, 'compression_ratio': 1.7209302325581395, 'no_speech_prob': 0.012880870141088963}, {'id': 1, 'seek': 0, 'start': 2.04, 'end': 3.2800000000000002, 'text': ' why should we hire you?', 'tokens': [983, 820, 321, 11158, 291, 30], 'temperature': 0.0, 'avg_logprob': -0.13333314657211304, 'compression_ratio': 1.7209302325581395, 'no_speech_prob': 0.012880870141088963}, {'id': 2, 'seek': 0, 'start': 3.2800000000000002, 'end': 5.92, 'text': \" Focus on how you'll bring value to the company and the role.\", 'tokens': [21862, 322, 577, 291, 603, 1565, 2158, 281, 264, 2237, 293, 264, 3090, 13], 'temperature': 0.0, 'avg_logprob': -0.13333314657211304, 'compression_ratio': 1.7209302325581395, 'no_speech_prob': 0.012880870141088963}, {'id': 3, 'seek': 0, 'start': 5.92, 'end': 6.92, 'text': \" Here's an example.\", 'tokens': [1692, 311, 364, 1365, 13], 'temperature': 0.0, 'avg_logprob': -0.13333314657211304, 'compression_ratio': 1.7209302325581395, 'no_speech_prob': 0.012880870141088963}, {'id': 4, 'seek': 0, 'start': 6.92, 'end': 10.84, 'text': ' I noticed that self-management was mentioned in the job description a number of times.', 'tokens': [286, 5694, 300, 2698, 12, 1601, 11129, 390, 2835, 294, 264, 1691, 3855, 257, 1230, 295, 1413, 13], 'temperature': 0.0, 'avg_logprob': -0.13333314657211304, 'compression_ratio': 1.7209302325581395, 'no_speech_prob': 0.012880870141088963}, {'id': 5, 'seek': 0, 'start': 10.84, 'end': 15.0, 'text': \" That's of course strength of mind and something I've been able to develop throughout all my previous roles.\", 'tokens': [663, 311, 295, 1164, 3800, 295, 1575, 293, 746, 286, 600, 668, 1075, 281, 1499, 3710, 439, 452, 3894, 9604, 13], 'temperature': 0.0, 'avg_logprob': -0.13333314657211304, 'compression_ratio': 1.7209302325581395, 'no_speech_prob': 0.012880870141088963}, {'id': 6, 'seek': 0, 'start': 15.0, 'end': 17.12, 'text': \" I have the skills and experience that you're looking for,\", 'tokens': [286, 362, 264, 3942, 293, 1752, 300, 291, 434, 1237, 337, 11], 'temperature': 0.0, 'avg_logprob': -0.13333314657211304, 'compression_ratio': 1.7209302325581395, 'no_speech_prob': 0.012880870141088963}, {'id': 7, 'seek': 0, 'start': 17.12, 'end': 19.92, 'text': ' especially in regularly presenting to clients.', 'tokens': [2318, 294, 11672, 15578, 281, 6982, 13], 'temperature': 0.0, 'avg_logprob': -0.13333314657211304, 'compression_ratio': 1.7209302325581395, 'no_speech_prob': 0.012880870141088963}, {'id': 8, 'seek': 0, 'start': 19.92, 'end': 22.56, 'text': ' In my previous role, I delivered client presentations weekly', 'tokens': [682, 452, 3894, 3090, 11, 286, 10144, 6423, 18964, 12460], 'temperature': 0.0, 'avg_logprob': -0.13333314657211304, 'compression_ratio': 1.7209302325581395, 'no_speech_prob': 0.012880870141088963}, {'id': 9, 'seek': 0, 'start': 22.56, 'end': 24.400000000000002, 'text': ' and I had the highest client feedback score.', 'tokens': [293, 286, 632, 264, 6343, 6423, 5824, 6175, 13], 'temperature': 0.0, 'avg_logprob': -0.13333314657211304, 'compression_ratio': 1.7209302325581395, 'no_speech_prob': 0.012880870141088963}, {'id': 10, 'seek': 0, 'start': 24.400000000000002, 'end': 27.560000000000002, 'text': \" I'm really passionate about the industry and building client advocacy.\", 'tokens': [286, 478, 534, 11410, 466, 264, 3518, 293, 2390, 6423, 22011, 13], 'temperature': 0.0, 'avg_logprob': -0.13333314657211304, 'compression_ratio': 1.7209302325581395, 'no_speech_prob': 0.012880870141088963}, {'id': 11, 'seek': 2756, 'start': 27.56, 'end': 29.56, 'text': ' This type of work really excites me.', 'tokens': [50364, 639, 2010, 295, 589, 534, 1624, 3324, 385, 13, 50464], 'temperature': 0.0, 'avg_logprob': -0.1950501799583435, 'compression_ratio': 0.8181818181818182, 'no_speech_prob': 2.779048190859612e-05}]\n"
     ]
    }
   ],
   "source": [
    "print(segments)"
   ]
  },
  {
   "cell_type": "code",
   "execution_count": 27,
   "id": "7cb2e120",
   "metadata": {},
   "outputs": [
    {
     "name": "stdout",
     "output_type": "stream",
     "text": [
      "[{'id': 'files\\\\iv_1-t0.0', 'text': \"What do you say in an interview if you're asked,\", 'start': 0.0, 'end': 2.04}, {'id': 'files\\\\iv_1-t2.04', 'text': 'why should we hire you?', 'start': 2.04, 'end': 3.2800000000000002}, {'id': 'files\\\\iv_1-t3.2800000000000002', 'text': \"Focus on how you'll bring value to the company and the role.\", 'start': 3.2800000000000002, 'end': 5.92}, {'id': 'files\\\\iv_1-t5.92', 'text': \"Here's an example.\", 'start': 5.92, 'end': 6.92}, {'id': 'files\\\\iv_1-t6.92', 'text': 'I noticed that self-management was mentioned in the job description a number of times.', 'start': 6.92, 'end': 10.84}, {'id': 'files\\\\iv_1-t10.84', 'text': \"That's of course strength of mind and something I've been able to develop throughout all my previous roles.\", 'start': 10.84, 'end': 15.0}, {'id': 'files\\\\iv_1-t15.0', 'text': \"I have the skills and experience that you're looking for,\", 'start': 15.0, 'end': 17.12}, {'id': 'files\\\\iv_1-t17.12', 'text': 'especially in regularly presenting to clients.', 'start': 17.12, 'end': 19.92}, {'id': 'files\\\\iv_1-t19.92', 'text': 'In my previous role, I delivered client presentations weekly', 'start': 19.92, 'end': 22.56}, {'id': 'files\\\\iv_1-t22.56', 'text': 'and I had the highest client feedback score.', 'start': 22.56, 'end': 24.400000000000002}, {'id': 'files\\\\iv_1-t24.400000000000002', 'text': \"I'm really passionate about the industry and building client advocacy.\", 'start': 24.400000000000002, 'end': 27.560000000000002}, {'id': 'files\\\\iv_1-t27.56', 'text': 'This type of work really excites me.', 'start': 27.56, 'end': 29.56}]\n"
     ]
    }
   ],
   "source": [
    "print(data)"
   ]
  },
  {
   "cell_type": "code",
   "execution_count": 28,
   "id": "e284a77a",
   "metadata": {},
   "outputs": [
    {
     "name": "stderr",
     "output_type": "stream",
     "text": [
      "100%|████████████████████████████████████████████████████████████████████████████████| 12/12 [00:00<00:00, 1373.23it/s]\n"
     ]
    }
   ],
   "source": [
    "import json\n",
    "\n",
    "with open(\"youtube-transcriptions.jsonl\", \"w\", encoding=\"utf-8\") as fp:\n",
    "    for line in tqdm(data):\n",
    "        json.dump(line, fp)\n",
    "        fp.write('\\n')"
   ]
  },
  {
   "cell_type": "code",
   "execution_count": 29,
   "id": "e6024f27",
   "metadata": {},
   "outputs": [
    {
     "data": {
      "text/plain": [
       "{'id': 'files\\\\iv_1-t0.0',\n",
       " 'text': \"What do you say in an interview if you're asked,\",\n",
       " 'start': 0.0,\n",
       " 'end': 2.04}"
      ]
     },
     "execution_count": 29,
     "metadata": {},
     "output_type": "execute_result"
    }
   ],
   "source": [
    "data[0]"
   ]
  },
  {
   "cell_type": "code",
   "execution_count": 56,
   "id": "1a5ba846",
   "metadata": {},
   "outputs": [
    {
     "name": "stderr",
     "output_type": "stream",
     "text": [
      "100%|████████████████████████████████████████████████████████████████████████████████████████████| 4/4 [00:00<?, ?it/s]\n"
     ]
    }
   ],
   "source": [
    "from tqdm.auto import tqdm\n",
    "\n",
    "new_data = []\n",
    "\n",
    "window = 6  # number of sentences to combine\n",
    "stride = 3  # number of sentences to 'stride' over, used to create overlap\n",
    "\n",
    "for i in tqdm(range(0, len(data), stride)):\n",
    "    i_end = min(len(data)-1, i+window)\n",
    "#     if data[i]['title'] != data[i_end]['title']:\n",
    "#         # in this case we skip this entry as we have start/end of two videos\n",
    "#         continue\n",
    "    for j in range(i,i_end):\n",
    "        text = ' '.join(data[j]['text'])\n",
    "    new_data.append({\n",
    "        'start': data[i]['start'],\n",
    "        'end': data[i_end]['end'],\n",
    "#         'title': data[i]['title'],\n",
    "        'text': text,\n",
    "        'id': data[i]['id'],\n",
    "#         'url': data[i]['url'],\n",
    "#         'published': data[i]['published']\n",
    "    })"
   ]
  },
  {
   "cell_type": "code",
   "execution_count": 57,
   "id": "ec076bbf",
   "metadata": {},
   "outputs": [
    {
     "name": "stdout",
     "output_type": "stream",
     "text": [
      "[{'start': 0.0, 'end': 17.12, 'text': \"T h a t ' s   o f   c o u r s e   s t r e n g t h   o f   m i n d   a n d   s o m e t h i n g   I ' v e   b e e n   a b l e   t o   d e v e l o p   t h r o u g h o u t   a l l   m y   p r e v i o u s   r o l e s .\", 'id': 'files\\\\iv_1-t0.0'}, {'start': 5.92, 'end': 24.400000000000002, 'text': 'I n   m y   p r e v i o u s   r o l e ,   I   d e l i v e r e d   c l i e n t   p r e s e n t a t i o n s   w e e k l y', 'id': 'files\\\\iv_1-t5.92'}, {'start': 15.0, 'end': 29.56, 'text': \"I ' m   r e a l l y   p a s s i o n a t e   a b o u t   t h e   i n d u s t r y   a n d   b u i l d i n g   c l i e n t   a d v o c a c y .\", 'id': 'files\\\\iv_1-t15.0'}, {'start': 22.56, 'end': 29.56, 'text': \"I ' m   r e a l l y   p a s s i o n a t e   a b o u t   t h e   i n d u s t r y   a n d   b u i l d i n g   c l i e n t   a d v o c a c y .\", 'id': 'files\\\\iv_1-t22.56'}]\n"
     ]
    }
   ],
   "source": [
    "print(new_data)"
   ]
  }
 ],
 "metadata": {
  "kernelspec": {
   "display_name": "Python 3 (ipykernel)",
   "language": "python",
   "name": "python3"
  },
  "language_info": {
   "codemirror_mode": {
    "name": "ipython",
    "version": 3
   },
   "file_extension": ".py",
   "mimetype": "text/x-python",
   "name": "python",
   "nbconvert_exporter": "python",
   "pygments_lexer": "ipython3",
   "version": "3.10.4"
  }
 },
 "nbformat": 4,
 "nbformat_minor": 5
}
